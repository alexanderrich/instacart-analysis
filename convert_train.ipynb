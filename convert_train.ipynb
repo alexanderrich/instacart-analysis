{
 "cells": [
  {
   "cell_type": "code",
   "execution_count": 1,
   "metadata": {
    "collapsed": true
   },
   "outputs": [],
   "source": [
    "import numpy as np\n",
    "import pandas as pd"
   ]
  },
  {
   "cell_type": "code",
   "execution_count": 2,
   "metadata": {
    "collapsed": true
   },
   "outputs": [],
   "source": [
    "orders_df = pd.read_csv(\"data/truetrain/orders.csv\")\n",
    "prior_df = pd.read_csv(\"data/truetrain/order_products__prior.csv\")"
   ]
  },
  {
   "cell_type": "code",
   "execution_count": 3,
   "metadata": {
    "collapsed": true
   },
   "outputs": [],
   "source": [
    "orders_df = orders_df.query('eval_set == \"prior\"')\n",
    "orders_df['max_order'] = orders_df.groupby('user_id').order_number.transform(max)\n",
    "orders_df.loc[orders_df.order_number == orders_df.max_order, 'eval_set'] = 'train'\n",
    "orders_df.drop('max_order', axis=1, inplace=True)"
   ]
  },
  {
   "cell_type": "code",
   "execution_count": 4,
   "metadata": {
    "collapsed": true
   },
   "outputs": [],
   "source": [
    "train_df = prior_df.loc[prior_df.order_id.isin(orders_df.query('eval_set == \"train\"').order_id),:]\n",
    "prior_df = prior_df.loc[prior_df.order_id.isin(orders_df.query('eval_set == \"prior\"').order_id),:]"
   ]
  },
  {
   "cell_type": "code",
   "execution_count": 10,
   "metadata": {},
   "outputs": [],
   "source": [
    "orders_df.to_csv('data/orders.csv', index=False)"
   ]
  },
  {
   "cell_type": "code",
   "execution_count": 12,
   "metadata": {
    "collapsed": true
   },
   "outputs": [],
   "source": [
    "prior_df.to_csv(\"data/order_products__prior.csv\", index=False)\n",
    "train_df.to_csv(\"data/order_products__train.csv\", index=False)"
   ]
  },
  {
   "cell_type": "code",
   "execution_count": null,
   "metadata": {
    "collapsed": true
   },
   "outputs": [],
   "source": []
  }
 ],
 "metadata": {
  "kernelspec": {
   "display_name": "Python 3",
   "language": "python",
   "name": "python3"
  },
  "language_info": {
   "codemirror_mode": {
    "name": "ipython",
    "version": 3
   },
   "file_extension": ".py",
   "mimetype": "text/x-python",
   "name": "python",
   "nbconvert_exporter": "python",
   "pygments_lexer": "ipython3",
   "version": "3.6.1"
  }
 },
 "nbformat": 4,
 "nbformat_minor": 2
}
