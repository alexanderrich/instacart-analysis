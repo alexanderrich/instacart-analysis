{
 "cells": [
  {
   "cell_type": "code",
   "execution_count": 1,
   "metadata": {
    "collapsed": true
   },
   "outputs": [],
   "source": [
    "import numpy as np\n",
    "import pandas as pd\n",
    "n_predictions = 10"
   ]
  },
  {
   "cell_type": "code",
   "execution_count": 5,
   "metadata": {
    "collapsed": true
   },
   "outputs": [],
   "source": [
    "prediction_1 = pd.read_csv('submissions/rawpredictions_xgb0.csv')"
   ]
  },
  {
   "cell_type": "code",
   "execution_count": 6,
   "metadata": {
    "collapsed": true
   },
   "outputs": [],
   "source": [
    "prediction_2 = pd.read_csv('submissions/rawpredictions_xgb1.csv')"
   ]
  },
  {
   "cell_type": "code",
   "execution_count": 7,
   "metadata": {
    "collapsed": true
   },
   "outputs": [],
   "source": [
    "prediction_3 = pd.read_csv('submissions/rawpredictions_xgb2.csv')"
   ]
  },
  {
   "cell_type": "code",
   "execution_count": 8,
   "metadata": {
    "collapsed": true
   },
   "outputs": [],
   "source": [
    "prediction_4 = pd.read_csv('submissions/rawpredictions_xgb3.csv')"
   ]
  },
  {
   "cell_type": "code",
   "execution_count": 9,
   "metadata": {
    "collapsed": true
   },
   "outputs": [],
   "source": [
    "prediction_5 = pd.read_csv('submissions/rawpredictions_xgb4.csv')\n",
    "prediction_6 = pd.read_csv('submissions/rawpredictions_xgb5.csv')\n",
    "prediction_7 = pd.read_csv('submissions/rawpredictions_xgb6.csv')\n",
    "prediction_8 = pd.read_csv('submissions/rawpredictions_xgb7.csv')\n",
    "prediction_9 = pd.read_csv('submissions/rawpredictions_xgb8.csv')\n",
    "prediction_10 = pd.read_csv('submissions/rawpredictions_xgb9.csv')"
   ]
  },
  {
   "cell_type": "code",
   "execution_count": 10,
   "metadata": {},
   "outputs": [
    {
     "data": {
      "text/html": [
       "<div>\n",
       "<style>\n",
       "    .dataframe thead tr:only-child th {\n",
       "        text-align: right;\n",
       "    }\n",
       "\n",
       "    .dataframe thead th {\n",
       "        text-align: left;\n",
       "    }\n",
       "\n",
       "    .dataframe tbody tr th {\n",
       "        vertical-align: top;\n",
       "    }\n",
       "</style>\n",
       "<table border=\"1\" class=\"dataframe\">\n",
       "  <thead>\n",
       "    <tr style=\"text-align: right;\">\n",
       "      <th></th>\n",
       "      <th>order_id</th>\n",
       "      <th>products</th>\n",
       "    </tr>\n",
       "  </thead>\n",
       "  <tbody>\n",
       "    <tr>\n",
       "      <th>74995</th>\n",
       "      <td>3418773</td>\n",
       "      <td>None</td>\n",
       "    </tr>\n",
       "    <tr>\n",
       "      <th>74996</th>\n",
       "      <td>3419522</td>\n",
       "      <td>None</td>\n",
       "    </tr>\n",
       "    <tr>\n",
       "      <th>74997</th>\n",
       "      <td>3419726</td>\n",
       "      <td>None</td>\n",
       "    </tr>\n",
       "    <tr>\n",
       "      <th>74998</th>\n",
       "      <td>3420449</td>\n",
       "      <td>None</td>\n",
       "    </tr>\n",
       "    <tr>\n",
       "      <th>74999</th>\n",
       "      <td>3420569</td>\n",
       "      <td>None</td>\n",
       "    </tr>\n",
       "  </tbody>\n",
       "</table>\n",
       "</div>"
      ],
      "text/plain": [
       "       order_id products\n",
       "74995   3418773     None\n",
       "74996   3419522     None\n",
       "74997   3419726     None\n",
       "74998   3420449     None\n",
       "74999   3420569     None"
      ]
     },
     "execution_count": 10,
     "metadata": {},
     "output_type": "execute_result"
    }
   ],
   "source": [
    "prediction_1.tail()"
   ]
  },
  {
   "cell_type": "code",
   "execution_count": 11,
   "metadata": {
    "collapsed": true
   },
   "outputs": [],
   "source": [
    "predictions = (prediction_1.merge(prediction_2, on='order_id')\n",
    "               .merge(prediction_3, on='order_id')\n",
    "               .merge(prediction_4, on='order_id')\n",
    "               .merge(prediction_5, on='order_id')\n",
    "               .merge(prediction_6, on='order_id')\n",
    "               .merge(prediction_7, on='order_id')\n",
    "               .merge(prediction_8, on='order_id')\n",
    "               .merge(prediction_9, on='order_id')\n",
    "               .merge(prediction_10, on='order_id'))"
   ]
  },
  {
   "cell_type": "code",
   "execution_count": 12,
   "metadata": {},
   "outputs": [
    {
     "data": {
      "text/html": [
       "<div>\n",
       "<style>\n",
       "    .dataframe thead tr:only-child th {\n",
       "        text-align: right;\n",
       "    }\n",
       "\n",
       "    .dataframe thead th {\n",
       "        text-align: left;\n",
       "    }\n",
       "\n",
       "    .dataframe tbody tr th {\n",
       "        vertical-align: top;\n",
       "    }\n",
       "</style>\n",
       "<table border=\"1\" class=\"dataframe\">\n",
       "  <thead>\n",
       "    <tr style=\"text-align: right;\">\n",
       "      <th></th>\n",
       "      <th>order_id</th>\n",
       "      <th>products_x</th>\n",
       "      <th>products_y</th>\n",
       "      <th>products_x</th>\n",
       "      <th>products_y</th>\n",
       "      <th>products_x</th>\n",
       "      <th>products_y</th>\n",
       "      <th>products_x</th>\n",
       "      <th>products_y</th>\n",
       "      <th>products_x</th>\n",
       "      <th>products_y</th>\n",
       "    </tr>\n",
       "  </thead>\n",
       "  <tbody>\n",
       "    <tr>\n",
       "      <th>0</th>\n",
       "      <td>17</td>\n",
       "      <td>38777 21463 13107 None</td>\n",
       "      <td>38777 21463 13107</td>\n",
       "      <td>38777 21463 13107</td>\n",
       "      <td>38777 21463 13107</td>\n",
       "      <td>47766 38777 21463 13107</td>\n",
       "      <td>47766 38777 21463 13107 None</td>\n",
       "      <td>47766 21463 13107</td>\n",
       "      <td>38777 21463 13107</td>\n",
       "      <td>21463 13107</td>\n",
       "      <td>38777 21463 13107</td>\n",
       "    </tr>\n",
       "    <tr>\n",
       "      <th>1</th>\n",
       "      <td>34</td>\n",
       "      <td>13176 48523 21137 47766 39475 47792 44663 4350...</td>\n",
       "      <td>13176 48523 21137 47766 39475 47792 43504 1861...</td>\n",
       "      <td>13176 48523 21137 47766 39475 47792 44663 3918...</td>\n",
       "      <td>13176 48523 21137 47766 39475 47792 43504 1861...</td>\n",
       "      <td>13176 48523 21137 47766 39475 47792 44663 4350...</td>\n",
       "      <td>13176 48523 21137 47766 39475 47792 44663 4350...</td>\n",
       "      <td>13176 48523 21137 47766 39475 47792 39180 4350...</td>\n",
       "      <td>13176 48523 21137 47766 44632 39475 47792 3918...</td>\n",
       "      <td>13176 48523 21137 47766 44632 39475 47792 4466...</td>\n",
       "      <td>13176 21137 47766 39475 47792 39180 43504 1608...</td>\n",
       "    </tr>\n",
       "    <tr>\n",
       "      <th>2</th>\n",
       "      <td>137</td>\n",
       "      <td>41787 24852 25890 38689 2326 5134 23794</td>\n",
       "      <td>41787 24852 38689 2326 5134 23794</td>\n",
       "      <td>41787 24852 25890 38689 2326 5134 23794</td>\n",
       "      <td>41787 24852 25890 38689 2326 5134 23794</td>\n",
       "      <td>41787 24852 25890 38689 2326 5134 23794</td>\n",
       "      <td>41787 24852 25890 38689 2326 5134 23794</td>\n",
       "      <td>41787 24852 25890 38689 2326 5134 23794</td>\n",
       "      <td>41787 24852 25890 38689 2326 5134 23794</td>\n",
       "      <td>41787 24852 25890 38689 2326 5134 23794</td>\n",
       "      <td>41787 24852 38689 2326 5134 23794</td>\n",
       "    </tr>\n",
       "    <tr>\n",
       "      <th>3</th>\n",
       "      <td>182</td>\n",
       "      <td>39275 47209 47672 33000 32109 11520 9337 15252...</td>\n",
       "      <td>39275 47209 47672 33000 32109 11520 9337 15252...</td>\n",
       "      <td>39275 47209 47672 33000 32109 11520 9337 15252...</td>\n",
       "      <td>39275 47209 47672 33000 32109 11520 9337 15252...</td>\n",
       "      <td>39275 47209 47672 33000 32109 11520 9337 15252...</td>\n",
       "      <td>39275 47209 47672 33000 32109 11520 9337 15252...</td>\n",
       "      <td>39275 47209 47672 33000 32109 11520 9337 15252...</td>\n",
       "      <td>39275 47209 47672 33000 32109 11520 9337 15252...</td>\n",
       "      <td>39275 47209 47672 33000 32109 11520 9337 15252...</td>\n",
       "      <td>39275 47209 47672 33000 32109 11520 9337 15252...</td>\n",
       "    </tr>\n",
       "    <tr>\n",
       "      <th>4</th>\n",
       "      <td>257</td>\n",
       "      <td>49235 37646 24852 24838 21137 27966 13870 3947...</td>\n",
       "      <td>49235 37646 24852 24838 21137 27966 13870 3947...</td>\n",
       "      <td>49235 37646 24852 24838 21137 27966 13870 3947...</td>\n",
       "      <td>49235 37646 24852 24838 21137 27966 13870 3947...</td>\n",
       "      <td>49235 37646 24852 24838 21137 27966 13870 3947...</td>\n",
       "      <td>49235 37646 24852 24838 21137 27966 13870 3947...</td>\n",
       "      <td>49235 37646 24852 24838 21137 27966 13870 3947...</td>\n",
       "      <td>49235 37646 24852 24838 21137 27966 13870 3947...</td>\n",
       "      <td>49235 37646 24852 24838 21137 27966 13870 3947...</td>\n",
       "      <td>49235 37646 24852 24838 21137 27966 39475 4605...</td>\n",
       "    </tr>\n",
       "  </tbody>\n",
       "</table>\n",
       "</div>"
      ],
      "text/plain": [
       "   order_id                                         products_x  \\\n",
       "0        17                             38777 21463 13107 None   \n",
       "1        34  13176 48523 21137 47766 39475 47792 44663 4350...   \n",
       "2       137           41787 24852 25890 38689 2326 5134 23794    \n",
       "3       182  39275 47209 47672 33000 32109 11520 9337 15252...   \n",
       "4       257  49235 37646 24852 24838 21137 27966 13870 3947...   \n",
       "\n",
       "                                          products_y  \\\n",
       "0                                 38777 21463 13107    \n",
       "1  13176 48523 21137 47766 39475 47792 43504 1861...   \n",
       "2                 41787 24852 38689 2326 5134 23794    \n",
       "3  39275 47209 47672 33000 32109 11520 9337 15252...   \n",
       "4  49235 37646 24852 24838 21137 27966 13870 3947...   \n",
       "\n",
       "                                          products_x  \\\n",
       "0                                 38777 21463 13107    \n",
       "1  13176 48523 21137 47766 39475 47792 44663 3918...   \n",
       "2           41787 24852 25890 38689 2326 5134 23794    \n",
       "3  39275 47209 47672 33000 32109 11520 9337 15252...   \n",
       "4  49235 37646 24852 24838 21137 27966 13870 3947...   \n",
       "\n",
       "                                          products_y  \\\n",
       "0                                 38777 21463 13107    \n",
       "1  13176 48523 21137 47766 39475 47792 43504 1861...   \n",
       "2           41787 24852 25890 38689 2326 5134 23794    \n",
       "3  39275 47209 47672 33000 32109 11520 9337 15252...   \n",
       "4  49235 37646 24852 24838 21137 27966 13870 3947...   \n",
       "\n",
       "                                          products_x  \\\n",
       "0                           47766 38777 21463 13107    \n",
       "1  13176 48523 21137 47766 39475 47792 44663 4350...   \n",
       "2           41787 24852 25890 38689 2326 5134 23794    \n",
       "3  39275 47209 47672 33000 32109 11520 9337 15252...   \n",
       "4  49235 37646 24852 24838 21137 27966 13870 3947...   \n",
       "\n",
       "                                          products_y  \\\n",
       "0                       47766 38777 21463 13107 None   \n",
       "1  13176 48523 21137 47766 39475 47792 44663 4350...   \n",
       "2           41787 24852 25890 38689 2326 5134 23794    \n",
       "3  39275 47209 47672 33000 32109 11520 9337 15252...   \n",
       "4  49235 37646 24852 24838 21137 27966 13870 3947...   \n",
       "\n",
       "                                          products_x  \\\n",
       "0                                 47766 21463 13107    \n",
       "1  13176 48523 21137 47766 39475 47792 39180 4350...   \n",
       "2           41787 24852 25890 38689 2326 5134 23794    \n",
       "3  39275 47209 47672 33000 32109 11520 9337 15252...   \n",
       "4  49235 37646 24852 24838 21137 27966 13870 3947...   \n",
       "\n",
       "                                          products_y  \\\n",
       "0                                 38777 21463 13107    \n",
       "1  13176 48523 21137 47766 44632 39475 47792 3918...   \n",
       "2           41787 24852 25890 38689 2326 5134 23794    \n",
       "3  39275 47209 47672 33000 32109 11520 9337 15252...   \n",
       "4  49235 37646 24852 24838 21137 27966 13870 3947...   \n",
       "\n",
       "                                          products_x  \\\n",
       "0                                       21463 13107    \n",
       "1  13176 48523 21137 47766 44632 39475 47792 4466...   \n",
       "2           41787 24852 25890 38689 2326 5134 23794    \n",
       "3  39275 47209 47672 33000 32109 11520 9337 15252...   \n",
       "4  49235 37646 24852 24838 21137 27966 13870 3947...   \n",
       "\n",
       "                                          products_y  \n",
       "0                                 38777 21463 13107   \n",
       "1  13176 21137 47766 39475 47792 39180 43504 1608...  \n",
       "2                 41787 24852 38689 2326 5134 23794   \n",
       "3  39275 47209 47672 33000 32109 11520 9337 15252...  \n",
       "4  49235 37646 24852 24838 21137 27966 39475 4605...  "
      ]
     },
     "execution_count": 12,
     "metadata": {},
     "output_type": "execute_result"
    }
   ],
   "source": [
    "predictions.head()"
   ]
  },
  {
   "cell_type": "code",
   "execution_count": 13,
   "metadata": {
    "collapsed": true
   },
   "outputs": [],
   "source": [
    "predictions.columns = ['order_id'] + ['products_' + str(i) for i in range(n_predictions)]"
   ]
  },
  {
   "cell_type": "code",
   "execution_count": 14,
   "metadata": {},
   "outputs": [
    {
     "data": {
      "text/html": [
       "<div>\n",
       "<style>\n",
       "    .dataframe thead tr:only-child th {\n",
       "        text-align: right;\n",
       "    }\n",
       "\n",
       "    .dataframe thead th {\n",
       "        text-align: left;\n",
       "    }\n",
       "\n",
       "    .dataframe tbody tr th {\n",
       "        vertical-align: top;\n",
       "    }\n",
       "</style>\n",
       "<table border=\"1\" class=\"dataframe\">\n",
       "  <thead>\n",
       "    <tr style=\"text-align: right;\">\n",
       "      <th></th>\n",
       "      <th>order_id</th>\n",
       "      <th>products_0</th>\n",
       "      <th>products_1</th>\n",
       "      <th>products_2</th>\n",
       "      <th>products_3</th>\n",
       "      <th>products_4</th>\n",
       "      <th>products_5</th>\n",
       "      <th>products_6</th>\n",
       "      <th>products_7</th>\n",
       "      <th>products_8</th>\n",
       "      <th>products_9</th>\n",
       "    </tr>\n",
       "  </thead>\n",
       "  <tbody>\n",
       "    <tr>\n",
       "      <th>0</th>\n",
       "      <td>17</td>\n",
       "      <td>38777 21463 13107 None</td>\n",
       "      <td>38777 21463 13107</td>\n",
       "      <td>38777 21463 13107</td>\n",
       "      <td>38777 21463 13107</td>\n",
       "      <td>47766 38777 21463 13107</td>\n",
       "      <td>47766 38777 21463 13107 None</td>\n",
       "      <td>47766 21463 13107</td>\n",
       "      <td>38777 21463 13107</td>\n",
       "      <td>21463 13107</td>\n",
       "      <td>38777 21463 13107</td>\n",
       "    </tr>\n",
       "    <tr>\n",
       "      <th>1</th>\n",
       "      <td>34</td>\n",
       "      <td>13176 48523 21137 47766 39475 47792 44663 4350...</td>\n",
       "      <td>13176 48523 21137 47766 39475 47792 43504 1861...</td>\n",
       "      <td>13176 48523 21137 47766 39475 47792 44663 3918...</td>\n",
       "      <td>13176 48523 21137 47766 39475 47792 43504 1861...</td>\n",
       "      <td>13176 48523 21137 47766 39475 47792 44663 4350...</td>\n",
       "      <td>13176 48523 21137 47766 39475 47792 44663 4350...</td>\n",
       "      <td>13176 48523 21137 47766 39475 47792 39180 4350...</td>\n",
       "      <td>13176 48523 21137 47766 44632 39475 47792 3918...</td>\n",
       "      <td>13176 48523 21137 47766 44632 39475 47792 4466...</td>\n",
       "      <td>13176 21137 47766 39475 47792 39180 43504 1608...</td>\n",
       "    </tr>\n",
       "    <tr>\n",
       "      <th>2</th>\n",
       "      <td>137</td>\n",
       "      <td>41787 24852 25890 38689 2326 5134 23794</td>\n",
       "      <td>41787 24852 38689 2326 5134 23794</td>\n",
       "      <td>41787 24852 25890 38689 2326 5134 23794</td>\n",
       "      <td>41787 24852 25890 38689 2326 5134 23794</td>\n",
       "      <td>41787 24852 25890 38689 2326 5134 23794</td>\n",
       "      <td>41787 24852 25890 38689 2326 5134 23794</td>\n",
       "      <td>41787 24852 25890 38689 2326 5134 23794</td>\n",
       "      <td>41787 24852 25890 38689 2326 5134 23794</td>\n",
       "      <td>41787 24852 25890 38689 2326 5134 23794</td>\n",
       "      <td>41787 24852 38689 2326 5134 23794</td>\n",
       "    </tr>\n",
       "    <tr>\n",
       "      <th>3</th>\n",
       "      <td>182</td>\n",
       "      <td>39275 47209 47672 33000 32109 11520 9337 15252...</td>\n",
       "      <td>39275 47209 47672 33000 32109 11520 9337 15252...</td>\n",
       "      <td>39275 47209 47672 33000 32109 11520 9337 15252...</td>\n",
       "      <td>39275 47209 47672 33000 32109 11520 9337 15252...</td>\n",
       "      <td>39275 47209 47672 33000 32109 11520 9337 15252...</td>\n",
       "      <td>39275 47209 47672 33000 32109 11520 9337 15252...</td>\n",
       "      <td>39275 47209 47672 33000 32109 11520 9337 15252...</td>\n",
       "      <td>39275 47209 47672 33000 32109 11520 9337 15252...</td>\n",
       "      <td>39275 47209 47672 33000 32109 11520 9337 15252...</td>\n",
       "      <td>39275 47209 47672 33000 32109 11520 9337 15252...</td>\n",
       "    </tr>\n",
       "    <tr>\n",
       "      <th>4</th>\n",
       "      <td>257</td>\n",
       "      <td>49235 37646 24852 24838 21137 27966 13870 3947...</td>\n",
       "      <td>49235 37646 24852 24838 21137 27966 13870 3947...</td>\n",
       "      <td>49235 37646 24852 24838 21137 27966 13870 3947...</td>\n",
       "      <td>49235 37646 24852 24838 21137 27966 13870 3947...</td>\n",
       "      <td>49235 37646 24852 24838 21137 27966 13870 3947...</td>\n",
       "      <td>49235 37646 24852 24838 21137 27966 13870 3947...</td>\n",
       "      <td>49235 37646 24852 24838 21137 27966 13870 3947...</td>\n",
       "      <td>49235 37646 24852 24838 21137 27966 13870 3947...</td>\n",
       "      <td>49235 37646 24852 24838 21137 27966 13870 3947...</td>\n",
       "      <td>49235 37646 24852 24838 21137 27966 39475 4605...</td>\n",
       "    </tr>\n",
       "  </tbody>\n",
       "</table>\n",
       "</div>"
      ],
      "text/plain": [
       "   order_id                                         products_0  \\\n",
       "0        17                             38777 21463 13107 None   \n",
       "1        34  13176 48523 21137 47766 39475 47792 44663 4350...   \n",
       "2       137           41787 24852 25890 38689 2326 5134 23794    \n",
       "3       182  39275 47209 47672 33000 32109 11520 9337 15252...   \n",
       "4       257  49235 37646 24852 24838 21137 27966 13870 3947...   \n",
       "\n",
       "                                          products_1  \\\n",
       "0                                 38777 21463 13107    \n",
       "1  13176 48523 21137 47766 39475 47792 43504 1861...   \n",
       "2                 41787 24852 38689 2326 5134 23794    \n",
       "3  39275 47209 47672 33000 32109 11520 9337 15252...   \n",
       "4  49235 37646 24852 24838 21137 27966 13870 3947...   \n",
       "\n",
       "                                          products_2  \\\n",
       "0                                 38777 21463 13107    \n",
       "1  13176 48523 21137 47766 39475 47792 44663 3918...   \n",
       "2           41787 24852 25890 38689 2326 5134 23794    \n",
       "3  39275 47209 47672 33000 32109 11520 9337 15252...   \n",
       "4  49235 37646 24852 24838 21137 27966 13870 3947...   \n",
       "\n",
       "                                          products_3  \\\n",
       "0                                 38777 21463 13107    \n",
       "1  13176 48523 21137 47766 39475 47792 43504 1861...   \n",
       "2           41787 24852 25890 38689 2326 5134 23794    \n",
       "3  39275 47209 47672 33000 32109 11520 9337 15252...   \n",
       "4  49235 37646 24852 24838 21137 27966 13870 3947...   \n",
       "\n",
       "                                          products_4  \\\n",
       "0                           47766 38777 21463 13107    \n",
       "1  13176 48523 21137 47766 39475 47792 44663 4350...   \n",
       "2           41787 24852 25890 38689 2326 5134 23794    \n",
       "3  39275 47209 47672 33000 32109 11520 9337 15252...   \n",
       "4  49235 37646 24852 24838 21137 27966 13870 3947...   \n",
       "\n",
       "                                          products_5  \\\n",
       "0                       47766 38777 21463 13107 None   \n",
       "1  13176 48523 21137 47766 39475 47792 44663 4350...   \n",
       "2           41787 24852 25890 38689 2326 5134 23794    \n",
       "3  39275 47209 47672 33000 32109 11520 9337 15252...   \n",
       "4  49235 37646 24852 24838 21137 27966 13870 3947...   \n",
       "\n",
       "                                          products_6  \\\n",
       "0                                 47766 21463 13107    \n",
       "1  13176 48523 21137 47766 39475 47792 39180 4350...   \n",
       "2           41787 24852 25890 38689 2326 5134 23794    \n",
       "3  39275 47209 47672 33000 32109 11520 9337 15252...   \n",
       "4  49235 37646 24852 24838 21137 27966 13870 3947...   \n",
       "\n",
       "                                          products_7  \\\n",
       "0                                 38777 21463 13107    \n",
       "1  13176 48523 21137 47766 44632 39475 47792 3918...   \n",
       "2           41787 24852 25890 38689 2326 5134 23794    \n",
       "3  39275 47209 47672 33000 32109 11520 9337 15252...   \n",
       "4  49235 37646 24852 24838 21137 27966 13870 3947...   \n",
       "\n",
       "                                          products_8  \\\n",
       "0                                       21463 13107    \n",
       "1  13176 48523 21137 47766 44632 39475 47792 4466...   \n",
       "2           41787 24852 25890 38689 2326 5134 23794    \n",
       "3  39275 47209 47672 33000 32109 11520 9337 15252...   \n",
       "4  49235 37646 24852 24838 21137 27966 13870 3947...   \n",
       "\n",
       "                                          products_9  \n",
       "0                                 38777 21463 13107   \n",
       "1  13176 21137 47766 39475 47792 39180 43504 1608...  \n",
       "2                 41787 24852 38689 2326 5134 23794   \n",
       "3  39275 47209 47672 33000 32109 11520 9337 15252...  \n",
       "4  49235 37646 24852 24838 21137 27966 39475 4605...  "
      ]
     },
     "execution_count": 14,
     "metadata": {},
     "output_type": "execute_result"
    }
   ],
   "source": [
    "predictions.head()"
   ]
  },
  {
   "cell_type": "code",
   "execution_count": 15,
   "metadata": {
    "collapsed": true
   },
   "outputs": [],
   "source": [
    "import operator\n",
    "\n",
    "def similarity(list1, list2):\n",
    "    intersection = len([x for x in list1 if x in list2])\n",
    "    union = len(list1) + len(list2) - intersection\n",
    "    return intersection/union\n",
    "\n",
    "def choose_column(s, columns=10):\n",
    "    product_list = []\n",
    "    sum_similarity = []\n",
    "    for i in range(columns):\n",
    "        product_list.append(s['products_' + str(i)].split())\n",
    "        sum_similarity.append(0)\n",
    "    for i in range(columns-1):\n",
    "        for j in range(i+1, columns):\n",
    "            sim_score = similarity(product_list[i], product_list[j])\n",
    "            sum_similarity[i] = sum_similarity[i] + sim_score\n",
    "            sum_similarity[j] = sum_similarity[j] + sim_score\n",
    "    best_idx = np.argmax(sum_similarity)\n",
    "    return pd.Series({'order_id': s.order_id,\n",
    "                     'products': s['products_' + str(best_idx)],\n",
    "                     'idx': best_idx})\n",
    "\n",
    "def create_mixed_list(s, columns=10):\n",
    "    product_counts = {}\n",
    "    list_lens = []\n",
    "    for i in range(columns):\n",
    "        column_products = s['products_' + str(i)].split()\n",
    "        list_lens.append(len(column_products))\n",
    "        for prod in column_products:\n",
    "            if prod in product_counts.keys():\n",
    "                product_counts[prod] = product_counts[prod] + 1\n",
    "            else:\n",
    "                product_counts[prod] = 1\n",
    "    avg_len = int(np.median(list_lens))\n",
    "    sorted_products = sorted(product_counts.items(), key=operator.itemgetter(1), reverse=True)\n",
    "    chosen_products = []\n",
    "    for i in range(avg_len):\n",
    "        chosen_products.append(sorted_products[i][0])\n",
    "    return pd.Series({'order_id': s.order_id,\n",
    "                     'products': \" \".join(chosen_products)})\n",
    "        \n",
    "    \n",
    "    "
   ]
  },
  {
   "cell_type": "code",
   "execution_count": 16,
   "metadata": {
    "collapsed": true
   },
   "outputs": [],
   "source": [
    "chosen = predictions.apply(choose_column, axis=1)"
   ]
  },
  {
   "cell_type": "code",
   "execution_count": 17,
   "metadata": {
    "collapsed": true
   },
   "outputs": [],
   "source": [
    "#chosen = predictions.apply(create_mixed_list, axis=1)"
   ]
  },
  {
   "cell_type": "code",
   "execution_count": 18,
   "metadata": {},
   "outputs": [
    {
     "data": {
      "text/plain": [
       "0.49049333333333334"
      ]
     },
     "execution_count": 18,
     "metadata": {},
     "output_type": "execute_result"
    }
   ],
   "source": [
    "(chosen.idx == 0).mean()"
   ]
  },
  {
   "cell_type": "code",
   "execution_count": 19,
   "metadata": {
    "collapsed": true
   },
   "outputs": [],
   "source": [
    "chosen[['order_id', 'products']].to_csv(\"submissions/composite.csv\", index=False)"
   ]
  },
  {
   "cell_type": "code",
   "execution_count": 20,
   "metadata": {},
   "outputs": [
    {
     "data": {
      "text/html": [
       "<div>\n",
       "<style>\n",
       "    .dataframe thead tr:only-child th {\n",
       "        text-align: right;\n",
       "    }\n",
       "\n",
       "    .dataframe thead th {\n",
       "        text-align: left;\n",
       "    }\n",
       "\n",
       "    .dataframe tbody tr th {\n",
       "        vertical-align: top;\n",
       "    }\n",
       "</style>\n",
       "<table border=\"1\" class=\"dataframe\">\n",
       "  <thead>\n",
       "    <tr style=\"text-align: right;\">\n",
       "      <th></th>\n",
       "      <th>idx</th>\n",
       "      <th>order_id</th>\n",
       "      <th>products</th>\n",
       "    </tr>\n",
       "  </thead>\n",
       "  <tbody>\n",
       "    <tr>\n",
       "      <th>0</th>\n",
       "      <td>1</td>\n",
       "      <td>17</td>\n",
       "      <td>38777 21463 13107</td>\n",
       "    </tr>\n",
       "    <tr>\n",
       "      <th>1</th>\n",
       "      <td>2</td>\n",
       "      <td>34</td>\n",
       "      <td>13176 48523 21137 47766 39475 47792 44663 3918...</td>\n",
       "    </tr>\n",
       "    <tr>\n",
       "      <th>2</th>\n",
       "      <td>0</td>\n",
       "      <td>137</td>\n",
       "      <td>41787 24852 25890 38689 2326 5134 23794</td>\n",
       "    </tr>\n",
       "    <tr>\n",
       "      <th>3</th>\n",
       "      <td>0</td>\n",
       "      <td>182</td>\n",
       "      <td>39275 47209 47672 33000 32109 11520 9337 15252...</td>\n",
       "    </tr>\n",
       "    <tr>\n",
       "      <th>4</th>\n",
       "      <td>7</td>\n",
       "      <td>257</td>\n",
       "      <td>49235 37646 24852 24838 21137 27966 13870 3947...</td>\n",
       "    </tr>\n",
       "  </tbody>\n",
       "</table>\n",
       "</div>"
      ],
      "text/plain": [
       "   idx  order_id                                           products\n",
       "0    1        17                                 38777 21463 13107 \n",
       "1    2        34  13176 48523 21137 47766 39475 47792 44663 3918...\n",
       "2    0       137           41787 24852 25890 38689 2326 5134 23794 \n",
       "3    0       182  39275 47209 47672 33000 32109 11520 9337 15252...\n",
       "4    7       257  49235 37646 24852 24838 21137 27966 13870 3947..."
      ]
     },
     "execution_count": 20,
     "metadata": {},
     "output_type": "execute_result"
    }
   ],
   "source": [
    "chosen.head()"
   ]
  },
  {
   "cell_type": "code",
   "execution_count": 34,
   "metadata": {},
   "outputs": [
    {
     "data": {
      "text/plain": [
       "(75000, 3)"
      ]
     },
     "execution_count": 34,
     "metadata": {},
     "output_type": "execute_result"
    }
   ],
   "source": [
    "chosen.shape"
   ]
  },
  {
   "cell_type": "code",
   "execution_count": null,
   "metadata": {
    "collapsed": true
   },
   "outputs": [],
   "source": []
  }
 ],
 "metadata": {
  "kernelspec": {
   "display_name": "Python 3",
   "language": "python",
   "name": "python3"
  },
  "language_info": {
   "codemirror_mode": {
    "name": "ipython",
    "version": 3
   },
   "file_extension": ".py",
   "mimetype": "text/x-python",
   "name": "python",
   "nbconvert_exporter": "python",
   "pygments_lexer": "ipython3",
   "version": "3.6.1"
  }
 },
 "nbformat": 4,
 "nbformat_minor": 2
}
