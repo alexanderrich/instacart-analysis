{
 "cells": [
  {
   "cell_type": "code",
   "execution_count": 1,
   "metadata": {
    "collapsed": true
   },
   "outputs": [],
   "source": [
    "import numpy as np\n",
    "import pandas as pd\n",
    "import matplotlib.pyplot as plt\n",
    "import gc\n",
    "\n",
    "\n",
    "% matplotlib inline"
   ]
  },
  {
   "cell_type": "code",
   "execution_count": 2,
   "metadata": {
    "collapsed": true
   },
   "outputs": [],
   "source": [
    "import spacy\n",
    "\n",
    "nlp = spacy.load('en_vectors_glove_md')"
   ]
  },
  {
   "cell_type": "code",
   "execution_count": 3,
   "metadata": {
    "collapsed": true
   },
   "outputs": [],
   "source": [
    "import warnings\n",
    "warnings.filterwarnings('ignore')"
   ]
  },
  {
   "cell_type": "code",
   "execution_count": 4,
   "metadata": {
    "collapsed": true
   },
   "outputs": [],
   "source": [
    "aisles_df = pd.read_csv(\"data/aisles.csv\")\n",
    "departments_df = pd.read_csv(\"data/departments.csv\")\n",
    "products_df = pd.read_csv(\"data/products.csv\")\n",
    "orders_df = pd.read_csv(\"data/orders.csv\")\n",
    "prior_df = pd.read_csv(\"data/order_products__prior.csv\")\n",
    "#train_df = pd.read_csv(\"data/order_products__train.csv\")\n",
    "products_df_merged = (products_df\n",
    "                      .merge(departments_df, on=\"department_id\")\n",
    "                      .merge(aisles_df, on=\"aisle_id\"))"
   ]
  },
  {
   "cell_type": "code",
   "execution_count": 5,
   "metadata": {
    "collapsed": true
   },
   "outputs": [],
   "source": [
    "orders_df = orders_df.query('eval_set == \"prior\"')"
   ]
  },
  {
   "cell_type": "code",
   "execution_count": 6,
   "metadata": {
    "collapsed": true
   },
   "outputs": [],
   "source": [
    "orders_df['max_order'] = orders_df.groupby('user_id').order_number.transform(max)"
   ]
  },
  {
   "cell_type": "code",
   "execution_count": 7,
   "metadata": {
    "collapsed": true
   },
   "outputs": [],
   "source": [
    "orders_df.loc[orders_df.order_number == orders_df.max_order, 'eval_set'] = 'extratrain'"
   ]
  },
  {
   "cell_type": "code",
   "execution_count": 8,
   "metadata": {
    "collapsed": true
   },
   "outputs": [],
   "source": [
    "orders_df.drop('max_order', axis=1, inplace=True)"
   ]
  },
  {
   "cell_type": "code",
   "execution_count": 9,
   "metadata": {
    "collapsed": true
   },
   "outputs": [],
   "source": [
    "train_df = prior_df.loc[prior_df.order_id.isin(orders_df.query('eval_set == \"extratrain\"').order_id),:]"
   ]
  },
  {
   "cell_type": "code",
   "execution_count": 10,
   "metadata": {
    "collapsed": true
   },
   "outputs": [],
   "source": [
    "prior_df = prior_df.loc[prior_df.order_id.isin(orders_df.query('eval_set == \"prior\"').order_id),:]"
   ]
  },
  {
   "cell_type": "code",
   "execution_count": 11,
   "metadata": {
    "collapsed": true
   },
   "outputs": [],
   "source": [
    "none_train_df = train_df.groupby('order_id').agg({'product_id': lambda x: \"None\",\n",
    "                                             'add_to_cart_order': lambda x: 0,\n",
    "                                             'reordered': np.sum}).reset_index()\n",
    "none_train_df.reordered = (none_train_df.reordered == 0).astype(int)\n",
    "none_train_df = none_train_df.query('reordered == 1')\n",
    "none_prior_df = prior_df.groupby('order_id').agg({'product_id': lambda x: \"None\",\n",
    "                                             'add_to_cart_order': lambda x: 0,\n",
    "                                             'reordered': np.sum}).reset_index()\n",
    "none_prior_df.reordered = (none_prior_df.reordered == 0).astype(int)\n",
    "none_prior_df = none_prior_df.query('reordered == 1')\n",
    "train_df = pd.concat([train_df, none_train_df])\n",
    "prior_df = pd.concat([prior_df, none_prior_df])\n"
   ]
  },
  {
   "cell_type": "code",
   "execution_count": 12,
   "metadata": {
    "collapsed": true
   },
   "outputs": [],
   "source": [
    "products_df_merged['allwords'] = products_df_merged.product_name.str.cat([products_df_merged.department, products_df_merged.aisle], sep=' ')"
   ]
  },
  {
   "cell_type": "code",
   "execution_count": 13,
   "metadata": {},
   "outputs": [
    {
     "data": {
      "text/html": [
       "<div>\n",
       "<style>\n",
       "    .dataframe thead tr:only-child th {\n",
       "        text-align: right;\n",
       "    }\n",
       "\n",
       "    .dataframe thead th {\n",
       "        text-align: left;\n",
       "    }\n",
       "\n",
       "    .dataframe tbody tr th {\n",
       "        vertical-align: top;\n",
       "    }\n",
       "</style>\n",
       "<table border=\"1\" class=\"dataframe\">\n",
       "  <thead>\n",
       "    <tr style=\"text-align: right;\">\n",
       "      <th></th>\n",
       "      <th>product_id</th>\n",
       "      <th>product_name</th>\n",
       "      <th>aisle_id</th>\n",
       "      <th>department_id</th>\n",
       "      <th>department</th>\n",
       "      <th>aisle</th>\n",
       "      <th>allwords</th>\n",
       "    </tr>\n",
       "  </thead>\n",
       "  <tbody>\n",
       "    <tr>\n",
       "      <th>0</th>\n",
       "      <td>1</td>\n",
       "      <td>Chocolate Sandwich Cookies</td>\n",
       "      <td>61</td>\n",
       "      <td>19</td>\n",
       "      <td>snacks</td>\n",
       "      <td>cookies cakes</td>\n",
       "      <td>Chocolate Sandwich Cookies snacks cookies cakes</td>\n",
       "    </tr>\n",
       "    <tr>\n",
       "      <th>1</th>\n",
       "      <td>78</td>\n",
       "      <td>Nutter Butter Cookie Bites Go-Pak</td>\n",
       "      <td>61</td>\n",
       "      <td>19</td>\n",
       "      <td>snacks</td>\n",
       "      <td>cookies cakes</td>\n",
       "      <td>Nutter Butter Cookie Bites Go-Pak snacks cooki...</td>\n",
       "    </tr>\n",
       "    <tr>\n",
       "      <th>2</th>\n",
       "      <td>102</td>\n",
       "      <td>Danish Butter Cookies</td>\n",
       "      <td>61</td>\n",
       "      <td>19</td>\n",
       "      <td>snacks</td>\n",
       "      <td>cookies cakes</td>\n",
       "      <td>Danish Butter Cookies snacks cookies cakes</td>\n",
       "    </tr>\n",
       "    <tr>\n",
       "      <th>3</th>\n",
       "      <td>172</td>\n",
       "      <td>Gluten Free All Natural Chocolate Chip Cookies</td>\n",
       "      <td>61</td>\n",
       "      <td>19</td>\n",
       "      <td>snacks</td>\n",
       "      <td>cookies cakes</td>\n",
       "      <td>Gluten Free All Natural Chocolate Chip Cookies...</td>\n",
       "    </tr>\n",
       "    <tr>\n",
       "      <th>4</th>\n",
       "      <td>285</td>\n",
       "      <td>Mini Nilla Wafers Munch Pack</td>\n",
       "      <td>61</td>\n",
       "      <td>19</td>\n",
       "      <td>snacks</td>\n",
       "      <td>cookies cakes</td>\n",
       "      <td>Mini Nilla Wafers Munch Pack snacks cookies cakes</td>\n",
       "    </tr>\n",
       "  </tbody>\n",
       "</table>\n",
       "</div>"
      ],
      "text/plain": [
       "   product_id                                    product_name  aisle_id  \\\n",
       "0           1                      Chocolate Sandwich Cookies        61   \n",
       "1          78               Nutter Butter Cookie Bites Go-Pak        61   \n",
       "2         102                           Danish Butter Cookies        61   \n",
       "3         172  Gluten Free All Natural Chocolate Chip Cookies        61   \n",
       "4         285                    Mini Nilla Wafers Munch Pack        61   \n",
       "\n",
       "   department_id department          aisle  \\\n",
       "0             19     snacks  cookies cakes   \n",
       "1             19     snacks  cookies cakes   \n",
       "2             19     snacks  cookies cakes   \n",
       "3             19     snacks  cookies cakes   \n",
       "4             19     snacks  cookies cakes   \n",
       "\n",
       "                                            allwords  \n",
       "0    Chocolate Sandwich Cookies snacks cookies cakes  \n",
       "1  Nutter Butter Cookie Bites Go-Pak snacks cooki...  \n",
       "2         Danish Butter Cookies snacks cookies cakes  \n",
       "3  Gluten Free All Natural Chocolate Chip Cookies...  \n",
       "4  Mini Nilla Wafers Munch Pack snacks cookies cakes  "
      ]
     },
     "execution_count": 13,
     "metadata": {},
     "output_type": "execute_result"
    }
   ],
   "source": [
    "products_df_merged.head()"
   ]
  },
  {
   "cell_type": "code",
   "execution_count": 14,
   "metadata": {
    "collapsed": true
   },
   "outputs": [],
   "source": [
    "vectors = np.array(products_df_merged.allwords.apply(lambda x: nlp(x).vector).tolist())"
   ]
  },
  {
   "cell_type": "code",
   "execution_count": 15,
   "metadata": {
    "collapsed": true
   },
   "outputs": [],
   "source": [
    "from sklearn.decomposition import PCA"
   ]
  },
  {
   "cell_type": "code",
   "execution_count": 16,
   "metadata": {
    "collapsed": true
   },
   "outputs": [],
   "source": [
    "from sklearn.metrics.pairwise import cosine_similarity"
   ]
  },
  {
   "cell_type": "code",
   "execution_count": 17,
   "metadata": {
    "collapsed": true
   },
   "outputs": [],
   "source": [
    "pca = PCA(n_components=30)\n"
   ]
  },
  {
   "cell_type": "code",
   "execution_count": 18,
   "metadata": {},
   "outputs": [
    {
     "data": {
      "text/plain": [
       "PCA(copy=True, iterated_power='auto', n_components=30, random_state=None,\n",
       "  svd_solver='auto', tol=0.0, whiten=False)"
      ]
     },
     "execution_count": 18,
     "metadata": {},
     "output_type": "execute_result"
    }
   ],
   "source": [
    "pca.fit(vectors)"
   ]
  },
  {
   "cell_type": "code",
   "execution_count": 19,
   "metadata": {},
   "outputs": [
    {
     "data": {
      "text/plain": [
       "array([ 1.63897806,  0.67271467,  0.49110381,  0.35325241,  0.33290182,\n",
       "        0.28086152,  0.23732772,  0.20535763,  0.1999167 ,  0.17141023,\n",
       "        0.15493189,  0.1502843 ,  0.1335667 ,  0.11481437,  0.10986206,\n",
       "        0.09835583,  0.09378005,  0.0880809 ,  0.08301061,  0.07795332,\n",
       "        0.07236853,  0.0661347 ,  0.06390929,  0.06154105,  0.05985243,\n",
       "        0.05726281,  0.05470563,  0.04985289,  0.04753485,  0.04581898])"
      ]
     },
     "execution_count": 19,
     "metadata": {},
     "output_type": "execute_result"
    }
   ],
   "source": [
    "pca.explained_variance_"
   ]
  },
  {
   "cell_type": "code",
   "execution_count": 20,
   "metadata": {
    "collapsed": true
   },
   "outputs": [],
   "source": [
    "short_vectors = pca.transform(vectors)"
   ]
  },
  {
   "cell_type": "code",
   "execution_count": 21,
   "metadata": {},
   "outputs": [
    {
     "data": {
      "text/plain": [
       "array([[ 0.78882176]])"
      ]
     },
     "execution_count": 21,
     "metadata": {},
     "output_type": "execute_result"
    }
   ],
   "source": [
    "cosine_similarity(short_vectors[0,:].reshape(1, -1), short_vectors[1,:].reshape(1, -1))"
   ]
  },
  {
   "cell_type": "code",
   "execution_count": 22,
   "metadata": {
    "collapsed": true
   },
   "outputs": [],
   "source": [
    "short_vectors_df = pd.DataFrame(short_vectors)"
   ]
  },
  {
   "cell_type": "code",
   "execution_count": 23,
   "metadata": {
    "collapsed": true
   },
   "outputs": [],
   "source": [
    "short_vectors_df.columns = [\"dim\"+str(c) for c in short_vectors_df.columns]"
   ]
  },
  {
   "cell_type": "code",
   "execution_count": 24,
   "metadata": {
    "collapsed": true
   },
   "outputs": [],
   "source": [
    "short_vectors_df['product_id'] = products_df_merged.product_id"
   ]
  },
  {
   "cell_type": "code",
   "execution_count": 25,
   "metadata": {
    "collapsed": true
   },
   "outputs": [],
   "source": [
    "del products_df\n",
    "del products_df_merged\n",
    "del short_vectors\n",
    "del vectors\n"
   ]
  },
  {
   "cell_type": "code",
   "execution_count": 26,
   "metadata": {},
   "outputs": [
    {
     "data": {
      "text/plain": [
       "1220"
      ]
     },
     "execution_count": 26,
     "metadata": {},
     "output_type": "execute_result"
    }
   ],
   "source": [
    "gc.collect()"
   ]
  },
  {
   "cell_type": "code",
   "execution_count": 27,
   "metadata": {
    "collapsed": true
   },
   "outputs": [],
   "source": [
    "orders_df['absolute_date'] = orders_df.groupby(\"user_id\").days_since_prior_order.cumsum().fillna(0)"
   ]
  },
  {
   "cell_type": "code",
   "execution_count": 28,
   "metadata": {
    "collapsed": true
   },
   "outputs": [],
   "source": [
    "orders_df['max_order_number'] = orders_df.groupby(\"user_id\").order_number.transform(max)\n",
    "orders_df['max_absolute_date'] = orders_df.groupby(\"user_id\").absolute_date.transform(max)"
   ]
  },
  {
   "cell_type": "code",
   "execution_count": 29,
   "metadata": {
    "collapsed": true
   },
   "outputs": [],
   "source": [
    "orders_df['reverse_date'] = orders_df.max_absolute_date - orders_df.absolute_date\n",
    "orders_df['reverse_order_number'] = orders_df.max_order_number - orders_df.order_number"
   ]
  },
  {
   "cell_type": "code",
   "execution_count": 30,
   "metadata": {
    "collapsed": true
   },
   "outputs": [],
   "source": [
    "train_df = train_df.merge(orders_df[[\"order_id\", \"user_id\"]], on=\"order_id\")"
   ]
  },
  {
   "cell_type": "code",
   "execution_count": 31,
   "metadata": {
    "collapsed": true
   },
   "outputs": [],
   "source": [
    "prior_df = prior_df.merge(orders_df, on=\"order_id\")"
   ]
  },
  {
   "cell_type": "code",
   "execution_count": 32,
   "metadata": {
    "collapsed": true
   },
   "outputs": [],
   "source": [
    "prior_df['order_dow_angle'] = (prior_df.order_dow / \n",
    "                                     (prior_df.order_dow.max() + 1) * 2 * np.pi)\n",
    "prior_df['order_hod_angle'] = (prior_df.order_hour_of_day / \n",
    "                                             (prior_df.order_dow.max() + 1) * 2 * np.pi)"
   ]
  },
  {
   "cell_type": "code",
   "execution_count": 33,
   "metadata": {
    "collapsed": true
   },
   "outputs": [],
   "source": [
    "prior_df['order_dow_sin'] = np.sin(prior_df.order_dow_angle)\n",
    "prior_df['order_dow_cos'] = np.cos(prior_df.order_dow_angle)\n",
    "prior_df['order_hod_sin'] = np.sin(prior_df.order_hod_angle)\n",
    "prior_df['order_hod_cos'] = np.cos(prior_df.order_hod_angle)\n",
    "prior_df['num_products'] = 1\n",
    "prior_df['num_products_dw_8'] = np.exp(-np.log(2)/8 * prior_df.reverse_date)\n",
    "prior_df['num_products_dw_16'] = np.exp(-np.log(2)/16 * prior_df.reverse_date)\n",
    "prior_df['num_products_dw_32'] = np.exp(-np.log(2)/32 * prior_df.reverse_date)\n",
    "prior_df['num_products_dw_64'] = np.exp(-np.log(2)/64 * prior_df.reverse_date)\n",
    "prior_df['num_products_dw_128'] = np.exp(-np.log(2)/128 * prior_df.reverse_date)\n",
    "prior_df['num_products_ow_2'] = np.exp(-np.log(2)/2 * prior_df.reverse_order_number)\n",
    "prior_df['num_products_ow_4'] = np.exp(-np.log(2)/4 * prior_df.reverse_order_number)\n",
    "prior_df['num_products_ow_8'] = np.exp(-np.log(2)/8 * prior_df.reverse_order_number)\n",
    "prior_df['num_products_ow_16'] = np.exp(-np.log(2)/16 * prior_df.reverse_order_number)\n",
    "prior_df['num_products_ow_32'] = np.exp(-np.log(2)/32 * prior_df.reverse_order_number)"
   ]
  },
  {
   "cell_type": "code",
   "execution_count": 34,
   "metadata": {
    "collapsed": true
   },
   "outputs": [],
   "source": [
    "prior_df['num_products_dsin_14'] = (1.01 + np.sin(2*np.pi*(prior_df.reverse_date/14)))/2\n",
    "prior_df['num_products_dcos_14'] = (1.01 + np.cos(2*np.pi*(prior_df.reverse_date/14)))/2\n",
    "prior_df['num_products_dsin_30'] = (1.01 + np.sin(2*np.pi*(prior_df.reverse_date/30)))/2\n",
    "prior_df['num_products_dcos_30'] = (1.01 + np.cos(2*np.pi*(prior_df.reverse_date/30)))/2"
   ]
  },
  {
   "cell_type": "code",
   "execution_count": 35,
   "metadata": {
    "collapsed": true
   },
   "outputs": [],
   "source": [
    "prior_day_idx = prior_df[['user_id', 'order_id', 'product_id']].join(pd.get_dummies(prior_df.order_dow))\n",
    "days_prior = prior_day_idx.drop(['product_id', 'user_id'], axis=1).groupby('order_id').agg(np.mean).agg(np.mean)\n",
    "\n",
    "product_day_idx = (prior_day_idx.drop(['user_id', 'order_id'], axis=1)\n",
    "                   .groupby(\"product_id\").agg(np.mean).reset_index()\n",
    "                   .melt(id_vars='product_id', var_name=\"day\", value_name=\"product_day_proportion\"))\n",
    "product_day_idx.day = product_day_idx.day.astype(int)\n",
    "\n",
    "individual_day_idx = (prior_day_idx.drop(['product_id'], axis=1)\n",
    "                   .groupby(['user_id', 'order_id']).agg(np.mean).reset_index()\n",
    "                     .drop(['order_id'], axis=1).groupby('user_id').agg(np.mean).reset_index()\n",
    "                   .melt(id_vars='user_id', var_name=\"day\", value_name=\"user_day_proportion\"))\n",
    "individual_day_idx.day = individual_day_idx.day.astype(int)\n",
    "\n",
    "indprod_day_idx = (prior_day_idx.drop(['order_id'], axis=1)\n",
    "                   .groupby(['user_id', 'product_id']).agg(np.mean).reset_index()\n",
    "                   .melt(id_vars=['user_id', 'product_id'], var_name=\"day\", value_name=\"indprod_day_proportion\"))\n",
    "indprod_day_idx.day = indprod_day_idx.day.astype(int)\n",
    "\n",
    "indprod_day_idx.rename(columns={'day': 'order_dow'}, inplace=True)\n",
    "product_day_idx.rename(columns={'day': 'order_dow'}, inplace=True)\n",
    "individual_day_idx.rename(columns={'day': 'order_dow'}, inplace=True)\n",
    "\n",
    "prior_hod_idx = prior_df[['user_id', 'order_id', 'product_id']].join(pd.get_dummies(prior_df.order_hour_of_day))\n",
    "\n",
    "prior_hod_idx_orig = prior_hod_idx\n",
    "prior_hod_idx = prior_hod_idx.copy()\n",
    "\n",
    "for i in range(24):\n",
    "    prior_hod_idx[i] = prior_hod_idx_orig[(i - 1) % 24] + prior_hod_idx_orig[i] + prior_hod_idx_orig[(i + 1) % 24]\n",
    "hod_prior = prior_hod_idx.drop(['product_id', 'user_id'], axis=1).groupby('order_id').agg(np.mean).agg(np.mean)\n",
    "\n",
    "del prior_hod_idx_orig\n",
    "\n",
    "product_hod_idx = (prior_hod_idx.drop(['user_id', 'order_id'], axis=1)\n",
    "                   .groupby(\"product_id\").agg(np.mean).reset_index()\n",
    "                   .melt(id_vars='product_id', var_name=\"hod\", value_name=\"product_hod_proportion\"))\n",
    "product_hod_idx.hod = product_hod_idx.hod.astype(int)\n",
    "\n",
    "individual_hod_idx = (prior_hod_idx.drop(['product_id'], axis=1)\n",
    "                   .groupby(['user_id', 'order_id']).agg(np.mean).reset_index()\n",
    "                     .drop(['order_id'], axis=1).groupby('user_id').agg(np.mean).reset_index()\n",
    "                   .melt(id_vars='user_id', var_name=\"hod\", value_name=\"user_hod_proportion\"))\n",
    "individual_hod_idx.hod = individual_hod_idx.hod.astype(int)\n",
    "\n",
    "indprod_hod_idx = (prior_hod_idx.drop(['order_id'], axis=1)\n",
    "                   .groupby(['user_id', 'product_id']).agg(np.mean).reset_index()\n",
    "                   .melt(id_vars=['user_id', 'product_id'], var_name=\"hod\", value_name=\"indprod_hod_proportion\"))\n",
    "indprod_hod_idx.hod = indprod_hod_idx.hod.astype(int)\n",
    "\n",
    "indprod_hod_idx.rename(columns={'hod': 'order_hour_of_day'}, inplace=True)\n",
    "product_hod_idx.rename(columns={'hod': 'order_hour_of_day'}, inplace=True)\n",
    "individual_hod_idx.rename(columns={'hod': 'order_hour_of_day'}, inplace=True)"
   ]
  },
  {
   "cell_type": "code",
   "execution_count": 36,
   "metadata": {
    "collapsed": true
   },
   "outputs": [],
   "source": [
    "prior_product_stats = prior_df.groupby(\"product_id\").agg({'order_dow_sin': np.sum, \n",
    "                                                                'order_dow_cos': np.sum, \n",
    "                                                                'order_hod_sin': np.sum,\n",
    "                                                                'order_hod_cos': np.sum,\n",
    "                                                               'num_products': np.sum})\n",
    "prior_product_stats['order_dow_angle'] = np.arctan2(prior_product_stats.order_dow_sin, prior_product_stats.order_dow_cos)\n",
    "prior_product_stats['order_hod_angle'] = np.arctan2(prior_product_stats.order_hod_sin, prior_product_stats.order_hod_cos)"
   ]
  },
  {
   "cell_type": "code",
   "execution_count": 37,
   "metadata": {
    "collapsed": true
   },
   "outputs": [],
   "source": [
    "prior_product_stats.order_dow_sin = np.sin(prior_product_stats.order_dow_angle)\n",
    "prior_product_stats.order_dow_cos = np.cos(prior_product_stats.order_dow_angle)\n",
    "prior_product_stats.order_hod_sin = np.sin(prior_product_stats.order_hod_angle)\n",
    "prior_product_stats.order_hod_cos = np.cos(prior_product_stats.order_hod_angle)\n",
    "prior_product_stats.drop(['order_dow_angle', 'order_hod_angle'], axis=1, inplace=True)\n",
    "prior_product_stats.reset_index(inplace=True)\n",
    "prior_product_stats.columns = ['product_id', 'product_dow_sin', 'product_dow_cos', 'product_hod_sin', 'product_hod_cos', 'product_num_orders']"
   ]
  },
  {
   "cell_type": "code",
   "execution_count": 38,
   "metadata": {
    "collapsed": true
   },
   "outputs": [],
   "source": [
    "prior_indorder_stats = prior_df.groupby([\"user_id\", \"order_id\"]).agg({'order_dow_sin': np.sum, \n",
    "                                                                'order_dow_cos': np.sum, \n",
    "                                                                'order_hod_sin': np.sum,\n",
    "                                                                'order_hod_cos': np.sum,\n",
    "                                                               'num_products': np.sum,\n",
    "                                                               'num_products_dw_8': np.mean,\n",
    "                                                                'num_products_dw_16': np.mean,\n",
    "                                                                'num_products_dw_32': np.mean,\n",
    "                                                                'num_products_dw_64': np.mean,\n",
    "                                                                'num_products_dw_128': np.mean,\n",
    "                                                                'num_products_dcos_14': np.mean,\n",
    "                                                                'num_products_dsin_14': np.mean,\n",
    "                                                                'num_products_dcos_30': np.mean,\n",
    "                                                                'num_products_dsin_30': np.mean,\n",
    "                                                                'num_products_ow_2': np.mean,           \n",
    "                                                                'num_products_ow_4': np.mean,\n",
    "                                                                'num_products_ow_8': np.mean,                  \n",
    "                                                                'num_products_ow_16': np.mean,\n",
    "                                                                'num_products_ow_32': np.mean,       \n",
    "                                                                      'absolute_date': np.max,\n",
    "                                                                     'order_number': np.max}).reset_index()"
   ]
  },
  {
   "cell_type": "code",
   "execution_count": 39,
   "metadata": {
    "collapsed": true
   },
   "outputs": [],
   "source": [
    "prior_individual_stats = prior_indorder_stats.groupby(\"user_id\").agg({'order_dow_sin': np.sum, \n",
    "                                                                'order_dow_cos': np.sum, \n",
    "                                                                'order_hod_sin': np.sum,\n",
    "                                                                'order_hod_cos': np.sum,\n",
    "                                                               'num_products': [np.sum, np.mean],\n",
    "                                                               'num_products_dw_8': np.sum,\n",
    "                                                                'num_products_dw_16': np.sum,\n",
    "                                                                'num_products_dw_32': np.sum,\n",
    "                                                                'num_products_dw_64': np.sum,\n",
    "                                                                'num_products_dw_128': np.sum,\n",
    "                                                                'num_products_dcos_14': np.sum,\n",
    "                                                                'num_products_dsin_14': np.sum,\n",
    "                                                                'num_products_dcos_30': np.sum,\n",
    "                                                                'num_products_dsin_30': np.sum,\n",
    "                                                                'num_products_ow_2': np.sum,           \n",
    "                                                                'num_products_ow_4': np.sum,\n",
    "                                                                'num_products_ow_8': np.sum,                  \n",
    "                                                                'num_products_ow_16': np.sum,\n",
    "                                                                'num_products_ow_32': np.sum,  \n",
    "                                                                'absolute_date': np.max,      \n",
    "                                                                'order_number': np.max})"
   ]
  },
  {
   "cell_type": "code",
   "execution_count": 40,
   "metadata": {
    "collapsed": true
   },
   "outputs": [],
   "source": [
    "prior_individual_stats.columns = ['order_dow_sin', 'order_dow_cos',\n",
    "                                  'order_hod_sin', 'order_hod_cos', \n",
    "                                   'num_products', 'mean_products', \n",
    "                                                               'num_products_dw_8',\n",
    "                                                                'num_products_dw_16',\n",
    "                                                                'num_products_dw_32',\n",
    "                                                                'num_products_dw_64',\n",
    "                                                                'num_products_dw_128',\n",
    "                                                                'num_products_dcos_14',\n",
    "                                                                'num_products_dsin_14',\n",
    "                                                                'num_products_dcos_30',\n",
    "                                                                'num_products_dsin_30',\n",
    "                                                                'num_products_ow_2',           \n",
    "                                                                'num_products_ow_4',\n",
    "                                                                'num_products_ow_8',                  \n",
    "                                                                'num_products_ow_16',\n",
    "                                                                'num_products_ow_32', \n",
    "                                  'max_absolute_date', \"max_order_number\"]"
   ]
  },
  {
   "cell_type": "code",
   "execution_count": 41,
   "metadata": {
    "collapsed": true
   },
   "outputs": [],
   "source": [
    "prior_individual_stats['order_dow_angle'] = np.arctan2(prior_individual_stats.order_dow_sin, prior_individual_stats.order_dow_cos)\n",
    "prior_individual_stats['order_hod_angle'] = np.arctan2(prior_individual_stats.order_hod_sin, prior_individual_stats.order_hod_cos)\n",
    "prior_individual_stats.order_dow_sin = np.sin(prior_individual_stats.order_dow_angle)\n",
    "prior_individual_stats.order_dow_cos = np.cos(prior_individual_stats.order_dow_angle)\n",
    "prior_individual_stats.order_hod_sin = np.sin(prior_individual_stats.order_hod_angle)\n",
    "prior_individual_stats.order_hod_cos = np.cos(prior_individual_stats.order_hod_angle)\n",
    "prior_individual_stats.drop(['order_dow_angle', 'order_hod_angle'], axis=1, inplace=True)"
   ]
  },
  {
   "cell_type": "code",
   "execution_count": 42,
   "metadata": {
    "collapsed": true
   },
   "outputs": [],
   "source": [
    "prior_individual_stats = prior_individual_stats.reset_index()"
   ]
  },
  {
   "cell_type": "code",
   "execution_count": 43,
   "metadata": {
    "collapsed": true
   },
   "outputs": [],
   "source": [
    "prior_individual_stats.columns = ['user_id', 'user_dow_sin',\n",
    "                                  'user_dow_cos', 'user_hod_sin',\n",
    "                                  'user_hod_cos', 'user_num_products',\n",
    "                                  'user_mean_products', \n",
    "                                                             'user_num_products_dw_8',\n",
    "                                                                'user_num_products_dw_16',\n",
    "                                                                'user_num_products_dw_32',\n",
    "                                                                'user_num_products_dw_64',\n",
    "                                                                'user_num_products_dw_128',\n",
    "                                                                'user_num_products_dcos_14',\n",
    "                                                                'user_num_products_dsin_14',\n",
    "                                                                'user_num_products_dcos_30',\n",
    "                                                                'user_num_products_dsin_30',\n",
    "                                                                'user_num_products_ow_2',           \n",
    "                                                                'user_num_products_ow_4',\n",
    "                                                                'user_num_products_ow_8',                  \n",
    "                                                                'user_num_products_ow_16',\n",
    "                                                                'user_num_products_ow_32', \n",
    "  \n",
    "                                  'user_num_days',\n",
    "                                 'user_num_orders']\n",
    "prior_individual_stats['user_days_per_order'] = prior_individual_stats.user_num_days / prior_individual_stats.user_num_orders"
   ]
  },
  {
   "cell_type": "code",
   "execution_count": 44,
   "metadata": {
    "collapsed": true
   },
   "outputs": [],
   "source": [
    "order_date_diffs = prior_indorder_stats[['user_id', 'absolute_date']].groupby('user_id').absolute_date.apply(lambda x: x.sort_values().diff()[1:])\n",
    "user_days_per_order = order_date_diffs.reset_index().groupby('user_id').absolute_date.agg([np.mean, lambda x: np.std(x, ddof=1)]).reset_index()\n",
    "user_days_per_order.columns = ['user_id', 'user_days_per_order_mean', 'user_days_per_order_std']"
   ]
  },
  {
   "cell_type": "code",
   "execution_count": 45,
   "metadata": {
    "collapsed": true
   },
   "outputs": [],
   "source": [
    "prior_individual_stats = prior_individual_stats.merge(user_days_per_order, on='user_id')"
   ]
  },
  {
   "cell_type": "code",
   "execution_count": 46,
   "metadata": {
    "collapsed": true
   },
   "outputs": [],
   "source": [
    "prior_indorder_stats = prior_indorder_stats[['order_id', 'num_products']]\n",
    "prior_indorder_stats.columns = ['order_id', 'num_products_in_order']"
   ]
  },
  {
   "cell_type": "code",
   "execution_count": 47,
   "metadata": {
    "collapsed": true
   },
   "outputs": [],
   "source": [
    "prior_indprod_stats = (prior_df.merge(prior_indorder_stats[['order_id', 'num_products_in_order']], on='order_id')\n",
    "                       .merge(prior_individual_stats[['user_id', 'user_num_orders', 'user_num_days']], on='user_id', how='left'))\n",
    "prior_indprod_stats['add_to_cart_proportion'] = prior_indprod_stats['add_to_cart_order'] / prior_indprod_stats['num_products_in_order']\n",
    "prior_indprod_stats['indprod_inorder_1'] = 1 * (prior_indprod_stats.order_number == prior_indprod_stats.user_num_orders)\n",
    "prior_indprod_stats['indprod_inorder_2'] = 1 * (prior_indprod_stats.order_number == prior_indprod_stats.user_num_orders - 1)\n",
    "#prior_indprod_stats['indprod_inorder_3'] = 1 * (prior_indprod_stats.order_number == prior_indprod_stats.user_num_orders - 2)\n",
    "prior_indprod_stats = prior_indprod_stats.groupby([\"user_id\", \"product_id\"]).agg({'order_dow_sin': np.sum, \n",
    "                                                                'order_dow_cos': np.sum, \n",
    "                                                                'order_hod_sin': np.sum,\n",
    "                                                                'order_hod_cos': np.sum,\n",
    "                                                               'num_products': np.sum,\n",
    "                                                               'num_products_dw_8': np.sum,\n",
    "                                                                'num_products_dw_16': np.sum,\n",
    "                                                                'num_products_dw_32': np.sum,\n",
    "                                                                'num_products_dw_64': np.sum,\n",
    "                                                                'num_products_dw_128': np.sum,\n",
    "                                                                'num_products_dcos_14': np.sum,\n",
    "                                                                'num_products_dsin_14': np.sum,\n",
    "                                                                'num_products_dcos_30': np.sum,\n",
    "                                                                'num_products_dsin_30': np.sum,\n",
    "                                                                'num_products_ow_2': np.sum,           \n",
    "                                                                'num_products_ow_4': np.sum,\n",
    "                                                                'num_products_ow_8': np.sum,                  \n",
    "                                                                'num_products_ow_16': np.sum,\n",
    "                                                                'num_products_ow_32': np.sum,                                   \n",
    "                                                           'add_to_cart_order': np.mean,\n",
    "                                                           'add_to_cart_proportion': np.mean,\n",
    "                                                           'indprod_inorder_1': np.sum,\n",
    "                                                           'indprod_inorder_2': np.sum,\n",
    "                                                           #'indprod_inorder_3': np.sum,\n",
    "                                                            'user_num_orders': np.mean,\n",
    "                                                            'user_num_days': np.mean,\n",
    "                                                            'reverse_date': np.min,\n",
    "                                                            'reverse_order_number': np.min}).reset_index()"
   ]
  },
  {
   "cell_type": "code",
   "execution_count": 48,
   "metadata": {
    "collapsed": true
   },
   "outputs": [],
   "source": [
    "prior_indprod_stats['order_dow_angle'] = np.arctan2(prior_indprod_stats.order_dow_sin, prior_indprod_stats.order_dow_cos)\n",
    "prior_indprod_stats['order_hod_angle'] = np.arctan2(prior_indprod_stats.order_hod_sin, prior_indprod_stats.order_hod_cos)\n",
    "prior_indprod_stats['proportion_orders'] = prior_indprod_stats.num_products / (prior_indprod_stats.user_num_orders)\n",
    "prior_indprod_stats['days_per_order'] = prior_indprod_stats.user_num_days / (prior_indprod_stats.num_products)"
   ]
  },
  {
   "cell_type": "code",
   "execution_count": 49,
   "metadata": {},
   "outputs": [
    {
     "name": "stdout",
     "output_type": "stream",
     "text": [
      "CPU times: user 2.02 s, sys: 31.5 ms, total: 2.05 s\n",
      "Wall time: 2.04 s\n"
     ]
    }
   ],
   "source": [
    "%%time\n",
    "order_date_diffs = prior_df.loc[prior_df.user_id < 100,['user_id', 'product_id', 'absolute_date']].groupby(['user_id', 'product_id']).filter(lambda x: len(x) > 2).groupby(['user_id', 'product_id']).absolute_date.apply(lambda x: x.sort_values().diff()[1:])\n",
    "indprod_days_per_order = order_date_diffs.reset_index().groupby(['user_id', 'product_id']).absolute_date.agg([np.mean, lambda x: np.std(x, ddof=1)]).reset_index()\n",
    "indprod_days_per_order.columns = ['user_id', 'product_id', 'indprod_days_per_order_mean', 'indprod_days_per_order_var']"
   ]
  },
  {
   "cell_type": "code",
   "execution_count": 50,
   "metadata": {
    "collapsed": true
   },
   "outputs": [],
   "source": [
    "prior_indprod_stats.order_dow_sin = np.sin(prior_indprod_stats.order_dow_angle)\n",
    "prior_indprod_stats.order_dow_cos = np.cos(prior_indprod_stats.order_dow_angle)\n",
    "prior_indprod_stats.order_hod_sin = np.sin(prior_indprod_stats.order_hod_angle)\n",
    "prior_indprod_stats.order_hod_cos = np.cos(prior_indprod_stats.order_hod_angle)\n",
    "prior_indprod_stats.drop(['order_dow_angle', 'order_hod_angle', 'user_num_orders', 'user_num_days'], axis=1, inplace=True)"
   ]
  },
  {
   "cell_type": "code",
   "execution_count": 51,
   "metadata": {
    "collapsed": true
   },
   "outputs": [],
   "source": [
    "prior_indprod_stats.columns = ['user_id', 'product_id', 'indprod_dow_sin', \n",
    "                               'indprod_dow_cos', 'indprod_hod_sin',\n",
    "                               'indprod_hod_cos', 'indprod_num_orders',\n",
    "                               'indprod_num_products_dw_8', 'indprod_num_products_dw_16', \n",
    "                               'indprod_num_products_dw_32', 'indprod_num_products_dw_64', \n",
    "                               'indprod_num_products_dw_128', 'indprod_num_products_dcos_14',\n",
    "                               'indprod_num_products_dsin_14', 'indprod_num_products_dcos_30',\n",
    "                               'indprod_num_products_dsin_30', 'indprod_num_products_ow_2',\n",
    "                               'indprod_num_products_ow_4', 'indprod_num_products_ow_8',\n",
    "                               'indprod_num_products_ow_16', 'indprod_num_products_ow_32',\n",
    "                               'indprod_add_to_cart_order', 'indprod_add_to_cart_proportion',\n",
    "                               'indprod_inorder_1', 'indprod_inorder_2', #'indprod_inorder_3',\n",
    "                               'indprod_days_since_last', 'indprod_orders_since_last',\n",
    "                                'indprod_proportion_orders', 'indprod_days_per_order']"
   ]
  },
  {
   "cell_type": "code",
   "execution_count": 52,
   "metadata": {
    "collapsed": true
   },
   "outputs": [],
   "source": [
    "# use indprod means to add more product stats\n",
    "product_order_proportions = (prior_indprod_stats[['user_id', 'product_id', \n",
    "                                                  'indprod_proportion_orders', 'indprod_days_per_order']]\n",
    "                             .groupby(\"product_id\")\n",
    "                             .agg({'indprod_proportion_orders': np.mean,\n",
    "                                  'indprod_days_per_order': np.mean})).reset_index()\n",
    "product_order_proportions.columns = ['product_id', 'product_proportion_orders', 'product_days_per_order']\n",
    "prior_product_stats = prior_product_stats.merge(product_order_proportions, on='product_id')"
   ]
  },
  {
   "cell_type": "code",
   "execution_count": 53,
   "metadata": {
    "collapsed": true
   },
   "outputs": [],
   "source": [
    "prior_all_stats = prior_indprod_stats.merge(prior_individual_stats, on=\"user_id\", how=\"left\").merge(prior_product_stats, on='product_id', how=\"left\")"
   ]
  },
  {
   "cell_type": "code",
   "execution_count": 54,
   "metadata": {
    "collapsed": true
   },
   "outputs": [],
   "source": [
    "del prior_indprod_stats\n",
    "del prior_individual_stats\n",
    "del prior_product_stats"
   ]
  },
  {
   "cell_type": "code",
   "execution_count": 55,
   "metadata": {},
   "outputs": [
    {
     "data": {
      "text/plain": [
       "832"
      ]
     },
     "execution_count": 55,
     "metadata": {},
     "output_type": "execute_result"
    }
   ],
   "source": [
    "gc.collect()"
   ]
  },
  {
   "cell_type": "code",
   "execution_count": 56,
   "metadata": {
    "collapsed": true
   },
   "outputs": [],
   "source": [
    "for label in ['ow_2', 'ow_4', 'ow_8', 'ow_16', 'ow_32', 'dw_8', 'dw_16', 'dw_32', 'dw_64', 'dw_128', 'dcos_14', 'dsin_14', 'dcos_30', 'dsin_30']:\n",
    "    prior_all_stats['indprod_num_products_'+ label + '_reg'] = prior_all_stats['indprod_num_products_' + label] / prior_all_stats['user_num_products_' + label]\n",
    "    prior_all_stats.drop(['user_num_products_' + label], axis=1, inplace=True)\n"
   ]
  },
  {
   "cell_type": "code",
   "execution_count": 57,
   "metadata": {
    "collapsed": true
   },
   "outputs": [],
   "source": [
    "orders_df_last = orders_df[orders_df.eval_set != \"prior\"].copy()\n",
    "orders_df_last['order_dow_angle'] = (orders_df_last.order_dow / \n",
    "                                     (orders_df_last.order_dow.max() + 1) * 2 * np.pi)\n",
    "orders_df_last['order_hod_angle'] = (orders_df_last.order_hour_of_day / \n",
    "                                             (orders_df_last.order_dow.max() + 1) * 2 * np.pi)\n",
    "orders_df_last['order_dow_sin'] = np.sin(orders_df_last.order_dow_angle)\n",
    "orders_df_last['order_dow_cos'] = np.cos(orders_df_last.order_dow_angle)\n",
    "orders_df_last['order_hod_sin'] = np.sin(orders_df_last.order_hod_angle)\n",
    "orders_df_last['order_hod_cos'] = np.cos(orders_df_last.order_hod_angle)"
   ]
  },
  {
   "cell_type": "code",
   "execution_count": 58,
   "metadata": {
    "collapsed": true
   },
   "outputs": [],
   "source": [
    "orders_df_last.drop([\"order_number\", \"order_dow_angle\", \"order_hod_angle\"], axis=1, inplace=True)\n",
    "# \"order_dow\", \"order_hour_of_day\", "
   ]
  },
  {
   "cell_type": "code",
   "execution_count": 59,
   "metadata": {
    "collapsed": true
   },
   "outputs": [],
   "source": [
    "prior_all_stats = prior_all_stats.merge(orders_df_last, on=\"user_id\", how=\"inner\")"
   ]
  },
  {
   "cell_type": "code",
   "execution_count": 60,
   "metadata": {},
   "outputs": [
    {
     "data": {
      "text/plain": [
       "(12628967, 75)"
      ]
     },
     "execution_count": 60,
     "metadata": {},
     "output_type": "execute_result"
    }
   ],
   "source": [
    "prior_all_stats.shape"
   ]
  },
  {
   "cell_type": "code",
   "execution_count": 61,
   "metadata": {
    "collapsed": true
   },
   "outputs": [],
   "source": [
    "prior_all_stats = prior_all_stats.merge(individual_day_idx, on=['user_id', 'order_dow'])\n",
    "#prior_all_stats = prior_all_stats.merge(individual_day_idx_shrinkage, on=['order_dow'])\n",
    "prior_all_stats = prior_all_stats.merge(product_day_idx, on=['product_id', 'order_dow'])\n",
    "#prior_all_stats = prior_all_stats.merge(product_day_idx_shrinkage, on=['order_dow'])\n",
    "prior_all_stats = prior_all_stats.merge(indprod_day_idx, on=['user_id', 'product_id', 'order_dow'])"
   ]
  },
  {
   "cell_type": "code",
   "execution_count": 62,
   "metadata": {
    "collapsed": true
   },
   "outputs": [],
   "source": [
    "prior_all_stats = prior_all_stats.merge(individual_hod_idx, on=['user_id', 'order_hour_of_day'])\n",
    "prior_all_stats = prior_all_stats.merge(product_hod_idx, on=['product_id', 'order_hour_of_day'])\n",
    "#prior_all_stats = prior_all_stats.merge(individual_hod_idx_shrinkage, on=['order_hour_of_day'])\n",
    "#prior_all_stats = prior_all_stats.merge(product_hod_idx_shrinkage, on=['order_hour_of_day'])\n",
    "prior_all_stats = prior_all_stats.merge(indprod_hod_idx, on=['user_id', 'product_id', 'order_hour_of_day'])"
   ]
  },
  {
   "cell_type": "code",
   "execution_count": 63,
   "metadata": {
    "collapsed": true
   },
   "outputs": [],
   "source": [
    "prior_all_stats['days_prior'] = days_prior[prior_all_stats['order_dow']].tolist()\n",
    "prior_all_stats['hod_prior'] = hod_prior[prior_all_stats['order_hour_of_day']].tolist()"
   ]
  },
  {
   "cell_type": "code",
   "execution_count": 64,
   "metadata": {
    "collapsed": true
   },
   "outputs": [],
   "source": [
    "prior_all_stats.drop(['order_hour_of_day', 'order_dow'], axis=1, inplace=True)"
   ]
  },
  {
   "cell_type": "code",
   "execution_count": 65,
   "metadata": {
    "collapsed": true
   },
   "outputs": [],
   "source": [
    "prior_all_stats['indprod_dow_avg_diff'] = np.cos(np.arctan2(prior_all_stats.order_dow_sin, prior_all_stats.order_dow_cos) - \n",
    "                                                np.arctan2(prior_all_stats.indprod_dow_sin, prior_all_stats.indprod_dow_cos))\n",
    "prior_all_stats['indprod_hod_avg_diff'] = np.cos(np.arctan2(prior_all_stats.order_hod_sin, prior_all_stats.order_hod_cos) - \n",
    "                                                np.arctan2(prior_all_stats.indprod_hod_sin, prior_all_stats.indprod_hod_cos))\n",
    "prior_all_stats['user_dow_avg_diff'] = np.cos(np.arctan2(prior_all_stats.order_dow_sin, prior_all_stats.order_dow_cos) - \n",
    "                                                np.arctan2(prior_all_stats.user_dow_sin, prior_all_stats.user_dow_cos))\n",
    "prior_all_stats['user_hod_avg_diff'] = np.cos(np.arctan2(prior_all_stats.order_hod_sin, prior_all_stats.order_hod_cos) - \n",
    "                                                np.arctan2(prior_all_stats.user_hod_sin, prior_all_stats.user_hod_cos))\n",
    "prior_all_stats['product_dow_avg_diff'] = np.cos(np.arctan2(prior_all_stats.order_dow_sin, prior_all_stats.order_dow_cos) - \n",
    "                                                np.arctan2(prior_all_stats.product_dow_sin, prior_all_stats.product_dow_cos))\n",
    "prior_all_stats['product_hod_avg_diff'] = np.cos(np.arctan2(prior_all_stats.order_hod_sin, prior_all_stats.order_hod_cos) - \n",
    "                                                np.arctan2(prior_all_stats.product_hod_sin, prior_all_stats.product_hod_cos))\n"
   ]
  },
  {
   "cell_type": "code",
   "execution_count": 66,
   "metadata": {
    "collapsed": true
   },
   "outputs": [],
   "source": [
    "del individual_hod_idx\n",
    "del product_hod_idx\n",
    "del indprod_hod_idx\n",
    "del individual_day_idx\n",
    "del product_day_idx\n",
    "del indprod_day_idx"
   ]
  },
  {
   "cell_type": "code",
   "execution_count": 67,
   "metadata": {},
   "outputs": [
    {
     "data": {
      "text/plain": [
       "189"
      ]
     },
     "execution_count": 67,
     "metadata": {},
     "output_type": "execute_result"
    }
   ],
   "source": [
    "gc.collect()"
   ]
  },
  {
   "cell_type": "code",
   "execution_count": 68,
   "metadata": {
    "collapsed": true
   },
   "outputs": [],
   "source": [
    "prior_all_stats['user_distinct_products'] = prior_all_stats.groupby('user_id')['product_id'].transform('count')"
   ]
  },
  {
   "cell_type": "code",
   "execution_count": 69,
   "metadata": {
    "collapsed": true
   },
   "outputs": [],
   "source": [
    "prior_all_stats = prior_all_stats.merge(train_df[['user_id', 'product_id', 'reordered']], how=\"left\", on=[\"user_id\", \"product_id\"])\n",
    "prior_all_stats.reordered = prior_all_stats.reordered.fillna(0)                  \n"
   ]
  },
  {
   "cell_type": "code",
   "execution_count": 70,
   "metadata": {
    "collapsed": true
   },
   "outputs": [],
   "source": [
    "prior_all_stats.eval(\"product_day_proportion=(product_num_orders * product_day_proportion + 30 * days_prior)/(product_num_orders+30)\", inplace=True)\n",
    "prior_all_stats.eval(\"product_hod_proportion=(product_num_orders * product_hod_proportion + 15 * hod_prior)/(product_num_orders+15)\", inplace=True)\n",
    "#prior_all_stats.eval(\"user_day_proportion=(user_num_orders * user_day_proportion + 0 * days_prior)/(user_num_orders+0)\", inplace=True)\n",
    "#prior_all_stats.eval(\"user_hod_proportion=(user_num_orders * user_hod_proportion + 0 * hod_prior)/(user_num_orders+0)\", inplace=True)\n",
    "prior_all_stats.eval(\"indprod_day_proportion=(indprod_num_orders * indprod_day_proportion + 10 * days_prior)/(indprod_num_orders+10)\", inplace=True)\n",
    "prior_all_stats.eval(\"indprod_hod_proportion=(indprod_num_orders * indprod_hod_proportion + 5 * hod_prior)/(indprod_num_orders+5)\", inplace=True)\n"
   ]
  },
  {
   "cell_type": "code",
   "execution_count": 71,
   "metadata": {
    "collapsed": true
   },
   "outputs": [],
   "source": [
    "prior_all_stats.drop(['days_prior', 'hod_prior', 'reverse_date', 'reverse_order_number'], axis=1, inplace=True)"
   ]
  },
  {
   "cell_type": "code",
   "execution_count": 72,
   "metadata": {
    "collapsed": true
   },
   "outputs": [],
   "source": [
    "prior_all_stats['user_mean_proportion_products'] = prior_all_stats.user_mean_products / prior_all_stats.user_distinct_products"
   ]
  },
  {
   "cell_type": "code",
   "execution_count": 73,
   "metadata": {
    "collapsed": true
   },
   "outputs": [],
   "source": [
    "none_df = prior_all_stats.query(\"product_id == 'None'\")"
   ]
  },
  {
   "cell_type": "code",
   "execution_count": 74,
   "metadata": {
    "collapsed": true
   },
   "outputs": [],
   "source": [
    "none_df.drop(['product_dow_sin',\n",
    "       'product_dow_cos', 'product_hod_sin', 'product_hod_cos',\n",
    "       'product_num_orders', 'product_proportion_orders',\n",
    "       'product_days_per_order', 'product_day_proportion',\n",
    "        'product_hod_proportion', 'product_dow_avg_diff',\n",
    "        'product_hod_avg_diff'], axis=1, inplace=True)"
   ]
  },
  {
   "cell_type": "code",
   "execution_count": 75,
   "metadata": {
    "collapsed": true
   },
   "outputs": [],
   "source": [
    "none_df.drop(['indprod_add_to_cart_order', 'indprod_add_to_cart_proportion'], axis=1, inplace=True)"
   ]
  },
  {
   "cell_type": "code",
   "execution_count": 76,
   "metadata": {
    "collapsed": true
   },
   "outputs": [],
   "source": [
    "#none_df.to_hdf(\"data/none_stats.h5\", \"table\")"
   ]
  },
  {
   "cell_type": "code",
   "execution_count": 77,
   "metadata": {
    "collapsed": true
   },
   "outputs": [],
   "source": [
    "prior_all_stats = prior_all_stats.query(\"product_id != 'None'\")"
   ]
  },
  {
   "cell_type": "code",
   "execution_count": 78,
   "metadata": {
    "collapsed": true
   },
   "outputs": [],
   "source": [
    "none_proportion = none_df[['user_id', 'indprod_proportion_orders']]\n",
    "none_proportion.columns = ['user_id', 'user_proportion_none']\n",
    "prior_all_stats = prior_all_stats.merge(none_proportion, on='user_id')"
   ]
  },
  {
   "cell_type": "code",
   "execution_count": 79,
   "metadata": {
    "collapsed": true
   },
   "outputs": [],
   "source": [
    "prior_all_stats = prior_all_stats.merge(short_vectors_df, on=\"product_id\")"
   ]
  },
  {
   "cell_type": "code",
   "execution_count": 80,
   "metadata": {},
   "outputs": [
    {
     "data": {
      "text/plain": [
       "(12422758, 117)"
      ]
     },
     "execution_count": 80,
     "metadata": {},
     "output_type": "execute_result"
    }
   ],
   "source": [
    "prior_all_stats.shape"
   ]
  },
  {
   "cell_type": "code",
   "execution_count": 81,
   "metadata": {
    "collapsed": true
   },
   "outputs": [],
   "source": [
    "vecs = ['dim'+str(i) for i in range(30)]\n",
    "pos = prior_all_stats[['user_id', 'indprod_num_orders'] + vecs].copy()\n",
    "pos['indprod_sum_orders'] = pos.groupby('user_id').indprod_num_orders.transform('sum')\n",
    "pos.loc[:, 'dim0':'dim29'] = pos.loc[:, 'dim0':'dim29'].multiply(\n",
    "    pos['indprod_num_orders']/(pos.indprod_sum_orders + 15), axis=0)\n",
    "user_mean_vecs = pos.groupby('user_id').agg('sum').drop(['indprod_num_orders', 'indprod_sum_orders'], axis=1).reset_index()"
   ]
  },
  {
   "cell_type": "code",
   "execution_count": 82,
   "metadata": {
    "collapsed": true
   },
   "outputs": [],
   "source": [
    "pca = PCA(n_components=15)\n",
    "pca.fit(user_mean_vecs.loc[:, 'dim0':'dim29'])\n",
    "short_vectors = pca.transform(user_mean_vecs.loc[:, 'dim0':'dim29'])\n",
    "short_vectors = pd.DataFrame(short_vectors)\n",
    "short_vectors.columns = ['user_dim'+str(c) for c in range(15)]\n",
    "short_vectors['user_id'] = user_mean_vecs['user_id']"
   ]
  },
  {
   "cell_type": "code",
   "execution_count": 83,
   "metadata": {
    "collapsed": true
   },
   "outputs": [],
   "source": [
    "prior_all_stats = prior_all_stats.merge(short_vectors, on='user_id')\n",
    "none_df = none_df.merge(short_vectors, on='user_id')"
   ]
  },
  {
   "cell_type": "code",
   "execution_count": 84,
   "metadata": {
    "collapsed": true
   },
   "outputs": [],
   "source": [
    "#prior_all_stats = prior_all_stats.drop('indprod_inorder_3', axis=1)\n",
    "#none_df = none_df.drop('indprod_inorder_3', axis=1)"
   ]
  },
  {
   "cell_type": "code",
   "execution_count": 85,
   "metadata": {
    "collapsed": true
   },
   "outputs": [],
   "source": [
    "#all_users = prior_all_stats.loc[prior_all_stats.eval_set == \"extratrain\", \"user_id\"].unique()\n",
    "#np.random.seed(1234)\n",
    "#np.random.shuffle(all_users)\n",
    "#valid_set = pd.DataFrame({'user_id': all_users, 'validation_set': np.arange(0, all_users.shape[0]) % 11})\n",
    "#prior_all_stats = prior_all_stats.merge(valid_set, on='user_id', how='left')\n",
    "#prior_all_stats.validation_set = prior_all_stats.validation_set.fillna(-1)\n",
    "prior_all_stats['validation_set'] = -1"
   ]
  },
  {
   "cell_type": "code",
   "execution_count": 86,
   "metadata": {
    "collapsed": true
   },
   "outputs": [],
   "source": [
    "#none_df = none_df.merge(valid_set, on='user_id', how='left')\n",
    "#none_df.validation_set = none_df.validation_set.fillna(-1)\n",
    "none_df['validation_set'] = -1"
   ]
  },
  {
   "cell_type": "code",
   "execution_count": 87,
   "metadata": {
    "collapsed": true
   },
   "outputs": [],
   "source": [
    "prior_all_stats['extratrain'] = True\n",
    "none_df['extratrain'] = True"
   ]
  },
  {
   "cell_type": "code",
   "execution_count": 88,
   "metadata": {},
   "outputs": [
    {
     "name": "stdout",
     "output_type": "stream",
     "text": [
      "PCA\t aisles_df\t cosine_similarity\t days_prior\t departments_df\t gc\t hod_prior\t i\t indprod_days_per_order\t \n",
      "label\t nlp\t none_df\t none_prior_df\t none_proportion\t none_train_df\t np\t order_date_diffs\t orders_df\t \n",
      "orders_df_last\t pca\t pd\t plt\t pos\t prior_all_stats\t prior_day_idx\t prior_df\t prior_hod_idx\t \n",
      "prior_indorder_stats\t product_order_proportions\t short_vectors\t short_vectors_df\t spacy\t train_df\t user_days_per_order\t user_mean_vecs\t vecs\t \n",
      "warnings\t \n"
     ]
    }
   ],
   "source": [
    "%who"
   ]
  },
  {
   "cell_type": "code",
   "execution_count": 89,
   "metadata": {
    "collapsed": true
   },
   "outputs": [],
   "source": [
    "del aisles_df\n",
    "del departments_df\n",
    "del indprod_days_per_order\n",
    "del none_prior_df\n",
    "del none_proportion\n",
    "del none_train_df\n",
    "del order_date_diffs\n",
    "del orders_df\n",
    "del orders_df_last\n",
    "del prior_day_idx\n",
    "del prior_df\n",
    "del prior_hod_idx\n",
    "del prior_indorder_stats\n",
    "del short_vectors\n",
    "del short_vectors_df\n",
    "del train_df\n",
    "del user_days_per_order\n",
    "del user_mean_vecs"
   ]
  },
  {
   "cell_type": "code",
   "execution_count": 90,
   "metadata": {},
   "outputs": [
    {
     "data": {
      "text/plain": [
       "1437"
      ]
     },
     "execution_count": 90,
     "metadata": {},
     "output_type": "execute_result"
    }
   ],
   "source": [
    "gc.collect()"
   ]
  },
  {
   "cell_type": "code",
   "execution_count": 91,
   "metadata": {
    "collapsed": true
   },
   "outputs": [],
   "source": [
    "none_df.to_hdf(\"data/none_stats_extratrain.h5\", \"table\")"
   ]
  },
  {
   "cell_type": "code",
   "execution_count": 92,
   "metadata": {},
   "outputs": [
    {
     "data": {
      "text/plain": [
       "7"
      ]
     },
     "execution_count": 92,
     "metadata": {},
     "output_type": "execute_result"
    }
   ],
   "source": [
    "del none_df\n",
    "gc.collect()"
   ]
  },
  {
   "cell_type": "code",
   "execution_count": 93,
   "metadata": {
    "collapsed": true
   },
   "outputs": [],
   "source": [
    "prior_all_stats.product_id = prior_all_stats.product_id.astype(int)\n",
    "prior_all_stats['subset_key'] = np.random.randint(0, 252, (prior_all_stats.shape[0]))"
   ]
  },
  {
   "cell_type": "code",
   "execution_count": 94,
   "metadata": {
    "collapsed": true
   },
   "outputs": [],
   "source": [
    "prior_all_stats.to_hdf(\"data/prior_all_stats_extratrain.h5\", \"table\", format='table', data_columns=['eval_set', 'validation_set'])\n"
   ]
  },
  {
   "cell_type": "code",
   "execution_count": 95,
   "metadata": {},
   "outputs": [
    {
     "data": {
      "text/plain": [
       "(12422758, 135)"
      ]
     },
     "execution_count": 95,
     "metadata": {},
     "output_type": "execute_result"
    }
   ],
   "source": [
    "prior_all_stats.shape"
   ]
  },
  {
   "cell_type": "code",
   "execution_count": null,
   "metadata": {
    "collapsed": true
   },
   "outputs": [],
   "source": []
  }
 ],
 "metadata": {
  "kernelspec": {
   "display_name": "Python 3",
   "language": "python",
   "name": "python3"
  },
  "language_info": {
   "codemirror_mode": {
    "name": "ipython",
    "version": 3
   },
   "file_extension": ".py",
   "mimetype": "text/x-python",
   "name": "python",
   "nbconvert_exporter": "python",
   "pygments_lexer": "ipython3",
   "version": "3.6.1"
  }
 },
 "nbformat": 4,
 "nbformat_minor": 1
}
