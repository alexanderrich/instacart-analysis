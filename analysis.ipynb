{
 "cells": [
  {
   "cell_type": "code",
   "execution_count": 1,
   "metadata": {
    "collapsed": true
   },
   "outputs": [],
   "source": [
    "import numpy as np\n",
    "import pandas as pd\n",
    "import matplotlib.pyplot as plt\n",
    "import seaborn as sns\n",
    "\n",
    "% matplotlib inline"
   ]
  },
  {
   "cell_type": "code",
   "execution_count": 2,
   "metadata": {
    "collapsed": true
   },
   "outputs": [],
   "source": [
    "aisles_df = pd.read_csv(\"data/aisles.csv\")\n",
    "departments_df = pd.read_csv(\"data/departments.csv\")\n",
    "products_df = pd.read_csv(\"data/products.csv\")\n",
    "orders_df = pd.read_csv(\"data/orders.csv\")\n",
    "prior_df = pd.read_csv(\"data/order_products__prior.csv\")\n",
    "train_df = pd.read_csv(\"data/order_products__train.csv\")\n",
    "products_df_merged = (products_df\n",
    "                      .merge(departments_df, on=\"department_id\")\n",
    "                      .merge(aisles_df, on=\"aisle_id\"))"
   ]
  },
  {
   "cell_type": "code",
   "execution_count": 3,
   "metadata": {
    "collapsed": true
   },
   "outputs": [],
   "source": [
    "orders_df['absolute_date'] = orders_df.groupby(\"user_id\").days_since_prior_order.cumsum().fillna(0)"
   ]
  },
  {
   "cell_type": "code",
   "execution_count": 4,
   "metadata": {
    "collapsed": true
   },
   "outputs": [],
   "source": [
    "orders_df['max_order_number'] = orders_df.groupby(\"user_id\").order_number.transform(max)\n",
    "orders_df['max_absolute_date'] = orders_df.groupby(\"user_id\").absolute_date.transform(max)"
   ]
  },
  {
   "cell_type": "code",
   "execution_count": 5,
   "metadata": {
    "collapsed": true
   },
   "outputs": [],
   "source": [
    "orders_df['reverse_date'] = orders_df.max_absolute_date - orders_df.absolute_date\n",
    "orders_df['reverse_order_number'] = orders_df.max_order_number - orders_df.order_number"
   ]
  },
  {
   "cell_type": "code",
   "execution_count": 6,
   "metadata": {
    "collapsed": true
   },
   "outputs": [],
   "source": [
    "train_df = train_df.merge(orders_df[[\"order_id\", \"user_id\"]], on=\"order_id\")"
   ]
  },
  {
   "cell_type": "code",
   "execution_count": 7,
   "metadata": {
    "collapsed": true
   },
   "outputs": [],
   "source": [
    "prior_df = prior_df.merge(orders_df, on=\"order_id\")"
   ]
  },
  {
   "cell_type": "code",
   "execution_count": 8,
   "metadata": {
    "collapsed": true
   },
   "outputs": [],
   "source": [
    "prior_df['order_dow_angle'] = (prior_df.order_dow / \n",
    "                                     (prior_df.order_dow.max() + 1) * 2 * np.pi)\n",
    "prior_df['order_hod_angle'] = (prior_df.order_hour_of_day / \n",
    "                                             (prior_df.order_dow.max() + 1) * 2 * np.pi)"
   ]
  },
  {
   "cell_type": "code",
   "execution_count": 9,
   "metadata": {
    "collapsed": true
   },
   "outputs": [],
   "source": [
    "prior_df['order_dow_sin'] = np.sin(prior_df.order_dow_angle)\n",
    "prior_df['order_dow_cos'] = np.cos(prior_df.order_dow_angle)\n",
    "prior_df['order_hod_sin'] = np.sin(prior_df.order_hod_angle)\n",
    "prior_df['order_hod_cos'] = np.cos(prior_df.order_hod_angle)\n",
    "prior_df['num_products'] = 1\n",
    "prior_df['num_products_dw_12'] = np.exp(-np.log(2)/12 * prior_df.reverse_date)\n",
    "prior_df['num_products_dw_36'] = np.exp(-np.log(2)/36 * prior_df.reverse_date)\n",
    "prior_df['num_products_dw_108'] = np.exp(-np.log(2)/108 * prior_df.reverse_date)\n",
    "prior_df['num_products_ow_3'] = np.exp(-np.log(2)/3 * prior_df.reverse_order_number)\n",
    "prior_df['num_products_ow_10'] = np.exp(-np.log(2)/10 * prior_df.reverse_order_number)\n",
    "prior_df['num_products_ow_30'] = np.exp(-np.log(2)/30 * prior_df.reverse_order_number)"
   ]
  },
  {
   "cell_type": "code",
   "execution_count": 10,
   "metadata": {},
   "outputs": [
    {
     "data": {
      "text/html": [
       "<div>\n",
       "<style>\n",
       "    .dataframe thead tr:only-child th {\n",
       "        text-align: right;\n",
       "    }\n",
       "\n",
       "    .dataframe thead th {\n",
       "        text-align: left;\n",
       "    }\n",
       "\n",
       "    .dataframe tbody tr th {\n",
       "        vertical-align: top;\n",
       "    }\n",
       "</style>\n",
       "<table border=\"1\" class=\"dataframe\">\n",
       "  <thead>\n",
       "    <tr style=\"text-align: right;\">\n",
       "      <th></th>\n",
       "      <th>order_id</th>\n",
       "      <th>product_id</th>\n",
       "      <th>add_to_cart_order</th>\n",
       "      <th>reordered</th>\n",
       "      <th>user_id</th>\n",
       "      <th>eval_set</th>\n",
       "      <th>order_number</th>\n",
       "      <th>order_dow</th>\n",
       "      <th>order_hour_of_day</th>\n",
       "      <th>days_since_prior_order</th>\n",
       "      <th>...</th>\n",
       "      <th>order_dow_cos</th>\n",
       "      <th>order_hod_sin</th>\n",
       "      <th>order_hod_cos</th>\n",
       "      <th>num_products</th>\n",
       "      <th>num_products_dw_12</th>\n",
       "      <th>num_products_dw_36</th>\n",
       "      <th>num_products_dw_108</th>\n",
       "      <th>num_products_ow_3</th>\n",
       "      <th>num_products_ow_10</th>\n",
       "      <th>num_products_ow_30</th>\n",
       "    </tr>\n",
       "  </thead>\n",
       "  <tbody>\n",
       "    <tr>\n",
       "      <th>0</th>\n",
       "      <td>2</td>\n",
       "      <td>33120</td>\n",
       "      <td>1</td>\n",
       "      <td>1</td>\n",
       "      <td>202279</td>\n",
       "      <td>prior</td>\n",
       "      <td>3</td>\n",
       "      <td>5</td>\n",
       "      <td>9</td>\n",
       "      <td>8.0</td>\n",
       "      <td>...</td>\n",
       "      <td>-0.222521</td>\n",
       "      <td>0.974928</td>\n",
       "      <td>-0.222521</td>\n",
       "      <td>1</td>\n",
       "      <td>0.000145</td>\n",
       "      <td>0.052556</td>\n",
       "      <td>0.374577</td>\n",
       "      <td>0.25</td>\n",
       "      <td>0.659754</td>\n",
       "      <td>0.870551</td>\n",
       "    </tr>\n",
       "    <tr>\n",
       "      <th>1</th>\n",
       "      <td>2</td>\n",
       "      <td>28985</td>\n",
       "      <td>2</td>\n",
       "      <td>1</td>\n",
       "      <td>202279</td>\n",
       "      <td>prior</td>\n",
       "      <td>3</td>\n",
       "      <td>5</td>\n",
       "      <td>9</td>\n",
       "      <td>8.0</td>\n",
       "      <td>...</td>\n",
       "      <td>-0.222521</td>\n",
       "      <td>0.974928</td>\n",
       "      <td>-0.222521</td>\n",
       "      <td>1</td>\n",
       "      <td>0.000145</td>\n",
       "      <td>0.052556</td>\n",
       "      <td>0.374577</td>\n",
       "      <td>0.25</td>\n",
       "      <td>0.659754</td>\n",
       "      <td>0.870551</td>\n",
       "    </tr>\n",
       "    <tr>\n",
       "      <th>2</th>\n",
       "      <td>2</td>\n",
       "      <td>9327</td>\n",
       "      <td>3</td>\n",
       "      <td>0</td>\n",
       "      <td>202279</td>\n",
       "      <td>prior</td>\n",
       "      <td>3</td>\n",
       "      <td>5</td>\n",
       "      <td>9</td>\n",
       "      <td>8.0</td>\n",
       "      <td>...</td>\n",
       "      <td>-0.222521</td>\n",
       "      <td>0.974928</td>\n",
       "      <td>-0.222521</td>\n",
       "      <td>1</td>\n",
       "      <td>0.000145</td>\n",
       "      <td>0.052556</td>\n",
       "      <td>0.374577</td>\n",
       "      <td>0.25</td>\n",
       "      <td>0.659754</td>\n",
       "      <td>0.870551</td>\n",
       "    </tr>\n",
       "    <tr>\n",
       "      <th>3</th>\n",
       "      <td>2</td>\n",
       "      <td>45918</td>\n",
       "      <td>4</td>\n",
       "      <td>1</td>\n",
       "      <td>202279</td>\n",
       "      <td>prior</td>\n",
       "      <td>3</td>\n",
       "      <td>5</td>\n",
       "      <td>9</td>\n",
       "      <td>8.0</td>\n",
       "      <td>...</td>\n",
       "      <td>-0.222521</td>\n",
       "      <td>0.974928</td>\n",
       "      <td>-0.222521</td>\n",
       "      <td>1</td>\n",
       "      <td>0.000145</td>\n",
       "      <td>0.052556</td>\n",
       "      <td>0.374577</td>\n",
       "      <td>0.25</td>\n",
       "      <td>0.659754</td>\n",
       "      <td>0.870551</td>\n",
       "    </tr>\n",
       "    <tr>\n",
       "      <th>4</th>\n",
       "      <td>2</td>\n",
       "      <td>30035</td>\n",
       "      <td>5</td>\n",
       "      <td>0</td>\n",
       "      <td>202279</td>\n",
       "      <td>prior</td>\n",
       "      <td>3</td>\n",
       "      <td>5</td>\n",
       "      <td>9</td>\n",
       "      <td>8.0</td>\n",
       "      <td>...</td>\n",
       "      <td>-0.222521</td>\n",
       "      <td>0.974928</td>\n",
       "      <td>-0.222521</td>\n",
       "      <td>1</td>\n",
       "      <td>0.000145</td>\n",
       "      <td>0.052556</td>\n",
       "      <td>0.374577</td>\n",
       "      <td>0.25</td>\n",
       "      <td>0.659754</td>\n",
       "      <td>0.870551</td>\n",
       "    </tr>\n",
       "  </tbody>\n",
       "</table>\n",
       "<p>5 rows × 28 columns</p>\n",
       "</div>"
      ],
      "text/plain": [
       "   order_id  product_id  add_to_cart_order  reordered  user_id eval_set  \\\n",
       "0         2       33120                  1          1   202279    prior   \n",
       "1         2       28985                  2          1   202279    prior   \n",
       "2         2        9327                  3          0   202279    prior   \n",
       "3         2       45918                  4          1   202279    prior   \n",
       "4         2       30035                  5          0   202279    prior   \n",
       "\n",
       "   order_number  order_dow  order_hour_of_day  days_since_prior_order  \\\n",
       "0             3          5                  9                     8.0   \n",
       "1             3          5                  9                     8.0   \n",
       "2             3          5                  9                     8.0   \n",
       "3             3          5                  9                     8.0   \n",
       "4             3          5                  9                     8.0   \n",
       "\n",
       "          ...          order_dow_cos  order_hod_sin  order_hod_cos  \\\n",
       "0         ...              -0.222521       0.974928      -0.222521   \n",
       "1         ...              -0.222521       0.974928      -0.222521   \n",
       "2         ...              -0.222521       0.974928      -0.222521   \n",
       "3         ...              -0.222521       0.974928      -0.222521   \n",
       "4         ...              -0.222521       0.974928      -0.222521   \n",
       "\n",
       "   num_products  num_products_dw_12  num_products_dw_36  num_products_dw_108  \\\n",
       "0             1            0.000145            0.052556             0.374577   \n",
       "1             1            0.000145            0.052556             0.374577   \n",
       "2             1            0.000145            0.052556             0.374577   \n",
       "3             1            0.000145            0.052556             0.374577   \n",
       "4             1            0.000145            0.052556             0.374577   \n",
       "\n",
       "   num_products_ow_3  num_products_ow_10  num_products_ow_30  \n",
       "0               0.25            0.659754            0.870551  \n",
       "1               0.25            0.659754            0.870551  \n",
       "2               0.25            0.659754            0.870551  \n",
       "3               0.25            0.659754            0.870551  \n",
       "4               0.25            0.659754            0.870551  \n",
       "\n",
       "[5 rows x 28 columns]"
      ]
     },
     "execution_count": 10,
     "metadata": {},
     "output_type": "execute_result"
    }
   ],
   "source": [
    "prior_df.head()"
   ]
  },
  {
   "cell_type": "code",
   "execution_count": 11,
   "metadata": {
    "collapsed": true
   },
   "outputs": [],
   "source": [
    "prior_product_stats = prior_df.groupby(\"product_id\").agg({'order_dow_sin': np.sum, \n",
    "                                                                'order_dow_cos': np.sum, \n",
    "                                                                'order_hod_sin': np.sum,\n",
    "                                                                'order_hod_cos': np.sum,\n",
    "                                                               'num_products': np.sum})\n",
    "prior_product_stats['order_dow_angle'] = np.arctan2(prior_product_stats.order_dow_sin, prior_product_stats.order_dow_cos)\n",
    "prior_product_stats['order_hod_angle'] = np.arctan2(prior_product_stats.order_hod_sin, prior_product_stats.order_hod_cos)"
   ]
  },
  {
   "cell_type": "code",
   "execution_count": 12,
   "metadata": {
    "collapsed": true
   },
   "outputs": [],
   "source": [
    "prior_product_stats.order_dow_sin = np.sin(prior_product_stats.order_dow_angle)\n",
    "prior_product_stats.order_dow_cos = np.cos(prior_product_stats.order_dow_angle)\n",
    "prior_product_stats.order_hod_sin = np.sin(prior_product_stats.order_hod_angle)\n",
    "prior_product_stats.order_hod_cos = np.cos(prior_product_stats.order_hod_angle)\n",
    "prior_product_stats.drop(['order_dow_angle', 'order_hod_angle'], axis=1, inplace=True)\n",
    "prior_product_stats.reset_index(inplace=True)\n",
    "prior_product_stats.columns = ['product_id', 'product_dow_sin', 'product_dow_cos', 'product_hod_sin', 'product_hod_cos', 'product_num_purchases']"
   ]
  },
  {
   "cell_type": "code",
   "execution_count": 13,
   "metadata": {},
   "outputs": [
    {
     "data": {
      "text/plain": [
       "Index(['order_id', 'product_id', 'add_to_cart_order', 'reordered', 'user_id',\n",
       "       'eval_set', 'order_number', 'order_dow', 'order_hour_of_day',\n",
       "       'days_since_prior_order', 'absolute_date', 'max_order_number',\n",
       "       'max_absolute_date', 'reverse_date', 'reverse_order_number',\n",
       "       'order_dow_angle', 'order_hod_angle', 'order_dow_sin', 'order_dow_cos',\n",
       "       'order_hod_sin', 'order_hod_cos', 'num_products', 'num_products_dw_12',\n",
       "       'num_products_dw_36', 'num_products_dw_108', 'num_products_ow_3',\n",
       "       'num_products_ow_10', 'num_products_ow_30'],\n",
       "      dtype='object')"
      ]
     },
     "execution_count": 13,
     "metadata": {},
     "output_type": "execute_result"
    }
   ],
   "source": [
    "prior_df.columns"
   ]
  },
  {
   "cell_type": "code",
   "execution_count": 14,
   "metadata": {
    "collapsed": true
   },
   "outputs": [],
   "source": [
    "prior_indorder_stats = prior_df.groupby([\"user_id\", \"order_id\"]).agg({'order_dow_sin': np.sum, \n",
    "                                                                'order_dow_cos': np.sum, \n",
    "                                                                'order_hod_sin': np.sum,\n",
    "                                                                'order_hod_cos': np.sum,\n",
    "                                                               'num_products': np.sum,\n",
    "                                                                      'absolute_date': np.max,\n",
    "                                                                     'order_number': np.max}).reset_index()"
   ]
  },
  {
   "cell_type": "code",
   "execution_count": 15,
   "metadata": {
    "collapsed": true
   },
   "outputs": [],
   "source": [
    "prior_individual_stats = prior_indorder_stats.groupby(\"user_id\").agg({'order_dow_sin': np.sum, \n",
    "                                                                'order_dow_cos': np.sum, \n",
    "                                                                'order_hod_sin': np.sum,\n",
    "                                                                'order_hod_cos': np.sum,\n",
    "                                                               'num_products': [np.sum, np.mean],\n",
    "                                                                'absolute_date': np.max,      \n",
    "                                                                'order_number': np.max})"
   ]
  },
  {
   "cell_type": "code",
   "execution_count": 16,
   "metadata": {},
   "outputs": [
    {
     "data": {
      "text/html": [
       "<div>\n",
       "<style>\n",
       "    .dataframe thead tr:only-child th {\n",
       "        text-align: right;\n",
       "    }\n",
       "\n",
       "    .dataframe thead th {\n",
       "        text-align: left;\n",
       "    }\n",
       "\n",
       "    .dataframe tbody tr th {\n",
       "        vertical-align: top;\n",
       "    }\n",
       "</style>\n",
       "<table border=\"1\" class=\"dataframe\">\n",
       "  <thead>\n",
       "    <tr>\n",
       "      <th></th>\n",
       "      <th>order_dow_sin</th>\n",
       "      <th>order_dow_cos</th>\n",
       "      <th>order_hod_sin</th>\n",
       "      <th>order_hod_cos</th>\n",
       "      <th colspan=\"2\" halign=\"left\">num_products</th>\n",
       "      <th>absolute_date</th>\n",
       "      <th>order_number</th>\n",
       "    </tr>\n",
       "    <tr>\n",
       "      <th></th>\n",
       "      <th>sum</th>\n",
       "      <th>sum</th>\n",
       "      <th>sum</th>\n",
       "      <th>sum</th>\n",
       "      <th>sum</th>\n",
       "      <th>mean</th>\n",
       "      <th>amax</th>\n",
       "      <th>amax</th>\n",
       "    </tr>\n",
       "    <tr>\n",
       "      <th>user_id</th>\n",
       "      <th></th>\n",
       "      <th></th>\n",
       "      <th></th>\n",
       "      <th></th>\n",
       "      <th></th>\n",
       "      <th></th>\n",
       "      <th></th>\n",
       "      <th></th>\n",
       "    </tr>\n",
       "  </thead>\n",
       "  <tbody>\n",
       "    <tr>\n",
       "      <th>1</th>\n",
       "      <td>17.292765</td>\n",
       "      <td>-21.135334</td>\n",
       "      <td>23.049860</td>\n",
       "      <td>31.156441</td>\n",
       "      <td>59</td>\n",
       "      <td>5.900000</td>\n",
       "      <td>176.0</td>\n",
       "      <td>10</td>\n",
       "    </tr>\n",
       "    <tr>\n",
       "      <th>2</th>\n",
       "      <td>137.684051</td>\n",
       "      <td>-15.027917</td>\n",
       "      <td>67.978276</td>\n",
       "      <td>-97.021756</td>\n",
       "      <td>195</td>\n",
       "      <td>13.928571</td>\n",
       "      <td>198.0</td>\n",
       "      <td>14</td>\n",
       "    </tr>\n",
       "    <tr>\n",
       "      <th>3</th>\n",
       "      <td>26.495502</td>\n",
       "      <td>35.942886</td>\n",
       "      <td>31.231272</td>\n",
       "      <td>-14.341462</td>\n",
       "      <td>88</td>\n",
       "      <td>7.333333</td>\n",
       "      <td>133.0</td>\n",
       "      <td>12</td>\n",
       "    </tr>\n",
       "    <tr>\n",
       "      <th>4</th>\n",
       "      <td>-11.906919</td>\n",
       "      <td>-6.727365</td>\n",
       "      <td>-1.039639</td>\n",
       "      <td>2.076064</td>\n",
       "      <td>18</td>\n",
       "      <td>3.600000</td>\n",
       "      <td>55.0</td>\n",
       "      <td>5</td>\n",
       "    </tr>\n",
       "    <tr>\n",
       "      <th>5</th>\n",
       "      <td>16.324118</td>\n",
       "      <td>2.066376</td>\n",
       "      <td>-9.325879</td>\n",
       "      <td>-19.766889</td>\n",
       "      <td>37</td>\n",
       "      <td>9.250000</td>\n",
       "      <td>40.0</td>\n",
       "      <td>4</td>\n",
       "    </tr>\n",
       "  </tbody>\n",
       "</table>\n",
       "</div>"
      ],
      "text/plain": [
       "        order_dow_sin order_dow_cos order_hod_sin order_hod_cos num_products  \\\n",
       "                  sum           sum           sum           sum          sum   \n",
       "user_id                                                                        \n",
       "1           17.292765    -21.135334     23.049860     31.156441           59   \n",
       "2          137.684051    -15.027917     67.978276    -97.021756          195   \n",
       "3           26.495502     35.942886     31.231272    -14.341462           88   \n",
       "4          -11.906919     -6.727365     -1.039639      2.076064           18   \n",
       "5           16.324118      2.066376     -9.325879    -19.766889           37   \n",
       "\n",
       "                   absolute_date order_number  \n",
       "              mean          amax         amax  \n",
       "user_id                                        \n",
       "1         5.900000         176.0           10  \n",
       "2        13.928571         198.0           14  \n",
       "3         7.333333         133.0           12  \n",
       "4         3.600000          55.0            5  \n",
       "5         9.250000          40.0            4  "
      ]
     },
     "execution_count": 16,
     "metadata": {},
     "output_type": "execute_result"
    }
   ],
   "source": [
    "prior_individual_stats.head()"
   ]
  },
  {
   "cell_type": "code",
   "execution_count": 17,
   "metadata": {
    "collapsed": true
   },
   "outputs": [],
   "source": [
    "prior_individual_stats.columns = ['order_dow_sin', 'order_dow_cos',\n",
    "                                  'order_hod_sin', 'order_hod_cos', \n",
    "                                   'num_products', 'mean_products', 'max_absolute_date', \"max_order_number\"]"
   ]
  },
  {
   "cell_type": "code",
   "execution_count": 18,
   "metadata": {
    "collapsed": true
   },
   "outputs": [],
   "source": [
    "prior_individual_stats['order_dow_angle'] = np.arctan2(prior_individual_stats.order_dow_sin, prior_individual_stats.order_dow_cos)\n",
    "prior_individual_stats['order_hod_angle'] = np.arctan2(prior_individual_stats.order_hod_sin, prior_individual_stats.order_hod_cos)\n",
    "prior_individual_stats.order_dow_sin = np.sin(prior_individual_stats.order_dow_angle)\n",
    "prior_individual_stats.order_dow_cos = np.cos(prior_individual_stats.order_dow_angle)\n",
    "prior_individual_stats.order_hod_sin = np.sin(prior_individual_stats.order_hod_angle)\n",
    "prior_individual_stats.order_hod_cos = np.cos(prior_individual_stats.order_hod_angle)\n",
    "prior_individual_stats.drop(['order_dow_angle', 'order_hod_angle'], axis=1, inplace=True)"
   ]
  },
  {
   "cell_type": "code",
   "execution_count": 19,
   "metadata": {
    "collapsed": true
   },
   "outputs": [],
   "source": [
    "prior_individual_stats = prior_individual_stats.reset_index()"
   ]
  },
  {
   "cell_type": "code",
   "execution_count": 20,
   "metadata": {},
   "outputs": [
    {
     "data": {
      "text/plain": [
       "Index(['user_id', 'order_dow_sin', 'order_dow_cos', 'order_hod_sin',\n",
       "       'order_hod_cos', 'num_products', 'mean_products', 'max_absolute_date',\n",
       "       'max_order_number'],\n",
       "      dtype='object')"
      ]
     },
     "execution_count": 20,
     "metadata": {},
     "output_type": "execute_result"
    }
   ],
   "source": [
    "prior_individual_stats.columns"
   ]
  },
  {
   "cell_type": "code",
   "execution_count": 21,
   "metadata": {
    "collapsed": true
   },
   "outputs": [],
   "source": [
    "prior_individual_stats.columns = ['user_id', 'user_dow_sin',\n",
    "                                  'user_dow_cos', 'user_hod_sin',\n",
    "                                  'user_hod_cos', 'user_num_products',\n",
    "                                  'user_mean_products', 'user_num_days',\n",
    "                                 'user_num_orders']\n",
    "prior_individual_stats['user_days_per_order'] = prior_individual_stats.user_num_days / prior_individual_stats.user_num_orders"
   ]
  },
  {
   "cell_type": "code",
   "execution_count": 22,
   "metadata": {
    "collapsed": true
   },
   "outputs": [],
   "source": [
    "prior_indorder_stats = prior_indorder_stats[['order_id', 'num_products']]\n",
    "prior_indorder_stats.columns = ['order_id', 'num_products_in_order']"
   ]
  },
  {
   "cell_type": "code",
   "execution_count": 23,
   "metadata": {
    "collapsed": true
   },
   "outputs": [],
   "source": [
    "prior_indprod_stats = (prior_df.merge(prior_indorder_stats[['order_id', 'num_products_in_order']], on='order_id')\n",
    "                       .merge(prior_individual_stats[['user_id', 'user_num_orders', 'user_num_days']], on='user_id', how='left'))\n",
    "prior_indprod_stats['add_to_cart_proportion'] = prior_indprod_stats['add_to_cart_order'] / prior_indprod_stats['num_products_in_order']\n",
    "prior_indprod_stats['indprod_inorder_1'] = 1 * (prior_indprod_stats.order_number == prior_indprod_stats.user_num_orders)\n",
    "prior_indprod_stats['indprod_inorder_2'] = 1 * (prior_indprod_stats.order_number == prior_indprod_stats.user_num_orders - 1)\n",
    "prior_indprod_stats['indprod_inorder_3'] = 1 * (prior_indprod_stats.order_number == prior_indprod_stats.user_num_orders - 2)\n",
    "prior_indprod_stats = prior_indprod_stats.groupby([\"user_id\", \"product_id\"]).agg({'order_dow_sin': np.sum, \n",
    "                                                                'order_dow_cos': np.sum, \n",
    "                                                                'order_hod_sin': np.sum,\n",
    "                                                                'order_hod_cos': np.sum,\n",
    "                                                               'num_products': np.sum,\n",
    "                                                               'num_products_dw_12': np.sum,\n",
    "                                                                'num_products_dw_36': np.sum,\n",
    "                                                                'num_products_dw_108': np.sum,\n",
    "                                                                'num_products_ow_3': np.sum,           \n",
    "                                                                'num_products_ow_10': np.sum,\n",
    "                                                                'num_products_ow_30': np.sum,                  \n",
    "                                                           'add_to_cart_order': np.mean,\n",
    "                                                           'add_to_cart_proportion': np.mean,\n",
    "                                                           'indprod_inorder_1': np.sum,\n",
    "                                                           'indprod_inorder_2': np.sum,\n",
    "                                                           'indprod_inorder_3': np.sum,\n",
    "                                                            'user_num_orders': np.mean,\n",
    "                                                            'user_num_days': np.mean,\n",
    "                                                            'reverse_date': np.min,\n",
    "                                                            'reverse_order_number': np.min}).reset_index()"
   ]
  },
  {
   "cell_type": "code",
   "execution_count": 24,
   "metadata": {
    "collapsed": true
   },
   "outputs": [],
   "source": [
    "prior_indprod_stats['order_dow_angle'] = np.arctan2(prior_indprod_stats.order_dow_sin, prior_indprod_stats.order_dow_cos)\n",
    "prior_indprod_stats['order_hod_angle'] = np.arctan2(prior_indprod_stats.order_hod_sin, prior_indprod_stats.order_hod_cos)\n",
    "prior_indprod_stats['proportion_orders'] = prior_indprod_stats.num_products / (prior_indprod_stats.user_num_orders)\n",
    "prior_indprod_stats['days_per_order'] = prior_indprod_stats.user_num_days / (prior_indprod_stats.num_products)"
   ]
  },
  {
   "cell_type": "code",
   "execution_count": 25,
   "metadata": {
    "collapsed": true
   },
   "outputs": [],
   "source": [
    "prior_indprod_stats.order_dow_sin = np.sin(prior_indprod_stats.order_dow_angle)\n",
    "prior_indprod_stats.order_dow_cos = np.cos(prior_indprod_stats.order_dow_angle)\n",
    "prior_indprod_stats.order_hod_sin = np.sin(prior_indprod_stats.order_hod_angle)\n",
    "prior_indprod_stats.order_hod_cos = np.cos(prior_indprod_stats.order_hod_angle)\n",
    "prior_indprod_stats.drop(['order_dow_angle', 'order_hod_angle', 'user_num_orders', 'user_num_days'], axis=1, inplace=True)"
   ]
  },
  {
   "cell_type": "code",
   "execution_count": 26,
   "metadata": {},
   "outputs": [
    {
     "data": {
      "text/html": [
       "<div>\n",
       "<style>\n",
       "    .dataframe thead tr:only-child th {\n",
       "        text-align: right;\n",
       "    }\n",
       "\n",
       "    .dataframe thead th {\n",
       "        text-align: left;\n",
       "    }\n",
       "\n",
       "    .dataframe tbody tr th {\n",
       "        vertical-align: top;\n",
       "    }\n",
       "</style>\n",
       "<table border=\"1\" class=\"dataframe\">\n",
       "  <thead>\n",
       "    <tr style=\"text-align: right;\">\n",
       "      <th></th>\n",
       "      <th>user_id</th>\n",
       "      <th>product_id</th>\n",
       "      <th>order_dow_sin</th>\n",
       "      <th>order_dow_cos</th>\n",
       "      <th>order_hod_sin</th>\n",
       "      <th>order_hod_cos</th>\n",
       "      <th>num_products</th>\n",
       "      <th>num_products_dw_12</th>\n",
       "      <th>num_products_dw_36</th>\n",
       "      <th>num_products_dw_108</th>\n",
       "      <th>...</th>\n",
       "      <th>num_products_ow_30</th>\n",
       "      <th>add_to_cart_order</th>\n",
       "      <th>add_to_cart_proportion</th>\n",
       "      <th>indprod_inorder_1</th>\n",
       "      <th>indprod_inorder_2</th>\n",
       "      <th>indprod_inorder_3</th>\n",
       "      <th>reverse_date</th>\n",
       "      <th>reverse_order_number</th>\n",
       "      <th>proportion_orders</th>\n",
       "      <th>days_per_order</th>\n",
       "    </tr>\n",
       "  </thead>\n",
       "  <tbody>\n",
       "    <tr>\n",
       "      <th>0</th>\n",
       "      <td>1</td>\n",
       "      <td>196</td>\n",
       "      <td>0.781831</td>\n",
       "      <td>-0.623490</td>\n",
       "      <td>0.537968</td>\n",
       "      <td>0.842965</td>\n",
       "      <td>10</td>\n",
       "      <td>0.653678</td>\n",
       "      <td>2.527365</td>\n",
       "      <td>5.695093</td>\n",
       "      <td>...</td>\n",
       "      <td>8.826064</td>\n",
       "      <td>1.400000</td>\n",
       "      <td>0.245278</td>\n",
       "      <td>1</td>\n",
       "      <td>1</td>\n",
       "      <td>1</td>\n",
       "      <td>14.0</td>\n",
       "      <td>1</td>\n",
       "      <td>1.0</td>\n",
       "      <td>17.600000</td>\n",
       "    </tr>\n",
       "    <tr>\n",
       "      <th>1</th>\n",
       "      <td>1</td>\n",
       "      <td>10258</td>\n",
       "      <td>0.710747</td>\n",
       "      <td>-0.703448</td>\n",
       "      <td>0.484836</td>\n",
       "      <td>0.874605</td>\n",
       "      <td>9</td>\n",
       "      <td>0.653661</td>\n",
       "      <td>2.501588</td>\n",
       "      <td>5.399693</td>\n",
       "      <td>...</td>\n",
       "      <td>8.032364</td>\n",
       "      <td>3.333333</td>\n",
       "      <td>0.562037</td>\n",
       "      <td>1</td>\n",
       "      <td>1</td>\n",
       "      <td>1</td>\n",
       "      <td>14.0</td>\n",
       "      <td>1</td>\n",
       "      <td>0.9</td>\n",
       "      <td>19.555556</td>\n",
       "    </tr>\n",
       "    <tr>\n",
       "      <th>2</th>\n",
       "      <td>1</td>\n",
       "      <td>10326</td>\n",
       "      <td>-0.433884</td>\n",
       "      <td>-0.900969</td>\n",
       "      <td>0.781831</td>\n",
       "      <td>0.623490</td>\n",
       "      <td>1</td>\n",
       "      <td>0.003687</td>\n",
       "      <td>0.154487</td>\n",
       "      <td>0.536575</td>\n",
       "      <td>...</td>\n",
       "      <td>0.870551</td>\n",
       "      <td>5.000000</td>\n",
       "      <td>0.625000</td>\n",
       "      <td>0</td>\n",
       "      <td>0</td>\n",
       "      <td>0</td>\n",
       "      <td>97.0</td>\n",
       "      <td>6</td>\n",
       "      <td>0.1</td>\n",
       "      <td>176.000000</td>\n",
       "    </tr>\n",
       "    <tr>\n",
       "      <th>3</th>\n",
       "      <td>1</td>\n",
       "      <td>12427</td>\n",
       "      <td>0.781831</td>\n",
       "      <td>-0.623490</td>\n",
       "      <td>0.537968</td>\n",
       "      <td>0.842965</td>\n",
       "      <td>10</td>\n",
       "      <td>0.653678</td>\n",
       "      <td>2.527365</td>\n",
       "      <td>5.695093</td>\n",
       "      <td>...</td>\n",
       "      <td>8.826064</td>\n",
       "      <td>3.300000</td>\n",
       "      <td>0.541667</td>\n",
       "      <td>1</td>\n",
       "      <td>1</td>\n",
       "      <td>1</td>\n",
       "      <td>14.0</td>\n",
       "      <td>1</td>\n",
       "      <td>1.0</td>\n",
       "      <td>17.600000</td>\n",
       "    </tr>\n",
       "    <tr>\n",
       "      <th>4</th>\n",
       "      <td>1</td>\n",
       "      <td>13032</td>\n",
       "      <td>0.552838</td>\n",
       "      <td>-0.833289</td>\n",
       "      <td>0.781831</td>\n",
       "      <td>0.623490</td>\n",
       "      <td>3</td>\n",
       "      <td>0.480567</td>\n",
       "      <td>1.125472</td>\n",
       "      <td>1.928503</td>\n",
       "      <td>...</td>\n",
       "      <td>2.701135</td>\n",
       "      <td>6.333333</td>\n",
       "      <td>0.962963</td>\n",
       "      <td>1</td>\n",
       "      <td>0</td>\n",
       "      <td>0</td>\n",
       "      <td>14.0</td>\n",
       "      <td>1</td>\n",
       "      <td>0.3</td>\n",
       "      <td>58.666667</td>\n",
       "    </tr>\n",
       "  </tbody>\n",
       "</table>\n",
       "<p>5 rows × 22 columns</p>\n",
       "</div>"
      ],
      "text/plain": [
       "   user_id  product_id  order_dow_sin  order_dow_cos  order_hod_sin  \\\n",
       "0        1         196       0.781831      -0.623490       0.537968   \n",
       "1        1       10258       0.710747      -0.703448       0.484836   \n",
       "2        1       10326      -0.433884      -0.900969       0.781831   \n",
       "3        1       12427       0.781831      -0.623490       0.537968   \n",
       "4        1       13032       0.552838      -0.833289       0.781831   \n",
       "\n",
       "   order_hod_cos  num_products  num_products_dw_12  num_products_dw_36  \\\n",
       "0       0.842965            10            0.653678            2.527365   \n",
       "1       0.874605             9            0.653661            2.501588   \n",
       "2       0.623490             1            0.003687            0.154487   \n",
       "3       0.842965            10            0.653678            2.527365   \n",
       "4       0.623490             3            0.480567            1.125472   \n",
       "\n",
       "   num_products_dw_108       ...        num_products_ow_30  add_to_cart_order  \\\n",
       "0             5.695093       ...                  8.826064           1.400000   \n",
       "1             5.399693       ...                  8.032364           3.333333   \n",
       "2             0.536575       ...                  0.870551           5.000000   \n",
       "3             5.695093       ...                  8.826064           3.300000   \n",
       "4             1.928503       ...                  2.701135           6.333333   \n",
       "\n",
       "   add_to_cart_proportion  indprod_inorder_1  indprod_inorder_2  \\\n",
       "0                0.245278                  1                  1   \n",
       "1                0.562037                  1                  1   \n",
       "2                0.625000                  0                  0   \n",
       "3                0.541667                  1                  1   \n",
       "4                0.962963                  1                  0   \n",
       "\n",
       "   indprod_inorder_3  reverse_date  reverse_order_number  proportion_orders  \\\n",
       "0                  1          14.0                     1                1.0   \n",
       "1                  1          14.0                     1                0.9   \n",
       "2                  0          97.0                     6                0.1   \n",
       "3                  1          14.0                     1                1.0   \n",
       "4                  0          14.0                     1                0.3   \n",
       "\n",
       "   days_per_order  \n",
       "0       17.600000  \n",
       "1       19.555556  \n",
       "2      176.000000  \n",
       "3       17.600000  \n",
       "4       58.666667  \n",
       "\n",
       "[5 rows x 22 columns]"
      ]
     },
     "execution_count": 26,
     "metadata": {},
     "output_type": "execute_result"
    }
   ],
   "source": [
    "prior_indprod_stats.head()"
   ]
  },
  {
   "cell_type": "code",
   "execution_count": 27,
   "metadata": {
    "collapsed": true
   },
   "outputs": [],
   "source": [
    "prior_indprod_stats.columns = ['user_id', 'product_id', 'indprod_dow_sin', \n",
    "                               'indprod_dow_cos', 'indprod_hod_sin',\n",
    "                               'indprod_hod_cos', 'indprod_num_products',\n",
    "                               'indprod_num_products_dw_12', 'indprod_num_products_dw_36', \n",
    "                               'indprod_num_products_dw_108', 'indprod_num_products_ow_3',\n",
    "                               'indprod_num_products_ow_10', 'indprod_num_products_ow_30',\n",
    "                               'indprod_add_to_cart_order', 'indprod_add_to_cart_proportion',\n",
    "                               'indprod_inorder_1', 'indprod_inorder_2', 'indprod_inorder_3',\n",
    "                               'indprod_days_since_last', 'indprod_orders_since_last',\n",
    "                                'indprod_proportion_orders', 'indprod_days_per_order']"
   ]
  },
  {
   "cell_type": "code",
   "execution_count": 28,
   "metadata": {
    "collapsed": true
   },
   "outputs": [],
   "source": [
    "# use indprod means to add more product stats\n",
    "product_order_proportions = (prior_indprod_stats[['user_id', 'product_id', \n",
    "                                                  'indprod_proportion_orders', 'indprod_days_per_order']]\n",
    "                             .groupby(\"product_id\")\n",
    "                             .agg({'indprod_proportion_orders': np.mean,\n",
    "                                  'indprod_days_per_order': np.mean})).reset_index()\n",
    "product_order_proportions.columns = ['product_id', 'product_proportion_orders', 'product_days_per_order']\n",
    "prior_product_stats = prior_product_stats.merge(product_order_proportions, on='product_id')"
   ]
  },
  {
   "cell_type": "code",
   "execution_count": 29,
   "metadata": {},
   "outputs": [
    {
     "data": {
      "text/html": [
       "<div>\n",
       "<style>\n",
       "    .dataframe thead tr:only-child th {\n",
       "        text-align: right;\n",
       "    }\n",
       "\n",
       "    .dataframe thead th {\n",
       "        text-align: left;\n",
       "    }\n",
       "\n",
       "    .dataframe tbody tr th {\n",
       "        vertical-align: top;\n",
       "    }\n",
       "</style>\n",
       "<table border=\"1\" class=\"dataframe\">\n",
       "  <thead>\n",
       "    <tr style=\"text-align: right;\">\n",
       "      <th></th>\n",
       "      <th>product_id</th>\n",
       "      <th>product_dow_sin</th>\n",
       "      <th>product_dow_cos</th>\n",
       "      <th>product_hod_sin</th>\n",
       "      <th>product_hod_cos</th>\n",
       "      <th>product_num_purchases</th>\n",
       "      <th>product_proportion_orders</th>\n",
       "      <th>product_days_per_order</th>\n",
       "    </tr>\n",
       "  </thead>\n",
       "  <tbody>\n",
       "    <tr>\n",
       "      <th>0</th>\n",
       "      <td>1</td>\n",
       "      <td>0.854703</td>\n",
       "      <td>-0.519117</td>\n",
       "      <td>0.918258</td>\n",
       "      <td>-0.395984</td>\n",
       "      <td>1852</td>\n",
       "      <td>0.151142</td>\n",
       "      <td>150.134253</td>\n",
       "    </tr>\n",
       "    <tr>\n",
       "      <th>1</th>\n",
       "      <td>2</td>\n",
       "      <td>-0.103839</td>\n",
       "      <td>0.994594</td>\n",
       "      <td>0.417505</td>\n",
       "      <td>-0.908675</td>\n",
       "      <td>90</td>\n",
       "      <td>0.060412</td>\n",
       "      <td>225.976496</td>\n",
       "    </tr>\n",
       "    <tr>\n",
       "      <th>2</th>\n",
       "      <td>3</td>\n",
       "      <td>0.266320</td>\n",
       "      <td>0.963885</td>\n",
       "      <td>0.970072</td>\n",
       "      <td>-0.242819</td>\n",
       "      <td>277</td>\n",
       "      <td>0.187863</td>\n",
       "      <td>121.497409</td>\n",
       "    </tr>\n",
       "    <tr>\n",
       "      <th>3</th>\n",
       "      <td>4</td>\n",
       "      <td>-0.007467</td>\n",
       "      <td>0.999972</td>\n",
       "      <td>0.999374</td>\n",
       "      <td>-0.035387</td>\n",
       "      <td>329</td>\n",
       "      <td>0.183989</td>\n",
       "      <td>135.010912</td>\n",
       "    </tr>\n",
       "    <tr>\n",
       "      <th>4</th>\n",
       "      <td>5</td>\n",
       "      <td>0.124570</td>\n",
       "      <td>0.992211</td>\n",
       "      <td>-0.655405</td>\n",
       "      <td>-0.755277</td>\n",
       "      <td>15</td>\n",
       "      <td>0.164969</td>\n",
       "      <td>92.583333</td>\n",
       "    </tr>\n",
       "  </tbody>\n",
       "</table>\n",
       "</div>"
      ],
      "text/plain": [
       "   product_id  product_dow_sin  product_dow_cos  product_hod_sin  \\\n",
       "0           1         0.854703        -0.519117         0.918258   \n",
       "1           2        -0.103839         0.994594         0.417505   \n",
       "2           3         0.266320         0.963885         0.970072   \n",
       "3           4        -0.007467         0.999972         0.999374   \n",
       "4           5         0.124570         0.992211        -0.655405   \n",
       "\n",
       "   product_hod_cos  product_num_purchases  product_proportion_orders  \\\n",
       "0        -0.395984                   1852                   0.151142   \n",
       "1        -0.908675                     90                   0.060412   \n",
       "2        -0.242819                    277                   0.187863   \n",
       "3        -0.035387                    329                   0.183989   \n",
       "4        -0.755277                     15                   0.164969   \n",
       "\n",
       "   product_days_per_order  \n",
       "0              150.134253  \n",
       "1              225.976496  \n",
       "2              121.497409  \n",
       "3              135.010912  \n",
       "4               92.583333  "
      ]
     },
     "execution_count": 29,
     "metadata": {},
     "output_type": "execute_result"
    }
   ],
   "source": [
    "prior_product_stats.head()"
   ]
  },
  {
   "cell_type": "code",
   "execution_count": 30,
   "metadata": {
    "collapsed": true
   },
   "outputs": [],
   "source": [
    "prior_all_stats = prior_indprod_stats.merge(prior_individual_stats, on=\"user_id\", how=\"left\").merge(prior_product_stats, on='product_id', how=\"left\")"
   ]
  },
  {
   "cell_type": "code",
   "execution_count": 31,
   "metadata": {
    "collapsed": true
   },
   "outputs": [],
   "source": [
    "orders_df_last = orders_df[orders_df.eval_set != \"prior\"].copy()\n",
    "orders_df_last['order_dow_angle'] = (orders_df_last.order_dow / \n",
    "                                     (orders_df_last.order_dow.max() + 1) * 2 * np.pi - np.pi)\n",
    "orders_df_last['order_hod_angle'] = (orders_df_last.order_hour_of_day / \n",
    "                                             (orders_df_last.order_dow.max() + 1) * 2 * np.pi - np.pi)\n",
    "orders_df_last['order_dow_sin'] = np.sin(orders_df_last.order_dow_angle)\n",
    "orders_df_last['order_dow_cos'] = np.cos(orders_df_last.order_dow_angle)\n",
    "orders_df_last['order_hod_sin'] = np.sin(orders_df_last.order_hod_angle)\n",
    "orders_df_last['order_hod_cos'] = np.cos(orders_df_last.order_hod_angle)"
   ]
  },
  {
   "cell_type": "code",
   "execution_count": 32,
   "metadata": {
    "collapsed": true
   },
   "outputs": [],
   "source": [
    "orders_df_last.drop([\"order_number\", \"order_dow\", \"order_hour_of_day\", \"order_dow_angle\", \"order_hod_angle\"], axis=1, inplace=True)"
   ]
  },
  {
   "cell_type": "code",
   "execution_count": 33,
   "metadata": {
    "collapsed": true
   },
   "outputs": [],
   "source": [
    "prior_all_stats = prior_all_stats.merge(orders_df_last, on=\"user_id\", how=\"inner\")"
   ]
  },
  {
   "cell_type": "code",
   "execution_count": 34,
   "metadata": {
    "collapsed": true
   },
   "outputs": [],
   "source": [
    "products_df_merged = products_df_merged.join(pd.get_dummies(products_df_merged.aisle))"
   ]
  },
  {
   "cell_type": "code",
   "execution_count": 35,
   "metadata": {
    "collapsed": true
   },
   "outputs": [],
   "source": [
    "products_df_merged.drop(['product_name', 'aisle_id', 'department_id', 'department', 'aisle'], axis=1, inplace=True)"
   ]
  },
  {
   "cell_type": "code",
   "execution_count": 36,
   "metadata": {
    "collapsed": true
   },
   "outputs": [],
   "source": [
    "prior_all_stats = prior_all_stats.merge(products_df_merged, on=\"product_id\")"
   ]
  },
  {
   "cell_type": "code",
   "execution_count": 37,
   "metadata": {
    "collapsed": true
   },
   "outputs": [],
   "source": [
    "prior_all_stats = prior_all_stats.merge(train_df[['user_id', 'product_id', 'reordered']], how=\"left\", on=[\"user_id\", \"product_id\"])\n",
    "prior_all_stats.reordered = prior_all_stats.reordered.fillna(0)                  \n"
   ]
  },
  {
   "cell_type": "code",
   "execution_count": 38,
   "metadata": {
    "collapsed": true
   },
   "outputs": [],
   "source": [
    "# split into train, validation, and test sets\n",
    "prior_all_stats['validation_set'] = 0\n",
    "prior_all_stats['prediction'] = 0\n",
    "valid_users = prior_all_stats.loc[prior_all_stats.eval_set == \"train\", \"user_id\"].unique()\n",
    "valid_users = pd.Series(valid_users).sample(frac=.1)\n"
   ]
  },
  {
   "cell_type": "code",
   "execution_count": 39,
   "metadata": {
    "collapsed": true
   },
   "outputs": [],
   "source": [
    "prior_all_stats.loc[prior_all_stats.user_id.isin(valid_users), 'validation_set'] = 1\n"
   ]
  },
  {
   "cell_type": "code",
   "execution_count": 40,
   "metadata": {
    "collapsed": true
   },
   "outputs": [],
   "source": [
    "\n",
    "prior_train = prior_all_stats.loc[(prior_all_stats.eval_set == \"train\") & (prior_all_stats.validation_set == 0)]\n",
    "prior_valid = prior_all_stats.loc[prior_all_stats.validation_set == 1]\n",
    "prior_test = prior_all_stats.loc[prior_all_stats.eval_set == \"test\"]\n",
    "\n",
    "X_train = prior_train.drop([\"prediction\", \"eval_set\", \"validation_set\", \"order_id\", \"reordered\", \"user_id\", \"product_id\"], axis=1).as_matrix()\n",
    "y_train = prior_train.reordered.as_matrix()\n",
    "X_valid = prior_valid.drop([\"prediction\", \"eval_set\", \"validation_set\", \"order_id\", \"reordered\", \"user_id\", \"product_id\"], axis=1).as_matrix()\n",
    "y_valid = prior_valid.reordered.as_matrix()\n",
    "X_test = prior_test.drop([\"prediction\", \"eval_set\", \"validation_set\", \"order_id\", \"reordered\", \"user_id\", \"product_id\"], axis=1).as_matrix()"
   ]
  },
  {
   "cell_type": "code",
   "execution_count": 41,
   "metadata": {
    "collapsed": true
   },
   "outputs": [],
   "source": [
    "import xgboost as xgb"
   ]
  },
  {
   "cell_type": "code",
   "execution_count": 42,
   "metadata": {},
   "outputs": [
    {
     "name": "stdout",
     "output_type": "stream",
     "text": [
      "[0]\ttrain-auc:0.823477\tvalid-auc:0.821979\n",
      "Multiple eval metrics have been passed: 'valid-auc' will be used for early stopping.\n",
      "\n",
      "Will train until valid-auc hasn't improved in 50 rounds.\n",
      "[10]\ttrain-auc:0.827432\tvalid-auc:0.825496\n",
      "[20]\ttrain-auc:0.828911\tvalid-auc:0.826925\n",
      "[30]\ttrain-auc:0.830239\tvalid-auc:0.828104\n",
      "[40]\ttrain-auc:0.831434\tvalid-auc:0.829168\n",
      "[50]\ttrain-auc:0.832322\tvalid-auc:0.830005\n",
      "[60]\ttrain-auc:0.833089\tvalid-auc:0.830559\n",
      "[70]\ttrain-auc:0.833614\tvalid-auc:0.830936\n",
      "[80]\ttrain-auc:0.834052\tvalid-auc:0.831192\n",
      "[90]\ttrain-auc:0.834441\tvalid-auc:0.831436\n",
      "[100]\ttrain-auc:0.834738\tvalid-auc:0.831576\n",
      "[110]\ttrain-auc:0.835027\tvalid-auc:0.831715\n",
      "[120]\ttrain-auc:0.835298\tvalid-auc:0.831839\n",
      "[130]\ttrain-auc:0.835565\tvalid-auc:0.83198\n",
      "[140]\ttrain-auc:0.835762\tvalid-auc:0.832061\n",
      "[150]\ttrain-auc:0.836032\tvalid-auc:0.832205\n",
      "[160]\ttrain-auc:0.836243\tvalid-auc:0.832291\n",
      "[170]\ttrain-auc:0.836451\tvalid-auc:0.83236\n",
      "[180]\ttrain-auc:0.836649\tvalid-auc:0.832438\n",
      "[190]\ttrain-auc:0.83686\tvalid-auc:0.832511\n",
      "[199]\ttrain-auc:0.837016\tvalid-auc:0.832556\n",
      "CPU times: user 5h 27min 46s, sys: 19min 17s, total: 5h 47min 3s\n",
      "Wall time: 42min 41s\n"
     ]
    }
   ],
   "source": [
    "%%time\n",
    "# Set our parameters for xgboost\n",
    "params = {}\n",
    "params['objective'] = 'binary:logistic'\n",
    "params['eval_metric'] = 'auc'\n",
    "params['eta'] = 0.1\n",
    "params['max_depth'] = 6\n",
    "params['nthread'] = 12\n",
    "# params['scale_pos_weight'] = (1 - y_train.mean())/(y_train.mean())\n",
    "\n",
    "d_train = xgb.DMatrix(X_train, label=y_train)\n",
    "d_valid = xgb.DMatrix(X_valid, label=y_valid)\n",
    "\n",
    "watchlist = [(d_train, 'train'), (d_valid, 'valid')]\n",
    "\n",
    "bst = xgb.train(params, d_train, 200, watchlist, early_stopping_rounds=50, verbose_eval=10)"
   ]
  },
  {
   "cell_type": "code",
   "execution_count": 43,
   "metadata": {
    "collapsed": true
   },
   "outputs": [],
   "source": [
    "bst.save_model('dump_addtime.model')"
   ]
  },
  {
   "cell_type": "code",
   "execution_count": 44,
   "metadata": {},
   "outputs": [],
   "source": [
    "bst2 = xgb.Booster().load_model('dump_addtime.model')"
   ]
  },
  {
   "cell_type": "code",
   "execution_count": 45,
   "metadata": {
    "collapsed": true
   },
   "outputs": [],
   "source": [
    "y_predicted = bst.predict(d_valid)"
   ]
  },
  {
   "cell_type": "code",
   "execution_count": 46,
   "metadata": {
    "collapsed": true
   },
   "outputs": [],
   "source": [
    "prior_valid = prior_valid.copy()"
   ]
  },
  {
   "cell_type": "code",
   "execution_count": 74,
   "metadata": {},
   "outputs": [
    {
     "name": "stdout",
     "output_type": "stream",
     "text": [
      "0.185\n",
      "0.068\n",
      "0.389738163363\n"
     ]
    }
   ],
   "source": [
    "best_reorder_cutoff = 0\n",
    "best_cutoff_f1 = 0\n",
    "best_none_cutoff = 0\n",
    "for reorder_cutoff in np.arange(.1, .4, .005):\n",
    "    prior_valid.loc[:,'prediction'] = 1 * (y_predicted > reorder_cutoff)\n",
    "    prior_valid['p_not'] = 1 - y_predicted\n",
    "    prior_valid['hit'] = (prior_valid.reordered * prior_valid.prediction)\n",
    "    prior_valid_agg = prior_valid.groupby(\"user_id\").agg({'reordered': np.sum, \n",
    "                                                      'prediction': np.sum, \n",
    "                                                      'hit': np.sum,\n",
    "                                                         'p_not': np.prod})\n",
    "    for none_cutoff in np.arange(0, .1, .002):\n",
    "        prior_valid_agg['putnone'] = (prior_valid_agg.p_not > none_cutoff) | (prior_valid_agg.prediction == 0)\n",
    "        #prior_valid_agg['putnone'] = (prior_valid_agg.prediction == 0)\n",
    "        prior_valid_agg['truenone'] = (prior_valid_agg.reordered == 0)\n",
    "        prior_valid_agg['r'] = prior_valid_agg.reordered\n",
    "        prior_valid_agg['p'] = prior_valid_agg.prediction\n",
    "        prior_valid_agg['h'] = prior_valid_agg.hit\n",
    "        prior_valid_agg.loc[prior_valid_agg.putnone & prior_valid_agg.truenone, \"h\"] = 1\n",
    "        prior_valid_agg.loc[prior_valid_agg.putnone, 'p'] = prior_valid_agg.loc[prior_valid_agg.putnone, 'p'] + 1\n",
    "        prior_valid_agg.loc[prior_valid_agg.truenone, 'r'] = prior_valid_agg.loc[prior_valid_agg.truenone, 'r'] + 1\n",
    "        #prior_valid_agg.loc[(prior_valid_agg.reordered == 0), 'reordered'] = 1\n",
    "        #prior_valid_agg.loc[(prior_valid_agg.prediction == 0), 'prediction'] = 1\n",
    "        prior_valid_agg['precision'] = (prior_valid_agg['h']) / (prior_valid_agg['p'])\n",
    "        prior_valid_agg['recall'] = (prior_valid_agg['h']) / (prior_valid_agg['r'])\n",
    "        prior_valid_agg['f1'] = 2 * prior_valid_agg['precision'] * prior_valid_agg['recall'] / (prior_valid_agg['precision'] + prior_valid_agg['recall'] + .000001)\n",
    "        if prior_valid_agg['f1'].mean() > best_cutoff_f1:\n",
    "            best_cutoff_f1 = prior_valid_agg['f1'].mean()\n",
    "            best_reorder_cutoff = reorder_cutoff\n",
    "            best_none_cutoff = none_cutoff\n",
    "print(best_reorder_cutoff)\n",
    "print(best_none_cutoff)\n",
    "print(best_cutoff_f1)"
   ]
  },
  {
   "cell_type": "code",
   "execution_count": 75,
   "metadata": {},
   "outputs": [
    {
     "data": {
      "text/plain": [
       "0.15463760384117065"
      ]
     },
     "execution_count": 75,
     "metadata": {},
     "output_type": "execute_result"
    }
   ],
   "source": [
    "(prior_valid_agg.p_not > .068).mean()"
   ]
  },
  {
   "cell_type": "code",
   "execution_count": 49,
   "metadata": {
    "collapsed": true
   },
   "outputs": [],
   "source": [
    "d_test = xgb.DMatrix(X_test)\n",
    "y_test = bst.predict(d_test)"
   ]
  },
  {
   "cell_type": "code",
   "execution_count": 76,
   "metadata": {},
   "outputs": [],
   "source": [
    "prior_test = prior_test.copy()\n",
    "prior_test['prediction'] = 1 * (y_test > best_reorder_cutoff)\n",
    "prior_test['p_not'] = 1 - y_test"
   ]
  },
  {
   "cell_type": "code",
   "execution_count": 77,
   "metadata": {},
   "outputs": [],
   "source": [
    "writenone_df = prior_test.groupby('order_id').agg({'p_not': np.prod, 'prediction': np.sum}).reset_index()"
   ]
  },
  {
   "cell_type": "code",
   "execution_count": 78,
   "metadata": {
    "collapsed": true
   },
   "outputs": [],
   "source": [
    "writenone_df['putnone'] = (writenone_df.p_not > best_none_cutoff) | (writenone_df.prediction == 0)\n",
    "writenone_df['nonestring'] = ''\n",
    "writenone_df.loc[writenone_df.putnone, 'nonestring'] = 'None'"
   ]
  },
  {
   "cell_type": "code",
   "execution_count": 79,
   "metadata": {},
   "outputs": [
    {
     "data": {
      "text/plain": [
       "        63227\n",
       "None    11773\n",
       "Name: nonestring, dtype: int64"
      ]
     },
     "execution_count": 79,
     "metadata": {},
     "output_type": "execute_result"
    }
   ],
   "source": [
    "writenone_df.nonestring.value_counts()"
   ]
  },
  {
   "cell_type": "code",
   "execution_count": 80,
   "metadata": {
    "collapsed": true
   },
   "outputs": [],
   "source": [
    "prediction_df = prior_test[prior_test['prediction'] == 1].copy()"
   ]
  },
  {
   "cell_type": "code",
   "execution_count": 81,
   "metadata": {
    "collapsed": true
   },
   "outputs": [],
   "source": [
    "prediction_df = prediction_df[['order_id', 'product_id']]"
   ]
  },
  {
   "cell_type": "code",
   "execution_count": 82,
   "metadata": {
    "collapsed": true
   },
   "outputs": [],
   "source": [
    "prediction_lists = prediction_df.groupby('order_id').agg(lambda x: \" \".join(x.astype(str))).reset_index()"
   ]
  },
  {
   "cell_type": "code",
   "execution_count": 83,
   "metadata": {
    "collapsed": true
   },
   "outputs": [],
   "source": [
    "prediction_lists = prediction_lists.merge(writenone_df[['order_id', 'nonestring']], on='order_id', how='right')"
   ]
  },
  {
   "cell_type": "code",
   "execution_count": 84,
   "metadata": {},
   "outputs": [],
   "source": [
    "prediction_lists['products'] = prediction_lists.product_id.fillna('')"
   ]
  },
  {
   "cell_type": "code",
   "execution_count": 85,
   "metadata": {
    "collapsed": true
   },
   "outputs": [],
   "source": [
    "prediction_lists['products'] = prediction_lists.products + \" \" + prediction_lists.nonestring"
   ]
  },
  {
   "cell_type": "code",
   "execution_count": 86,
   "metadata": {
    "collapsed": true
   },
   "outputs": [],
   "source": [
    "prediction_lists = prediction_lists[['order_id', 'products']]"
   ]
  },
  {
   "cell_type": "code",
   "execution_count": 87,
   "metadata": {},
   "outputs": [
    {
     "data": {
      "text/html": [
       "<div>\n",
       "<style>\n",
       "    .dataframe thead tr:only-child th {\n",
       "        text-align: right;\n",
       "    }\n",
       "\n",
       "    .dataframe thead th {\n",
       "        text-align: left;\n",
       "    }\n",
       "\n",
       "    .dataframe tbody tr th {\n",
       "        vertical-align: top;\n",
       "    }\n",
       "</style>\n",
       "<table border=\"1\" class=\"dataframe\">\n",
       "  <thead>\n",
       "    <tr style=\"text-align: right;\">\n",
       "      <th></th>\n",
       "      <th>order_id</th>\n",
       "      <th>products</th>\n",
       "    </tr>\n",
       "  </thead>\n",
       "  <tbody>\n",
       "    <tr>\n",
       "      <th>0</th>\n",
       "      <td>17</td>\n",
       "      <td>21709 47766 21463 13107 None</td>\n",
       "    </tr>\n",
       "    <tr>\n",
       "      <th>1</th>\n",
       "      <td>34</td>\n",
       "      <td>13176 47766 47792 21137 48523 44632 43504 3918...</td>\n",
       "    </tr>\n",
       "    <tr>\n",
       "      <th>2</th>\n",
       "      <td>137</td>\n",
       "      <td>41787 24852 5134 38689 25890 2326 23794</td>\n",
       "    </tr>\n",
       "    <tr>\n",
       "      <th>3</th>\n",
       "      <td>182</td>\n",
       "      <td>47209 11520 39275 13629 47672 5479 33000 41149...</td>\n",
       "    </tr>\n",
       "    <tr>\n",
       "      <th>4</th>\n",
       "      <td>257</td>\n",
       "      <td>49235 24852 27966 37646 21137 13870 24838 2710...</td>\n",
       "    </tr>\n",
       "    <tr>\n",
       "      <th>5</th>\n",
       "      <td>313</td>\n",
       "      <td>21903 45007 13198 30391 28535 47626 46906 2589...</td>\n",
       "    </tr>\n",
       "    <tr>\n",
       "      <th>6</th>\n",
       "      <td>353</td>\n",
       "      <td>21137 33000 35561 48183 40688 None</td>\n",
       "    </tr>\n",
       "    <tr>\n",
       "      <th>7</th>\n",
       "      <td>386</td>\n",
       "      <td>30450 22124 24852 45066 47766 21903 42265 4920...</td>\n",
       "    </tr>\n",
       "    <tr>\n",
       "      <th>8</th>\n",
       "      <td>414</td>\n",
       "      <td>21376 21709 14947 44632 19006 27845 31215 4472...</td>\n",
       "    </tr>\n",
       "    <tr>\n",
       "      <th>9</th>\n",
       "      <td>418</td>\n",
       "      <td>30489 47766 41950 45364 40268 1503 13702 5262 ...</td>\n",
       "    </tr>\n",
       "    <tr>\n",
       "      <th>10</th>\n",
       "      <td>437</td>\n",
       "      <td>13176 16797 27966 47209 10132 26790 5769 45106...</td>\n",
       "    </tr>\n",
       "    <tr>\n",
       "      <th>11</th>\n",
       "      <td>452</td>\n",
       "      <td>13176 27966 36735 47209 21137 36606 19019 4463...</td>\n",
       "    </tr>\n",
       "    <tr>\n",
       "      <th>12</th>\n",
       "      <td>492</td>\n",
       "      <td>24852 28918 21137 21903 25146 26604 8424 4799 ...</td>\n",
       "    </tr>\n",
       "    <tr>\n",
       "      <th>13</th>\n",
       "      <td>497</td>\n",
       "      <td>1831 31964 27275 39947</td>\n",
       "    </tr>\n",
       "    <tr>\n",
       "      <th>14</th>\n",
       "      <td>517</td>\n",
       "      <td>24852 37646 9387 21903 8518 8424 38293 48679 1...</td>\n",
       "    </tr>\n",
       "    <tr>\n",
       "      <th>15</th>\n",
       "      <td>604</td>\n",
       "      <td>13176 16797 24852 24838 12099 31720 19660</td>\n",
       "    </tr>\n",
       "    <tr>\n",
       "      <th>16</th>\n",
       "      <td>680</td>\n",
       "      <td>47977 30353 7693 27275 30441 14836 7743</td>\n",
       "    </tr>\n",
       "    <tr>\n",
       "      <th>17</th>\n",
       "      <td>758</td>\n",
       "      <td>651 19660 None</td>\n",
       "    </tr>\n",
       "    <tr>\n",
       "      <th>18</th>\n",
       "      <td>759</td>\n",
       "      <td>24852 47766 26209 47626 5612 24427 1752 14651 ...</td>\n",
       "    </tr>\n",
       "    <tr>\n",
       "      <th>19</th>\n",
       "      <td>887</td>\n",
       "      <td>24852 21137 49683 39275 41290 28204 28993 2564...</td>\n",
       "    </tr>\n",
       "  </tbody>\n",
       "</table>\n",
       "</div>"
      ],
      "text/plain": [
       "    order_id                                           products\n",
       "0         17                       21709 47766 21463 13107 None\n",
       "1         34  13176 47766 47792 21137 48523 44632 43504 3918...\n",
       "2        137           41787 24852 5134 38689 25890 2326 23794 \n",
       "3        182  47209 11520 39275 13629 47672 5479 33000 41149...\n",
       "4        257  49235 24852 27966 37646 21137 13870 24838 2710...\n",
       "5        313  21903 45007 13198 30391 28535 47626 46906 2589...\n",
       "6        353                 21137 33000 35561 48183 40688 None\n",
       "7        386  30450 22124 24852 45066 47766 21903 42265 4920...\n",
       "8        414  21376 21709 14947 44632 19006 27845 31215 4472...\n",
       "9        418  30489 47766 41950 45364 40268 1503 13702 5262 ...\n",
       "10       437  13176 16797 27966 47209 10132 26790 5769 45106...\n",
       "11       452  13176 27966 36735 47209 21137 36606 19019 4463...\n",
       "12       492  24852 28918 21137 21903 25146 26604 8424 4799 ...\n",
       "13       497                            1831 31964 27275 39947 \n",
       "14       517  24852 37646 9387 21903 8518 8424 38293 48679 1...\n",
       "15       604         13176 16797 24852 24838 12099 31720 19660 \n",
       "16       680           47977 30353 7693 27275 30441 14836 7743 \n",
       "17       758                                     651 19660 None\n",
       "18       759  24852 47766 26209 47626 5612 24427 1752 14651 ...\n",
       "19       887  24852 21137 49683 39275 41290 28204 28993 2564..."
      ]
     },
     "execution_count": 87,
     "metadata": {},
     "output_type": "execute_result"
    }
   ],
   "source": [
    "prediction_lists.head(20)"
   ]
  },
  {
   "cell_type": "code",
   "execution_count": 88,
   "metadata": {
    "collapsed": true
   },
   "outputs": [],
   "source": [
    "prediction_lists.to_csv(\"submissions/nonecutoff_xgb.csv\", index=False)"
   ]
  },
  {
   "cell_type": "code",
   "execution_count": 64,
   "metadata": {},
   "outputs": [
    {
     "data": {
      "text/plain": [
       "(75000, 2)"
      ]
     },
     "execution_count": 64,
     "metadata": {},
     "output_type": "execute_result"
    }
   ],
   "source": [
    "prediction_lists.shape"
   ]
  },
  {
   "cell_type": "code",
   "execution_count": null,
   "metadata": {
    "collapsed": true
   },
   "outputs": [],
   "source": []
  }
 ],
 "metadata": {
  "kernelspec": {
   "display_name": "Python 3",
   "language": "python",
   "name": "python3"
  },
  "language_info": {
   "codemirror_mode": {
    "name": "ipython",
    "version": 3
   },
   "file_extension": ".py",
   "mimetype": "text/x-python",
   "name": "python",
   "nbconvert_exporter": "python",
   "pygments_lexer": "ipython3",
   "version": "3.6.1"
  }
 },
 "nbformat": 4,
 "nbformat_minor": 1
}
