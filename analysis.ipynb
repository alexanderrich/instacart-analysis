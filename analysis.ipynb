{
 "cells": [
  {
   "cell_type": "code",
   "execution_count": 4,
   "metadata": {
    "collapsed": true
   },
   "outputs": [],
   "source": [
    "import numpy as np\n",
    "import pandas as pd\n",
    "import matplotlib.pyplot as plt\n",
    "import seaborn as sns\n",
    "\n",
    "% matplotlib inline"
   ]
  },
  {
   "cell_type": "code",
   "execution_count": 5,
   "metadata": {
    "collapsed": true
   },
   "outputs": [],
   "source": [
    "aisles_df = pd.read_csv(\"data/aisles.csv\")\n",
    "departments_df = pd.read_csv(\"data/departments.csv\")\n",
    "products_df = pd.read_csv(\"data/products.csv\")\n",
    "orders_df = pd.read_csv(\"data/orders.csv\")\n",
    "prior_df = pd.read_csv(\"data/order_products__prior.csv\")\n",
    "train_df = pd.read_csv(\"data/order_products__train.csv\")\n",
    "products_df_merged = products_df.merge(departments_df, on=\"department_id\").merge(aisles_df, on=\"aisle_id\")"
   ]
  },
  {
   "cell_type": "code",
   "execution_count": 6,
   "metadata": {
    "collapsed": true
   },
   "outputs": [],
   "source": [
    "prior_df = prior_df.merge(orders_df[[\"order_id\", \"user_id\"]], on=\"order_id\")"
   ]
  },
  {
   "cell_type": "code",
   "execution_count": 7,
   "metadata": {
    "collapsed": true
   },
   "outputs": [],
   "source": [
    "train_df = train_df.merge(orders_df[[\"order_id\", \"user_id\"]], on=\"order_id\")"
   ]
  },
  {
   "cell_type": "code",
   "execution_count": 8,
   "metadata": {
    "collapsed": false
   },
   "outputs": [],
   "source": [
    "train_users = orders_df[orders_df.eval_set == \"train\"].user_id"
   ]
  },
  {
   "cell_type": "code",
   "execution_count": 9,
   "metadata": {
    "collapsed": false
   },
   "outputs": [],
   "source": [
    "train_users_small = train_users.sample(n=10000)"
   ]
  },
  {
   "cell_type": "code",
   "execution_count": 10,
   "metadata": {
    "collapsed": true
   },
   "outputs": [],
   "source": [
    "orders_df_small = orders_df[orders_df.user_id.isin(train_users_small)]\n",
    "prior_df_small = prior_df[prior_df.user_id.isin(train_users_small)]\n",
    "train_df_small = train_df[train_df.user_id.isin(train_users_small)]"
   ]
  },
  {
   "cell_type": "code",
   "execution_count": 13,
   "metadata": {
    "collapsed": true
   },
   "outputs": [],
   "source": [
    "prior_df_small = prior_df_small.merge(orders_df_small, on=[\"order_id\", \"user_id\"])"
   ]
  },
  {
   "cell_type": "code",
   "execution_count": 352,
   "metadata": {
    "collapsed": false
   },
   "outputs": [
    {
     "data": {
      "text/plain": [
       "Index(['order_id', 'product_id', 'add_to_cart_order', 'reordered', 'user_id'], dtype='object')"
      ]
     },
     "execution_count": 352,
     "metadata": {},
     "output_type": "execute_result"
    }
   ],
   "source": [
    "prior_df.columns"
   ]
  },
  {
   "cell_type": "code",
   "execution_count": 116,
   "metadata": {
    "collapsed": true
   },
   "outputs": [],
   "source": [
    "prior_df_small['order_dow_angle'] = (prior_df_small.order_dow / \n",
    "                                     (prior_df_small.order_dow.max() + 1) * 2 * np.pi)\n",
    "prior_df_small['order_hod_angle'] = (prior_df_small.order_hour_of_day / \n",
    "                                             (prior_df_small.order_dow.max() + 1) * 2 * np.pi)"
   ]
  },
  {
   "cell_type": "code",
   "execution_count": 118,
   "metadata": {
    "collapsed": false
   },
   "outputs": [],
   "source": [
    "prior_df_small['order_dow_sin'] = np.sin(prior_df_small.order_dow_angle)\n",
    "prior_df_small['order_dow_cos'] = np.cos(prior_df_small.order_dow_angle)\n",
    "prior_df_small['order_hod_sin'] = np.sin(prior_df_small.order_hod_angle)\n",
    "prior_df_small['order_hod_cos'] = np.cos(prior_df_small.order_hod_angle)\n",
    "prior_df_small['num_products'] = 1\n"
   ]
  },
  {
   "cell_type": "code",
   "execution_count": 119,
   "metadata": {
    "collapsed": false
   },
   "outputs": [],
   "source": [
    "prior_product_stats = prior_df_small.groupby(\"product_id\").agg({'order_dow_sin': np.sum, \n",
    "                                                                'order_dow_cos': np.sum, \n",
    "                                                                'order_hod_sin': np.sum,\n",
    "                                                                'order_hod_cos': np.sum,\n",
    "                                                               'num_products': np.sum})\n",
    "prior_product_stats['order_dow_angle'] = np.arctan2(prior_product_stats.order_dow_sin, prior_product_stats.order_dow_cos)\n",
    "prior_product_stats['order_hod_angle'] = np.arctan2(prior_product_stats.order_hod_sin, prior_product_stats.order_hod_cos)"
   ]
  },
  {
   "cell_type": "code",
   "execution_count": 120,
   "metadata": {
    "collapsed": false
   },
   "outputs": [
    {
     "data": {
      "text/html": [
       "<div>\n",
       "<table border=\"1\" class=\"dataframe\">\n",
       "  <thead>\n",
       "    <tr style=\"text-align: right;\">\n",
       "      <th></th>\n",
       "      <th>product_id</th>\n",
       "      <th>product_dow_sin</th>\n",
       "      <th>product_dow_cos</th>\n",
       "      <th>product_hod_sin</th>\n",
       "      <th>product_hod_cos</th>\n",
       "      <th>product_num_purchases</th>\n",
       "    </tr>\n",
       "  </thead>\n",
       "  <tbody>\n",
       "    <tr>\n",
       "      <th>0</th>\n",
       "      <td>1</td>\n",
       "      <td>0.883183</td>\n",
       "      <td>0.469029</td>\n",
       "      <td>-0.968168</td>\n",
       "      <td>0.250301</td>\n",
       "      <td>66</td>\n",
       "    </tr>\n",
       "    <tr>\n",
       "      <th>1</th>\n",
       "      <td>2</td>\n",
       "      <td>-0.813695</td>\n",
       "      <td>-0.581291</td>\n",
       "      <td>-0.974928</td>\n",
       "      <td>-0.222521</td>\n",
       "      <td>3</td>\n",
       "    </tr>\n",
       "    <tr>\n",
       "      <th>2</th>\n",
       "      <td>3</td>\n",
       "      <td>-0.221393</td>\n",
       "      <td>0.975185</td>\n",
       "      <td>0.794824</td>\n",
       "      <td>0.606841</td>\n",
       "      <td>27</td>\n",
       "    </tr>\n",
       "    <tr>\n",
       "      <th>3</th>\n",
       "      <td>4</td>\n",
       "      <td>-0.304167</td>\n",
       "      <td>0.952619</td>\n",
       "      <td>0.686125</td>\n",
       "      <td>0.727484</td>\n",
       "      <td>20</td>\n",
       "    </tr>\n",
       "    <tr>\n",
       "      <th>4</th>\n",
       "      <td>7</td>\n",
       "      <td>0.433884</td>\n",
       "      <td>0.900969</td>\n",
       "      <td>0.433884</td>\n",
       "      <td>0.900969</td>\n",
       "      <td>2</td>\n",
       "    </tr>\n",
       "  </tbody>\n",
       "</table>\n",
       "</div>"
      ],
      "text/plain": [
       "   product_id  product_dow_sin  product_dow_cos  product_hod_sin  \\\n",
       "0           1         0.883183         0.469029        -0.968168   \n",
       "1           2        -0.813695        -0.581291        -0.974928   \n",
       "2           3        -0.221393         0.975185         0.794824   \n",
       "3           4        -0.304167         0.952619         0.686125   \n",
       "4           7         0.433884         0.900969         0.433884   \n",
       "\n",
       "   product_hod_cos  product_num_purchases  \n",
       "0         0.250301                     66  \n",
       "1        -0.222521                      3  \n",
       "2         0.606841                     27  \n",
       "3         0.727484                     20  \n",
       "4         0.900969                      2  "
      ]
     },
     "execution_count": 120,
     "metadata": {},
     "output_type": "execute_result"
    }
   ],
   "source": [
    "prior_product_stats.order_dow_sin = np.sin(prior_product_stats.order_dow_angle)\n",
    "prior_product_stats.order_dow_cos = np.cos(prior_product_stats.order_dow_angle)\n",
    "prior_product_stats.order_hod_sin = np.sin(prior_product_stats.order_hod_angle)\n",
    "prior_product_stats.order_hod_cos = np.cos(prior_product_stats.order_hod_angle)\n",
    "prior_product_stats.drop(['order_dow_angle', 'order_hod_angle'], axis=1, inplace=True)\n",
    "prior_product_stats.reset_index(inplace=True)\n",
    "prior_product_stats.columns = ['product_id', 'product_dow_sin', 'product_dow_cos', 'product_hod_sin', 'product_hod_cos', 'product_num_purchases']"
   ]
  },
  {
   "cell_type": "code",
   "execution_count": 122,
   "metadata": {
    "collapsed": false
   },
   "outputs": [],
   "source": [
    "prior_individual_stats = prior_df_small.groupby([\"user_id\", \"order_id\"]).agg({'order_dow_sin': np.sum, \n",
    "                                                                'order_dow_cos': np.sum, \n",
    "                                                                'order_hod_sin': np.sum,\n",
    "                                                                'order_hod_cos': np.sum,\n",
    "                                                               'num_products': np.sum})"
   ]
  },
  {
   "cell_type": "code",
   "execution_count": 123,
   "metadata": {
    "collapsed": false
   },
   "outputs": [],
   "source": [
    "prior_individual_stats['num_orders'] = 1\n",
    "prior_individual_stats = prior_individual_stats.reset_index().groupby(\"user_id\").agg({'order_dow_sin': np.sum, \n",
    "                                                                'order_dow_cos': np.sum, \n",
    "                                                                'order_hod_sin': np.sum,\n",
    "                                                                'order_hod_cos': np.sum,\n",
    "                                                               'num_products': [np.sum, np.mean],\n",
    "                                                                'num_orders': np.sum})"
   ]
  },
  {
   "cell_type": "code",
   "execution_count": 124,
   "metadata": {
    "collapsed": false
   },
   "outputs": [],
   "source": [
    "prior_individual_stats.columns = ['order_dow_sin', 'order_dow_cos', 'order_hod_sin', 'order_hod_cos', 'num_products', 'mean_products', \"num_orders\"]"
   ]
  },
  {
   "cell_type": "code",
   "execution_count": 125,
   "metadata": {
    "collapsed": false
   },
   "outputs": [],
   "source": [
    "prior_individual_stats['order_dow_angle'] = np.arctan2(prior_individual_stats.order_dow_sin, prior_individual_stats.order_dow_cos)\n",
    "prior_individual_stats['order_hod_angle'] = np.arctan2(prior_individual_stats.order_hod_sin, prior_individual_stats.order_hod_cos)\n",
    "prior_individual_stats.order_dow_sin = np.sin(prior_individual_stats.order_dow_angle)\n",
    "prior_individual_stats.order_dow_cos = np.cos(prior_individual_stats.order_dow_angle)\n",
    "prior_individual_stats.order_hod_sin = np.sin(prior_individual_stats.order_hod_angle)\n",
    "prior_individual_stats.order_hod_cos = np.cos(prior_individual_stats.order_hod_angle)\n",
    "prior_individual_stats.drop(['order_dow_angle', 'order_hod_angle'], axis=1, inplace=True)"
   ]
  },
  {
   "cell_type": "code",
   "execution_count": 126,
   "metadata": {
    "collapsed": false
   },
   "outputs": [],
   "source": [
    "prior_individual_stats = prior_individual_stats.reset_index()"
   ]
  },
  {
   "cell_type": "code",
   "execution_count": 127,
   "metadata": {
    "collapsed": false
   },
   "outputs": [
    {
     "data": {
      "text/html": [
       "<div>\n",
       "<table border=\"1\" class=\"dataframe\">\n",
       "  <thead>\n",
       "    <tr style=\"text-align: right;\">\n",
       "      <th></th>\n",
       "      <th>user_id</th>\n",
       "      <th>user_dow_sin</th>\n",
       "      <th>user_dow_cos</th>\n",
       "      <th>user_hod_sin</th>\n",
       "      <th>user_hod_cos</th>\n",
       "      <th>user_num_products</th>\n",
       "      <th>user_mean_products</th>\n",
       "      <th>user_num_orders</th>\n",
       "    </tr>\n",
       "  </thead>\n",
       "  <tbody>\n",
       "    <tr>\n",
       "      <th>0</th>\n",
       "      <td>48</td>\n",
       "      <td>-0.988459</td>\n",
       "      <td>0.151491</td>\n",
       "      <td>0.013915</td>\n",
       "      <td>-0.999903</td>\n",
       "      <td>113</td>\n",
       "      <td>11.300000</td>\n",
       "      <td>10</td>\n",
       "    </tr>\n",
       "    <tr>\n",
       "      <th>1</th>\n",
       "      <td>79</td>\n",
       "      <td>0.161085</td>\n",
       "      <td>0.986941</td>\n",
       "      <td>0.978891</td>\n",
       "      <td>-0.204385</td>\n",
       "      <td>93</td>\n",
       "      <td>13.285714</td>\n",
       "      <td>7</td>\n",
       "    </tr>\n",
       "    <tr>\n",
       "      <th>2</th>\n",
       "      <td>99</td>\n",
       "      <td>0.678658</td>\n",
       "      <td>-0.734454</td>\n",
       "      <td>-0.822620</td>\n",
       "      <td>-0.568592</td>\n",
       "      <td>211</td>\n",
       "      <td>11.722222</td>\n",
       "      <td>18</td>\n",
       "    </tr>\n",
       "    <tr>\n",
       "      <th>3</th>\n",
       "      <td>102</td>\n",
       "      <td>-0.954726</td>\n",
       "      <td>0.297487</td>\n",
       "      <td>0.593517</td>\n",
       "      <td>-0.804821</td>\n",
       "      <td>59</td>\n",
       "      <td>9.833333</td>\n",
       "      <td>6</td>\n",
       "    </tr>\n",
       "    <tr>\n",
       "      <th>4</th>\n",
       "      <td>103</td>\n",
       "      <td>0.674559</td>\n",
       "      <td>-0.738221</td>\n",
       "      <td>0.846743</td>\n",
       "      <td>-0.532002</td>\n",
       "      <td>77</td>\n",
       "      <td>4.529412</td>\n",
       "      <td>17</td>\n",
       "    </tr>\n",
       "  </tbody>\n",
       "</table>\n",
       "</div>"
      ],
      "text/plain": [
       "   user_id  user_dow_sin  user_dow_cos  user_hod_sin  user_hod_cos  \\\n",
       "0       48     -0.988459      0.151491      0.013915     -0.999903   \n",
       "1       79      0.161085      0.986941      0.978891     -0.204385   \n",
       "2       99      0.678658     -0.734454     -0.822620     -0.568592   \n",
       "3      102     -0.954726      0.297487      0.593517     -0.804821   \n",
       "4      103      0.674559     -0.738221      0.846743     -0.532002   \n",
       "\n",
       "   user_num_products  user_mean_products  user_num_orders  \n",
       "0                113           11.300000               10  \n",
       "1                 93           13.285714                7  \n",
       "2                211           11.722222               18  \n",
       "3                 59            9.833333                6  \n",
       "4                 77            4.529412               17  "
      ]
     },
     "execution_count": 127,
     "metadata": {},
     "output_type": "execute_result"
    }
   ],
   "source": [
    "prior_individual_stats.columns = ['user_id', 'user_dow_sin', 'user_dow_cos', 'user_hod_sin', 'user_hod_cos', 'user_num_products', 'user_mean_products', 'user_num_orders']"
   ]
  },
  {
   "cell_type": "code",
   "execution_count": 128,
   "metadata": {
    "collapsed": true
   },
   "outputs": [],
   "source": [
    "prior_indprod_stats = prior_df_small.groupby([\"user_id\", \"product_id\"]).agg({'order_dow_sin': np.sum, \n",
    "                                                                'order_dow_cos': np.sum, \n",
    "                                                                'order_hod_sin': np.sum,\n",
    "                                                                'order_hod_cos': np.sum,\n",
    "                                                               'num_products': np.sum})"
   ]
  },
  {
   "cell_type": "code",
   "execution_count": 129,
   "metadata": {
    "collapsed": false
   },
   "outputs": [],
   "source": [
    "prior_indprod_stats = prior_indprod_stats.reset_index().merge(prior_individual_stats[['user_id', 'user_num_orders']], on='user_id', how='left')\n",
    "prior_indprod_stats['order_dow_angle'] = np.arctan2(prior_indprod_stats.order_dow_sin, prior_indprod_stats.order_dow_cos)\n",
    "prior_indprod_stats['order_hod_angle'] = np.arctan2(prior_indprod_stats.order_hod_sin, prior_indprod_stats.order_hod_cos)\n",
    "prior_indprod_stats['proportion_orders'] = prior_indprod_stats.num_products / prior_indprod_stats.user_num_orders"
   ]
  },
  {
   "cell_type": "code",
   "execution_count": 130,
   "metadata": {
    "collapsed": false
   },
   "outputs": [],
   "source": [
    "prior_indprod_stats.order_dow_sin = np.sin(prior_indprod_stats.order_dow_angle)\n",
    "prior_indprod_stats.order_dow_cos = np.cos(prior_indprod_stats.order_dow_angle)\n",
    "prior_indprod_stats.order_hod_sin = np.sin(prior_indprod_stats.order_hod_angle)\n",
    "prior_indprod_stats.order_hod_cos = np.cos(prior_indprod_stats.order_hod_angle)\n",
    "prior_indprod_stats.drop(['order_dow_angle', 'order_hod_angle', 'user_num_orders'], axis=1, inplace=True)"
   ]
  },
  {
   "cell_type": "code",
   "execution_count": 131,
   "metadata": {
    "collapsed": false
   },
   "outputs": [],
   "source": [
    "prior_indprod_stats.columns = ['user_id', 'product_id', 'indprod_dow_sin', \n",
    "                               'indprod_dow_cos', 'indprod_hod_sin',\n",
    "                               'indprod_hod_cos', 'indprod_num_products', \n",
    "                                'indprod_proportion_orders']"
   ]
  },
  {
   "cell_type": "code",
   "execution_count": 133,
   "metadata": {
    "collapsed": true
   },
   "outputs": [],
   "source": [
    "prior_all_stats = prior_indprod_stats.merge(prior_individual_stats, on=\"user_id\", how=\"left\").merge(prior_product_stats, on='product_id', how=\"left\")"
   ]
  },
  {
   "cell_type": "code",
   "execution_count": 136,
   "metadata": {
    "collapsed": false
   },
   "outputs": [],
   "source": [
    "orders_df_last = orders_df_small[orders_df_small.eval_set == \"train\"].copy()\n",
    "orders_df_last['order_dow_angle'] = (orders_df_last.order_dow / \n",
    "                                     (orders_df_last.order_dow.max() + 1) * 2 * np.pi - np.pi)\n",
    "orders_df_last['order_hod_angle'] = (orders_df_last.order_hour_of_day / \n",
    "                                             (orders_df_last.order_dow.max() + 1) * 2 * np.pi - np.pi)\n",
    "orders_df_last['order_dow_sin'] = np.sin(orders_df_last.order_dow_angle)\n",
    "orders_df_last['order_dow_cos'] = np.cos(orders_df_last.order_dow_angle)\n",
    "orders_df_last['order_hod_sin'] = np.sin(orders_df_last.order_hod_angle)\n",
    "orders_df_last['order_hod_cos'] = np.cos(orders_df_last.order_hod_angle)"
   ]
  },
  {
   "cell_type": "code",
   "execution_count": 137,
   "metadata": {
    "collapsed": false
   },
   "outputs": [],
   "source": [
    "orders_df_last.drop([\"order_id\", \"order_number\", \"eval_set\", \"order_dow\", \"order_hour_of_day\", \"order_dow_angle\", \"order_hod_angle\"], axis=1, inplace=True)"
   ]
  },
  {
   "cell_type": "code",
   "execution_count": 139,
   "metadata": {
    "collapsed": true
   },
   "outputs": [],
   "source": [
    "prior_all_stats = prior_all_stats.merge(orders_df_last, on=\"user_id\", how=\"inner\")"
   ]
  },
  {
   "cell_type": "code",
   "execution_count": 143,
   "metadata": {
    "collapsed": false
   },
   "outputs": [],
   "source": [
    "prior_all_stats = prior_all_stats.merge(train_df_small[['user_id', 'product_id', 'reordered']], how=\"left\", on=[\"user_id\", \"product_id\"])\n",
    "prior_all_stats.reordered = prior_all_stats.reordered.fillna(0)                  \n"
   ]
  },
  {
   "cell_type": "code",
   "execution_count": 145,
   "metadata": {
    "collapsed": false
   },
   "outputs": [],
   "source": [
    "import xgboost as xgb"
   ]
  },
  {
   "cell_type": "code",
   "execution_count": 281,
   "metadata": {
    "collapsed": false
   },
   "outputs": [],
   "source": [
    "valid_idx = np.random.choice(range(prior_all_stats.shape[0]), size=int(prior_all_stats.shape[0] / 5), replace=False)\n",
    "#prior_no_times = prior_all_stats[[x for x in prior_all_stats.columns if 'hod' not in x and 'dow' not in x]]\n",
    "prior_all_stats['validation_set'] = 0\n",
    "prior_all_stats.loc[valid_idx, 'validation_set'] = 1\n",
    "prior_train = prior_all_stats[prior_all_stats.validation_set == 0].copy()\n",
    "prior_valid = prior_all_stats[prior_all_stats.validation_set == 1].copy()\n",
    "\n",
    "X_train = prior_train.drop([\"validation_set\", \"reordered\", \"user_id\", \"product_id\"], axis=1).as_matrix()\n",
    "y_train = prior_train.reordered.as_matrix()\n",
    "X_valid = prior_valid.drop([\"validation_set\", \"reordered\", \"user_id\", \"product_id\"], axis=1).as_matrix()\n",
    "y_valid = prior_valid.reordered.as_matrix()\n"
   ]
  },
  {
   "cell_type": "code",
   "execution_count": 284,
   "metadata": {
    "collapsed": false
   },
   "outputs": [
    {
     "name": "stdout",
     "output_type": "stream",
     "text": [
      "[0]\ttrain-logloss:0.513069\tvalid-logloss:0.51295\n",
      "Multiple eval metrics have been passed: 'valid-logloss' will be used for early stopping.\n",
      "\n",
      "Will train until valid-logloss hasn't improved in 50 rounds.\n",
      "[10]\ttrain-logloss:0.260582\tvalid-logloss:0.260595\n",
      "[20]\ttrain-logloss:0.255849\tvalid-logloss:0.257595\n",
      "[30]\ttrain-logloss:0.253307\tvalid-logloss:0.25676\n",
      "[40]\ttrain-logloss:0.251246\tvalid-logloss:0.256295\n",
      "[50]\ttrain-logloss:0.249471\tvalid-logloss:0.255996\n",
      "[60]\ttrain-logloss:0.2478\tvalid-logloss:0.255801\n",
      "[70]\ttrain-logloss:0.245737\tvalid-logloss:0.255317\n",
      "[80]\ttrain-logloss:0.244181\tvalid-logloss:0.255203\n",
      "[90]\ttrain-logloss:0.242611\tvalid-logloss:0.255192\n",
      "[100]\ttrain-logloss:0.241278\tvalid-logloss:0.255113\n",
      "[110]\ttrain-logloss:0.239591\tvalid-logloss:0.254933\n",
      "[120]\ttrain-logloss:0.238307\tvalid-logloss:0.254982\n",
      "[130]\ttrain-logloss:0.237076\tvalid-logloss:0.254961\n",
      "[140]\ttrain-logloss:0.235825\tvalid-logloss:0.255109\n",
      "[150]\ttrain-logloss:0.234311\tvalid-logloss:0.255054\n",
      "[160]\ttrain-logloss:0.232951\tvalid-logloss:0.254943\n",
      "Stopping. Best iteration:\n",
      "[112]\ttrain-logloss:0.239266\tvalid-logloss:0.254849\n",
      "\n",
      "CPU times: user 2min 59s, sys: 986 ms, total: 3min\n",
      "Wall time: 3min 1s\n"
     ]
    }
   ],
   "source": [
    "%%time\n",
    "# Set our parameters for xgboost\n",
    "params = {}\n",
    "params['objective'] = 'binary:logistic'\n",
    "params['eval_metric'] = 'logloss'\n",
    "params['eta'] = 0.3\n",
    "params['max_depth'] = 6\n",
    "\n",
    "d_train = xgb.DMatrix(X_train, label=y_train)\n",
    "d_valid = xgb.DMatrix(X_valid, label=y_valid)\n",
    "\n",
    "watchlist = [(d_train, 'train'), (d_valid, 'valid')]\n",
    "\n",
    "bst = xgb.train(params, d_train, 400, watchlist, early_stopping_rounds=50, verbose_eval=10)\n",
    "\n",
    "#bst.fit(X_train, y_train, eval_set=[(X_trian, y_trian), (X_valid, y_valid)], early_stopping_rounds=50, eval_metric='logloss', verbose=True)"
   ]
  },
  {
   "cell_type": "code",
   "execution_count": 286,
   "metadata": {
    "collapsed": false
   },
   "outputs": [],
   "source": [
    "y_predicted = bst.predict(d_valid)"
   ]
  },
  {
   "cell_type": "code",
   "execution_count": 294,
   "metadata": {
    "collapsed": false
   },
   "outputs": [],
   "source": [
    "prior_valid['prediction'] = 1 * (y_predicted > .25)"
   ]
  },
  {
   "cell_type": "code",
   "execution_count": 295,
   "metadata": {
    "collapsed": false
   },
   "outputs": [],
   "source": [
    "prior_valid['hit'] = (prior_valid.reordered * prior_valid.prediction)"
   ]
  },
  {
   "cell_type": "code",
   "execution_count": 297,
   "metadata": {
    "collapsed": false
   },
   "outputs": [],
   "source": [
    "prior_valid_agg = prior_valid.groupby(\"user_id\").agg({'reordered': np.mean, 'prediction': np.mean, 'hit': np.mean})"
   ]
  },
  {
   "cell_type": "code",
   "execution_count": 347,
   "metadata": {
    "collapsed": true
   },
   "outputs": [],
   "source": [
    "offset = 0.000001\n",
    "prior_valid_agg['precision'] = (prior_valid_agg['hit'] + offset) / (prior_valid_agg['prediction'] + offset)\n",
    "prior_valid_agg['recall'] = (prior_valid_agg['hit'] + offset) / (prior_valid_agg['reordered'] + offset)"
   ]
  },
  {
   "cell_type": "code",
   "execution_count": 348,
   "metadata": {
    "collapsed": false
   },
   "outputs": [],
   "source": [
    "#prior_valid_agg.recall = prior_valid_agg.recall.fillna(0)\n",
    "#prior_valid_agg.precision = prior_valid_agg.precision.fillna(0)\n",
    "prior_valid_agg['f1'] = 2 * prior_valid_agg['precision'] * prior_valid_agg['recall'] / (prior_valid_agg['precision'] + prior_valid_agg['recall'])"
   ]
  },
  {
   "cell_type": "code",
   "execution_count": 349,
   "metadata": {
    "collapsed": false
   },
   "outputs": [
    {
     "data": {
      "text/plain": [
       "0.46126558686784841"
      ]
     },
     "execution_count": 349,
     "metadata": {},
     "output_type": "execute_result"
    }
   ],
   "source": [
    "prior_valid_agg['f1'].mean()"
   ]
  },
  {
   "cell_type": "code",
   "execution_count": 353,
   "metadata": {
    "collapsed": false
   },
   "outputs": [],
   "source": [
    "%%time\n",
    "prior_df = prior_df.merge(orders_df, on=[\"order_id\", \"user_id\"])\n",
    "prior_df['order_dow_angle'] = (prior_df.order_dow / \n",
    "                                     (prior_df.order_dow.max() + 1) * 2 * np.pi)\n",
    "prior_df['order_hod_angle'] = (prior_df.order_hour_of_day / \n",
    "                                             (prior_df.order_dow.max() + 1) * 2 * np.pi)\n",
    "prior_df['order_dow_sin'] = np.sin(prior_df.order_dow_angle)\n",
    "prior_df['order_dow_cos'] = np.cos(prior_df.order_dow_angle)\n",
    "prior_df['order_hod_sin'] = np.sin(prior_df.order_hod_angle)\n",
    "prior_df['order_hod_cos'] = np.cos(prior_df.order_hod_angle)\n",
    "prior_df['num_products'] = 1\n",
    "prior_product_stats = prior_df.groupby(\"product_id\").agg({'order_dow_sin': np.sum, \n",
    "                                                                'order_dow_cos': np.sum, \n",
    "                                                                'order_hod_sin': np.sum,\n",
    "                                                                'order_hod_cos': np.sum,\n",
    "                                                               'num_products': np.sum})\n",
    "prior_product_stats['order_dow_angle'] = np.arctan2(prior_product_stats.order_dow_sin, prior_product_stats.order_dow_cos)\n",
    "prior_product_stats['order_hod_angle'] = np.arctan2(prior_product_stats.order_hod_sin, prior_product_stats.order_hod_cos)\n",
    "\n",
    "prior_product_stats.order_dow_sin = np.sin(prior_product_stats.order_dow_angle)\n",
    "prior_product_stats.order_dow_cos = np.cos(prior_product_stats.order_dow_angle)\n",
    "prior_product_stats.order_hod_sin = np.sin(prior_product_stats.order_hod_angle)\n",
    "prior_product_stats.order_hod_cos = np.cos(prior_product_stats.order_hod_angle)\n",
    "prior_product_stats.drop(['order_dow_angle', 'order_hod_angle'], axis=1, inplace=True)\n",
    "prior_product_stats.reset_index(inplace=True)\n",
    "prior_product_stats.columns = ['product_id', 'product_dow_sin', 'product_dow_cos', 'product_hod_sin', 'product_hod_cos', 'product_num_purchases']"
   ]
  },
  {
   "cell_type": "code",
   "execution_count": 354,
   "metadata": {
    "collapsed": false
   },
   "outputs": [
    {
     "name": "stdout",
     "output_type": "stream",
     "text": [
      "CPU times: user 8.96 s, sys: 2.76 s, total: 11.7 s\n",
      "Wall time: 11.9 s\n"
     ]
    }
   ],
   "source": [
    "%%time\n",
    "prior_individual_stats = prior_df.groupby([\"user_id\", \"order_id\"]).agg({'order_dow_sin': np.sum, \n",
    "                                                                'order_dow_cos': np.sum, \n",
    "                                                                'order_hod_sin': np.sum,\n",
    "                                                                'order_hod_cos': np.sum,\n",
    "                                                               'num_products': np.sum})\n",
    "prior_individual_stats['num_orders'] = 1\n",
    "prior_individual_stats = prior_individual_stats.reset_index().groupby(\"user_id\").agg({'order_dow_sin': np.sum, \n",
    "                                                                'order_dow_cos': np.sum, \n",
    "                                                                'order_hod_sin': np.sum,\n",
    "                                                                'order_hod_cos': np.sum,\n",
    "                                                               'num_products': [np.sum, np.mean],\n",
    "                                                                'num_orders': np.sum})\n",
    "prior_individual_stats.columns = ['order_dow_sin', 'order_dow_cos', 'order_hod_sin', 'order_hod_cos', 'num_products', 'mean_products', \"num_orders\"]\n",
    "prior_individual_stats['order_dow_angle'] = np.arctan2(prior_individual_stats.order_dow_sin, prior_individual_stats.order_dow_cos)\n",
    "prior_individual_stats['order_hod_angle'] = np.arctan2(prior_individual_stats.order_hod_sin, prior_individual_stats.order_hod_cos)\n",
    "prior_individual_stats.order_dow_sin = np.sin(prior_individual_stats.order_dow_angle)\n",
    "prior_individual_stats.order_dow_cos = np.cos(prior_individual_stats.order_dow_angle)\n",
    "prior_individual_stats.order_hod_sin = np.sin(prior_individual_stats.order_hod_angle)\n",
    "prior_individual_stats.order_hod_cos = np.cos(prior_individual_stats.order_hod_angle)\n",
    "prior_individual_stats.drop(['order_dow_angle', 'order_hod_angle'], axis=1, inplace=True)\n",
    "prior_individual_stats = prior_individual_stats.reset_index()\n",
    "prior_individual_stats.columns = ['user_id', 'user_dow_sin', 'user_dow_cos', 'user_hod_sin', 'user_hod_cos', 'user_num_products', 'user_mean_products', 'user_num_orders']\n"
   ]
  },
  {
   "cell_type": "code",
   "execution_count": 355,
   "metadata": {
    "collapsed": false
   },
   "outputs": [
    {
     "name": "stdout",
     "output_type": "stream",
     "text": [
      "CPU times: user 27.6 s, sys: 6.71 s, total: 34.3 s\n",
      "Wall time: 35.3 s\n"
     ]
    }
   ],
   "source": [
    "%%time\n",
    "prior_indprod_stats = prior_df.groupby([\"user_id\", \"product_id\"]).agg({'order_dow_sin': np.sum, \n",
    "                                                                'order_dow_cos': np.sum, \n",
    "                                                                'order_hod_sin': np.sum,\n",
    "                                                                'order_hod_cos': np.sum,\n",
    "                                                               'num_products': np.sum})\n",
    "prior_indprod_stats = prior_indprod_stats.reset_index().merge(prior_individual_stats[['user_id', 'user_num_orders']], on='user_id', how='left')\n",
    "prior_indprod_stats['order_dow_angle'] = np.arctan2(prior_indprod_stats.order_dow_sin, prior_indprod_stats.order_dow_cos)\n",
    "prior_indprod_stats['order_hod_angle'] = np.arctan2(prior_indprod_stats.order_hod_sin, prior_indprod_stats.order_hod_cos)\n",
    "prior_indprod_stats['proportion_orders'] = prior_indprod_stats.num_products / prior_indprod_stats.user_num_orders\n",
    "prior_indprod_stats.order_dow_sin = np.sin(prior_indprod_stats.order_dow_angle)\n",
    "prior_indprod_stats.order_dow_cos = np.cos(prior_indprod_stats.order_dow_angle)\n",
    "prior_indprod_stats.order_hod_sin = np.sin(prior_indprod_stats.order_hod_angle)\n",
    "prior_indprod_stats.order_hod_cos = np.cos(prior_indprod_stats.order_hod_angle)\n",
    "prior_indprod_stats.drop(['order_dow_angle', 'order_hod_angle', 'user_num_orders'], axis=1, inplace=True)\n",
    "prior_indprod_stats.columns = ['user_id', 'product_id', 'indprod_dow_sin', \n",
    "                               'indprod_dow_cos', 'indprod_hod_sin',\n",
    "                               'indprod_hod_cos', 'indprod_num_products', \n",
    "                                'indprod_proportion_orders']\n"
   ]
  },
  {
   "cell_type": "code",
   "execution_count": 356,
   "metadata": {
    "collapsed": false
   },
   "outputs": [
    {
     "name": "stdout",
     "output_type": "stream",
     "text": [
      "CPU times: user 7.95 s, sys: 5.42 s, total: 13.4 s\n",
      "Wall time: 15 s\n"
     ]
    }
   ],
   "source": [
    "%%time\n",
    "prior_all_stats = prior_indprod_stats.merge(prior_individual_stats, on=\"user_id\", how=\"left\").merge(prior_product_stats, on='product_id', how=\"left\")\n",
    " "
   ]
  },
  {
   "cell_type": "code",
   "execution_count": 357,
   "metadata": {
    "collapsed": false
   },
   "outputs": [
    {
     "name": "stdout",
     "output_type": "stream",
     "text": [
      "CPU times: user 412 ms, sys: 458 ms, total: 871 ms\n",
      "Wall time: 1.14 s\n"
     ]
    }
   ],
   "source": [
    "%%time\n",
    "orders_df_last = orders_df[orders_df.eval_set == \"test\"].copy()\n",
    "orders_df_last['order_dow_angle'] = (orders_df_last.order_dow / \n",
    "                                     (orders_df_last.order_dow.max() + 1) * 2 * np.pi - np.pi)\n",
    "orders_df_last['order_hod_angle'] = (orders_df_last.order_hour_of_day / \n",
    "                                             (orders_df_last.order_dow.max() + 1) * 2 * np.pi - np.pi)\n",
    "orders_df_last['order_dow_sin'] = np.sin(orders_df_last.order_dow_angle)\n",
    "orders_df_last['order_dow_cos'] = np.cos(orders_df_last.order_dow_angle)\n",
    "orders_df_last['order_hod_sin'] = np.sin(orders_df_last.order_hod_angle)\n",
    "orders_df_last['order_hod_cos'] = np.cos(orders_df_last.order_hod_angle)\n",
    "orders_df_last.drop([\"order_id\", \"order_number\", \"eval_set\", \"order_dow\", \"order_hour_of_day\", \"order_dow_angle\", \"order_hod_angle\"], axis=1, inplace=True)"
   ]
  },
  {
   "cell_type": "code",
   "execution_count": 358,
   "metadata": {
    "collapsed": false
   },
   "outputs": [
    {
     "name": "stdout",
     "output_type": "stream",
     "text": [
      "CPU times: user 1.35 s, sys: 1.84 s, total: 3.19 s\n",
      "Wall time: 3.27 s\n"
     ]
    }
   ],
   "source": [
    "%%time\n",
    "prior_all_stats = prior_all_stats.merge(orders_df_last, on=\"user_id\", how=\"inner\")"
   ]
  },
  {
   "cell_type": "code",
   "execution_count": 360,
   "metadata": {
    "collapsed": false
   },
   "outputs": [
    {
     "data": {
      "text/html": [
       "<div>\n",
       "<table border=\"1\" class=\"dataframe\">\n",
       "  <thead>\n",
       "    <tr style=\"text-align: right;\">\n",
       "      <th></th>\n",
       "      <th>user_id</th>\n",
       "      <th>product_id</th>\n",
       "      <th>indprod_dow_sin</th>\n",
       "      <th>indprod_dow_cos</th>\n",
       "      <th>indprod_hod_sin</th>\n",
       "      <th>indprod_hod_cos</th>\n",
       "      <th>indprod_num_products</th>\n",
       "      <th>indprod_proportion_orders</th>\n",
       "      <th>user_dow_sin</th>\n",
       "      <th>user_dow_cos</th>\n",
       "      <th>...</th>\n",
       "      <th>product_dow_sin</th>\n",
       "      <th>product_dow_cos</th>\n",
       "      <th>product_hod_sin</th>\n",
       "      <th>product_hod_cos</th>\n",
       "      <th>product_num_purchases</th>\n",
       "      <th>days_since_prior_order</th>\n",
       "      <th>order_dow_sin</th>\n",
       "      <th>order_dow_cos</th>\n",
       "      <th>order_hod_sin</th>\n",
       "      <th>order_hod_cos</th>\n",
       "    </tr>\n",
       "  </thead>\n",
       "  <tbody>\n",
       "    <tr>\n",
       "      <th>0</th>\n",
       "      <td>3</td>\n",
       "      <td>248</td>\n",
       "      <td>0.433884</td>\n",
       "      <td>-0.900969</td>\n",
       "      <td>-0.974928</td>\n",
       "      <td>-0.222521</td>\n",
       "      <td>1</td>\n",
       "      <td>0.083333</td>\n",
       "      <td>0.593363</td>\n",
       "      <td>0.804935</td>\n",
       "      <td>...</td>\n",
       "      <td>0.162530</td>\n",
       "      <td>0.986704</td>\n",
       "      <td>0.967230</td>\n",
       "      <td>0.253903</td>\n",
       "      <td>6371</td>\n",
       "      <td>11.0</td>\n",
       "      <td>0.974928</td>\n",
       "      <td>0.222521</td>\n",
       "      <td>-0.781831</td>\n",
       "      <td>-0.62349</td>\n",
       "    </tr>\n",
       "    <tr>\n",
       "      <th>1</th>\n",
       "      <td>3</td>\n",
       "      <td>1005</td>\n",
       "      <td>0.433884</td>\n",
       "      <td>-0.900969</td>\n",
       "      <td>0.974928</td>\n",
       "      <td>-0.222521</td>\n",
       "      <td>1</td>\n",
       "      <td>0.083333</td>\n",
       "      <td>0.593363</td>\n",
       "      <td>0.804935</td>\n",
       "      <td>...</td>\n",
       "      <td>0.830565</td>\n",
       "      <td>-0.556922</td>\n",
       "      <td>0.705568</td>\n",
       "      <td>-0.708643</td>\n",
       "      <td>463</td>\n",
       "      <td>11.0</td>\n",
       "      <td>0.974928</td>\n",
       "      <td>0.222521</td>\n",
       "      <td>-0.781831</td>\n",
       "      <td>-0.62349</td>\n",
       "    </tr>\n",
       "    <tr>\n",
       "      <th>2</th>\n",
       "      <td>3</td>\n",
       "      <td>1819</td>\n",
       "      <td>0.480901</td>\n",
       "      <td>0.876775</td>\n",
       "      <td>0.935414</td>\n",
       "      <td>-0.353553</td>\n",
       "      <td>3</td>\n",
       "      <td>0.250000</td>\n",
       "      <td>0.593363</td>\n",
       "      <td>0.804935</td>\n",
       "      <td>...</td>\n",
       "      <td>0.424031</td>\n",
       "      <td>0.905648</td>\n",
       "      <td>0.981058</td>\n",
       "      <td>-0.193716</td>\n",
       "      <td>2424</td>\n",
       "      <td>11.0</td>\n",
       "      <td>0.974928</td>\n",
       "      <td>0.222521</td>\n",
       "      <td>-0.781831</td>\n",
       "      <td>-0.62349</td>\n",
       "    </tr>\n",
       "    <tr>\n",
       "      <th>3</th>\n",
       "      <td>3</td>\n",
       "      <td>7503</td>\n",
       "      <td>0.433884</td>\n",
       "      <td>-0.900969</td>\n",
       "      <td>0.974928</td>\n",
       "      <td>-0.222521</td>\n",
       "      <td>1</td>\n",
       "      <td>0.083333</td>\n",
       "      <td>0.593363</td>\n",
       "      <td>0.804935</td>\n",
       "      <td>...</td>\n",
       "      <td>0.407654</td>\n",
       "      <td>0.913137</td>\n",
       "      <td>0.925818</td>\n",
       "      <td>-0.377970</td>\n",
       "      <td>12474</td>\n",
       "      <td>11.0</td>\n",
       "      <td>0.974928</td>\n",
       "      <td>0.222521</td>\n",
       "      <td>-0.781831</td>\n",
       "      <td>-0.62349</td>\n",
       "    </tr>\n",
       "    <tr>\n",
       "      <th>4</th>\n",
       "      <td>3</td>\n",
       "      <td>8021</td>\n",
       "      <td>0.433884</td>\n",
       "      <td>-0.900969</td>\n",
       "      <td>-0.974928</td>\n",
       "      <td>-0.222521</td>\n",
       "      <td>1</td>\n",
       "      <td>0.083333</td>\n",
       "      <td>0.593363</td>\n",
       "      <td>0.804935</td>\n",
       "      <td>...</td>\n",
       "      <td>0.119705</td>\n",
       "      <td>0.992809</td>\n",
       "      <td>0.984529</td>\n",
       "      <td>-0.175222</td>\n",
       "      <td>27864</td>\n",
       "      <td>11.0</td>\n",
       "      <td>0.974928</td>\n",
       "      <td>0.222521</td>\n",
       "      <td>-0.781831</td>\n",
       "      <td>-0.62349</td>\n",
       "    </tr>\n",
       "  </tbody>\n",
       "</table>\n",
       "<p>5 rows × 25 columns</p>\n",
       "</div>"
      ],
      "text/plain": [
       "   user_id  product_id  indprod_dow_sin  indprod_dow_cos  indprod_hod_sin  \\\n",
       "0        3         248         0.433884        -0.900969        -0.974928   \n",
       "1        3        1005         0.433884        -0.900969         0.974928   \n",
       "2        3        1819         0.480901         0.876775         0.935414   \n",
       "3        3        7503         0.433884        -0.900969         0.974928   \n",
       "4        3        8021         0.433884        -0.900969        -0.974928   \n",
       "\n",
       "   indprod_hod_cos  indprod_num_products  indprod_proportion_orders  \\\n",
       "0        -0.222521                     1                   0.083333   \n",
       "1        -0.222521                     1                   0.083333   \n",
       "2        -0.353553                     3                   0.250000   \n",
       "3        -0.222521                     1                   0.083333   \n",
       "4        -0.222521                     1                   0.083333   \n",
       "\n",
       "   user_dow_sin  user_dow_cos      ...        product_dow_sin  \\\n",
       "0      0.593363      0.804935      ...               0.162530   \n",
       "1      0.593363      0.804935      ...               0.830565   \n",
       "2      0.593363      0.804935      ...               0.424031   \n",
       "3      0.593363      0.804935      ...               0.407654   \n",
       "4      0.593363      0.804935      ...               0.119705   \n",
       "\n",
       "   product_dow_cos  product_hod_sin  product_hod_cos  product_num_purchases  \\\n",
       "0         0.986704         0.967230         0.253903                   6371   \n",
       "1        -0.556922         0.705568        -0.708643                    463   \n",
       "2         0.905648         0.981058        -0.193716                   2424   \n",
       "3         0.913137         0.925818        -0.377970                  12474   \n",
       "4         0.992809         0.984529        -0.175222                  27864   \n",
       "\n",
       "   days_since_prior_order  order_dow_sin  order_dow_cos  order_hod_sin  \\\n",
       "0                    11.0       0.974928       0.222521      -0.781831   \n",
       "1                    11.0       0.974928       0.222521      -0.781831   \n",
       "2                    11.0       0.974928       0.222521      -0.781831   \n",
       "3                    11.0       0.974928       0.222521      -0.781831   \n",
       "4                    11.0       0.974928       0.222521      -0.781831   \n",
       "\n",
       "   order_hod_cos  \n",
       "0       -0.62349  \n",
       "1       -0.62349  \n",
       "2       -0.62349  \n",
       "3       -0.62349  \n",
       "4       -0.62349  \n",
       "\n",
       "[5 rows x 25 columns]"
      ]
     },
     "execution_count": 360,
     "metadata": {},
     "output_type": "execute_result"
    }
   ],
   "source": [
    "prior_all_stats.head()"
   ]
  },
  {
   "cell_type": "code",
   "execution_count": 361,
   "metadata": {
    "collapsed": true
   },
   "outputs": [],
   "source": [
    "X_test = prior_all_stats.drop([\"user_id\", \"product_id\"], axis=1).as_matrix()\n"
   ]
  },
  {
   "cell_type": "code",
   "execution_count": 362,
   "metadata": {
    "collapsed": true
   },
   "outputs": [],
   "source": [
    "d_test = xgb.DMatrix(X_test)\n",
    "y_test = bst.predict(d_test)"
   ]
  },
  {
   "cell_type": "code",
   "execution_count": 423,
   "metadata": {
    "collapsed": false
   },
   "outputs": [],
   "source": [
    "prior_all_stats['prediction'] = 1 * (y_test > .3)"
   ]
  },
  {
   "cell_type": "code",
   "execution_count": 425,
   "metadata": {
    "collapsed": true
   },
   "outputs": [],
   "source": [
    "prediction_df = prior_all_stats[prior_all_stats['prediction'] == 1].copy()"
   ]
  },
  {
   "cell_type": "code",
   "execution_count": 426,
   "metadata": {
    "collapsed": false
   },
   "outputs": [],
   "source": [
    "prediction_df = prediction_df[['user_id', 'product_id']]"
   ]
  },
  {
   "cell_type": "code",
   "execution_count": 427,
   "metadata": {
    "collapsed": false
   },
   "outputs": [
    {
     "data": {
      "text/html": [
       "<div>\n",
       "<table border=\"1\" class=\"dataframe\">\n",
       "  <thead>\n",
       "    <tr style=\"text-align: right;\">\n",
       "      <th></th>\n",
       "      <th>user_id</th>\n",
       "      <th>product_id</th>\n",
       "    </tr>\n",
       "  </thead>\n",
       "  <tbody>\n",
       "    <tr>\n",
       "      <th>5</th>\n",
       "      <td>3</td>\n",
       "      <td>9387</td>\n",
       "    </tr>\n",
       "    <tr>\n",
       "      <th>11</th>\n",
       "      <td>3</td>\n",
       "      <td>17668</td>\n",
       "    </tr>\n",
       "    <tr>\n",
       "      <th>15</th>\n",
       "      <td>3</td>\n",
       "      <td>21903</td>\n",
       "    </tr>\n",
       "    <tr>\n",
       "      <th>23</th>\n",
       "      <td>3</td>\n",
       "      <td>39190</td>\n",
       "    </tr>\n",
       "    <tr>\n",
       "      <th>30</th>\n",
       "      <td>3</td>\n",
       "      <td>47766</td>\n",
       "    </tr>\n",
       "  </tbody>\n",
       "</table>\n",
       "</div>"
      ],
      "text/plain": [
       "    user_id  product_id\n",
       "5         3        9387\n",
       "11        3       17668\n",
       "15        3       21903\n",
       "23        3       39190\n",
       "30        3       47766"
      ]
     },
     "execution_count": 427,
     "metadata": {},
     "output_type": "execute_result"
    }
   ],
   "source": [
    "prediction_df.head()"
   ]
  },
  {
   "cell_type": "code",
   "execution_count": 430,
   "metadata": {
    "collapsed": true
   },
   "outputs": [],
   "source": [
    "prediction_lists = prediction_df.groupby('user_id').agg(lambda x: \" \".join(x.astype(str))).reset_index()"
   ]
  },
  {
   "cell_type": "code",
   "execution_count": 432,
   "metadata": {
    "collapsed": false
   },
   "outputs": [
    {
     "data": {
      "text/plain": [
       "(68677, 2)"
      ]
     },
     "execution_count": 432,
     "metadata": {},
     "output_type": "execute_result"
    }
   ],
   "source": [
    "prediction_lists.shape"
   ]
  },
  {
   "cell_type": "code",
   "execution_count": 394,
   "metadata": {
    "collapsed": false
   },
   "outputs": [],
   "source": [
    "#prediction_lists.columns = ['order_id', 'products']"
   ]
  },
  {
   "cell_type": "code",
   "execution_count": 433,
   "metadata": {
    "collapsed": false
   },
   "outputs": [],
   "source": [
    "prediction_lists = prediction_lists.merge(orders_df.loc[orders_df.eval_set == \"test\", ['order_id', 'user_id']], on='user_id', how=\"right\")"
   ]
  },
  {
   "cell_type": "code",
   "execution_count": 434,
   "metadata": {
    "collapsed": false
   },
   "outputs": [],
   "source": [
    "prediction_lists['products'] = prediction_lists.product_id.fillna(\"None\")"
   ]
  },
  {
   "cell_type": "code",
   "execution_count": 435,
   "metadata": {
    "collapsed": false
   },
   "outputs": [],
   "source": [
    "prediction_lists = prediction_lists[['order_id', 'products']]"
   ]
  },
  {
   "cell_type": "code",
   "execution_count": 436,
   "metadata": {
    "collapsed": true
   },
   "outputs": [],
   "source": [
    "prediction_lists.to_csv(\"submissions/first_xgb.csv\", index=False)"
   ]
  },
  {
   "cell_type": "code",
   "execution_count": 437,
   "metadata": {
    "collapsed": false
   },
   "outputs": [
    {
     "data": {
      "text/plain": [
       "(75000, 2)"
      ]
     },
     "execution_count": 437,
     "metadata": {},
     "output_type": "execute_result"
    }
   ],
   "source": [
    "prediction_lists.shape"
   ]
  },
  {
   "cell_type": "code",
   "execution_count": 438,
   "metadata": {
    "collapsed": false
   },
   "outputs": [
    {
     "data": {
      "text/html": [
       "<div>\n",
       "<table border=\"1\" class=\"dataframe\">\n",
       "  <thead>\n",
       "    <tr style=\"text-align: right;\">\n",
       "      <th></th>\n",
       "      <th>order_id</th>\n",
       "      <th>products</th>\n",
       "    </tr>\n",
       "  </thead>\n",
       "  <tbody>\n",
       "    <tr>\n",
       "      <th>0</th>\n",
       "      <td>2774568</td>\n",
       "      <td>9387 17668 21903 39190 47766</td>\n",
       "    </tr>\n",
       "    <tr>\n",
       "      <th>1</th>\n",
       "      <td>1528013</td>\n",
       "      <td>21903 38293</td>\n",
       "    </tr>\n",
       "    <tr>\n",
       "      <th>2</th>\n",
       "      <td>1376945</td>\n",
       "      <td>8309 8670 14947 27959 28465 33731 34658 35640 ...</td>\n",
       "    </tr>\n",
       "    <tr>\n",
       "      <th>3</th>\n",
       "      <td>1356845</td>\n",
       "      <td>248 5746 5876 7076 7120 8239 10863 11520 12206...</td>\n",
       "    </tr>\n",
       "    <tr>\n",
       "      <th>4</th>\n",
       "      <td>2161313</td>\n",
       "      <td>196 11266 12427 14715 37710</td>\n",
       "    </tr>\n",
       "  </tbody>\n",
       "</table>\n",
       "</div>"
      ],
      "text/plain": [
       "   order_id                                           products\n",
       "0   2774568                       9387 17668 21903 39190 47766\n",
       "1   1528013                                        21903 38293\n",
       "2   1376945  8309 8670 14947 27959 28465 33731 34658 35640 ...\n",
       "3   1356845  248 5746 5876 7076 7120 8239 10863 11520 12206...\n",
       "4   2161313                        196 11266 12427 14715 37710"
      ]
     },
     "execution_count": 438,
     "metadata": {},
     "output_type": "execute_result"
    }
   ],
   "source": [
    "prediction_lists.head()"
   ]
  },
  {
   "cell_type": "code",
   "execution_count": null,
   "metadata": {
    "collapsed": true
   },
   "outputs": [],
   "source": []
  }
 ],
 "metadata": {
  "kernelspec": {
   "display_name": "Python 3",
   "language": "python",
   "name": "python3"
  },
  "language_info": {
   "codemirror_mode": {
    "name": "ipython",
    "version": 3
   },
   "file_extension": ".py",
   "mimetype": "text/x-python",
   "name": "python",
   "nbconvert_exporter": "python",
   "pygments_lexer": "ipython3",
   "version": "3.6.0"
  }
 },
 "nbformat": 4,
 "nbformat_minor": 0
}
