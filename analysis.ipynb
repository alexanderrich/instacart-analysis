{
 "cells": [
  {
   "cell_type": "code",
   "execution_count": 1,
   "metadata": {
    "collapsed": true
   },
   "outputs": [],
   "source": [
    "import numpy as np\n",
    "import pandas as pd\n",
    "import matplotlib.pyplot as plt\n",
    "import seaborn as sns\n",
    "\n",
    "% matplotlib inline"
   ]
  },
  {
   "cell_type": "code",
   "execution_count": 2,
   "metadata": {
    "collapsed": true
   },
   "outputs": [],
   "source": [
    "aisles_df = pd.read_csv(\"data/aisles.csv\")\n",
    "departments_df = pd.read_csv(\"data/departments.csv\")\n",
    "products_df = pd.read_csv(\"data/products.csv\")\n",
    "orders_df = pd.read_csv(\"data/orders.csv\")\n",
    "prior_df = pd.read_csv(\"data/order_products__prior.csv\")\n",
    "train_df = pd.read_csv(\"data/order_products__train.csv\")\n",
    "products_df_merged = (products_df\n",
    "                      .merge(departments_df, on=\"department_id\")\n",
    "                      .merge(aisles_df, on=\"aisle_id\"))"
   ]
  },
  {
   "cell_type": "code",
   "execution_count": 3,
   "metadata": {},
   "outputs": [],
   "source": [
    "orders_df['absolute_date'] = orders_df.groupby(\"user_id\").days_since_prior_order.cumsum().fillna(0)"
   ]
  },
  {
   "cell_type": "code",
   "execution_count": 4,
   "metadata": {},
   "outputs": [],
   "source": [
    "orders_df['max_order_number'] = orders_df.groupby(\"user_id\").order_number.transform(max)\n",
    "orders_df['max_absolute_date'] = orders_df.groupby(\"user_id\").absolute_date.transform(max)"
   ]
  },
  {
   "cell_type": "code",
   "execution_count": 5,
   "metadata": {
    "collapsed": true
   },
   "outputs": [],
   "source": [
    "orders_df['reverse_date'] = orders_df.max_absolute_date - orders_df.absolute_date\n",
    "orders_df['reverse_order_number'] = orders_df.max_order_number - orders_df.order_number"
   ]
  },
  {
   "cell_type": "code",
   "execution_count": 6,
   "metadata": {
    "collapsed": true
   },
   "outputs": [],
   "source": [
    "train_df = train_df.merge(orders_df[[\"order_id\", \"user_id\"]], on=\"order_id\")"
   ]
  },
  {
   "cell_type": "code",
   "execution_count": 7,
   "metadata": {
    "collapsed": true
   },
   "outputs": [],
   "source": [
    "prior_df = prior_df.merge(orders_df, on=\"order_id\")"
   ]
  },
  {
   "cell_type": "code",
   "execution_count": 8,
   "metadata": {
    "collapsed": true
   },
   "outputs": [],
   "source": [
    "prior_df['order_dow_angle'] = (prior_df.order_dow / \n",
    "                                     (prior_df.order_dow.max() + 1) * 2 * np.pi)\n",
    "prior_df['order_hod_angle'] = (prior_df.order_hour_of_day / \n",
    "                                             (prior_df.order_dow.max() + 1) * 2 * np.pi)"
   ]
  },
  {
   "cell_type": "code",
   "execution_count": 9,
   "metadata": {
    "collapsed": true
   },
   "outputs": [],
   "source": [
    "prior_df['order_dow_sin'] = np.sin(prior_df.order_dow_angle)\n",
    "prior_df['order_dow_cos'] = np.cos(prior_df.order_dow_angle)\n",
    "prior_df['order_hod_sin'] = np.sin(prior_df.order_hod_angle)\n",
    "prior_df['order_hod_cos'] = np.cos(prior_df.order_hod_angle)\n",
    "prior_df['num_products'] = 1\n",
    "prior_df['num_products_dw_12'] = np.exp(-np.log(2)/12 * prior_df.reverse_date)\n",
    "prior_df['num_products_dw_36'] = np.exp(-np.log(2)/36 * prior_df.reverse_date)\n",
    "prior_df['num_products_dw_108'] = np.exp(-np.log(2)/108 * prior_df.reverse_date)\n",
    "prior_df['num_products_ow_3'] = np.exp(-np.log(2)/3 * prior_df.reverse_order_number)\n",
    "prior_df['num_products_ow_10'] = np.exp(-np.log(2)/10 * prior_df.reverse_order_number)\n",
    "prior_df['num_products_ow_30'] = np.exp(-np.log(2)/30 * prior_df.reverse_order_number)"
   ]
  },
  {
   "cell_type": "code",
   "execution_count": 10,
   "metadata": {},
   "outputs": [
    {
     "data": {
      "text/html": [
       "<div>\n",
       "<style>\n",
       "    .dataframe thead tr:only-child th {\n",
       "        text-align: right;\n",
       "    }\n",
       "\n",
       "    .dataframe thead th {\n",
       "        text-align: left;\n",
       "    }\n",
       "\n",
       "    .dataframe tbody tr th {\n",
       "        vertical-align: top;\n",
       "    }\n",
       "</style>\n",
       "<table border=\"1\" class=\"dataframe\">\n",
       "  <thead>\n",
       "    <tr style=\"text-align: right;\">\n",
       "      <th></th>\n",
       "      <th>order_id</th>\n",
       "      <th>product_id</th>\n",
       "      <th>add_to_cart_order</th>\n",
       "      <th>reordered</th>\n",
       "      <th>user_id</th>\n",
       "      <th>eval_set</th>\n",
       "      <th>order_number</th>\n",
       "      <th>order_dow</th>\n",
       "      <th>order_hour_of_day</th>\n",
       "      <th>days_since_prior_order</th>\n",
       "      <th>...</th>\n",
       "      <th>order_dow_cos</th>\n",
       "      <th>order_hod_sin</th>\n",
       "      <th>order_hod_cos</th>\n",
       "      <th>num_products</th>\n",
       "      <th>num_products_dw_12</th>\n",
       "      <th>num_products_dw_36</th>\n",
       "      <th>num_products_dw_108</th>\n",
       "      <th>num_products_ow_3</th>\n",
       "      <th>num_products_ow_10</th>\n",
       "      <th>num_products_ow_30</th>\n",
       "    </tr>\n",
       "  </thead>\n",
       "  <tbody>\n",
       "    <tr>\n",
       "      <th>0</th>\n",
       "      <td>2</td>\n",
       "      <td>33120</td>\n",
       "      <td>1</td>\n",
       "      <td>1</td>\n",
       "      <td>202279</td>\n",
       "      <td>prior</td>\n",
       "      <td>3</td>\n",
       "      <td>5</td>\n",
       "      <td>9</td>\n",
       "      <td>8.0</td>\n",
       "      <td>...</td>\n",
       "      <td>-0.222521</td>\n",
       "      <td>0.974928</td>\n",
       "      <td>-0.222521</td>\n",
       "      <td>1</td>\n",
       "      <td>0.000145</td>\n",
       "      <td>0.052556</td>\n",
       "      <td>0.374577</td>\n",
       "      <td>0.25</td>\n",
       "      <td>0.659754</td>\n",
       "      <td>0.870551</td>\n",
       "    </tr>\n",
       "    <tr>\n",
       "      <th>1</th>\n",
       "      <td>2</td>\n",
       "      <td>28985</td>\n",
       "      <td>2</td>\n",
       "      <td>1</td>\n",
       "      <td>202279</td>\n",
       "      <td>prior</td>\n",
       "      <td>3</td>\n",
       "      <td>5</td>\n",
       "      <td>9</td>\n",
       "      <td>8.0</td>\n",
       "      <td>...</td>\n",
       "      <td>-0.222521</td>\n",
       "      <td>0.974928</td>\n",
       "      <td>-0.222521</td>\n",
       "      <td>1</td>\n",
       "      <td>0.000145</td>\n",
       "      <td>0.052556</td>\n",
       "      <td>0.374577</td>\n",
       "      <td>0.25</td>\n",
       "      <td>0.659754</td>\n",
       "      <td>0.870551</td>\n",
       "    </tr>\n",
       "    <tr>\n",
       "      <th>2</th>\n",
       "      <td>2</td>\n",
       "      <td>9327</td>\n",
       "      <td>3</td>\n",
       "      <td>0</td>\n",
       "      <td>202279</td>\n",
       "      <td>prior</td>\n",
       "      <td>3</td>\n",
       "      <td>5</td>\n",
       "      <td>9</td>\n",
       "      <td>8.0</td>\n",
       "      <td>...</td>\n",
       "      <td>-0.222521</td>\n",
       "      <td>0.974928</td>\n",
       "      <td>-0.222521</td>\n",
       "      <td>1</td>\n",
       "      <td>0.000145</td>\n",
       "      <td>0.052556</td>\n",
       "      <td>0.374577</td>\n",
       "      <td>0.25</td>\n",
       "      <td>0.659754</td>\n",
       "      <td>0.870551</td>\n",
       "    </tr>\n",
       "    <tr>\n",
       "      <th>3</th>\n",
       "      <td>2</td>\n",
       "      <td>45918</td>\n",
       "      <td>4</td>\n",
       "      <td>1</td>\n",
       "      <td>202279</td>\n",
       "      <td>prior</td>\n",
       "      <td>3</td>\n",
       "      <td>5</td>\n",
       "      <td>9</td>\n",
       "      <td>8.0</td>\n",
       "      <td>...</td>\n",
       "      <td>-0.222521</td>\n",
       "      <td>0.974928</td>\n",
       "      <td>-0.222521</td>\n",
       "      <td>1</td>\n",
       "      <td>0.000145</td>\n",
       "      <td>0.052556</td>\n",
       "      <td>0.374577</td>\n",
       "      <td>0.25</td>\n",
       "      <td>0.659754</td>\n",
       "      <td>0.870551</td>\n",
       "    </tr>\n",
       "    <tr>\n",
       "      <th>4</th>\n",
       "      <td>2</td>\n",
       "      <td>30035</td>\n",
       "      <td>5</td>\n",
       "      <td>0</td>\n",
       "      <td>202279</td>\n",
       "      <td>prior</td>\n",
       "      <td>3</td>\n",
       "      <td>5</td>\n",
       "      <td>9</td>\n",
       "      <td>8.0</td>\n",
       "      <td>...</td>\n",
       "      <td>-0.222521</td>\n",
       "      <td>0.974928</td>\n",
       "      <td>-0.222521</td>\n",
       "      <td>1</td>\n",
       "      <td>0.000145</td>\n",
       "      <td>0.052556</td>\n",
       "      <td>0.374577</td>\n",
       "      <td>0.25</td>\n",
       "      <td>0.659754</td>\n",
       "      <td>0.870551</td>\n",
       "    </tr>\n",
       "  </tbody>\n",
       "</table>\n",
       "<p>5 rows × 28 columns</p>\n",
       "</div>"
      ],
      "text/plain": [
       "   order_id  product_id  add_to_cart_order  reordered  user_id eval_set  \\\n",
       "0         2       33120                  1          1   202279    prior   \n",
       "1         2       28985                  2          1   202279    prior   \n",
       "2         2        9327                  3          0   202279    prior   \n",
       "3         2       45918                  4          1   202279    prior   \n",
       "4         2       30035                  5          0   202279    prior   \n",
       "\n",
       "   order_number  order_dow  order_hour_of_day  days_since_prior_order  \\\n",
       "0             3          5                  9                     8.0   \n",
       "1             3          5                  9                     8.0   \n",
       "2             3          5                  9                     8.0   \n",
       "3             3          5                  9                     8.0   \n",
       "4             3          5                  9                     8.0   \n",
       "\n",
       "          ...          order_dow_cos  order_hod_sin  order_hod_cos  \\\n",
       "0         ...              -0.222521       0.974928      -0.222521   \n",
       "1         ...              -0.222521       0.974928      -0.222521   \n",
       "2         ...              -0.222521       0.974928      -0.222521   \n",
       "3         ...              -0.222521       0.974928      -0.222521   \n",
       "4         ...              -0.222521       0.974928      -0.222521   \n",
       "\n",
       "   num_products  num_products_dw_12  num_products_dw_36  num_products_dw_108  \\\n",
       "0             1            0.000145            0.052556             0.374577   \n",
       "1             1            0.000145            0.052556             0.374577   \n",
       "2             1            0.000145            0.052556             0.374577   \n",
       "3             1            0.000145            0.052556             0.374577   \n",
       "4             1            0.000145            0.052556             0.374577   \n",
       "\n",
       "   num_products_ow_3  num_products_ow_10  num_products_ow_30  \n",
       "0               0.25            0.659754            0.870551  \n",
       "1               0.25            0.659754            0.870551  \n",
       "2               0.25            0.659754            0.870551  \n",
       "3               0.25            0.659754            0.870551  \n",
       "4               0.25            0.659754            0.870551  \n",
       "\n",
       "[5 rows x 28 columns]"
      ]
     },
     "execution_count": 10,
     "metadata": {},
     "output_type": "execute_result"
    }
   ],
   "source": [
    "prior_df.head()"
   ]
  },
  {
   "cell_type": "code",
   "execution_count": 11,
   "metadata": {
    "collapsed": true
   },
   "outputs": [],
   "source": [
    "prior_product_stats = prior_df.groupby(\"product_id\").agg({'order_dow_sin': np.sum, \n",
    "                                                                'order_dow_cos': np.sum, \n",
    "                                                                'order_hod_sin': np.sum,\n",
    "                                                                'order_hod_cos': np.sum,\n",
    "                                                               'num_products': np.sum})\n",
    "prior_product_stats['order_dow_angle'] = np.arctan2(prior_product_stats.order_dow_sin, prior_product_stats.order_dow_cos)\n",
    "prior_product_stats['order_hod_angle'] = np.arctan2(prior_product_stats.order_hod_sin, prior_product_stats.order_hod_cos)"
   ]
  },
  {
   "cell_type": "code",
   "execution_count": 12,
   "metadata": {
    "collapsed": true
   },
   "outputs": [],
   "source": [
    "prior_product_stats.order_dow_sin = np.sin(prior_product_stats.order_dow_angle)\n",
    "prior_product_stats.order_dow_cos = np.cos(prior_product_stats.order_dow_angle)\n",
    "prior_product_stats.order_hod_sin = np.sin(prior_product_stats.order_hod_angle)\n",
    "prior_product_stats.order_hod_cos = np.cos(prior_product_stats.order_hod_angle)\n",
    "prior_product_stats.drop(['order_dow_angle', 'order_hod_angle'], axis=1, inplace=True)\n",
    "prior_product_stats.reset_index(inplace=True)\n",
    "prior_product_stats.columns = ['product_id', 'product_dow_sin', 'product_dow_cos', 'product_hod_sin', 'product_hod_cos', 'product_num_purchases']"
   ]
  },
  {
   "cell_type": "code",
   "execution_count": 13,
   "metadata": {},
   "outputs": [
    {
     "data": {
      "text/plain": [
       "Index(['order_id', 'product_id', 'add_to_cart_order', 'reordered', 'user_id',\n",
       "       'eval_set', 'order_number', 'order_dow', 'order_hour_of_day',\n",
       "       'days_since_prior_order', 'absolute_date', 'max_order_number',\n",
       "       'max_absolute_date', 'reverse_date', 'reverse_order_number',\n",
       "       'order_dow_angle', 'order_hod_angle', 'order_dow_sin', 'order_dow_cos',\n",
       "       'order_hod_sin', 'order_hod_cos', 'num_products', 'num_products_dw_12',\n",
       "       'num_products_dw_36', 'num_products_dw_108', 'num_products_ow_3',\n",
       "       'num_products_ow_10', 'num_products_ow_30'],\n",
       "      dtype='object')"
      ]
     },
     "execution_count": 13,
     "metadata": {},
     "output_type": "execute_result"
    }
   ],
   "source": [
    "prior_df.columns"
   ]
  },
  {
   "cell_type": "code",
   "execution_count": 14,
   "metadata": {},
   "outputs": [],
   "source": [
    "prior_indorder_stats = prior_df.groupby([\"user_id\", \"order_id\"]).agg({'order_dow_sin': np.sum, \n",
    "                                                                'order_dow_cos': np.sum, \n",
    "                                                                'order_hod_sin': np.sum,\n",
    "                                                                'order_hod_cos': np.sum,\n",
    "                                                               'num_products': np.sum,\n",
    "                                                                      'absolute_date': np.max,\n",
    "                                                                     'order_number': np.max}).reset_index()"
   ]
  },
  {
   "cell_type": "code",
   "execution_count": 15,
   "metadata": {
    "collapsed": true
   },
   "outputs": [],
   "source": [
    "prior_individual_stats = prior_indorder_stats.groupby(\"user_id\").agg({'order_dow_sin': np.sum, \n",
    "                                                                'order_dow_cos': np.sum, \n",
    "                                                                'order_hod_sin': np.sum,\n",
    "                                                                'order_hod_cos': np.sum,\n",
    "                                                               'num_products': [np.sum, np.mean],\n",
    "                                                                'absolute_date': np.max,      \n",
    "                                                                'order_number': np.max})"
   ]
  },
  {
   "cell_type": "code",
   "execution_count": 18,
   "metadata": {},
   "outputs": [
    {
     "data": {
      "text/html": [
       "<div>\n",
       "<style>\n",
       "    .dataframe thead tr:only-child th {\n",
       "        text-align: right;\n",
       "    }\n",
       "\n",
       "    .dataframe thead th {\n",
       "        text-align: left;\n",
       "    }\n",
       "\n",
       "    .dataframe tbody tr th {\n",
       "        vertical-align: top;\n",
       "    }\n",
       "</style>\n",
       "<table border=\"1\" class=\"dataframe\">\n",
       "  <thead>\n",
       "    <tr style=\"text-align: right;\">\n",
       "      <th></th>\n",
       "      <th>order_dow_sin</th>\n",
       "      <th>order_dow_cos</th>\n",
       "      <th>order_hod_sin</th>\n",
       "      <th>order_hod_cos</th>\n",
       "      <th>num_products</th>\n",
       "      <th>mean_products</th>\n",
       "      <th>max_absolute_date</th>\n",
       "      <th>max_order_number</th>\n",
       "    </tr>\n",
       "    <tr>\n",
       "      <th>user_id</th>\n",
       "      <th></th>\n",
       "      <th></th>\n",
       "      <th></th>\n",
       "      <th></th>\n",
       "      <th></th>\n",
       "      <th></th>\n",
       "      <th></th>\n",
       "      <th></th>\n",
       "    </tr>\n",
       "  </thead>\n",
       "  <tbody>\n",
       "    <tr>\n",
       "      <th>1</th>\n",
       "      <td>17.292765</td>\n",
       "      <td>-21.135334</td>\n",
       "      <td>23.049860</td>\n",
       "      <td>31.156441</td>\n",
       "      <td>59</td>\n",
       "      <td>5.900000</td>\n",
       "      <td>176.0</td>\n",
       "      <td>10</td>\n",
       "    </tr>\n",
       "    <tr>\n",
       "      <th>2</th>\n",
       "      <td>137.684051</td>\n",
       "      <td>-15.027917</td>\n",
       "      <td>67.978276</td>\n",
       "      <td>-97.021756</td>\n",
       "      <td>195</td>\n",
       "      <td>13.928571</td>\n",
       "      <td>198.0</td>\n",
       "      <td>14</td>\n",
       "    </tr>\n",
       "    <tr>\n",
       "      <th>3</th>\n",
       "      <td>26.495502</td>\n",
       "      <td>35.942886</td>\n",
       "      <td>31.231272</td>\n",
       "      <td>-14.341462</td>\n",
       "      <td>88</td>\n",
       "      <td>7.333333</td>\n",
       "      <td>133.0</td>\n",
       "      <td>12</td>\n",
       "    </tr>\n",
       "    <tr>\n",
       "      <th>4</th>\n",
       "      <td>-11.906919</td>\n",
       "      <td>-6.727365</td>\n",
       "      <td>-1.039639</td>\n",
       "      <td>2.076064</td>\n",
       "      <td>18</td>\n",
       "      <td>3.600000</td>\n",
       "      <td>55.0</td>\n",
       "      <td>5</td>\n",
       "    </tr>\n",
       "    <tr>\n",
       "      <th>5</th>\n",
       "      <td>16.324118</td>\n",
       "      <td>2.066376</td>\n",
       "      <td>-9.325879</td>\n",
       "      <td>-19.766889</td>\n",
       "      <td>37</td>\n",
       "      <td>9.250000</td>\n",
       "      <td>40.0</td>\n",
       "      <td>4</td>\n",
       "    </tr>\n",
       "  </tbody>\n",
       "</table>\n",
       "</div>"
      ],
      "text/plain": [
       "         order_dow_sin  order_dow_cos  order_hod_sin  order_hod_cos  \\\n",
       "user_id                                                               \n",
       "1            17.292765     -21.135334      23.049860      31.156441   \n",
       "2           137.684051     -15.027917      67.978276     -97.021756   \n",
       "3            26.495502      35.942886      31.231272     -14.341462   \n",
       "4           -11.906919      -6.727365      -1.039639       2.076064   \n",
       "5            16.324118       2.066376      -9.325879     -19.766889   \n",
       "\n",
       "         num_products  mean_products  max_absolute_date  max_order_number  \n",
       "user_id                                                                    \n",
       "1                  59       5.900000              176.0                10  \n",
       "2                 195      13.928571              198.0                14  \n",
       "3                  88       7.333333              133.0                12  \n",
       "4                  18       3.600000               55.0                 5  \n",
       "5                  37       9.250000               40.0                 4  "
      ]
     },
     "execution_count": 18,
     "metadata": {},
     "output_type": "execute_result"
    }
   ],
   "source": [
    "prior_individual_stats.head()"
   ]
  },
  {
   "cell_type": "code",
   "execution_count": 17,
   "metadata": {
    "collapsed": true
   },
   "outputs": [],
   "source": [
    "prior_individual_stats.columns = ['order_dow_sin', 'order_dow_cos',\n",
    "                                  'order_hod_sin', 'order_hod_cos', \n",
    "                                   'num_products', 'mean_products', 'max_absolute_date', \"max_order_number\"]"
   ]
  },
  {
   "cell_type": "code",
   "execution_count": 19,
   "metadata": {
    "collapsed": true
   },
   "outputs": [],
   "source": [
    "prior_individual_stats['order_dow_angle'] = np.arctan2(prior_individual_stats.order_dow_sin, prior_individual_stats.order_dow_cos)\n",
    "prior_individual_stats['order_hod_angle'] = np.arctan2(prior_individual_stats.order_hod_sin, prior_individual_stats.order_hod_cos)\n",
    "prior_individual_stats.order_dow_sin = np.sin(prior_individual_stats.order_dow_angle)\n",
    "prior_individual_stats.order_dow_cos = np.cos(prior_individual_stats.order_dow_angle)\n",
    "prior_individual_stats.order_hod_sin = np.sin(prior_individual_stats.order_hod_angle)\n",
    "prior_individual_stats.order_hod_cos = np.cos(prior_individual_stats.order_hod_angle)\n",
    "prior_individual_stats.drop(['order_dow_angle', 'order_hod_angle'], axis=1, inplace=True)"
   ]
  },
  {
   "cell_type": "code",
   "execution_count": 20,
   "metadata": {
    "collapsed": true
   },
   "outputs": [],
   "source": [
    "prior_individual_stats = prior_individual_stats.reset_index()"
   ]
  },
  {
   "cell_type": "code",
   "execution_count": 21,
   "metadata": {},
   "outputs": [
    {
     "data": {
      "text/plain": [
       "Index(['user_id', 'order_dow_sin', 'order_dow_cos', 'order_hod_sin',\n",
       "       'order_hod_cos', 'num_products', 'mean_products', 'max_absolute_date',\n",
       "       'max_order_number'],\n",
       "      dtype='object')"
      ]
     },
     "execution_count": 21,
     "metadata": {},
     "output_type": "execute_result"
    }
   ],
   "source": [
    "prior_individual_stats.columns"
   ]
  },
  {
   "cell_type": "code",
   "execution_count": 22,
   "metadata": {
    "collapsed": true
   },
   "outputs": [],
   "source": [
    "prior_individual_stats.columns = ['user_id', 'user_dow_sin',\n",
    "                                  'user_dow_cos', 'user_hod_sin',\n",
    "                                  'user_hod_cos', 'user_num_products',\n",
    "                                  'user_mean_products', 'user_num_days',\n",
    "                                 'user_num_orders']\n",
    "prior_individual_stats['user_days_per_order'] = prior_individual_stats.user_num_days / prior_individual_stats.user_num_orders"
   ]
  },
  {
   "cell_type": "code",
   "execution_count": 23,
   "metadata": {
    "collapsed": true
   },
   "outputs": [],
   "source": [
    "prior_indorder_stats = prior_indorder_stats[['order_id', 'num_products']]\n",
    "prior_indorder_stats.columns = ['order_id', 'num_products_in_order']"
   ]
  },
  {
   "cell_type": "code",
   "execution_count": 24,
   "metadata": {
    "collapsed": true
   },
   "outputs": [],
   "source": [
    "prior_indprod_stats = (prior_df.merge(prior_indorder_stats[['order_id', 'num_products_in_order']], on='order_id')\n",
    "                       .merge(prior_individual_stats[['user_id', 'user_num_orders', 'user_num_days']], on='user_id', how='left'))\n",
    "prior_indprod_stats['add_to_cart_proportion'] = prior_indprod_stats['add_to_cart_order'] / prior_indprod_stats['num_products_in_order']\n",
    "prior_indprod_stats['indprod_inorder_1'] = 1 * (prior_indprod_stats.order_number == prior_indprod_stats.user_num_orders)\n",
    "prior_indprod_stats['indprod_inorder_2'] = 1 * (prior_indprod_stats.order_number == prior_indprod_stats.user_num_orders - 1)\n",
    "prior_indprod_stats['indprod_inorder_3'] = 1 * (prior_indprod_stats.order_number == prior_indprod_stats.user_num_orders - 2)\n",
    "prior_indprod_stats = prior_indprod_stats.groupby([\"user_id\", \"product_id\"]).agg({'order_dow_sin': np.sum, \n",
    "                                                                'order_dow_cos': np.sum, \n",
    "                                                                'order_hod_sin': np.sum,\n",
    "                                                                'order_hod_cos': np.sum,\n",
    "                                                               'num_products': np.sum,\n",
    "                                                               'num_products_dw_12': np.sum,\n",
    "                                                                'num_products_dw_36': np.sum,\n",
    "                                                                'num_products_dw_108': np.sum,\n",
    "                                                                'num_products_ow_3': np.sum,           \n",
    "                                                                'num_products_ow_10': np.sum,\n",
    "                                                                'num_products_ow_30': np.sum,                  \n",
    "                                                           'add_to_cart_order': np.mean,\n",
    "                                                           'add_to_cart_proportion': np.mean,\n",
    "                                                           'indprod_inorder_1': np.sum,\n",
    "                                                           'indprod_inorder_2': np.sum,\n",
    "                                                           'indprod_inorder_3': np.sum,\n",
    "                                                            'user_num_orders': np.mean,\n",
    "                                                            'user_num_days': np.mean,\n",
    "                                                            'reverse_date': np.min,\n",
    "                                                            'reverse_order_number': np.min}).reset_index()"
   ]
  },
  {
   "cell_type": "code",
   "execution_count": 25,
   "metadata": {
    "collapsed": true
   },
   "outputs": [],
   "source": [
    "prior_indprod_stats['order_dow_angle'] = np.arctan2(prior_indprod_stats.order_dow_sin, prior_indprod_stats.order_dow_cos)\n",
    "prior_indprod_stats['order_hod_angle'] = np.arctan2(prior_indprod_stats.order_hod_sin, prior_indprod_stats.order_hod_cos)\n",
    "prior_indprod_stats['proportion_orders'] = prior_indprod_stats.num_products / (prior_indprod_stats.user_num_orders)\n",
    "prior_indprod_stats['days_per_order'] = prior_indprod_stats.user_num_days / (prior_indprod_stats.num_products)"
   ]
  },
  {
   "cell_type": "code",
   "execution_count": 26,
   "metadata": {
    "collapsed": true
   },
   "outputs": [],
   "source": [
    "prior_indprod_stats.order_dow_sin = np.sin(prior_indprod_stats.order_dow_angle)\n",
    "prior_indprod_stats.order_dow_cos = np.cos(prior_indprod_stats.order_dow_angle)\n",
    "prior_indprod_stats.order_hod_sin = np.sin(prior_indprod_stats.order_hod_angle)\n",
    "prior_indprod_stats.order_hod_cos = np.cos(prior_indprod_stats.order_hod_angle)\n",
    "prior_indprod_stats.drop(['order_dow_angle', 'order_hod_angle', 'user_num_orders', 'user_num_days'], axis=1, inplace=True)"
   ]
  },
  {
   "cell_type": "code",
   "execution_count": 31,
   "metadata": {},
   "outputs": [
    {
     "data": {
      "text/html": [
       "<div>\n",
       "<style>\n",
       "    .dataframe thead tr:only-child th {\n",
       "        text-align: right;\n",
       "    }\n",
       "\n",
       "    .dataframe thead th {\n",
       "        text-align: left;\n",
       "    }\n",
       "\n",
       "    .dataframe tbody tr th {\n",
       "        vertical-align: top;\n",
       "    }\n",
       "</style>\n",
       "<table border=\"1\" class=\"dataframe\">\n",
       "  <thead>\n",
       "    <tr style=\"text-align: right;\">\n",
       "      <th></th>\n",
       "      <th>user_id</th>\n",
       "      <th>product_id</th>\n",
       "      <th>indprod_dow_sin</th>\n",
       "      <th>indprod_dow_cos</th>\n",
       "      <th>indprod_hod_sin</th>\n",
       "      <th>indprod_hod_cos</th>\n",
       "      <th>indprod_num_products</th>\n",
       "      <th>indprod_num_products_dw_12</th>\n",
       "      <th>indprod_num_products_dw_36</th>\n",
       "      <th>indprod_num_products_dw_108</th>\n",
       "      <th>...</th>\n",
       "      <th>indprod_num_products_ow_30</th>\n",
       "      <th>indprod_add_to_cart_order</th>\n",
       "      <th>indprod_add_to_cart_proportion</th>\n",
       "      <th>indprod_inorder_1</th>\n",
       "      <th>indprod_inorder_2</th>\n",
       "      <th>indprod_inorder_3</th>\n",
       "      <th>indprod_days_since_last</th>\n",
       "      <th>indprod_orders_since_last</th>\n",
       "      <th>indprod_proportion_orders</th>\n",
       "      <th>indprod_days_per_order</th>\n",
       "    </tr>\n",
       "  </thead>\n",
       "  <tbody>\n",
       "    <tr>\n",
       "      <th>0</th>\n",
       "      <td>1</td>\n",
       "      <td>196</td>\n",
       "      <td>0.781831</td>\n",
       "      <td>-0.623490</td>\n",
       "      <td>0.537968</td>\n",
       "      <td>0.842965</td>\n",
       "      <td>10</td>\n",
       "      <td>0.653678</td>\n",
       "      <td>2.527365</td>\n",
       "      <td>5.695093</td>\n",
       "      <td>...</td>\n",
       "      <td>8.826064</td>\n",
       "      <td>1.400000</td>\n",
       "      <td>0.245278</td>\n",
       "      <td>1</td>\n",
       "      <td>1</td>\n",
       "      <td>1</td>\n",
       "      <td>14.0</td>\n",
       "      <td>1</td>\n",
       "      <td>1.0</td>\n",
       "      <td>17.600000</td>\n",
       "    </tr>\n",
       "    <tr>\n",
       "      <th>1</th>\n",
       "      <td>1</td>\n",
       "      <td>10258</td>\n",
       "      <td>0.710747</td>\n",
       "      <td>-0.703448</td>\n",
       "      <td>0.484836</td>\n",
       "      <td>0.874605</td>\n",
       "      <td>9</td>\n",
       "      <td>0.653661</td>\n",
       "      <td>2.501588</td>\n",
       "      <td>5.399693</td>\n",
       "      <td>...</td>\n",
       "      <td>8.032364</td>\n",
       "      <td>3.333333</td>\n",
       "      <td>0.562037</td>\n",
       "      <td>1</td>\n",
       "      <td>1</td>\n",
       "      <td>1</td>\n",
       "      <td>14.0</td>\n",
       "      <td>1</td>\n",
       "      <td>0.9</td>\n",
       "      <td>19.555556</td>\n",
       "    </tr>\n",
       "    <tr>\n",
       "      <th>2</th>\n",
       "      <td>1</td>\n",
       "      <td>10326</td>\n",
       "      <td>-0.433884</td>\n",
       "      <td>-0.900969</td>\n",
       "      <td>0.781831</td>\n",
       "      <td>0.623490</td>\n",
       "      <td>1</td>\n",
       "      <td>0.003687</td>\n",
       "      <td>0.154487</td>\n",
       "      <td>0.536575</td>\n",
       "      <td>...</td>\n",
       "      <td>0.870551</td>\n",
       "      <td>5.000000</td>\n",
       "      <td>0.625000</td>\n",
       "      <td>0</td>\n",
       "      <td>0</td>\n",
       "      <td>0</td>\n",
       "      <td>97.0</td>\n",
       "      <td>6</td>\n",
       "      <td>0.1</td>\n",
       "      <td>176.000000</td>\n",
       "    </tr>\n",
       "    <tr>\n",
       "      <th>3</th>\n",
       "      <td>1</td>\n",
       "      <td>12427</td>\n",
       "      <td>0.781831</td>\n",
       "      <td>-0.623490</td>\n",
       "      <td>0.537968</td>\n",
       "      <td>0.842965</td>\n",
       "      <td>10</td>\n",
       "      <td>0.653678</td>\n",
       "      <td>2.527365</td>\n",
       "      <td>5.695093</td>\n",
       "      <td>...</td>\n",
       "      <td>8.826064</td>\n",
       "      <td>3.300000</td>\n",
       "      <td>0.541667</td>\n",
       "      <td>1</td>\n",
       "      <td>1</td>\n",
       "      <td>1</td>\n",
       "      <td>14.0</td>\n",
       "      <td>1</td>\n",
       "      <td>1.0</td>\n",
       "      <td>17.600000</td>\n",
       "    </tr>\n",
       "    <tr>\n",
       "      <th>4</th>\n",
       "      <td>1</td>\n",
       "      <td>13032</td>\n",
       "      <td>0.552838</td>\n",
       "      <td>-0.833289</td>\n",
       "      <td>0.781831</td>\n",
       "      <td>0.623490</td>\n",
       "      <td>3</td>\n",
       "      <td>0.480567</td>\n",
       "      <td>1.125472</td>\n",
       "      <td>1.928503</td>\n",
       "      <td>...</td>\n",
       "      <td>2.701135</td>\n",
       "      <td>6.333333</td>\n",
       "      <td>0.962963</td>\n",
       "      <td>1</td>\n",
       "      <td>0</td>\n",
       "      <td>0</td>\n",
       "      <td>14.0</td>\n",
       "      <td>1</td>\n",
       "      <td>0.3</td>\n",
       "      <td>58.666667</td>\n",
       "    </tr>\n",
       "  </tbody>\n",
       "</table>\n",
       "<p>5 rows × 22 columns</p>\n",
       "</div>"
      ],
      "text/plain": [
       "   user_id  product_id  indprod_dow_sin  indprod_dow_cos  indprod_hod_sin  \\\n",
       "0        1         196         0.781831        -0.623490         0.537968   \n",
       "1        1       10258         0.710747        -0.703448         0.484836   \n",
       "2        1       10326        -0.433884        -0.900969         0.781831   \n",
       "3        1       12427         0.781831        -0.623490         0.537968   \n",
       "4        1       13032         0.552838        -0.833289         0.781831   \n",
       "\n",
       "   indprod_hod_cos  indprod_num_products  indprod_num_products_dw_12  \\\n",
       "0         0.842965                    10                    0.653678   \n",
       "1         0.874605                     9                    0.653661   \n",
       "2         0.623490                     1                    0.003687   \n",
       "3         0.842965                    10                    0.653678   \n",
       "4         0.623490                     3                    0.480567   \n",
       "\n",
       "   indprod_num_products_dw_36  indprod_num_products_dw_108  \\\n",
       "0                    2.527365                     5.695093   \n",
       "1                    2.501588                     5.399693   \n",
       "2                    0.154487                     0.536575   \n",
       "3                    2.527365                     5.695093   \n",
       "4                    1.125472                     1.928503   \n",
       "\n",
       "            ...            indprod_num_products_ow_30  \\\n",
       "0           ...                              8.826064   \n",
       "1           ...                              8.032364   \n",
       "2           ...                              0.870551   \n",
       "3           ...                              8.826064   \n",
       "4           ...                              2.701135   \n",
       "\n",
       "   indprod_add_to_cart_order  indprod_add_to_cart_proportion  \\\n",
       "0                   1.400000                        0.245278   \n",
       "1                   3.333333                        0.562037   \n",
       "2                   5.000000                        0.625000   \n",
       "3                   3.300000                        0.541667   \n",
       "4                   6.333333                        0.962963   \n",
       "\n",
       "   indprod_inorder_1  indprod_inorder_2  indprod_inorder_3  \\\n",
       "0                  1                  1                  1   \n",
       "1                  1                  1                  1   \n",
       "2                  0                  0                  0   \n",
       "3                  1                  1                  1   \n",
       "4                  1                  0                  0   \n",
       "\n",
       "   indprod_days_since_last  indprod_orders_since_last  \\\n",
       "0                     14.0                          1   \n",
       "1                     14.0                          1   \n",
       "2                     97.0                          6   \n",
       "3                     14.0                          1   \n",
       "4                     14.0                          1   \n",
       "\n",
       "   indprod_proportion_orders  indprod_days_per_order  \n",
       "0                        1.0               17.600000  \n",
       "1                        0.9               19.555556  \n",
       "2                        0.1              176.000000  \n",
       "3                        1.0               17.600000  \n",
       "4                        0.3               58.666667  \n",
       "\n",
       "[5 rows x 22 columns]"
      ]
     },
     "execution_count": 31,
     "metadata": {},
     "output_type": "execute_result"
    }
   ],
   "source": [
    "prior_indprod_stats.head()"
   ]
  },
  {
   "cell_type": "code",
   "execution_count": 28,
   "metadata": {
    "collapsed": true
   },
   "outputs": [],
   "source": [
    "prior_indprod_stats.columns = ['user_id', 'product_id', 'indprod_dow_sin', \n",
    "                               'indprod_dow_cos', 'indprod_hod_sin',\n",
    "                               'indprod_hod_cos', 'indprod_num_products',\n",
    "                               'indprod_num_products_dw_12', 'indprod_num_products_dw_36', \n",
    "                               'indprod_num_products_dw_108', 'indprod_num_products_ow_3',\n",
    "                               'indprod_num_products_ow_10', 'indprod_num_products_ow_30',\n",
    "                               'indprod_add_to_cart_order', 'indprod_add_to_cart_proportion',\n",
    "                               'indprod_inorder_1', 'indprod_inorder_2', 'indprod_inorder_3',\n",
    "                               'indprod_days_since_last', 'indprod_orders_since_last',\n",
    "                                'indprod_proportion_orders', 'indprod_days_per_order']"
   ]
  },
  {
   "cell_type": "code",
   "execution_count": 29,
   "metadata": {},
   "outputs": [],
   "source": [
    "# use indprod means to add more product stats\n",
    "product_order_proportions = (prior_indprod_stats[['user_id', 'product_id', \n",
    "                                                  'indprod_proportion_orders', 'indprod_days_per_order']]\n",
    "                             .groupby(\"product_id\")\n",
    "                             .agg({'indprod_proportion_orders': np.mean,\n",
    "                                  'indprod_days_per_order': np.mean})).reset_index()\n",
    "product_order_proportions.columns = ['product_id', 'product_proportion_orders', 'product_days_per_order']\n",
    "prior_product_stats = prior_product_stats.merge(product_order_proportions, on='product_id')"
   ]
  },
  {
   "cell_type": "code",
   "execution_count": 30,
   "metadata": {},
   "outputs": [
    {
     "data": {
      "text/html": [
       "<div>\n",
       "<style>\n",
       "    .dataframe thead tr:only-child th {\n",
       "        text-align: right;\n",
       "    }\n",
       "\n",
       "    .dataframe thead th {\n",
       "        text-align: left;\n",
       "    }\n",
       "\n",
       "    .dataframe tbody tr th {\n",
       "        vertical-align: top;\n",
       "    }\n",
       "</style>\n",
       "<table border=\"1\" class=\"dataframe\">\n",
       "  <thead>\n",
       "    <tr style=\"text-align: right;\">\n",
       "      <th></th>\n",
       "      <th>product_id</th>\n",
       "      <th>product_dow_sin</th>\n",
       "      <th>product_dow_cos</th>\n",
       "      <th>product_hod_sin</th>\n",
       "      <th>product_hod_cos</th>\n",
       "      <th>product_num_purchases</th>\n",
       "      <th>product_proportion_orders</th>\n",
       "      <th>product_days_per_order</th>\n",
       "    </tr>\n",
       "  </thead>\n",
       "  <tbody>\n",
       "    <tr>\n",
       "      <th>0</th>\n",
       "      <td>1</td>\n",
       "      <td>0.854703</td>\n",
       "      <td>-0.519117</td>\n",
       "      <td>0.918258</td>\n",
       "      <td>-0.395984</td>\n",
       "      <td>1852</td>\n",
       "      <td>0.151142</td>\n",
       "      <td>150.134253</td>\n",
       "    </tr>\n",
       "    <tr>\n",
       "      <th>1</th>\n",
       "      <td>2</td>\n",
       "      <td>-0.103839</td>\n",
       "      <td>0.994594</td>\n",
       "      <td>0.417505</td>\n",
       "      <td>-0.908675</td>\n",
       "      <td>90</td>\n",
       "      <td>0.060412</td>\n",
       "      <td>225.976496</td>\n",
       "    </tr>\n",
       "    <tr>\n",
       "      <th>2</th>\n",
       "      <td>3</td>\n",
       "      <td>0.266320</td>\n",
       "      <td>0.963885</td>\n",
       "      <td>0.970072</td>\n",
       "      <td>-0.242819</td>\n",
       "      <td>277</td>\n",
       "      <td>0.187863</td>\n",
       "      <td>121.497409</td>\n",
       "    </tr>\n",
       "    <tr>\n",
       "      <th>3</th>\n",
       "      <td>4</td>\n",
       "      <td>-0.007467</td>\n",
       "      <td>0.999972</td>\n",
       "      <td>0.999374</td>\n",
       "      <td>-0.035387</td>\n",
       "      <td>329</td>\n",
       "      <td>0.183989</td>\n",
       "      <td>135.010912</td>\n",
       "    </tr>\n",
       "    <tr>\n",
       "      <th>4</th>\n",
       "      <td>5</td>\n",
       "      <td>0.124570</td>\n",
       "      <td>0.992211</td>\n",
       "      <td>-0.655405</td>\n",
       "      <td>-0.755277</td>\n",
       "      <td>15</td>\n",
       "      <td>0.164969</td>\n",
       "      <td>92.583333</td>\n",
       "    </tr>\n",
       "  </tbody>\n",
       "</table>\n",
       "</div>"
      ],
      "text/plain": [
       "   product_id  product_dow_sin  product_dow_cos  product_hod_sin  \\\n",
       "0           1         0.854703        -0.519117         0.918258   \n",
       "1           2        -0.103839         0.994594         0.417505   \n",
       "2           3         0.266320         0.963885         0.970072   \n",
       "3           4        -0.007467         0.999972         0.999374   \n",
       "4           5         0.124570         0.992211        -0.655405   \n",
       "\n",
       "   product_hod_cos  product_num_purchases  product_proportion_orders  \\\n",
       "0        -0.395984                   1852                   0.151142   \n",
       "1        -0.908675                     90                   0.060412   \n",
       "2        -0.242819                    277                   0.187863   \n",
       "3        -0.035387                    329                   0.183989   \n",
       "4        -0.755277                     15                   0.164969   \n",
       "\n",
       "   product_days_per_order  \n",
       "0              150.134253  \n",
       "1              225.976496  \n",
       "2              121.497409  \n",
       "3              135.010912  \n",
       "4               92.583333  "
      ]
     },
     "execution_count": 30,
     "metadata": {},
     "output_type": "execute_result"
    }
   ],
   "source": [
    "prior_product_stats.head()"
   ]
  },
  {
   "cell_type": "code",
   "execution_count": 32,
   "metadata": {
    "collapsed": true
   },
   "outputs": [],
   "source": [
    "prior_all_stats = prior_indprod_stats.merge(prior_individual_stats, on=\"user_id\", how=\"left\").merge(prior_product_stats, on='product_id', how=\"left\")"
   ]
  },
  {
   "cell_type": "code",
   "execution_count": 33,
   "metadata": {
    "collapsed": true
   },
   "outputs": [],
   "source": [
    "orders_df_last = orders_df[orders_df.eval_set != \"prior\"].copy()\n",
    "orders_df_last['order_dow_angle'] = (orders_df_last.order_dow / \n",
    "                                     (orders_df_last.order_dow.max() + 1) * 2 * np.pi - np.pi)\n",
    "orders_df_last['order_hod_angle'] = (orders_df_last.order_hour_of_day / \n",
    "                                             (orders_df_last.order_dow.max() + 1) * 2 * np.pi - np.pi)\n",
    "orders_df_last['order_dow_sin'] = np.sin(orders_df_last.order_dow_angle)\n",
    "orders_df_last['order_dow_cos'] = np.cos(orders_df_last.order_dow_angle)\n",
    "orders_df_last['order_hod_sin'] = np.sin(orders_df_last.order_hod_angle)\n",
    "orders_df_last['order_hod_cos'] = np.cos(orders_df_last.order_hod_angle)"
   ]
  },
  {
   "cell_type": "code",
   "execution_count": 34,
   "metadata": {
    "collapsed": true
   },
   "outputs": [],
   "source": [
    "orders_df_last.drop([\"order_number\", \"order_dow\", \"order_hour_of_day\", \"order_dow_angle\", \"order_hod_angle\"], axis=1, inplace=True)"
   ]
  },
  {
   "cell_type": "code",
   "execution_count": 35,
   "metadata": {
    "collapsed": true
   },
   "outputs": [],
   "source": [
    "prior_all_stats = prior_all_stats.merge(orders_df_last, on=\"user_id\", how=\"inner\")"
   ]
  },
  {
   "cell_type": "code",
   "execution_count": 36,
   "metadata": {
    "collapsed": true
   },
   "outputs": [],
   "source": [
    "products_df_merged = products_df_merged.join(pd.get_dummies(products_df_merged.aisle))"
   ]
  },
  {
   "cell_type": "code",
   "execution_count": 37,
   "metadata": {
    "collapsed": true
   },
   "outputs": [],
   "source": [
    "products_df_merged.drop(['product_name', 'aisle_id', 'department_id', 'department', 'aisle'], axis=1, inplace=True)"
   ]
  },
  {
   "cell_type": "code",
   "execution_count": 38,
   "metadata": {
    "collapsed": true
   },
   "outputs": [],
   "source": [
    "prior_all_stats = prior_all_stats.merge(products_df_merged, on=\"product_id\")"
   ]
  },
  {
   "cell_type": "code",
   "execution_count": 39,
   "metadata": {
    "collapsed": true
   },
   "outputs": [],
   "source": [
    "prior_all_stats = prior_all_stats.merge(train_df[['user_id', 'product_id', 'reordered']], how=\"left\", on=[\"user_id\", \"product_id\"])\n",
    "prior_all_stats.reordered = prior_all_stats.reordered.fillna(0)                  \n"
   ]
  },
  {
   "cell_type": "code",
   "execution_count": 42,
   "metadata": {
    "collapsed": true
   },
   "outputs": [],
   "source": []
  },
  {
   "cell_type": "code",
   "execution_count": 43,
   "metadata": {
    "collapsed": true
   },
   "outputs": [],
   "source": [
    "# split into train, validation, and test sets\n",
    "prior_all_stats['validation_set'] = 0\n",
    "prior_all_stats['prediction'] = 0\n",
    "valid_users = prior_all_stats.loc[prior_all_stats.eval_set == \"train\", \"user_id\"].unique()\n",
    "valid_users = pd.Series(valid_users).sample(frac=.1)\n"
   ]
  },
  {
   "cell_type": "code",
   "execution_count": 44,
   "metadata": {
    "collapsed": true
   },
   "outputs": [],
   "source": [
    "prior_all_stats.loc[prior_all_stats.user_id.isin(valid_users), 'validation_set'] = 1\n"
   ]
  },
  {
   "cell_type": "code",
   "execution_count": 45,
   "metadata": {
    "collapsed": true
   },
   "outputs": [],
   "source": [
    "\n",
    "prior_train = prior_all_stats.loc[(prior_all_stats.eval_set == \"train\") & (prior_all_stats.validation_set == 0)]\n",
    "prior_valid = prior_all_stats.loc[prior_all_stats.validation_set == 1]\n",
    "prior_test = prior_all_stats.loc[prior_all_stats.eval_set == \"test\"]\n",
    "\n",
    "X_train = prior_train.drop([\"prediction\", \"eval_set\", \"validation_set\", \"order_id\", \"reordered\", \"user_id\", \"product_id\"], axis=1).as_matrix()\n",
    "y_train = prior_train.reordered.as_matrix()\n",
    "X_valid = prior_valid.drop([\"prediction\", \"eval_set\", \"validation_set\", \"order_id\", \"reordered\", \"user_id\", \"product_id\"], axis=1).as_matrix()\n",
    "y_valid = prior_valid.reordered.as_matrix()\n",
    "X_test = prior_test.drop([\"prediction\", \"eval_set\", \"validation_set\", \"order_id\", \"reordered\", \"user_id\", \"product_id\"], axis=1).as_matrix()"
   ]
  },
  {
   "cell_type": "code",
   "execution_count": 46,
   "metadata": {},
   "outputs": [
    {
     "data": {
      "text/plain": [
       "(837897, 187)"
      ]
     },
     "execution_count": 46,
     "metadata": {},
     "output_type": "execute_result"
    }
   ],
   "source": [
    "prior_valid.shape"
   ]
  },
  {
   "cell_type": "code",
   "execution_count": 47,
   "metadata": {},
   "outputs": [
    {
     "data": {
      "text/plain": [
       "(7636764, 187)"
      ]
     },
     "execution_count": 47,
     "metadata": {},
     "output_type": "execute_result"
    }
   ],
   "source": [
    "prior_train.shape"
   ]
  },
  {
   "cell_type": "code",
   "execution_count": 48,
   "metadata": {},
   "outputs": [
    {
     "data": {
      "text/plain": [
       "(7636764, 180)"
      ]
     },
     "execution_count": 48,
     "metadata": {},
     "output_type": "execute_result"
    }
   ],
   "source": [
    "X_train.shape"
   ]
  },
  {
   "cell_type": "code",
   "execution_count": 49,
   "metadata": {
    "collapsed": true
   },
   "outputs": [],
   "source": [
    "import xgboost as xgb"
   ]
  },
  {
   "cell_type": "code",
   "execution_count": 50,
   "metadata": {},
   "outputs": [
    {
     "name": "stdout",
     "output_type": "stream",
     "text": [
      "[0]\ttrain-auc:0.82355\tvalid-auc:0.821041\n",
      "Multiple eval metrics have been passed: 'valid-auc' will be used for early stopping.\n",
      "\n",
      "Will train until valid-auc hasn't improved in 50 rounds.\n",
      "[10]\ttrain-auc:0.82764\tvalid-auc:0.824945\n",
      "[20]\ttrain-auc:0.828971\tvalid-auc:0.82619\n",
      "[30]\ttrain-auc:0.83031\tvalid-auc:0.827481\n",
      "[40]\ttrain-auc:0.831524\tvalid-auc:0.828569\n",
      "[50]\ttrain-auc:0.832438\tvalid-auc:0.829341\n",
      "[60]\ttrain-auc:0.83315\tvalid-auc:0.829954\n",
      "[70]\ttrain-auc:0.833638\tvalid-auc:0.830312\n",
      "[80]\ttrain-auc:0.834085\tvalid-auc:0.830628\n",
      "[90]\ttrain-auc:0.834478\tvalid-auc:0.830874\n",
      "[100]\ttrain-auc:0.834836\tvalid-auc:0.831076\n",
      "[110]\ttrain-auc:0.835088\tvalid-auc:0.831222\n",
      "[120]\ttrain-auc:0.835338\tvalid-auc:0.831377\n",
      "[130]\ttrain-auc:0.835609\tvalid-auc:0.831537\n",
      "[140]\ttrain-auc:0.835863\tvalid-auc:0.831667\n",
      "[150]\ttrain-auc:0.836087\tvalid-auc:0.831785\n",
      "[160]\ttrain-auc:0.83628\tvalid-auc:0.831874\n",
      "[170]\ttrain-auc:0.836527\tvalid-auc:0.831992\n",
      "[180]\ttrain-auc:0.836747\tvalid-auc:0.832071\n",
      "[190]\ttrain-auc:0.836911\tvalid-auc:0.832131\n",
      "[199]\ttrain-auc:0.837078\tvalid-auc:0.832186\n",
      "CPU times: user 5h 24min 42s, sys: 19min 44s, total: 5h 44min 27s\n",
      "Wall time: 42min 56s\n"
     ]
    }
   ],
   "source": [
    "%%time\n",
    "# Set our parameters for xgboost\n",
    "params = {}\n",
    "params['objective'] = 'binary:logistic'\n",
    "params['eval_metric'] = 'auc'\n",
    "params['eta'] = 0.1\n",
    "params['max_depth'] = 6\n",
    "params['nthread'] = 12\n",
    "# params['scale_pos_weight'] = (1 - y_train.mean())/(y_train.mean())\n",
    "\n",
    "d_train = xgb.DMatrix(X_train, label=y_train)\n",
    "d_valid = xgb.DMatrix(X_valid, label=y_valid)\n",
    "\n",
    "watchlist = [(d_train, 'train'), (d_valid, 'valid')]\n",
    "\n",
    "bst = xgb.train(params, d_train, 200, watchlist, early_stopping_rounds=50, verbose_eval=10)"
   ]
  },
  {
   "cell_type": "code",
   "execution_count": 51,
   "metadata": {
    "collapsed": true
   },
   "outputs": [],
   "source": [
    "bst.dump_model('dump_addtime.raw.txt')"
   ]
  },
  {
   "cell_type": "code",
   "execution_count": 52,
   "metadata": {
    "collapsed": true
   },
   "outputs": [],
   "source": [
    "y_predicted = bst.predict(d_valid)"
   ]
  },
  {
   "cell_type": "code",
   "execution_count": 53,
   "metadata": {
    "collapsed": true
   },
   "outputs": [],
   "source": [
    "prior_valid = prior_valid.copy()"
   ]
  },
  {
   "cell_type": "code",
   "execution_count": 54,
   "metadata": {},
   "outputs": [
    {
     "name": "stdout",
     "output_type": "stream",
     "text": [
      "0.2\n",
      "0.380658662724\n"
     ]
    }
   ],
   "source": [
    "best_cutoff = 0\n",
    "best_cutoff_f1 = 0\n",
    "for cutoff in np.arange(.01, 1, .01):\n",
    "    prior_valid.loc[:,'prediction'] = 1 * (y_predicted > cutoff)\n",
    "    prior_valid['hit'] = (prior_valid.reordered * prior_valid.prediction)\n",
    "    prior_valid_agg = prior_valid.groupby(\"user_id\").agg({'reordered': np.sum, \n",
    "                                                      'prediction': np.sum, \n",
    "                                                      'hit': np.sum})\n",
    "    prior_valid_agg.loc[(prior_valid_agg.reordered == 0) & (prior_valid_agg.prediction == 0), 'hit'] = 1\n",
    "    prior_valid_agg.loc[(prior_valid_agg.reordered == 0), 'reordered'] = 1\n",
    "    prior_valid_agg.loc[(prior_valid_agg.prediction == 0), 'prediction'] = 1\n",
    "    prior_valid_agg['precision'] = (prior_valid_agg['hit']) / (prior_valid_agg['prediction'])\n",
    "    prior_valid_agg['recall'] = (prior_valid_agg['hit']) / (prior_valid_agg['reordered'])\n",
    "    prior_valid_agg['f1'] = 2 * prior_valid_agg['precision'] * prior_valid_agg['recall'] / (prior_valid_agg['precision'] + prior_valid_agg['recall'] + .0001)\n",
    "    if prior_valid_agg['f1'].mean() > best_cutoff_f1:\n",
    "        best_cutoff_f1 = prior_valid_agg['f1'].mean()\n",
    "        best_cutoff = cutoff\n",
    "print(best_cutoff)\n",
    "print(best_cutoff_f1)"
   ]
  },
  {
   "cell_type": "code",
   "execution_count": null,
   "metadata": {
    "collapsed": true
   },
   "outputs": [],
   "source": [
    "prior_valid.loc[:,'prediction'] = 1 * (y_predicted > .93)"
   ]
  },
  {
   "cell_type": "code",
   "execution_count": null,
   "metadata": {
    "collapsed": true
   },
   "outputs": [],
   "source": [
    "prior_valid['hit'] = (prior_valid.reordered * prior_valid.prediction)"
   ]
  },
  {
   "cell_type": "code",
   "execution_count": null,
   "metadata": {
    "collapsed": true
   },
   "outputs": [],
   "source": [
    "prior_valid_agg = prior_valid.groupby(\"user_id\").agg({'reordered': np.sum, \n",
    "                                                      'prediction': np.sum, \n",
    "                                                      'hit': np.sum})\n",
    "prior_valid_agg.loc[(prior_valid_agg.reordered == 0) & (prior_valid_agg.prediction == 0), 'hit'] = 1\n",
    "prior_valid_agg.loc[(prior_valid_agg.reordered == 0), 'reordered'] = 1\n",
    "prior_valid_agg.loc[(prior_valid_agg.prediction == 0), 'prediction'] = 1"
   ]
  },
  {
   "cell_type": "code",
   "execution_count": null,
   "metadata": {
    "collapsed": true
   },
   "outputs": [],
   "source": [
    "prior_valid_agg.hit.describe()"
   ]
  },
  {
   "cell_type": "code",
   "execution_count": null,
   "metadata": {
    "collapsed": true
   },
   "outputs": [],
   "source": [
    "prior_valid_agg['precision'] = (prior_valid_agg['hit']) / (prior_valid_agg['prediction'])\n",
    "prior_valid_agg['recall'] = (prior_valid_agg['hit']) / (prior_valid_agg['reordered'])"
   ]
  },
  {
   "cell_type": "code",
   "execution_count": null,
   "metadata": {
    "collapsed": true
   },
   "outputs": [],
   "source": [
    "prior_valid_agg.recall.describe()"
   ]
  },
  {
   "cell_type": "code",
   "execution_count": null,
   "metadata": {
    "collapsed": true
   },
   "outputs": [],
   "source": [
    "#prior_valid_agg.recall = prior_valid_agg.recall.fillna(0)\n",
    "#prior_valid_agg.precision = prior_valid_agg.precision.fillna(0)\n",
    "prior_valid_agg['f1'] = 2 * prior_valid_agg['precision'] * prior_valid_agg['recall'] / (prior_valid_agg['precision'] + prior_valid_agg['recall'] + .00001)"
   ]
  },
  {
   "cell_type": "code",
   "execution_count": 60,
   "metadata": {},
   "outputs": [
    {
     "data": {
      "text/plain": [
       "0.18762922417629777"
      ]
     },
     "execution_count": 60,
     "metadata": {},
     "output_type": "execute_result"
    }
   ],
   "source": [
    "prior_valid_agg['f1'].mean()"
   ]
  },
  {
   "cell_type": "code",
   "execution_count": 55,
   "metadata": {
    "collapsed": true
   },
   "outputs": [],
   "source": [
    "d_test = xgb.DMatrix(X_test)\n",
    "y_test = bst.predict(d_test)"
   ]
  },
  {
   "cell_type": "code",
   "execution_count": 56,
   "metadata": {
    "collapsed": true
   },
   "outputs": [],
   "source": [
    "prior_test = prior_test.copy()\n",
    "prior_test['prediction'] = 1 * (y_test > best_cutoff)"
   ]
  },
  {
   "cell_type": "code",
   "execution_count": 57,
   "metadata": {
    "collapsed": true
   },
   "outputs": [],
   "source": [
    "prediction_df = prior_test[prior_test['prediction'] == 1].copy()"
   ]
  },
  {
   "cell_type": "code",
   "execution_count": 58,
   "metadata": {
    "collapsed": true
   },
   "outputs": [],
   "source": [
    "prediction_df = prediction_df[['order_id', 'product_id']]"
   ]
  },
  {
   "cell_type": "code",
   "execution_count": 59,
   "metadata": {
    "collapsed": true
   },
   "outputs": [],
   "source": [
    "prediction_lists = prediction_df.groupby('order_id').agg(lambda x: \" \".join(x.astype(str))).reset_index()"
   ]
  },
  {
   "cell_type": "code",
   "execution_count": 60,
   "metadata": {
    "collapsed": true
   },
   "outputs": [],
   "source": [
    "prediction_lists = prediction_lists.merge(orders_df.loc[orders_df.eval_set == \"test\", ['order_id']], on='order_id', how=\"right\")"
   ]
  },
  {
   "cell_type": "code",
   "execution_count": 61,
   "metadata": {
    "collapsed": true
   },
   "outputs": [],
   "source": [
    "prediction_lists['products'] = prediction_lists.product_id.fillna(\"None\")"
   ]
  },
  {
   "cell_type": "code",
   "execution_count": 62,
   "metadata": {
    "collapsed": true
   },
   "outputs": [],
   "source": [
    "prediction_lists = prediction_lists[['order_id', 'products']]"
   ]
  },
  {
   "cell_type": "code",
   "execution_count": 63,
   "metadata": {
    "collapsed": true
   },
   "outputs": [],
   "source": [
    "prediction_lists.to_csv(\"submissions/addtime_xgb.csv\", index=False)"
   ]
  },
  {
   "cell_type": "code",
   "execution_count": 64,
   "metadata": {},
   "outputs": [
    {
     "data": {
      "text/plain": [
       "(75000, 2)"
      ]
     },
     "execution_count": 64,
     "metadata": {},
     "output_type": "execute_result"
    }
   ],
   "source": [
    "prediction_lists.shape"
   ]
  },
  {
   "cell_type": "code",
   "execution_count": 65,
   "metadata": {},
   "outputs": [
    {
     "data": {
      "text/html": [
       "<div>\n",
       "<style>\n",
       "    .dataframe thead tr:only-child th {\n",
       "        text-align: right;\n",
       "    }\n",
       "\n",
       "    .dataframe thead th {\n",
       "        text-align: left;\n",
       "    }\n",
       "\n",
       "    .dataframe tbody tr th {\n",
       "        vertical-align: top;\n",
       "    }\n",
       "</style>\n",
       "<table border=\"1\" class=\"dataframe\">\n",
       "  <thead>\n",
       "    <tr style=\"text-align: right;\">\n",
       "      <th></th>\n",
       "      <th>order_id</th>\n",
       "      <th>products</th>\n",
       "    </tr>\n",
       "  </thead>\n",
       "  <tbody>\n",
       "    <tr>\n",
       "      <th>0</th>\n",
       "      <td>17</td>\n",
       "      <td>47766 21463 13107</td>\n",
       "    </tr>\n",
       "    <tr>\n",
       "      <th>1</th>\n",
       "      <td>34</td>\n",
       "      <td>13176 47766 47792 21137 48523 43504 39180 3947...</td>\n",
       "    </tr>\n",
       "    <tr>\n",
       "      <th>2</th>\n",
       "      <td>137</td>\n",
       "      <td>41787 24852 5134 38689 25890 2326 23794</td>\n",
       "    </tr>\n",
       "    <tr>\n",
       "      <th>3</th>\n",
       "      <td>182</td>\n",
       "      <td>47209 11520 39275 13629 47672 5479 33000 41149...</td>\n",
       "    </tr>\n",
       "    <tr>\n",
       "      <th>4</th>\n",
       "      <td>257</td>\n",
       "      <td>49235 24852 27966 37646 21137 13870 24838 2710...</td>\n",
       "    </tr>\n",
       "  </tbody>\n",
       "</table>\n",
       "</div>"
      ],
      "text/plain": [
       "   order_id                                           products\n",
       "0        17                                  47766 21463 13107\n",
       "1        34  13176 47766 47792 21137 48523 43504 39180 3947...\n",
       "2       137            41787 24852 5134 38689 25890 2326 23794\n",
       "3       182  47209 11520 39275 13629 47672 5479 33000 41149...\n",
       "4       257  49235 24852 27966 37646 21137 13870 24838 2710..."
      ]
     },
     "execution_count": 65,
     "metadata": {},
     "output_type": "execute_result"
    }
   ],
   "source": [
    "prediction_lists.head()"
   ]
  },
  {
   "cell_type": "code",
   "execution_count": null,
   "metadata": {
    "collapsed": true
   },
   "outputs": [],
   "source": []
  }
 ],
 "metadata": {
  "kernelspec": {
   "display_name": "Python 3",
   "language": "python",
   "name": "python3"
  },
  "language_info": {
   "codemirror_mode": {
    "name": "ipython",
    "version": 3
   },
   "file_extension": ".py",
   "mimetype": "text/x-python",
   "name": "python",
   "nbconvert_exporter": "python",
   "pygments_lexer": "ipython3",
   "version": "3.6.1"
  }
 },
 "nbformat": 4,
 "nbformat_minor": 1
}
