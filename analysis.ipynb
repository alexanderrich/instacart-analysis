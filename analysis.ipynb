{
 "cells": [
  {
   "cell_type": "code",
   "execution_count": 1,
   "metadata": {
    "collapsed": true
   },
   "outputs": [],
   "source": [
    "import numpy as np\n",
    "import pandas as pd\n",
    "import matplotlib.pyplot as plt\n",
    "\n",
    "% matplotlib inline"
   ]
  },
  {
   "cell_type": "code",
   "execution_count": 2,
   "metadata": {
    "collapsed": true
   },
   "outputs": [],
   "source": [
    "aisles_df = pd.read_csv(\"data/aisles.csv\")\n",
    "departments_df = pd.read_csv(\"data/departments.csv\")\n",
    "products_df = pd.read_csv(\"data/products.csv\")\n",
    "orders_df = pd.read_csv(\"data/orders.csv\")\n",
    "prior_df = pd.read_csv(\"data/order_products__prior.csv\")\n",
    "train_df = pd.read_csv(\"data/order_products__train.csv\")\n",
    "products_df_merged = (products_df\n",
    "                      .merge(departments_df, on=\"department_id\")\n",
    "                      .merge(aisles_df, on=\"aisle_id\"))"
   ]
  },
  {
   "cell_type": "code",
   "execution_count": 3,
   "metadata": {
    "collapsed": true
   },
   "outputs": [],
   "source": [
    "orders_df['absolute_date'] = orders_df.groupby(\"user_id\").days_since_prior_order.cumsum().fillna(0)"
   ]
  },
  {
   "cell_type": "code",
   "execution_count": 4,
   "metadata": {
    "collapsed": true
   },
   "outputs": [],
   "source": [
    "orders_df['max_order_number'] = orders_df.groupby(\"user_id\").order_number.transform(max)\n",
    "orders_df['max_absolute_date'] = orders_df.groupby(\"user_id\").absolute_date.transform(max)"
   ]
  },
  {
   "cell_type": "code",
   "execution_count": 5,
   "metadata": {
    "collapsed": true
   },
   "outputs": [],
   "source": [
    "orders_df['reverse_date'] = orders_df.max_absolute_date - orders_df.absolute_date\n",
    "orders_df['reverse_order_number'] = orders_df.max_order_number - orders_df.order_number"
   ]
  },
  {
   "cell_type": "code",
   "execution_count": 6,
   "metadata": {
    "collapsed": true
   },
   "outputs": [],
   "source": [
    "train_df = train_df.merge(orders_df[[\"order_id\", \"user_id\"]], on=\"order_id\")"
   ]
  },
  {
   "cell_type": "code",
   "execution_count": 7,
   "metadata": {
    "collapsed": true
   },
   "outputs": [],
   "source": [
    "prior_df = prior_df.merge(orders_df, on=\"order_id\")"
   ]
  },
  {
   "cell_type": "code",
   "execution_count": 8,
   "metadata": {
    "collapsed": true
   },
   "outputs": [],
   "source": [
    "prior_df['order_dow_angle'] = (prior_df.order_dow / \n",
    "                                     (prior_df.order_dow.max() + 1) * 2 * np.pi)\n",
    "prior_df['order_hod_angle'] = (prior_df.order_hour_of_day / \n",
    "                                             (prior_df.order_dow.max() + 1) * 2 * np.pi)"
   ]
  },
  {
   "cell_type": "code",
   "execution_count": 9,
   "metadata": {
    "collapsed": true
   },
   "outputs": [],
   "source": [
    "prior_df['order_dow_sin'] = np.sin(prior_df.order_dow_angle)\n",
    "prior_df['order_dow_cos'] = np.cos(prior_df.order_dow_angle)\n",
    "prior_df['order_hod_sin'] = np.sin(prior_df.order_hod_angle)\n",
    "prior_df['order_hod_cos'] = np.cos(prior_df.order_hod_angle)\n",
    "prior_df['num_products'] = 1\n",
    "prior_df['num_products_dw_8'] = np.exp(-np.log(2)/8 * prior_df.reverse_date)\n",
    "prior_df['num_products_dw_16'] = np.exp(-np.log(2)/16 * prior_df.reverse_date)\n",
    "prior_df['num_products_dw_32'] = np.exp(-np.log(2)/32 * prior_df.reverse_date)\n",
    "prior_df['num_products_dw_64'] = np.exp(-np.log(2)/64 * prior_df.reverse_date)\n",
    "prior_df['num_products_dw_128'] = np.exp(-np.log(2)/128 * prior_df.reverse_date)\n",
    "prior_df['num_products_ow_2'] = np.exp(-np.log(2)/2 * prior_df.reverse_order_number)\n",
    "prior_df['num_products_ow_4'] = np.exp(-np.log(2)/4 * prior_df.reverse_order_number)\n",
    "prior_df['num_products_ow_8'] = np.exp(-np.log(2)/8 * prior_df.reverse_order_number)\n",
    "prior_df['num_products_ow_16'] = np.exp(-np.log(2)/16 * prior_df.reverse_order_number)\n",
    "prior_df['num_products_ow_32'] = np.exp(-np.log(2)/32 * prior_df.reverse_order_number)"
   ]
  },
  {
   "cell_type": "code",
   "execution_count": 11,
   "metadata": {
    "collapsed": true
   },
   "outputs": [],
   "source": [
    "prior_product_stats = prior_df.groupby(\"product_id\").agg({'order_dow_sin': np.sum, \n",
    "                                                                'order_dow_cos': np.sum, \n",
    "                                                                'order_hod_sin': np.sum,\n",
    "                                                                'order_hod_cos': np.sum,\n",
    "                                                               'num_products': np.sum})\n",
    "prior_product_stats['order_dow_angle'] = np.arctan2(prior_product_stats.order_dow_sin, prior_product_stats.order_dow_cos)\n",
    "prior_product_stats['order_hod_angle'] = np.arctan2(prior_product_stats.order_hod_sin, prior_product_stats.order_hod_cos)"
   ]
  },
  {
   "cell_type": "code",
   "execution_count": 12,
   "metadata": {
    "collapsed": true
   },
   "outputs": [],
   "source": [
    "prior_product_stats.order_dow_sin = np.sin(prior_product_stats.order_dow_angle)\n",
    "prior_product_stats.order_dow_cos = np.cos(prior_product_stats.order_dow_angle)\n",
    "prior_product_stats.order_hod_sin = np.sin(prior_product_stats.order_hod_angle)\n",
    "prior_product_stats.order_hod_cos = np.cos(prior_product_stats.order_hod_angle)\n",
    "prior_product_stats.drop(['order_dow_angle', 'order_hod_angle'], axis=1, inplace=True)\n",
    "prior_product_stats.reset_index(inplace=True)\n",
    "prior_product_stats.columns = ['product_id', 'product_dow_sin', 'product_dow_cos', 'product_hod_sin', 'product_hod_cos', 'product_num_purchases']"
   ]
  },
  {
   "cell_type": "code",
   "execution_count": 14,
   "metadata": {
    "collapsed": true
   },
   "outputs": [],
   "source": [
    "prior_indorder_stats = prior_df.groupby([\"user_id\", \"order_id\"]).agg({'order_dow_sin': np.sum, \n",
    "                                                                'order_dow_cos': np.sum, \n",
    "                                                                'order_hod_sin': np.sum,\n",
    "                                                                'order_hod_cos': np.sum,\n",
    "                                                               'num_products': np.sum,\n",
    "                                                                      'absolute_date': np.max,\n",
    "                                                                     'order_number': np.max}).reset_index()"
   ]
  },
  {
   "cell_type": "code",
   "execution_count": 15,
   "metadata": {
    "collapsed": true
   },
   "outputs": [],
   "source": [
    "prior_individual_stats = prior_indorder_stats.groupby(\"user_id\").agg({'order_dow_sin': np.sum, \n",
    "                                                                'order_dow_cos': np.sum, \n",
    "                                                                'order_hod_sin': np.sum,\n",
    "                                                                'order_hod_cos': np.sum,\n",
    "                                                               'num_products': [np.sum, np.mean],\n",
    "                                                                'absolute_date': np.max,      \n",
    "                                                                'order_number': np.max})"
   ]
  },
  {
   "cell_type": "code",
   "execution_count": 17,
   "metadata": {
    "collapsed": true
   },
   "outputs": [],
   "source": [
    "prior_individual_stats.columns = ['order_dow_sin', 'order_dow_cos',\n",
    "                                  'order_hod_sin', 'order_hod_cos', \n",
    "                                   'num_products', 'mean_products', 'max_absolute_date', \"max_order_number\"]"
   ]
  },
  {
   "cell_type": "code",
   "execution_count": 18,
   "metadata": {
    "collapsed": true
   },
   "outputs": [],
   "source": [
    "prior_individual_stats['order_dow_angle'] = np.arctan2(prior_individual_stats.order_dow_sin, prior_individual_stats.order_dow_cos)\n",
    "prior_individual_stats['order_hod_angle'] = np.arctan2(prior_individual_stats.order_hod_sin, prior_individual_stats.order_hod_cos)\n",
    "prior_individual_stats.order_dow_sin = np.sin(prior_individual_stats.order_dow_angle)\n",
    "prior_individual_stats.order_dow_cos = np.cos(prior_individual_stats.order_dow_angle)\n",
    "prior_individual_stats.order_hod_sin = np.sin(prior_individual_stats.order_hod_angle)\n",
    "prior_individual_stats.order_hod_cos = np.cos(prior_individual_stats.order_hod_angle)\n",
    "prior_individual_stats.drop(['order_dow_angle', 'order_hod_angle'], axis=1, inplace=True)"
   ]
  },
  {
   "cell_type": "code",
   "execution_count": 19,
   "metadata": {
    "collapsed": true
   },
   "outputs": [],
   "source": [
    "prior_individual_stats = prior_individual_stats.reset_index()"
   ]
  },
  {
   "cell_type": "code",
   "execution_count": 21,
   "metadata": {
    "collapsed": true
   },
   "outputs": [],
   "source": [
    "prior_individual_stats.columns = ['user_id', 'user_dow_sin',\n",
    "                                  'user_dow_cos', 'user_hod_sin',\n",
    "                                  'user_hod_cos', 'user_num_products',\n",
    "                                  'user_mean_products', 'user_num_days',\n",
    "                                 'user_num_orders']\n",
    "prior_individual_stats['user_days_per_order'] = prior_individual_stats.user_num_days / prior_individual_stats.user_num_orders"
   ]
  },
  {
   "cell_type": "code",
   "execution_count": 22,
   "metadata": {
    "collapsed": true
   },
   "outputs": [],
   "source": [
    "prior_indorder_stats = prior_indorder_stats[['order_id', 'num_products']]\n",
    "prior_indorder_stats.columns = ['order_id', 'num_products_in_order']"
   ]
  },
  {
   "cell_type": "code",
   "execution_count": 23,
   "metadata": {
    "collapsed": true
   },
   "outputs": [],
   "source": [
    "prior_indprod_stats = (prior_df.merge(prior_indorder_stats[['order_id', 'num_products_in_order']], on='order_id')\n",
    "                       .merge(prior_individual_stats[['user_id', 'user_num_orders', 'user_num_days']], on='user_id', how='left'))\n",
    "prior_indprod_stats['add_to_cart_proportion'] = prior_indprod_stats['add_to_cart_order'] / prior_indprod_stats['num_products_in_order']\n",
    "prior_indprod_stats['indprod_inorder_1'] = 1 * (prior_indprod_stats.order_number == prior_indprod_stats.user_num_orders)\n",
    "prior_indprod_stats['indprod_inorder_2'] = 1 * (prior_indprod_stats.order_number == prior_indprod_stats.user_num_orders - 1)\n",
    "prior_indprod_stats['indprod_inorder_3'] = 1 * (prior_indprod_stats.order_number == prior_indprod_stats.user_num_orders - 2)\n",
    "prior_indprod_stats = prior_indprod_stats.groupby([\"user_id\", \"product_id\"]).agg({'order_dow_sin': np.sum, \n",
    "                                                                'order_dow_cos': np.sum, \n",
    "                                                                'order_hod_sin': np.sum,\n",
    "                                                                'order_hod_cos': np.sum,\n",
    "                                                               'num_products': np.sum,\n",
    "                                                               'num_products_dw_8': np.sum,\n",
    "                                                                'num_products_dw_16': np.sum,\n",
    "                                                                'num_products_dw_32': np.sum,\n",
    "                                                                'num_products_dw_64': np.sum,\n",
    "                                                                'num_products_dw_128': np.sum,\n",
    "                                                                'num_products_ow_2': np.sum,           \n",
    "                                                                'num_products_ow_4': np.sum,\n",
    "                                                                'num_products_ow_8': np.sum,                  \n",
    "                                                                'num_products_ow_16': np.sum,\n",
    "                                                                'num_products_ow_32': np.sum,                                   \n",
    "                                                           'add_to_cart_order': np.mean,\n",
    "                                                           'add_to_cart_proportion': np.mean,\n",
    "                                                           'indprod_inorder_1': np.sum,\n",
    "                                                           'indprod_inorder_2': np.sum,\n",
    "                                                           'indprod_inorder_3': np.sum,\n",
    "                                                            'user_num_orders': np.mean,\n",
    "                                                            'user_num_days': np.mean,\n",
    "                                                            'reverse_date': np.min,\n",
    "                                                            'reverse_order_number': np.min}).reset_index()"
   ]
  },
  {
   "cell_type": "code",
   "execution_count": 24,
   "metadata": {
    "collapsed": true
   },
   "outputs": [],
   "source": [
    "prior_indprod_stats['order_dow_angle'] = np.arctan2(prior_indprod_stats.order_dow_sin, prior_indprod_stats.order_dow_cos)\n",
    "prior_indprod_stats['order_hod_angle'] = np.arctan2(prior_indprod_stats.order_hod_sin, prior_indprod_stats.order_hod_cos)\n",
    "prior_indprod_stats['proportion_orders'] = prior_indprod_stats.num_products / (prior_indprod_stats.user_num_orders)\n",
    "prior_indprod_stats['days_per_order'] = prior_indprod_stats.user_num_days / (prior_indprod_stats.num_products)"
   ]
  },
  {
   "cell_type": "code",
   "execution_count": 25,
   "metadata": {
    "collapsed": true
   },
   "outputs": [],
   "source": [
    "prior_indprod_stats.order_dow_sin = np.sin(prior_indprod_stats.order_dow_angle)\n",
    "prior_indprod_stats.order_dow_cos = np.cos(prior_indprod_stats.order_dow_angle)\n",
    "prior_indprod_stats.order_hod_sin = np.sin(prior_indprod_stats.order_hod_angle)\n",
    "prior_indprod_stats.order_hod_cos = np.cos(prior_indprod_stats.order_hod_angle)\n",
    "prior_indprod_stats.drop(['order_dow_angle', 'order_hod_angle', 'user_num_orders', 'user_num_days'], axis=1, inplace=True)"
   ]
  },
  {
   "cell_type": "code",
   "execution_count": 27,
   "metadata": {
    "collapsed": true
   },
   "outputs": [],
   "source": [
    "prior_indprod_stats.columns = ['user_id', 'product_id', 'indprod_dow_sin', \n",
    "                               'indprod_dow_cos', 'indprod_hod_sin',\n",
    "                               'indprod_hod_cos', 'indprod_num_products',\n",
    "                               'indprod_num_products_dw_8', 'indprod_num_products_dw_16', \n",
    "                               'indprod_num_products_dw_32', 'indprod_num_products_dw_64', \n",
    "                               'indprod_num_products_dw_128', 'indprod_num_products_ow_2',\n",
    "                               'indprod_num_products_ow_4', 'indprod_num_products_ow_8',\n",
    "                               'indprod_num_products_ow_16', 'indprod_num_products_ow_32',\n",
    "                               'indprod_add_to_cart_order', 'indprod_add_to_cart_proportion',\n",
    "                               'indprod_inorder_1', 'indprod_inorder_2', 'indprod_inorder_3',\n",
    "                               'indprod_days_since_last', 'indprod_orders_since_last',\n",
    "                                'indprod_proportion_orders', 'indprod_days_per_order']"
   ]
  },
  {
   "cell_type": "code",
   "execution_count": 28,
   "metadata": {
    "collapsed": true
   },
   "outputs": [],
   "source": [
    "# use indprod means to add more product stats\n",
    "product_order_proportions = (prior_indprod_stats[['user_id', 'product_id', \n",
    "                                                  'indprod_proportion_orders', 'indprod_days_per_order']]\n",
    "                             .groupby(\"product_id\")\n",
    "                             .agg({'indprod_proportion_orders': np.mean,\n",
    "                                  'indprod_days_per_order': np.mean})).reset_index()\n",
    "product_order_proportions.columns = ['product_id', 'product_proportion_orders', 'product_days_per_order']\n",
    "prior_product_stats = prior_product_stats.merge(product_order_proportions, on='product_id')"
   ]
  },
  {
   "cell_type": "code",
   "execution_count": 30,
   "metadata": {
    "collapsed": true
   },
   "outputs": [],
   "source": [
    "prior_all_stats = prior_indprod_stats.merge(prior_individual_stats, on=\"user_id\", how=\"left\").merge(prior_product_stats, on='product_id', how=\"left\")"
   ]
  },
  {
   "cell_type": "code",
   "execution_count": 31,
   "metadata": {
    "collapsed": true
   },
   "outputs": [],
   "source": [
    "orders_df_last = orders_df[orders_df.eval_set != \"prior\"].copy()\n",
    "orders_df_last['order_dow_angle'] = (orders_df_last.order_dow / \n",
    "                                     (orders_df_last.order_dow.max() + 1) * 2 * np.pi - np.pi)\n",
    "orders_df_last['order_hod_angle'] = (orders_df_last.order_hour_of_day / \n",
    "                                             (orders_df_last.order_dow.max() + 1) * 2 * np.pi - np.pi)\n",
    "orders_df_last['order_dow_sin'] = np.sin(orders_df_last.order_dow_angle)\n",
    "orders_df_last['order_dow_cos'] = np.cos(orders_df_last.order_dow_angle)\n",
    "orders_df_last['order_hod_sin'] = np.sin(orders_df_last.order_hod_angle)\n",
    "orders_df_last['order_hod_cos'] = np.cos(orders_df_last.order_hod_angle)"
   ]
  },
  {
   "cell_type": "code",
   "execution_count": 32,
   "metadata": {
    "collapsed": true
   },
   "outputs": [],
   "source": [
    "orders_df_last.drop([\"order_number\", \"order_dow\", \"order_hour_of_day\", \"order_dow_angle\", \"order_hod_angle\"], axis=1, inplace=True)"
   ]
  },
  {
   "cell_type": "code",
   "execution_count": 33,
   "metadata": {
    "collapsed": true
   },
   "outputs": [],
   "source": [
    "prior_all_stats = prior_all_stats.merge(orders_df_last, on=\"user_id\", how=\"inner\")"
   ]
  },
  {
   "cell_type": "code",
   "execution_count": 34,
   "metadata": {
    "collapsed": true
   },
   "outputs": [],
   "source": [
    "products_df_merged = products_df_merged.join(pd.get_dummies(products_df_merged.aisle))"
   ]
  },
  {
   "cell_type": "code",
   "execution_count": 35,
   "metadata": {
    "collapsed": true
   },
   "outputs": [],
   "source": [
    "products_df_merged.drop(['product_name', 'aisle_id', 'department_id', 'department', 'aisle'], axis=1, inplace=True)"
   ]
  },
  {
   "cell_type": "code",
   "execution_count": 36,
   "metadata": {
    "collapsed": true
   },
   "outputs": [],
   "source": [
    "prior_all_stats = prior_all_stats.merge(products_df_merged, on=\"product_id\")"
   ]
  },
  {
   "cell_type": "code",
   "execution_count": 37,
   "metadata": {
    "collapsed": true
   },
   "outputs": [],
   "source": [
    "prior_all_stats = prior_all_stats.merge(train_df[['user_id', 'product_id', 'reordered']], how=\"left\", on=[\"user_id\", \"product_id\"])\n",
    "prior_all_stats.reordered = prior_all_stats.reordered.fillna(0)                  \n"
   ]
  },
  {
   "cell_type": "code",
   "execution_count": 38,
   "metadata": {
    "collapsed": true
   },
   "outputs": [],
   "source": [
    "# split into train, validation, and test sets\n",
    "prior_all_stats['validation_set'] = 0\n",
    "prior_all_stats['prediction'] = 0\n",
    "valid_users = prior_all_stats.loc[prior_all_stats.eval_set == \"train\", \"user_id\"].unique()\n",
    "valid_users = pd.Series(valid_users).sample(frac=.1)\n"
   ]
  },
  {
   "cell_type": "code",
   "execution_count": 39,
   "metadata": {
    "collapsed": true
   },
   "outputs": [],
   "source": [
    "prior_all_stats.loc[prior_all_stats.user_id.isin(valid_users), 'validation_set'] = 1\n"
   ]
  },
  {
   "cell_type": "code",
   "execution_count": 40,
   "metadata": {
    "collapsed": true
   },
   "outputs": [],
   "source": [
    "\n",
    "prior_train = prior_all_stats.loc[(prior_all_stats.eval_set == \"train\") & (prior_all_stats.validation_set == 0)]\n",
    "prior_valid = prior_all_stats.loc[prior_all_stats.validation_set == 1]\n",
    "prior_test = prior_all_stats.loc[prior_all_stats.eval_set == \"test\"]\n",
    "\n",
    "X_train = prior_train.drop([\"prediction\", \"eval_set\", \"validation_set\", \"order_id\", \"reordered\", \"user_id\", \"product_id\"], axis=1).as_matrix()\n",
    "y_train = prior_train.reordered.as_matrix()\n",
    "X_valid = prior_valid.drop([\"prediction\", \"eval_set\", \"validation_set\", \"order_id\", \"reordered\", \"user_id\", \"product_id\"], axis=1).as_matrix()\n",
    "y_valid = prior_valid.reordered.as_matrix()\n",
    "X_test = prior_test.drop([\"prediction\", \"eval_set\", \"validation_set\", \"order_id\", \"reordered\", \"user_id\", \"product_id\"], axis=1).as_matrix()"
   ]
  },
  {
   "cell_type": "code",
   "execution_count": 41,
   "metadata": {
    "collapsed": true
   },
   "outputs": [],
   "source": [
    "import xgboost as xgb"
   ]
  },
  {
   "cell_type": "code",
   "execution_count": 42,
   "metadata": {},
   "outputs": [
    {
     "name": "stdout",
     "output_type": "stream",
     "text": [
      "[0]\ttrain-auc:0.823477\tvalid-auc:0.821979\n",
      "Multiple eval metrics have been passed: 'valid-auc' will be used for early stopping.\n",
      "\n",
      "Will train until valid-auc hasn't improved in 50 rounds.\n",
      "[10]\ttrain-auc:0.827432\tvalid-auc:0.825496\n",
      "[20]\ttrain-auc:0.828911\tvalid-auc:0.826925\n",
      "[30]\ttrain-auc:0.830239\tvalid-auc:0.828104\n",
      "[40]\ttrain-auc:0.831434\tvalid-auc:0.829168\n",
      "[50]\ttrain-auc:0.832322\tvalid-auc:0.830005\n",
      "[60]\ttrain-auc:0.833089\tvalid-auc:0.830559\n",
      "[70]\ttrain-auc:0.833614\tvalid-auc:0.830936\n",
      "[80]\ttrain-auc:0.834052\tvalid-auc:0.831192\n",
      "[90]\ttrain-auc:0.834441\tvalid-auc:0.831436\n",
      "[100]\ttrain-auc:0.834738\tvalid-auc:0.831576\n",
      "[110]\ttrain-auc:0.835027\tvalid-auc:0.831715\n",
      "[120]\ttrain-auc:0.835298\tvalid-auc:0.831839\n",
      "[130]\ttrain-auc:0.835565\tvalid-auc:0.83198\n",
      "[140]\ttrain-auc:0.835762\tvalid-auc:0.832061\n",
      "[150]\ttrain-auc:0.836032\tvalid-auc:0.832205\n",
      "[160]\ttrain-auc:0.836243\tvalid-auc:0.832291\n",
      "[170]\ttrain-auc:0.836451\tvalid-auc:0.83236\n",
      "[180]\ttrain-auc:0.836649\tvalid-auc:0.832438\n",
      "[190]\ttrain-auc:0.83686\tvalid-auc:0.832511\n",
      "[199]\ttrain-auc:0.837016\tvalid-auc:0.832556\n",
      "CPU times: user 5h 27min 46s, sys: 19min 17s, total: 5h 47min 3s\n",
      "Wall time: 42min 41s\n"
     ]
    }
   ],
   "source": [
    "# Set our parameters for xgboost\n",
    "params = {}\n",
    "params['objective'] = 'binary:logistic'\n",
    "params['eval_metric'] = 'auc'\n",
    "params['eta'] = 0.1\n",
    "params['max_depth'] = 6\n",
    "params['nthread'] = 12\n",
    "# params['scale_pos_weight'] = (1 - y_train.mean())/(y_train.mean())\n",
    "\n",
    "d_train = xgb.DMatrix(X_train, label=y_train)\n",
    "d_valid = xgb.DMatrix(X_valid, label=y_valid)\n",
    "\n",
    "watchlist = [(d_train, 'train'), (d_valid, 'valid')]\n",
    "\n",
    "bst = xgb.train(params, d_train, 1000, watchlist, early_stopping_rounds=50, verbose_eval=10)"
   ]
  },
  {
   "cell_type": "code",
   "execution_count": 43,
   "metadata": {
    "collapsed": true
   },
   "outputs": [],
   "source": [
    "bst.save_model('dump_addtime.model')"
   ]
  },
  {
   "cell_type": "code",
   "execution_count": 45,
   "metadata": {
    "collapsed": true
   },
   "outputs": [],
   "source": [
    "y_predicted = bst.predict(d_valid)"
   ]
  },
  {
   "cell_type": "code",
   "execution_count": 46,
   "metadata": {
    "collapsed": true
   },
   "outputs": [],
   "source": [
    "prior_valid = prior_valid.copy()"
   ]
  },
  {
   "cell_type": "code",
   "execution_count": 74,
   "metadata": {},
   "outputs": [
    {
     "name": "stdout",
     "output_type": "stream",
     "text": [
      "0.185\n",
      "0.068\n",
      "0.389738163363\n"
     ]
    }
   ],
   "source": [
    "best_reorder_cutoff = 0\n",
    "best_cutoff_f1 = 0\n",
    "best_none_cutoff = 0\n",
    "for reorder_cutoff in np.arange(.1, .4, .005):\n",
    "    prior_valid.loc[:,'prediction'] = 1 * (y_predicted > reorder_cutoff)\n",
    "    prior_valid['p_not'] = 1 - y_predicted\n",
    "    prior_valid['hit'] = (prior_valid.reordered * prior_valid.prediction)\n",
    "    prior_valid_agg = prior_valid.groupby(\"user_id\").agg({'reordered': np.sum, \n",
    "                                                      'prediction': np.sum, \n",
    "                                                      'hit': np.sum,\n",
    "                                                         'p_not': np.prod})\n",
    "    for none_cutoff in np.arange(0, .1, .002):\n",
    "        prior_valid_agg['putnone'] = (prior_valid_agg.p_not > none_cutoff) | (prior_valid_agg.prediction == 0)\n",
    "        #prior_valid_agg['putnone'] = (prior_valid_agg.prediction == 0)\n",
    "        prior_valid_agg['truenone'] = (prior_valid_agg.reordered == 0)\n",
    "        prior_valid_agg['r'] = prior_valid_agg.reordered\n",
    "        prior_valid_agg['p'] = prior_valid_agg.prediction\n",
    "        prior_valid_agg['h'] = prior_valid_agg.hit\n",
    "        prior_valid_agg.loc[prior_valid_agg.putnone & prior_valid_agg.truenone, \"h\"] = 1\n",
    "        prior_valid_agg.loc[prior_valid_agg.putnone, 'p'] = prior_valid_agg.loc[prior_valid_agg.putnone, 'p'] + 1\n",
    "        prior_valid_agg.loc[prior_valid_agg.truenone, 'r'] = prior_valid_agg.loc[prior_valid_agg.truenone, 'r'] + 1\n",
    "        #prior_valid_agg.loc[(prior_valid_agg.reordered == 0), 'reordered'] = 1\n",
    "        #prior_valid_agg.loc[(prior_valid_agg.prediction == 0), 'prediction'] = 1\n",
    "        prior_valid_agg['precision'] = (prior_valid_agg['h']) / (prior_valid_agg['p'])\n",
    "        prior_valid_agg['recall'] = (prior_valid_agg['h']) / (prior_valid_agg['r'])\n",
    "        prior_valid_agg['f1'] = 2 * prior_valid_agg['precision'] * prior_valid_agg['recall'] / (prior_valid_agg['precision'] + prior_valid_agg['recall'] + .000001)\n",
    "        if prior_valid_agg['f1'].mean() > best_cutoff_f1:\n",
    "            best_cutoff_f1 = prior_valid_agg['f1'].mean()\n",
    "            best_reorder_cutoff = reorder_cutoff\n",
    "            best_none_cutoff = none_cutoff\n",
    "print(\"best reorder cutoff:\", best_reorder_cutoff)\n",
    "print(\"best none cutoff:\", best_none_cutoff)\n",
    "print(\"best f1:\", best_cutoff_f1)"
   ]
  },
  {
   "cell_type": "code",
   "execution_count": 49,
   "metadata": {
    "collapsed": true
   },
   "outputs": [],
   "source": [
    "d_test = xgb.DMatrix(X_test)\n",
    "y_test = bst.predict(d_test)"
   ]
  },
  {
   "cell_type": "code",
   "execution_count": 76,
   "metadata": {
    "collapsed": true
   },
   "outputs": [],
   "source": [
    "prior_test = prior_test.copy()\n",
    "prior_test['prediction'] = 1 * (y_test > best_reorder_cutoff)\n",
    "prior_test['p_not'] = 1 - y_test"
   ]
  },
  {
   "cell_type": "code",
   "execution_count": 77,
   "metadata": {
    "collapsed": true
   },
   "outputs": [],
   "source": [
    "writenone_df = prior_test.groupby('order_id').agg({'p_not': np.prod, 'prediction': np.sum}).reset_index()"
   ]
  },
  {
   "cell_type": "code",
   "execution_count": 78,
   "metadata": {
    "collapsed": true
   },
   "outputs": [],
   "source": [
    "writenone_df['putnone'] = (writenone_df.p_not > best_none_cutoff) | (writenone_df.prediction == 0)\n",
    "writenone_df['nonestring'] = ''\n",
    "writenone_df.loc[writenone_df.putnone, 'nonestring'] = 'None'"
   ]
  },
  {
   "cell_type": "code",
   "execution_count": 80,
   "metadata": {
    "collapsed": true
   },
   "outputs": [],
   "source": [
    "prediction_df = prior_test[prior_test['prediction'] == 1].copy()"
   ]
  },
  {
   "cell_type": "code",
   "execution_count": 81,
   "metadata": {
    "collapsed": true
   },
   "outputs": [],
   "source": [
    "prediction_df = prediction_df[['order_id', 'product_id']]"
   ]
  },
  {
   "cell_type": "code",
   "execution_count": 82,
   "metadata": {
    "collapsed": true
   },
   "outputs": [],
   "source": [
    "prediction_lists = prediction_df.groupby('order_id').agg(lambda x: \" \".join(x.astype(str))).reset_index()"
   ]
  },
  {
   "cell_type": "code",
   "execution_count": 83,
   "metadata": {
    "collapsed": true
   },
   "outputs": [],
   "source": [
    "prediction_lists = prediction_lists.merge(writenone_df[['order_id', 'nonestring']], on='order_id', how='right')"
   ]
  },
  {
   "cell_type": "code",
   "execution_count": 84,
   "metadata": {
    "collapsed": true
   },
   "outputs": [],
   "source": [
    "prediction_lists['products'] = prediction_lists.product_id.fillna('')"
   ]
  },
  {
   "cell_type": "code",
   "execution_count": 85,
   "metadata": {
    "collapsed": true
   },
   "outputs": [],
   "source": [
    "prediction_lists['products'] = prediction_lists.products + \" \" + prediction_lists.nonestring"
   ]
  },
  {
   "cell_type": "code",
   "execution_count": 86,
   "metadata": {
    "collapsed": true
   },
   "outputs": [],
   "source": [
    "prediction_lists = prediction_lists[['order_id', 'products']]"
   ]
  },
  {
   "cell_type": "code",
   "execution_count": 88,
   "metadata": {
    "collapsed": true
   },
   "outputs": [],
   "source": [
    "prediction_lists.to_csv(\"submissions/nonecutoff_xgb.csv\", index=False)"
   ]
  }
 ],
 "metadata": {
  "kernelspec": {
   "display_name": "Python 3",
   "language": "python",
   "name": "python3"
  },
  "language_info": {
   "codemirror_mode": {
    "name": "ipython",
    "version": 3
   },
   "file_extension": ".py",
   "mimetype": "text/x-python",
   "name": "python",
   "nbconvert_exporter": "python",
   "pygments_lexer": "ipython3",
   "version": "3.6.1"
  }
 },
 "nbformat": 4,
 "nbformat_minor": 1
}
