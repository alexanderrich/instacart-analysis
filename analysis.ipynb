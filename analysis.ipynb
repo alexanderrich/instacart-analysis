{
 "cells": [
  {
   "cell_type": "code",
   "execution_count": 1,
   "metadata": {
    "collapsed": true
   },
   "outputs": [],
   "source": [
    "import numpy as np\n",
    "import pandas as pd\n",
    "import matplotlib.pyplot as plt\n",
    "import seaborn as sns\n",
    "\n",
    "% matplotlib inline"
   ]
  },
  {
   "cell_type": "code",
   "execution_count": 2,
   "metadata": {
    "collapsed": true
   },
   "outputs": [],
   "source": [
    "aisles_df = pd.read_csv(\"data/aisles.csv\")\n",
    "departments_df = pd.read_csv(\"data/departments.csv\")\n",
    "products_df = pd.read_csv(\"data/products.csv\")\n",
    "orders_df = pd.read_csv(\"data/orders.csv\")\n",
    "prior_df = pd.read_csv(\"data/order_products__prior.csv\")\n",
    "train_df = pd.read_csv(\"data/order_products__train.csv\")\n",
    "products_df_merged = (products_df\n",
    "                      .merge(departments_df, on=\"department_id\")\n",
    "                      .merge(aisles_df, on=\"aisle_id\"))"
   ]
  },
  {
   "cell_type": "code",
   "execution_count": 3,
   "metadata": {
    "collapsed": true
   },
   "outputs": [],
   "source": [
    "train_df = train_df.merge(orders_df[[\"order_id\", \"user_id\"]], on=\"order_id\")"
   ]
  },
  {
   "cell_type": "code",
   "execution_count": 4,
   "metadata": {
    "collapsed": true
   },
   "outputs": [],
   "source": [
    "prior_df = prior_df.merge(orders_df, on=\"order_id\")"
   ]
  },
  {
   "cell_type": "code",
   "execution_count": 5,
   "metadata": {
    "collapsed": true
   },
   "outputs": [],
   "source": [
    "prior_df['order_dow_angle'] = (prior_df.order_dow / \n",
    "                                     (prior_df.order_dow.max() + 1) * 2 * np.pi)\n",
    "prior_df['order_hod_angle'] = (prior_df.order_hour_of_day / \n",
    "                                             (prior_df.order_dow.max() + 1) * 2 * np.pi)"
   ]
  },
  {
   "cell_type": "code",
   "execution_count": 6,
   "metadata": {
    "collapsed": true
   },
   "outputs": [],
   "source": [
    "prior_df['order_dow_sin'] = np.sin(prior_df.order_dow_angle)\n",
    "prior_df['order_dow_cos'] = np.cos(prior_df.order_dow_angle)\n",
    "prior_df['order_hod_sin'] = np.sin(prior_df.order_hod_angle)\n",
    "prior_df['order_hod_cos'] = np.cos(prior_df.order_hod_angle)\n",
    "prior_df['num_products'] = 1\n"
   ]
  },
  {
   "cell_type": "code",
   "execution_count": 7,
   "metadata": {
    "collapsed": true
   },
   "outputs": [],
   "source": [
    "prior_product_stats = prior_df.groupby(\"product_id\").agg({'order_dow_sin': np.sum, \n",
    "                                                                'order_dow_cos': np.sum, \n",
    "                                                                'order_hod_sin': np.sum,\n",
    "                                                                'order_hod_cos': np.sum,\n",
    "                                                               'num_products': np.sum})\n",
    "prior_product_stats['order_dow_angle'] = np.arctan2(prior_product_stats.order_dow_sin, prior_product_stats.order_dow_cos)\n",
    "prior_product_stats['order_hod_angle'] = np.arctan2(prior_product_stats.order_hod_sin, prior_product_stats.order_hod_cos)"
   ]
  },
  {
   "cell_type": "code",
   "execution_count": 8,
   "metadata": {
    "collapsed": true
   },
   "outputs": [],
   "source": [
    "prior_product_stats.order_dow_sin = np.sin(prior_product_stats.order_dow_angle)\n",
    "prior_product_stats.order_dow_cos = np.cos(prior_product_stats.order_dow_angle)\n",
    "prior_product_stats.order_hod_sin = np.sin(prior_product_stats.order_hod_angle)\n",
    "prior_product_stats.order_hod_cos = np.cos(prior_product_stats.order_hod_angle)\n",
    "prior_product_stats.drop(['order_dow_angle', 'order_hod_angle'], axis=1, inplace=True)\n",
    "prior_product_stats.reset_index(inplace=True)\n",
    "prior_product_stats.columns = ['product_id', 'product_dow_sin', 'product_dow_cos', 'product_hod_sin', 'product_hod_cos', 'product_num_purchases']"
   ]
  },
  {
   "cell_type": "code",
   "execution_count": 9,
   "metadata": {
    "collapsed": true
   },
   "outputs": [],
   "source": [
    "prior_indorder_stats = prior_df.groupby([\"user_id\", \"order_id\"]).agg({'order_dow_sin': np.sum, \n",
    "                                                                'order_dow_cos': np.sum, \n",
    "                                                                'order_hod_sin': np.sum,\n",
    "                                                                'order_hod_cos': np.sum,\n",
    "                                                               'num_products': np.sum}).reset_index()"
   ]
  },
  {
   "cell_type": "code",
   "execution_count": 10,
   "metadata": {
    "collapsed": true
   },
   "outputs": [],
   "source": [
    "prior_indorder_stats['num_orders'] = 1\n",
    "prior_individual_stats = prior_indorder_stats.groupby(\"user_id\").agg({'order_dow_sin': np.sum, \n",
    "                                                                'order_dow_cos': np.sum, \n",
    "                                                                'order_hod_sin': np.sum,\n",
    "                                                                'order_hod_cos': np.sum,\n",
    "                                                               'num_products': [np.sum, np.mean],\n",
    "                                                                'num_orders': np.sum})"
   ]
  },
  {
   "cell_type": "code",
   "execution_count": 11,
   "metadata": {
    "collapsed": true
   },
   "outputs": [],
   "source": [
    "prior_individual_stats.columns = ['order_dow_sin', 'order_dow_cos', 'order_hod_sin', 'order_hod_cos', 'num_products', 'mean_products', \"num_orders\"]"
   ]
  },
  {
   "cell_type": "code",
   "execution_count": 12,
   "metadata": {
    "collapsed": true
   },
   "outputs": [],
   "source": [
    "prior_individual_stats['order_dow_angle'] = np.arctan2(prior_individual_stats.order_dow_sin, prior_individual_stats.order_dow_cos)\n",
    "prior_individual_stats['order_hod_angle'] = np.arctan2(prior_individual_stats.order_hod_sin, prior_individual_stats.order_hod_cos)\n",
    "prior_individual_stats.order_dow_sin = np.sin(prior_individual_stats.order_dow_angle)\n",
    "prior_individual_stats.order_dow_cos = np.cos(prior_individual_stats.order_dow_angle)\n",
    "prior_individual_stats.order_hod_sin = np.sin(prior_individual_stats.order_hod_angle)\n",
    "prior_individual_stats.order_hod_cos = np.cos(prior_individual_stats.order_hod_angle)\n",
    "prior_individual_stats.drop(['order_dow_angle', 'order_hod_angle'], axis=1, inplace=True)"
   ]
  },
  {
   "cell_type": "code",
   "execution_count": 13,
   "metadata": {
    "collapsed": true
   },
   "outputs": [],
   "source": [
    "prior_individual_stats = prior_individual_stats.reset_index()"
   ]
  },
  {
   "cell_type": "code",
   "execution_count": 14,
   "metadata": {
    "collapsed": true
   },
   "outputs": [],
   "source": [
    "prior_individual_stats.columns = ['user_id', 'user_dow_sin', 'user_dow_cos', 'user_hod_sin', 'user_hod_cos', 'user_num_products', 'user_mean_products', 'user_num_orders']"
   ]
  },
  {
   "cell_type": "code",
   "execution_count": 15,
   "metadata": {},
   "outputs": [],
   "source": [
    "prior_indorder_stats = prior_indorder_stats[['order_id', 'num_products']]\n",
    "prior_indorder_stats.columns = ['order_id', 'num_products_in_order']"
   ]
  },
  {
   "cell_type": "code",
   "execution_count": 16,
   "metadata": {},
   "outputs": [],
   "source": [
    "prior_indprod_stats = (prior_df.merge(prior_indorder_stats[['order_id', 'num_products_in_order']], on='order_id')\n",
    "                       .merge(prior_individual_stats[['user_id', 'user_num_orders']], on='user_id', how='left'))\n",
    "prior_indprod_stats['add_to_cart_proportion'] = prior_indprod_stats['add_to_cart_order'] / prior_indprod_stats['num_products_in_order']\n",
    "prior_indprod_stats['indprod_inorder_1'] = 1 * (prior_indprod_stats.order_number == prior_indprod_stats.user_num_orders)\n",
    "prior_indprod_stats['indprod_inorder_2'] = 1 * (prior_indprod_stats.order_number == prior_indprod_stats.user_num_orders - 1)\n",
    "prior_indprod_stats['indprod_inorder_3'] = 1 * (prior_indprod_stats.order_number == prior_indprod_stats.user_num_orders - 2)\n",
    "prior_indprod_stats = prior_indprod_stats.groupby([\"user_id\", \"product_id\"]).agg({'order_dow_sin': np.sum, \n",
    "                                                                'order_dow_cos': np.sum, \n",
    "                                                                'order_hod_sin': np.sum,\n",
    "                                                                'order_hod_cos': np.sum,\n",
    "                                                               'num_products': np.sum,\n",
    "                                                           'add_to_cart_order': np.mean,\n",
    "                                                           'add_to_cart_proportion': np.mean,\n",
    "                                                           'indprod_inorder_1': np.sum,\n",
    "                                                           'indprod_inorder_2': np.sum,\n",
    "                                                           'indprod_inorder_3': np.sum,\n",
    "                                                            'user_num_orders': np.mean}).reset_index()"
   ]
  },
  {
   "cell_type": "code",
   "execution_count": 17,
   "metadata": {
    "collapsed": true
   },
   "outputs": [],
   "source": [
    "prior_indprod_stats['order_dow_angle'] = np.arctan2(prior_indprod_stats.order_dow_sin, prior_indprod_stats.order_dow_cos)\n",
    "prior_indprod_stats['order_hod_angle'] = np.arctan2(prior_indprod_stats.order_hod_sin, prior_indprod_stats.order_hod_cos)\n",
    "prior_indprod_stats['proportion_orders'] = prior_indprod_stats.num_products / prior_indprod_stats.user_num_orders"
   ]
  },
  {
   "cell_type": "code",
   "execution_count": 18,
   "metadata": {
    "collapsed": true
   },
   "outputs": [],
   "source": [
    "prior_indprod_stats.order_dow_sin = np.sin(prior_indprod_stats.order_dow_angle)\n",
    "prior_indprod_stats.order_dow_cos = np.cos(prior_indprod_stats.order_dow_angle)\n",
    "prior_indprod_stats.order_hod_sin = np.sin(prior_indprod_stats.order_hod_angle)\n",
    "prior_indprod_stats.order_hod_cos = np.cos(prior_indprod_stats.order_hod_angle)\n",
    "prior_indprod_stats.drop(['order_dow_angle', 'order_hod_angle', 'user_num_orders'], axis=1, inplace=True)"
   ]
  },
  {
   "cell_type": "code",
   "execution_count": 19,
   "metadata": {
    "collapsed": true
   },
   "outputs": [],
   "source": [
    "prior_indprod_stats.columns = ['user_id', 'product_id', 'indprod_dow_sin', \n",
    "                               'indprod_dow_cos', 'indprod_hod_sin',\n",
    "                               'indprod_hod_cos', 'indprod_num_products', \n",
    "                               'indprod_add_to_cart_order', 'indprod_add_to_cart_proportion',\n",
    "                               'indprod_inorder_1', 'indprod_inorder_2', 'indprod_inorder_3',\n",
    "                                'indprod_proportion_orders']"
   ]
  },
  {
   "cell_type": "code",
   "execution_count": 20,
   "metadata": {
    "collapsed": true
   },
   "outputs": [],
   "source": [
    "prior_all_stats = prior_indprod_stats.merge(prior_individual_stats, on=\"user_id\", how=\"left\").merge(prior_product_stats, on='product_id', how=\"left\")"
   ]
  },
  {
   "cell_type": "code",
   "execution_count": 21,
   "metadata": {
    "collapsed": true
   },
   "outputs": [],
   "source": [
    "orders_df_last = orders_df[orders_df.eval_set != \"prior\"].copy()\n",
    "orders_df_last['order_dow_angle'] = (orders_df_last.order_dow / \n",
    "                                     (orders_df_last.order_dow.max() + 1) * 2 * np.pi - np.pi)\n",
    "orders_df_last['order_hod_angle'] = (orders_df_last.order_hour_of_day / \n",
    "                                             (orders_df_last.order_dow.max() + 1) * 2 * np.pi - np.pi)\n",
    "orders_df_last['order_dow_sin'] = np.sin(orders_df_last.order_dow_angle)\n",
    "orders_df_last['order_dow_cos'] = np.cos(orders_df_last.order_dow_angle)\n",
    "orders_df_last['order_hod_sin'] = np.sin(orders_df_last.order_hod_angle)\n",
    "orders_df_last['order_hod_cos'] = np.cos(orders_df_last.order_hod_angle)"
   ]
  },
  {
   "cell_type": "code",
   "execution_count": 22,
   "metadata": {
    "collapsed": true
   },
   "outputs": [],
   "source": [
    "orders_df_last.drop([\"order_number\", \"order_dow\", \"order_hour_of_day\", \"order_dow_angle\", \"order_hod_angle\"], axis=1, inplace=True)"
   ]
  },
  {
   "cell_type": "code",
   "execution_count": 23,
   "metadata": {
    "collapsed": true
   },
   "outputs": [],
   "source": [
    "prior_all_stats = prior_all_stats.merge(orders_df_last, on=\"user_id\", how=\"inner\")"
   ]
  },
  {
   "cell_type": "code",
   "execution_count": 24,
   "metadata": {},
   "outputs": [],
   "source": [
    "products_df_merged = products_df_merged.join(pd.get_dummies(products_df_merged.aisle))"
   ]
  },
  {
   "cell_type": "code",
   "execution_count": 25,
   "metadata": {},
   "outputs": [],
   "source": [
    "products_df_merged.drop(['product_name', 'aisle_id', 'department_id', 'department', 'aisle'], axis=1, inplace=True)"
   ]
  },
  {
   "cell_type": "code",
   "execution_count": 26,
   "metadata": {
    "collapsed": true
   },
   "outputs": [],
   "source": [
    "prior_all_stats = prior_all_stats.merge(products_df_merged, on=\"product_id\")"
   ]
  },
  {
   "cell_type": "code",
   "execution_count": 27,
   "metadata": {
    "collapsed": true
   },
   "outputs": [],
   "source": [
    "prior_all_stats = prior_all_stats.merge(train_df[['user_id', 'product_id', 'reordered']], how=\"left\", on=[\"user_id\", \"product_id\"])\n",
    "prior_all_stats.reordered = prior_all_stats.reordered.fillna(0)                  \n"
   ]
  },
  {
   "cell_type": "code",
   "execution_count": 28,
   "metadata": {},
   "outputs": [],
   "source": [
    "# split into train, validation, and test sets"
   ]
  },
  {
   "cell_type": "code",
   "execution_count": 29,
   "metadata": {},
   "outputs": [],
   "source": [
    "prior_all_stats['validation_set'] = 0\n",
    "prior_all_stats['prediction'] = 0\n",
    "valid_users = prior_all_stats.loc[prior_all_stats.eval_set == \"train\", \"user_id\"].unique()\n",
    "valid_users = pd.Series(valid_users).sample(frac=.1)\n"
   ]
  },
  {
   "cell_type": "code",
   "execution_count": 30,
   "metadata": {},
   "outputs": [],
   "source": [
    "prior_all_stats.loc[prior_all_stats.user_id.isin(valid_users), 'validation_set'] = 1\n"
   ]
  },
  {
   "cell_type": "code",
   "execution_count": 31,
   "metadata": {},
   "outputs": [],
   "source": [
    "\n",
    "prior_train = prior_all_stats.loc[(prior_all_stats.eval_set == \"train\") & (prior_all_stats.validation_set == 0)]\n",
    "prior_valid = prior_all_stats.loc[prior_all_stats.validation_set == 1]\n",
    "prior_test = prior_all_stats.loc[prior_all_stats.eval_set == \"test\"]\n",
    "\n",
    "X_train = prior_train.drop([\"prediction\", \"eval_set\", \"validation_set\", \"order_id\", \"reordered\", \"user_id\", \"product_id\"], axis=1).as_matrix()\n",
    "y_train = prior_train.reordered.as_matrix()\n",
    "X_valid = prior_valid.drop([\"prediction\", \"eval_set\", \"validation_set\", \"order_id\", \"reordered\", \"user_id\", \"product_id\"], axis=1).as_matrix()\n",
    "y_valid = prior_valid.reordered.as_matrix()\n",
    "X_test = prior_test.drop([\"prediction\", \"eval_set\", \"validation_set\", \"order_id\", \"reordered\", \"user_id\", \"product_id\"], axis=1).as_matrix()"
   ]
  },
  {
   "cell_type": "code",
   "execution_count": 32,
   "metadata": {},
   "outputs": [
    {
     "data": {
      "text/plain": [
       "(849206, 169)"
      ]
     },
     "execution_count": 32,
     "metadata": {},
     "output_type": "execute_result"
    }
   ],
   "source": [
    "prior_valid.shape"
   ]
  },
  {
   "cell_type": "code",
   "execution_count": 33,
   "metadata": {},
   "outputs": [
    {
     "data": {
      "text/plain": [
       "(7625455, 169)"
      ]
     },
     "execution_count": 33,
     "metadata": {},
     "output_type": "execute_result"
    }
   ],
   "source": [
    "prior_train.shape"
   ]
  },
  {
   "cell_type": "code",
   "execution_count": 34,
   "metadata": {},
   "outputs": [
    {
     "data": {
      "text/plain": [
       "(7625455, 162)"
      ]
     },
     "execution_count": 34,
     "metadata": {},
     "output_type": "execute_result"
    }
   ],
   "source": [
    "X_train.shape"
   ]
  },
  {
   "cell_type": "code",
   "execution_count": 35,
   "metadata": {
    "collapsed": true
   },
   "outputs": [],
   "source": [
    "import xgboost as xgb"
   ]
  },
  {
   "cell_type": "code",
   "execution_count": 38,
   "metadata": {},
   "outputs": [
    {
     "name": "stdout",
     "output_type": "stream",
     "text": [
      "[0]\ttrain-auc:0.806724\tvalid-auc:0.805657\n",
      "Multiple eval metrics have been passed: 'valid-auc' will be used for early stopping.\n",
      "\n",
      "Will train until valid-auc hasn't improved in 50 rounds.\n",
      "[10]\ttrain-auc:0.814913\tvalid-auc:0.813414\n",
      "[20]\ttrain-auc:0.816949\tvalid-auc:0.815511\n",
      "[30]\ttrain-auc:0.818605\tvalid-auc:0.817013\n",
      "[40]\ttrain-auc:0.81999\tvalid-auc:0.818377\n",
      "[50]\ttrain-auc:0.821101\tvalid-auc:0.81939\n",
      "[60]\ttrain-auc:0.82206\tvalid-auc:0.820274\n",
      "[70]\ttrain-auc:0.822695\tvalid-auc:0.820791\n",
      "[80]\ttrain-auc:0.823138\tvalid-auc:0.821133\n",
      "[90]\ttrain-auc:0.823495\tvalid-auc:0.821377\n",
      "[100]\ttrain-auc:0.823829\tvalid-auc:0.821598\n",
      "[110]\ttrain-auc:0.824147\tvalid-auc:0.821837\n",
      "[120]\ttrain-auc:0.824398\tvalid-auc:0.82198\n",
      "[130]\ttrain-auc:0.82464\tvalid-auc:0.822108\n",
      "[140]\ttrain-auc:0.824877\tvalid-auc:0.822243\n",
      "[150]\ttrain-auc:0.825063\tvalid-auc:0.82235\n",
      "[160]\ttrain-auc:0.825237\tvalid-auc:0.822436\n",
      "[170]\ttrain-auc:0.825433\tvalid-auc:0.822538\n",
      "[180]\ttrain-auc:0.825601\tvalid-auc:0.822607\n",
      "[190]\ttrain-auc:0.825792\tvalid-auc:0.822708\n",
      "[199]\ttrain-auc:0.825966\tvalid-auc:0.82278\n",
      "CPU times: user 4h 33min 13s, sys: 18min 3s, total: 4h 51min 17s\n",
      "Wall time: 37min 30s\n"
     ]
    }
   ],
   "source": [
    "%%time\n",
    "# Set our parameters for xgboost\n",
    "params = {}\n",
    "params['objective'] = 'binary:logistic'\n",
    "params['eval_metric'] = 'auc'\n",
    "params['eta'] = 0.1\n",
    "params['max_depth'] = 6\n",
    "params['nthread'] = 12\n",
    "\n",
    "d_train = xgb.DMatrix(X_train, label=y_train)\n",
    "d_valid = xgb.DMatrix(X_valid, label=y_valid)\n",
    "\n",
    "watchlist = [(d_train, 'train'), (d_valid, 'valid')]\n",
    "\n",
    "bst = xgb.train(params, d_train, 200, watchlist, early_stopping_rounds=50, verbose_eval=10)\n",
    "\n",
    "#bst.fit(X_train, y_train, eval_set=[(X_trian, y_trian), (X_valid, y_valid)], early_stopping_rounds=50, eval_metric='logloss', verbose=True)"
   ]
  },
  {
   "cell_type": "code",
   "execution_count": 39,
   "metadata": {},
   "outputs": [],
   "source": [
    "bst.dump_model('dump.raw.txt')"
   ]
  },
  {
   "cell_type": "code",
   "execution_count": 40,
   "metadata": {
    "collapsed": true
   },
   "outputs": [],
   "source": [
    "y_predicted = bst.predict(d_valid)"
   ]
  },
  {
   "cell_type": "code",
   "execution_count": 41,
   "metadata": {
    "collapsed": true
   },
   "outputs": [],
   "source": [
    "prior_valid = prior_valid.copy()"
   ]
  },
  {
   "cell_type": "code",
   "execution_count": 67,
   "metadata": {},
   "outputs": [
    {
     "name": "stdout",
     "output_type": "stream",
     "text": [
      "0.19\n",
      "0.375459789116\n"
     ]
    }
   ],
   "source": [
    "best_cutoff = 0\n",
    "best_cutoff_f1 = 0\n",
    "for cutoff in np.arange(.01, 1, .01):\n",
    "    prior_valid.loc[:,'prediction'] = 1 * (y_predicted > cutoff)\n",
    "    prior_valid['hit'] = (prior_valid.reordered * prior_valid.prediction)\n",
    "    prior_valid_agg = prior_valid.groupby(\"user_id\").agg({'reordered': np.sum, \n",
    "                                                      'prediction': np.sum, \n",
    "                                                      'hit': np.sum})\n",
    "    prior_valid_agg.loc[(prior_valid_agg.reordered == 0) & (prior_valid_agg.prediction == 0), 'hit'] = 1\n",
    "    prior_valid_agg.loc[(prior_valid_agg.reordered == 0), 'reordered'] = 1\n",
    "    prior_valid_agg.loc[(prior_valid_agg.prediction == 0), 'prediction'] = 1\n",
    "    prior_valid_agg['precision'] = (prior_valid_agg['hit']) / (prior_valid_agg['prediction'])\n",
    "    prior_valid_agg['recall'] = (prior_valid_agg['hit']) / (prior_valid_agg['reordered'])\n",
    "    prior_valid_agg['f1'] = 2 * prior_valid_agg['precision'] * prior_valid_agg['recall'] / (prior_valid_agg['precision'] + prior_valid_agg['recall'] + .0001)\n",
    "    if prior_valid_agg['f1'].mean() > best_cutoff_f1:\n",
    "        best_cutoff_f1 = prior_valid_agg['f1'].mean()\n",
    "        best_cutoff = cutoff\n",
    "print(best_cutoff)\n",
    "print(best_cutoff_f1)"
   ]
  },
  {
   "cell_type": "code",
   "execution_count": 51,
   "metadata": {},
   "outputs": [],
   "source": [
    "prior_valid.loc[:,'prediction'] = 1 * (y_predicted > .93)"
   ]
  },
  {
   "cell_type": "code",
   "execution_count": 52,
   "metadata": {},
   "outputs": [],
   "source": [
    "prior_valid['hit'] = (prior_valid.reordered * prior_valid.prediction)"
   ]
  },
  {
   "cell_type": "code",
   "execution_count": 53,
   "metadata": {
    "collapsed": true
   },
   "outputs": [],
   "source": [
    "prior_valid_agg = prior_valid.groupby(\"user_id\").agg({'reordered': np.sum, \n",
    "                                                      'prediction': np.sum, \n",
    "                                                      'hit': np.sum})\n",
    "prior_valid_agg.loc[(prior_valid_agg.reordered == 0) & (prior_valid_agg.prediction == 0), 'hit'] = 1\n",
    "prior_valid_agg.loc[(prior_valid_agg.reordered == 0), 'reordered'] = 1\n",
    "prior_valid_agg.loc[(prior_valid_agg.prediction == 0), 'prediction'] = 1"
   ]
  },
  {
   "cell_type": "code",
   "execution_count": 54,
   "metadata": {},
   "outputs": [
    {
     "data": {
      "text/plain": [
       "count    13121.000000\n",
       "mean         0.064629\n",
       "std          0.245880\n",
       "min          0.000000\n",
       "25%          0.000000\n",
       "50%          0.000000\n",
       "75%          0.000000\n",
       "max          1.000000\n",
       "Name: hit, dtype: float64"
      ]
     },
     "execution_count": 54,
     "metadata": {},
     "output_type": "execute_result"
    }
   ],
   "source": [
    "prior_valid_agg.hit.describe()"
   ]
  },
  {
   "cell_type": "code",
   "execution_count": 55,
   "metadata": {
    "collapsed": true
   },
   "outputs": [],
   "source": [
    "prior_valid_agg['precision'] = (prior_valid_agg['hit']) / (prior_valid_agg['prediction'])\n",
    "prior_valid_agg['recall'] = (prior_valid_agg['hit']) / (prior_valid_agg['reordered'])"
   ]
  },
  {
   "cell_type": "code",
   "execution_count": 61,
   "metadata": {},
   "outputs": [
    {
     "data": {
      "text/plain": [
       "count    13121.000000\n",
       "mean         0.064629\n",
       "std          0.245880\n",
       "min          0.000000\n",
       "25%          0.000000\n",
       "50%          0.000000\n",
       "75%          0.000000\n",
       "max          1.000000\n",
       "Name: recall, dtype: float64"
      ]
     },
     "execution_count": 61,
     "metadata": {},
     "output_type": "execute_result"
    }
   ],
   "source": [
    "prior_valid_agg.recall.describe()"
   ]
  },
  {
   "cell_type": "code",
   "execution_count": 65,
   "metadata": {
    "collapsed": true
   },
   "outputs": [],
   "source": [
    "#prior_valid_agg.recall = prior_valid_agg.recall.fillna(0)\n",
    "#prior_valid_agg.precision = prior_valid_agg.precision.fillna(0)\n",
    "prior_valid_agg['f1'] = 2 * prior_valid_agg['precision'] * prior_valid_agg['recall'] / (prior_valid_agg['precision'] + prior_valid_agg['recall'] + .00001)"
   ]
  },
  {
   "cell_type": "code",
   "execution_count": 66,
   "metadata": {},
   "outputs": [
    {
     "data": {
      "text/plain": [
       "0.06462889718933007"
      ]
     },
     "execution_count": 66,
     "metadata": {},
     "output_type": "execute_result"
    }
   ],
   "source": [
    "prior_valid_agg['f1'].mean()"
   ]
  },
  {
   "cell_type": "code",
   "execution_count": 68,
   "metadata": {
    "collapsed": true
   },
   "outputs": [],
   "source": [
    "d_test = xgb.DMatrix(X_test)\n",
    "y_test = bst.predict(d_test)"
   ]
  },
  {
   "cell_type": "code",
   "execution_count": 69,
   "metadata": {},
   "outputs": [],
   "source": [
    "prior_test = prior_test.copy()\n",
    "prior_test['prediction'] = 1 * (y_test > best_cutoff)"
   ]
  },
  {
   "cell_type": "code",
   "execution_count": 70,
   "metadata": {},
   "outputs": [],
   "source": [
    "prediction_df = prior_test[prior_test['prediction'] == 1].copy()"
   ]
  },
  {
   "cell_type": "code",
   "execution_count": 71,
   "metadata": {
    "collapsed": true
   },
   "outputs": [],
   "source": [
    "prediction_df = prediction_df[['order_id', 'product_id']]"
   ]
  },
  {
   "cell_type": "code",
   "execution_count": 72,
   "metadata": {
    "collapsed": true
   },
   "outputs": [],
   "source": [
    "prediction_lists = prediction_df.groupby('order_id').agg(lambda x: \" \".join(x.astype(str))).reset_index()"
   ]
  },
  {
   "cell_type": "code",
   "execution_count": 73,
   "metadata": {
    "collapsed": true
   },
   "outputs": [],
   "source": [
    "prediction_lists = prediction_lists.merge(orders_df.loc[orders_df.eval_set == \"test\", ['order_id']], on='order_id', how=\"right\")"
   ]
  },
  {
   "cell_type": "code",
   "execution_count": 74,
   "metadata": {
    "collapsed": true
   },
   "outputs": [],
   "source": [
    "prediction_lists['products'] = prediction_lists.product_id.fillna(\"None\")"
   ]
  },
  {
   "cell_type": "code",
   "execution_count": 75,
   "metadata": {
    "collapsed": true
   },
   "outputs": [],
   "source": [
    "prediction_lists = prediction_lists[['order_id', 'products']]"
   ]
  },
  {
   "cell_type": "code",
   "execution_count": 78,
   "metadata": {
    "collapsed": true
   },
   "outputs": [],
   "source": [
    "prediction_lists.to_csv(\"submissions/aisles_xgb.csv\", index=False)"
   ]
  },
  {
   "cell_type": "code",
   "execution_count": 77,
   "metadata": {},
   "outputs": [
    {
     "data": {
      "text/plain": [
       "(75000, 2)"
      ]
     },
     "execution_count": 77,
     "metadata": {},
     "output_type": "execute_result"
    }
   ],
   "source": [
    "prediction_lists.shape"
   ]
  },
  {
   "cell_type": "code",
   "execution_count": 125,
   "metadata": {},
   "outputs": [
    {
     "data": {
      "text/html": [
       "<div>\n",
       "<style>\n",
       "    .dataframe thead tr:only-child th {\n",
       "        text-align: right;\n",
       "    }\n",
       "\n",
       "    .dataframe thead th {\n",
       "        text-align: left;\n",
       "    }\n",
       "\n",
       "    .dataframe tbody tr th {\n",
       "        vertical-align: top;\n",
       "    }\n",
       "</style>\n",
       "<table border=\"1\" class=\"dataframe\">\n",
       "  <thead>\n",
       "    <tr style=\"text-align: right;\">\n",
       "      <th></th>\n",
       "      <th>order_id</th>\n",
       "      <th>products</th>\n",
       "    </tr>\n",
       "  </thead>\n",
       "  <tbody>\n",
       "    <tr>\n",
       "      <th>0</th>\n",
       "      <td>17</td>\n",
       "      <td>13107</td>\n",
       "    </tr>\n",
       "    <tr>\n",
       "      <th>1</th>\n",
       "      <td>34</td>\n",
       "      <td>39180 47029</td>\n",
       "    </tr>\n",
       "    <tr>\n",
       "      <th>2</th>\n",
       "      <td>137</td>\n",
       "      <td>23794 24852 38689 41787</td>\n",
       "    </tr>\n",
       "    <tr>\n",
       "      <th>3</th>\n",
       "      <td>182</td>\n",
       "      <td>5479 9337 13629 21903 24009 27104 30391 33000 ...</td>\n",
       "    </tr>\n",
       "    <tr>\n",
       "      <th>4</th>\n",
       "      <td>257</td>\n",
       "      <td>4605 13870 21137 24852 27104 27966 29837 30233...</td>\n",
       "    </tr>\n",
       "  </tbody>\n",
       "</table>\n",
       "</div>"
      ],
      "text/plain": [
       "   order_id                                           products\n",
       "0        17                                              13107\n",
       "1        34                                        39180 47029\n",
       "2       137                            23794 24852 38689 41787\n",
       "3       182  5479 9337 13629 21903 24009 27104 30391 33000 ...\n",
       "4       257  4605 13870 21137 24852 27104 27966 29837 30233..."
      ]
     },
     "execution_count": 125,
     "metadata": {},
     "output_type": "execute_result"
    }
   ],
   "source": [
    "prediction_lists.head()"
   ]
  },
  {
   "cell_type": "code",
   "execution_count": null,
   "metadata": {
    "collapsed": true
   },
   "outputs": [],
   "source": []
  }
 ],
 "metadata": {
  "kernelspec": {
   "display_name": "Python 3",
   "language": "python",
   "name": "python3"
  },
  "language_info": {
   "codemirror_mode": {
    "name": "ipython",
    "version": 3
   },
   "file_extension": ".py",
   "mimetype": "text/x-python",
   "name": "python",
   "nbconvert_exporter": "python",
   "pygments_lexer": "ipython3",
   "version": "3.6.1"
  }
 },
 "nbformat": 4,
 "nbformat_minor": 1
}
