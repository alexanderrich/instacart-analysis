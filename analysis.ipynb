{
 "cells": [
  {
   "cell_type": "code",
   "execution_count": 27,
   "metadata": {
    "collapsed": true
   },
   "outputs": [],
   "source": [
    "import numpy as np\n",
    "import pandas as pd\n",
    "import matplotlib.pyplot as plt\n",
    "\n",
    "% matplotlib inline"
   ]
  },
  {
   "cell_type": "code",
   "execution_count": 28,
   "metadata": {
    "collapsed": true
   },
   "outputs": [],
   "source": [
    "import spacy\n",
    "\n",
    "nlp = spacy.load('en_vectors_glove_md')"
   ]
  },
  {
   "cell_type": "code",
   "execution_count": 29,
   "metadata": {
    "collapsed": true
   },
   "outputs": [],
   "source": [
    "import warnings\n",
    "warnings.filterwarnings('ignore')"
   ]
  },
  {
   "cell_type": "code",
   "execution_count": 30,
   "metadata": {
    "collapsed": true
   },
   "outputs": [],
   "source": [
    "aisles_df = pd.read_csv(\"data/aisles.csv\")\n",
    "departments_df = pd.read_csv(\"data/departments.csv\")\n",
    "products_df = pd.read_csv(\"data/products.csv\")\n",
    "orders_df = pd.read_csv(\"data/orders.csv\")\n",
    "prior_df = pd.read_csv(\"data/order_products__prior.csv\")\n",
    "train_df = pd.read_csv(\"data/order_products__train.csv\")\n",
    "products_df_merged = (products_df\n",
    "                      .merge(departments_df, on=\"department_id\")\n",
    "                      .merge(aisles_df, on=\"aisle_id\"))"
   ]
  },
  {
   "cell_type": "code",
   "execution_count": 31,
   "metadata": {
    "collapsed": true
   },
   "outputs": [],
   "source": [
    "none_train_df = train_df.groupby('order_id').agg({'product_id': lambda x: \"None\",\n",
    "                                             'add_to_cart_order': lambda x: 0,\n",
    "                                             'reordered': np.sum}).reset_index()\n",
    "none_train_df.reordered = (none_train_df.reordered == 0).astype(int)\n",
    "none_train_df = none_train_df.query('reordered == 1')\n",
    "none_prior_df = prior_df.groupby('order_id').agg({'product_id': lambda x: \"None\",\n",
    "                                             'add_to_cart_order': lambda x: 0,\n",
    "                                             'reordered': np.sum}).reset_index()\n",
    "none_prior_df.reordered = (none_prior_df.reordered == 0).astype(int)\n",
    "none_prior_df = none_prior_df.query('reordered == 1')\n",
    "train_df = pd.concat([train_df, none_train_df])\n",
    "prior_df = pd.concat([prior_df, none_prior_df])\n"
   ]
  },
  {
   "cell_type": "code",
   "execution_count": 32,
   "metadata": {
    "collapsed": true
   },
   "outputs": [],
   "source": [
    "products_df_merged['allwords'] = products_df_merged.product_name.str.cat([products_df_merged.department, products_df_merged.aisle], sep=' ')"
   ]
  },
  {
   "cell_type": "code",
   "execution_count": 33,
   "metadata": {},
   "outputs": [
    {
     "data": {
      "text/html": [
       "<div>\n",
       "<style>\n",
       "    .dataframe thead tr:only-child th {\n",
       "        text-align: right;\n",
       "    }\n",
       "\n",
       "    .dataframe thead th {\n",
       "        text-align: left;\n",
       "    }\n",
       "\n",
       "    .dataframe tbody tr th {\n",
       "        vertical-align: top;\n",
       "    }\n",
       "</style>\n",
       "<table border=\"1\" class=\"dataframe\">\n",
       "  <thead>\n",
       "    <tr style=\"text-align: right;\">\n",
       "      <th></th>\n",
       "      <th>product_id</th>\n",
       "      <th>product_name</th>\n",
       "      <th>aisle_id</th>\n",
       "      <th>department_id</th>\n",
       "      <th>department</th>\n",
       "      <th>aisle</th>\n",
       "      <th>allwords</th>\n",
       "    </tr>\n",
       "  </thead>\n",
       "  <tbody>\n",
       "    <tr>\n",
       "      <th>0</th>\n",
       "      <td>1</td>\n",
       "      <td>Chocolate Sandwich Cookies</td>\n",
       "      <td>61</td>\n",
       "      <td>19</td>\n",
       "      <td>snacks</td>\n",
       "      <td>cookies cakes</td>\n",
       "      <td>Chocolate Sandwich Cookies snacks cookies cakes</td>\n",
       "    </tr>\n",
       "    <tr>\n",
       "      <th>1</th>\n",
       "      <td>78</td>\n",
       "      <td>Nutter Butter Cookie Bites Go-Pak</td>\n",
       "      <td>61</td>\n",
       "      <td>19</td>\n",
       "      <td>snacks</td>\n",
       "      <td>cookies cakes</td>\n",
       "      <td>Nutter Butter Cookie Bites Go-Pak snacks cooki...</td>\n",
       "    </tr>\n",
       "    <tr>\n",
       "      <th>2</th>\n",
       "      <td>102</td>\n",
       "      <td>Danish Butter Cookies</td>\n",
       "      <td>61</td>\n",
       "      <td>19</td>\n",
       "      <td>snacks</td>\n",
       "      <td>cookies cakes</td>\n",
       "      <td>Danish Butter Cookies snacks cookies cakes</td>\n",
       "    </tr>\n",
       "    <tr>\n",
       "      <th>3</th>\n",
       "      <td>172</td>\n",
       "      <td>Gluten Free All Natural Chocolate Chip Cookies</td>\n",
       "      <td>61</td>\n",
       "      <td>19</td>\n",
       "      <td>snacks</td>\n",
       "      <td>cookies cakes</td>\n",
       "      <td>Gluten Free All Natural Chocolate Chip Cookies...</td>\n",
       "    </tr>\n",
       "    <tr>\n",
       "      <th>4</th>\n",
       "      <td>285</td>\n",
       "      <td>Mini Nilla Wafers Munch Pack</td>\n",
       "      <td>61</td>\n",
       "      <td>19</td>\n",
       "      <td>snacks</td>\n",
       "      <td>cookies cakes</td>\n",
       "      <td>Mini Nilla Wafers Munch Pack snacks cookies cakes</td>\n",
       "    </tr>\n",
       "  </tbody>\n",
       "</table>\n",
       "</div>"
      ],
      "text/plain": [
       "   product_id                                    product_name  aisle_id  \\\n",
       "0           1                      Chocolate Sandwich Cookies        61   \n",
       "1          78               Nutter Butter Cookie Bites Go-Pak        61   \n",
       "2         102                           Danish Butter Cookies        61   \n",
       "3         172  Gluten Free All Natural Chocolate Chip Cookies        61   \n",
       "4         285                    Mini Nilla Wafers Munch Pack        61   \n",
       "\n",
       "   department_id department          aisle  \\\n",
       "0             19     snacks  cookies cakes   \n",
       "1             19     snacks  cookies cakes   \n",
       "2             19     snacks  cookies cakes   \n",
       "3             19     snacks  cookies cakes   \n",
       "4             19     snacks  cookies cakes   \n",
       "\n",
       "                                            allwords  \n",
       "0    Chocolate Sandwich Cookies snacks cookies cakes  \n",
       "1  Nutter Butter Cookie Bites Go-Pak snacks cooki...  \n",
       "2         Danish Butter Cookies snacks cookies cakes  \n",
       "3  Gluten Free All Natural Chocolate Chip Cookies...  \n",
       "4  Mini Nilla Wafers Munch Pack snacks cookies cakes  "
      ]
     },
     "execution_count": 33,
     "metadata": {},
     "output_type": "execute_result"
    }
   ],
   "source": [
    "products_df_merged.head()"
   ]
  },
  {
   "cell_type": "code",
   "execution_count": 34,
   "metadata": {
    "collapsed": true
   },
   "outputs": [],
   "source": [
    "vectors = np.array(products_df_merged.allwords.apply(lambda x: nlp(x).vector).tolist())"
   ]
  },
  {
   "cell_type": "code",
   "execution_count": 35,
   "metadata": {
    "collapsed": true
   },
   "outputs": [],
   "source": [
    "from sklearn.decomposition import PCA"
   ]
  },
  {
   "cell_type": "code",
   "execution_count": 36,
   "metadata": {
    "collapsed": true
   },
   "outputs": [],
   "source": [
    "from sklearn.metrics.pairwise import cosine_similarity"
   ]
  },
  {
   "cell_type": "code",
   "execution_count": 37,
   "metadata": {
    "collapsed": true
   },
   "outputs": [],
   "source": [
    "pca = PCA(n_components=30)\n"
   ]
  },
  {
   "cell_type": "code",
   "execution_count": 38,
   "metadata": {},
   "outputs": [
    {
     "data": {
      "text/plain": [
       "PCA(copy=True, iterated_power='auto', n_components=30, random_state=None,\n",
       "  svd_solver='auto', tol=0.0, whiten=False)"
      ]
     },
     "execution_count": 38,
     "metadata": {},
     "output_type": "execute_result"
    }
   ],
   "source": [
    "pca.fit(vectors)"
   ]
  },
  {
   "cell_type": "code",
   "execution_count": 39,
   "metadata": {},
   "outputs": [
    {
     "data": {
      "text/plain": [
       "array([ 1.63897806,  0.67271467,  0.49110381,  0.35325241,  0.33290182,\n",
       "        0.28086152,  0.23732772,  0.20535761,  0.19991668,  0.17141019,\n",
       "        0.15493202,  0.15028431,  0.13356821,  0.114815  ,  0.10986322,\n",
       "        0.09835313,  0.093776  ,  0.0880923 ,  0.08300422,  0.07798661,\n",
       "        0.07238897,  0.06619669,  0.06398507,  0.06151074,  0.05965263,\n",
       "        0.05747842,  0.05548258,  0.05046424,  0.04740014,  0.0457125 ])"
      ]
     },
     "execution_count": 39,
     "metadata": {},
     "output_type": "execute_result"
    }
   ],
   "source": [
    "pca.explained_variance_"
   ]
  },
  {
   "cell_type": "code",
   "execution_count": 40,
   "metadata": {
    "collapsed": true
   },
   "outputs": [],
   "source": [
    "short_vectors = pca.transform(vectors)"
   ]
  },
  {
   "cell_type": "code",
   "execution_count": 41,
   "metadata": {},
   "outputs": [
    {
     "data": {
      "text/plain": [
       "array([[ 0.78955682]])"
      ]
     },
     "execution_count": 41,
     "metadata": {},
     "output_type": "execute_result"
    }
   ],
   "source": [
    "cosine_similarity(short_vectors[0,:].reshape(1, -1), short_vectors[1,:].reshape(1, -1))"
   ]
  },
  {
   "cell_type": "code",
   "execution_count": 42,
   "metadata": {
    "collapsed": true
   },
   "outputs": [],
   "source": [
    "short_vectors_df = pd.DataFrame(short_vectors)"
   ]
  },
  {
   "cell_type": "code",
   "execution_count": 43,
   "metadata": {
    "collapsed": true
   },
   "outputs": [],
   "source": [
    "short_vectors_df.columns = [\"dim\"+str(c) for c in short_vectors_df.columns]"
   ]
  },
  {
   "cell_type": "code",
   "execution_count": 44,
   "metadata": {
    "collapsed": true
   },
   "outputs": [],
   "source": [
    "short_vectors_df['product_id'] = products_df_merged.product_id"
   ]
  },
  {
   "cell_type": "code",
   "execution_count": 45,
   "metadata": {
    "collapsed": true
   },
   "outputs": [],
   "source": [
    "orders_df['absolute_date'] = orders_df.groupby(\"user_id\").days_since_prior_order.cumsum().fillna(0)"
   ]
  },
  {
   "cell_type": "code",
   "execution_count": 46,
   "metadata": {
    "collapsed": true
   },
   "outputs": [],
   "source": [
    "orders_df['max_order_number'] = orders_df.groupby(\"user_id\").order_number.transform(max)\n",
    "orders_df['max_absolute_date'] = orders_df.groupby(\"user_id\").absolute_date.transform(max)"
   ]
  },
  {
   "cell_type": "code",
   "execution_count": 47,
   "metadata": {
    "collapsed": true
   },
   "outputs": [],
   "source": [
    "orders_df['reverse_date'] = orders_df.max_absolute_date - orders_df.absolute_date\n",
    "orders_df['reverse_order_number'] = orders_df.max_order_number - orders_df.order_number"
   ]
  },
  {
   "cell_type": "code",
   "execution_count": 48,
   "metadata": {
    "collapsed": true
   },
   "outputs": [],
   "source": [
    "train_df = train_df.merge(orders_df[[\"order_id\", \"user_id\"]], on=\"order_id\")"
   ]
  },
  {
   "cell_type": "code",
   "execution_count": 49,
   "metadata": {
    "collapsed": true
   },
   "outputs": [],
   "source": [
    "prior_df = prior_df.merge(orders_df, on=\"order_id\")"
   ]
  },
  {
   "cell_type": "code",
   "execution_count": 50,
   "metadata": {
    "collapsed": true
   },
   "outputs": [],
   "source": [
    "#some_users = orders_df.loc[orders_df.eval_set == 'train', 'user_id'][:5000]\n",
    "#prior_df = prior_df[prior_df.user_id.isin(some_users)]\n",
    "#orders_df = orders_df[orders_df.user_id.isin(some_users)]\n",
    "#train_df = train_df[train_df.user_id.isin(some_users)]"
   ]
  },
  {
   "cell_type": "code",
   "execution_count": 51,
   "metadata": {
    "collapsed": true
   },
   "outputs": [],
   "source": [
    "prior_df['order_dow_angle'] = (prior_df.order_dow / \n",
    "                                     (prior_df.order_dow.max() + 1) * 2 * np.pi)\n",
    "prior_df['order_hod_angle'] = (prior_df.order_hour_of_day / \n",
    "                                             (prior_df.order_dow.max() + 1) * 2 * np.pi)"
   ]
  },
  {
   "cell_type": "code",
   "execution_count": 52,
   "metadata": {
    "collapsed": true
   },
   "outputs": [],
   "source": [
    "prior_df['order_dow_sin'] = np.sin(prior_df.order_dow_angle)\n",
    "prior_df['order_dow_cos'] = np.cos(prior_df.order_dow_angle)\n",
    "prior_df['order_hod_sin'] = np.sin(prior_df.order_hod_angle)\n",
    "prior_df['order_hod_cos'] = np.cos(prior_df.order_hod_angle)\n",
    "prior_df['num_products'] = 1\n",
    "prior_df['num_products_dw_8'] = np.exp(-np.log(2)/8 * prior_df.reverse_date)\n",
    "prior_df['num_products_dw_16'] = np.exp(-np.log(2)/16 * prior_df.reverse_date)\n",
    "prior_df['num_products_dw_32'] = np.exp(-np.log(2)/32 * prior_df.reverse_date)\n",
    "prior_df['num_products_dw_64'] = np.exp(-np.log(2)/64 * prior_df.reverse_date)\n",
    "prior_df['num_products_dw_128'] = np.exp(-np.log(2)/128 * prior_df.reverse_date)\n",
    "prior_df['num_products_ow_2'] = np.exp(-np.log(2)/2 * prior_df.reverse_order_number)\n",
    "prior_df['num_products_ow_4'] = np.exp(-np.log(2)/4 * prior_df.reverse_order_number)\n",
    "prior_df['num_products_ow_8'] = np.exp(-np.log(2)/8 * prior_df.reverse_order_number)\n",
    "prior_df['num_products_ow_16'] = np.exp(-np.log(2)/16 * prior_df.reverse_order_number)\n",
    "prior_df['num_products_ow_32'] = np.exp(-np.log(2)/32 * prior_df.reverse_order_number)"
   ]
  },
  {
   "cell_type": "code",
   "execution_count": 53,
   "metadata": {
    "collapsed": true
   },
   "outputs": [],
   "source": [
    "prior_df['num_products_dsin_14'] = (1.01 + np.sin(2*np.pi*(prior_df.reverse_date/14)))/2\n",
    "prior_df['num_products_dcos_14'] = (1.01 + np.cos(2*np.pi*(prior_df.reverse_date/14)))/2\n",
    "prior_df['num_products_dsin_30'] = (1.01 + np.sin(2*np.pi*(prior_df.reverse_date/30)))/2\n",
    "prior_df['num_products_dcos_30'] = (1.01 + np.cos(2*np.pi*(prior_df.reverse_date/30)))/2"
   ]
  },
  {
   "cell_type": "code",
   "execution_count": null,
   "metadata": {
    "collapsed": true
   },
   "outputs": [],
   "source": [
    "prior_day_idx = prior_df[['user_id', 'order_id', 'product_id']].join(pd.get_dummies(prior_df.order_dow))\n",
    "\n",
    "product_day_idx = (prior_day_idx.drop(['user_id', 'order_id'], axis=1)\n",
    "                   .groupby(\"product_id\").agg(np.mean).reset_index()\n",
    "                   .melt(id_vars='product_id', var_name=\"day\", value_name=\"product_day_proportion\"))\n",
    "product_day_idx.day = product_day_idx.day.astype(int)\n",
    "\n",
    "individual_day_idx = (prior_day_idx.drop(['product_id'], axis=1)\n",
    "                   .groupby(['user_id', 'order_id']).agg(np.mean).reset_index()\n",
    "                     .drop(['order_id'], axis=1).groupby('user_id').agg(np.mean).reset_index()\n",
    "                   .melt(id_vars='user_id', var_name=\"day\", value_name=\"user_day_proportion\"))\n",
    "individual_day_idx.day = individual_day_idx.day.astype(int)\n",
    "\n",
    "indprod_day_idx = (prior_day_idx.drop(['order_id'], axis=1)\n",
    "                   .groupby(['user_id', 'product_id']).agg(np.mean).reset_index()\n",
    "                   .melt(id_vars=['user_id', 'product_id'], var_name=\"day\", value_name=\"indprod_day_proportion\"))\n",
    "indprod_day_idx.day = indprod_day_idx.day.astype(int)\n",
    "\n",
    "indprod_day_idx.rename(columns={'day': 'order_dow'}, inplace=True)\n",
    "product_day_idx.rename(columns={'day': 'order_dow'}, inplace=True)\n",
    "individual_day_idx.rename(columns={'day': 'order_dow'}, inplace=True)\n",
    "\n",
    "prior_hod_idx = prior_df[['user_id', 'order_id', 'product_id']].join(pd.get_dummies(prior_df.order_hour_of_day))\n",
    "\n",
    "prior_hod_idx_orig = prior_hod_idx\n",
    "prior_hod_idx = prior_hod_idx.copy()\n",
    "\n",
    "for i in range(24):\n",
    "    prior_hod_idx[i] = prior_hod_idx_orig[(i - 1) % 24] + prior_hod_idx_orig[i] + prior_hod_idx_orig[(i + 1) % 24]\n",
    "\n",
    "del prior_hod_idx_orig\n",
    "\n",
    "product_hod_idx = (prior_hod_idx.drop(['user_id', 'order_id'], axis=1)\n",
    "                   .groupby(\"product_id\").agg(np.mean).reset_index()\n",
    "                   .melt(id_vars='product_id', var_name=\"hod\", value_name=\"product_hod_proportion\"))\n",
    "product_hod_idx.hod = product_hod_idx.hod.astype(int)\n",
    "\n",
    "individual_hod_idx = (prior_hod_idx.drop(['product_id'], axis=1)\n",
    "                   .groupby(['user_id', 'order_id']).agg(np.mean).reset_index()\n",
    "                     .drop(['order_id'], axis=1).groupby('user_id').agg(np.mean).reset_index()\n",
    "                   .melt(id_vars='user_id', var_name=\"hod\", value_name=\"user_hod_proportion\"))\n",
    "individual_hod_idx.hod = individual_hod_idx.hod.astype(int)\n",
    "\n",
    "indprod_hod_idx = (prior_hod_idx.drop(['order_id'], axis=1)\n",
    "                   .groupby(['user_id', 'product_id']).agg(np.mean).reset_index()\n",
    "                   .melt(id_vars=['user_id', 'product_id'], var_name=\"hod\", value_name=\"indprod_hod_proportion\"))\n",
    "indprod_hod_idx.hod = indprod_hod_idx.hod.astype(int)\n",
    "\n",
    "indprod_hod_idx.rename(columns={'hod': 'order_hour_of_day'}, inplace=True)\n",
    "product_hod_idx.rename(columns={'hod': 'order_hour_of_day'}, inplace=True)\n",
    "individual_hod_idx.rename(columns={'hod': 'order_hour_of_day'}, inplace=True)"
   ]
  },
  {
   "cell_type": "code",
   "execution_count": 55,
   "metadata": {
    "collapsed": true
   },
   "outputs": [],
   "source": [
    "#product_hod_idx_shrinkage = (product_hod_idx.groupby('order_hour_of_day')\n",
    "#                             .agg({'product_hod_proportion': np.mean}).reset_index()\n",
    "#                            .rename(columns={'product_hod_proportion': 'product_hod_proportion_shrinkage'}))\n",
    "#individual_hod_idx_shrinkage = (individual_hod_idx.groupby('order_hour_of_day')\n",
    "#                                .agg({'user_hod_proportion': np.mean}).reset_index()\n",
    "#                               .rename(columns={'user_hod_proportion': 'user_hod_proportion_shrinkage'}))\n",
    "#product_day_idx_shrinkage = (product_day_idx.groupby('order_dow')\n",
    "#                             .agg({'product_day_proportion': np.mean}).reset_index()\n",
    "#                            .rename(columns={'product_day_proportion': 'product_day_proportion_shrinkage'}))\n",
    "#individual_day_idx_shrinkage = (individual_day_idx.groupby('order_dow')\n",
    "#                                .agg({'user_day_proportion': np.mean}).reset_index()\n",
    "#                               .rename(columns={'user_day_proportion': 'user_day_proportion_shrinkage'}))"
   ]
  },
  {
   "cell_type": "code",
   "execution_count": 56,
   "metadata": {
    "collapsed": true
   },
   "outputs": [],
   "source": [
    "prior_product_stats = prior_df.groupby(\"product_id\").agg({'order_dow_sin': np.sum, \n",
    "                                                                'order_dow_cos': np.sum, \n",
    "                                                                'order_hod_sin': np.sum,\n",
    "                                                                'order_hod_cos': np.sum,\n",
    "                                                               'num_products': np.sum})\n",
    "prior_product_stats['order_dow_angle'] = np.arctan2(prior_product_stats.order_dow_sin, prior_product_stats.order_dow_cos)\n",
    "prior_product_stats['order_hod_angle'] = np.arctan2(prior_product_stats.order_hod_sin, prior_product_stats.order_hod_cos)"
   ]
  },
  {
   "cell_type": "code",
   "execution_count": 57,
   "metadata": {
    "collapsed": true
   },
   "outputs": [],
   "source": [
    "prior_product_stats.order_dow_sin = np.sin(prior_product_stats.order_dow_angle)\n",
    "prior_product_stats.order_dow_cos = np.cos(prior_product_stats.order_dow_angle)\n",
    "prior_product_stats.order_hod_sin = np.sin(prior_product_stats.order_hod_angle)\n",
    "prior_product_stats.order_hod_cos = np.cos(prior_product_stats.order_hod_angle)\n",
    "prior_product_stats.drop(['order_dow_angle', 'order_hod_angle'], axis=1, inplace=True)\n",
    "prior_product_stats.reset_index(inplace=True)\n",
    "prior_product_stats.columns = ['product_id', 'product_dow_sin', 'product_dow_cos', 'product_hod_sin', 'product_hod_cos', 'product_num_orders']"
   ]
  },
  {
   "cell_type": "code",
   "execution_count": 59,
   "metadata": {
    "collapsed": true
   },
   "outputs": [],
   "source": [
    "#prior_products_shrinkage = prior_product_stats.agg({'product_dow_sin': np.sum,\n",
    "#                                                   'product_dow_cos': np.sum,\n",
    "#                                                   'product_hod_sin': np.sum,\n",
    "#                                                   'product_hod_cos': np.sum})\n",
    "#prior_products_shrinkage['dow_angle'] = np.arctan2(prior_products_shrinkage.product_dow_sin, prior_products_shrinkage.product_dow_cos)\n",
    "#prior_products_shrinkage['hod_angle'] = np.arctan2(prior_products_shrinkage.product_hod_sin, prior_products_shrinkage.product_hod_cos)\n",
    "#prior_products_shrinkage.product_dow_sin = np.sin(prior_products_shrinkage.dow_angle)\n",
    "#prior_products_shrinkage.product_dow_cos = np.cos(prior_products_shrinkage.dow_angle)\n",
    "#prior_products_shrinkage.product_hod_sin = np.sin(prior_products_shrinkage.hod_angle)\n",
    "#prior_products_shrinkage.product_hod_cos = np.cos(prior_products_shrinkage.hod_angle)"
   ]
  },
  {
   "cell_type": "code",
   "execution_count": 60,
   "metadata": {
    "collapsed": true
   },
   "outputs": [],
   "source": [
    "prior_indorder_stats = prior_df.groupby([\"user_id\", \"order_id\"]).agg({'order_dow_sin': np.sum, \n",
    "                                                                'order_dow_cos': np.sum, \n",
    "                                                                'order_hod_sin': np.sum,\n",
    "                                                                'order_hod_cos': np.sum,\n",
    "                                                               'num_products': np.sum,\n",
    "                                                               'num_products_dw_8': np.mean,\n",
    "                                                                'num_products_dw_16': np.mean,\n",
    "                                                                'num_products_dw_32': np.mean,\n",
    "                                                                'num_products_dw_64': np.mean,\n",
    "                                                                'num_products_dw_128': np.mean,\n",
    "                                                                'num_products_dcos_14': np.mean,\n",
    "                                                                'num_products_dsin_14': np.mean,\n",
    "                                                                'num_products_dcos_30': np.mean,\n",
    "                                                                'num_products_dsin_30': np.mean,\n",
    "                                                                'num_products_ow_2': np.mean,           \n",
    "                                                                'num_products_ow_4': np.mean,\n",
    "                                                                'num_products_ow_8': np.mean,                  \n",
    "                                                                'num_products_ow_16': np.mean,\n",
    "                                                                'num_products_ow_32': np.mean,       \n",
    "                                                                      'absolute_date': np.max,\n",
    "                                                                     'order_number': np.max}).reset_index()"
   ]
  },
  {
   "cell_type": "code",
   "execution_count": 61,
   "metadata": {
    "collapsed": true
   },
   "outputs": [],
   "source": [
    "prior_individual_stats = prior_indorder_stats.groupby(\"user_id\").agg({'order_dow_sin': np.sum, \n",
    "                                                                'order_dow_cos': np.sum, \n",
    "                                                                'order_hod_sin': np.sum,\n",
    "                                                                'order_hod_cos': np.sum,\n",
    "                                                               'num_products': [np.sum, np.mean],\n",
    "                                                               'num_products_dw_8': np.sum,\n",
    "                                                                'num_products_dw_16': np.sum,\n",
    "                                                                'num_products_dw_32': np.sum,\n",
    "                                                                'num_products_dw_64': np.sum,\n",
    "                                                                'num_products_dw_128': np.sum,\n",
    "                                                                'num_products_dcos_14': np.sum,\n",
    "                                                                'num_products_dsin_14': np.sum,\n",
    "                                                                'num_products_dcos_30': np.sum,\n",
    "                                                                'num_products_dsin_30': np.sum,\n",
    "                                                                'num_products_ow_2': np.sum,           \n",
    "                                                                'num_products_ow_4': np.sum,\n",
    "                                                                'num_products_ow_8': np.sum,                  \n",
    "                                                                'num_products_ow_16': np.sum,\n",
    "                                                                'num_products_ow_32': np.sum,  \n",
    "                                                                'absolute_date': np.max,      \n",
    "                                                                'order_number': np.max})"
   ]
  },
  {
   "cell_type": "code",
   "execution_count": 62,
   "metadata": {
    "collapsed": true
   },
   "outputs": [],
   "source": [
    "prior_individual_stats.columns = ['order_dow_sin', 'order_dow_cos',\n",
    "                                  'order_hod_sin', 'order_hod_cos', \n",
    "                                   'num_products', 'mean_products', \n",
    "                                                               'num_products_dw_8',\n",
    "                                                                'num_products_dw_16',\n",
    "                                                                'num_products_dw_32',\n",
    "                                                                'num_products_dw_64',\n",
    "                                                                'num_products_dw_128',\n",
    "                                                                'num_products_dcos_14',\n",
    "                                                                'num_products_dsin_14',\n",
    "                                                                'num_products_dcos_30',\n",
    "                                                                'num_products_dsin_30',\n",
    "                                                                'num_products_ow_2',           \n",
    "                                                                'num_products_ow_4',\n",
    "                                                                'num_products_ow_8',                  \n",
    "                                                                'num_products_ow_16',\n",
    "                                                                'num_products_ow_32', \n",
    "                                  'max_absolute_date', \"max_order_number\"]"
   ]
  },
  {
   "cell_type": "code",
   "execution_count": 63,
   "metadata": {
    "collapsed": true
   },
   "outputs": [],
   "source": [
    "prior_individual_stats['order_dow_angle'] = np.arctan2(prior_individual_stats.order_dow_sin, prior_individual_stats.order_dow_cos)\n",
    "prior_individual_stats['order_hod_angle'] = np.arctan2(prior_individual_stats.order_hod_sin, prior_individual_stats.order_hod_cos)\n",
    "prior_individual_stats.order_dow_sin = np.sin(prior_individual_stats.order_dow_angle)\n",
    "prior_individual_stats.order_dow_cos = np.cos(prior_individual_stats.order_dow_angle)\n",
    "prior_individual_stats.order_hod_sin = np.sin(prior_individual_stats.order_hod_angle)\n",
    "prior_individual_stats.order_hod_cos = np.cos(prior_individual_stats.order_hod_angle)\n",
    "prior_individual_stats.drop(['order_dow_angle', 'order_hod_angle'], axis=1, inplace=True)"
   ]
  },
  {
   "cell_type": "code",
   "execution_count": 64,
   "metadata": {
    "collapsed": true
   },
   "outputs": [],
   "source": [
    "prior_individual_stats = prior_individual_stats.reset_index()"
   ]
  },
  {
   "cell_type": "code",
   "execution_count": 65,
   "metadata": {
    "collapsed": true
   },
   "outputs": [],
   "source": [
    "prior_individual_stats.columns = ['user_id', 'user_dow_sin',\n",
    "                                  'user_dow_cos', 'user_hod_sin',\n",
    "                                  'user_hod_cos', 'user_num_products',\n",
    "                                  'user_mean_products', \n",
    "                                                             'user_num_products_dw_8',\n",
    "                                                                'user_num_products_dw_16',\n",
    "                                                                'user_num_products_dw_32',\n",
    "                                                                'user_num_products_dw_64',\n",
    "                                                                'user_num_products_dw_128',\n",
    "                                                                'user_num_products_dcos_14',\n",
    "                                                                'user_num_products_dsin_14',\n",
    "                                                                'user_num_products_dcos_30',\n",
    "                                                                'user_num_products_dsin_30',\n",
    "                                                                'user_num_products_ow_2',           \n",
    "                                                                'user_num_products_ow_4',\n",
    "                                                                'user_num_products_ow_8',                  \n",
    "                                                                'user_num_products_ow_16',\n",
    "                                                                'user_num_products_ow_32', \n",
    "  \n",
    "                                  'user_num_days',\n",
    "                                 'user_num_orders']\n",
    "prior_individual_stats['user_days_per_order'] = prior_individual_stats.user_num_days / prior_individual_stats.user_num_orders"
   ]
  },
  {
   "cell_type": "code",
   "execution_count": 66,
   "metadata": {
    "collapsed": true
   },
   "outputs": [],
   "source": [
    "#prior_individual_shrinkage = prior_individual_stats.agg({'user_dow_sin': np.sum,\n",
    "#                                                   'user_dow_cos': np.sum,\n",
    "#                                                   'user_hod_sin': np.sum,\n",
    "#                                                   'user_hod_cos': np.sum})\n",
    "#prior_individual_shrinkage['dow_angle'] = np.arctan2(prior_individual_shrinkage.user_dow_sin, prior_individual_shrinkage.user_dow_cos)\n",
    "#prior_individual_shrinkage['hod_angle'] = np.arctan2(prior_individual_shrinkage.user_hod_sin, prior_individual_shrinkage.user_hod_cos)\n",
    "#prior_individual_shrinkage.user_dow_sin = np.sin(prior_individual_shrinkage.dow_angle)\n",
    "#prior_individual_shrinkage.user_dow_cos = np.cos(prior_individual_shrinkage.dow_angle)\n",
    "#prior_individual_shrinkage.user_hod_sin = np.sin(prior_individual_shrinkage.hod_angle)\n",
    "#prior_individual_shrinkage.user_hod_cos = np.cos(prior_individual_shrinkage.hod_angle)"
   ]
  },
  {
   "cell_type": "code",
   "execution_count": 67,
   "metadata": {
    "collapsed": true
   },
   "outputs": [],
   "source": [
    "prior_indorder_stats = prior_indorder_stats[['order_id', 'num_products']]\n",
    "prior_indorder_stats.columns = ['order_id', 'num_products_in_order']"
   ]
  },
  {
   "cell_type": "code",
   "execution_count": 68,
   "metadata": {
    "collapsed": true
   },
   "outputs": [],
   "source": [
    "prior_indprod_stats = (prior_df.merge(prior_indorder_stats[['order_id', 'num_products_in_order']], on='order_id')\n",
    "                       .merge(prior_individual_stats[['user_id', 'user_num_orders', 'user_num_days']], on='user_id', how='left'))\n",
    "prior_indprod_stats['add_to_cart_proportion'] = prior_indprod_stats['add_to_cart_order'] / prior_indprod_stats['num_products_in_order']\n",
    "prior_indprod_stats['indprod_inorder_1'] = 1 * (prior_indprod_stats.order_number == prior_indprod_stats.user_num_orders)\n",
    "prior_indprod_stats['indprod_inorder_2'] = 1 * (prior_indprod_stats.order_number == prior_indprod_stats.user_num_orders - 1)\n",
    "prior_indprod_stats['indprod_inorder_3'] = 1 * (prior_indprod_stats.order_number == prior_indprod_stats.user_num_orders - 2)\n",
    "prior_indprod_stats = prior_indprod_stats.groupby([\"user_id\", \"product_id\"]).agg({'order_dow_sin': np.sum, \n",
    "                                                                'order_dow_cos': np.sum, \n",
    "                                                                'order_hod_sin': np.sum,\n",
    "                                                                'order_hod_cos': np.sum,\n",
    "                                                               'num_products': np.sum,\n",
    "                                                               'num_products_dw_8': np.sum,\n",
    "                                                                'num_products_dw_16': np.sum,\n",
    "                                                                'num_products_dw_32': np.sum,\n",
    "                                                                'num_products_dw_64': np.sum,\n",
    "                                                                'num_products_dw_128': np.sum,\n",
    "                                                                'num_products_dcos_14': np.sum,\n",
    "                                                                'num_products_dsin_14': np.sum,\n",
    "                                                                'num_products_dcos_30': np.sum,\n",
    "                                                                'num_products_dsin_30': np.sum,\n",
    "                                                                'num_products_ow_2': np.sum,           \n",
    "                                                                'num_products_ow_4': np.sum,\n",
    "                                                                'num_products_ow_8': np.sum,                  \n",
    "                                                                'num_products_ow_16': np.sum,\n",
    "                                                                'num_products_ow_32': np.sum,                                   \n",
    "                                                           'add_to_cart_order': np.mean,\n",
    "                                                           'add_to_cart_proportion': np.mean,\n",
    "                                                           'indprod_inorder_1': np.sum,\n",
    "                                                           'indprod_inorder_2': np.sum,\n",
    "                                                           'indprod_inorder_3': np.sum,\n",
    "                                                            'user_num_orders': np.mean,\n",
    "                                                            'user_num_days': np.mean,\n",
    "                                                            'reverse_date': np.min,\n",
    "                                                            'reverse_order_number': np.min}).reset_index()"
   ]
  },
  {
   "cell_type": "code",
   "execution_count": 69,
   "metadata": {
    "collapsed": true
   },
   "outputs": [],
   "source": [
    "prior_indprod_stats['order_dow_angle'] = np.arctan2(prior_indprod_stats.order_dow_sin, prior_indprod_stats.order_dow_cos)\n",
    "prior_indprod_stats['order_hod_angle'] = np.arctan2(prior_indprod_stats.order_hod_sin, prior_indprod_stats.order_hod_cos)\n",
    "prior_indprod_stats['proportion_orders'] = prior_indprod_stats.num_products / (prior_indprod_stats.user_num_orders)\n",
    "prior_indprod_stats['days_per_order'] = prior_indprod_stats.user_num_days / (prior_indprod_stats.num_products)"
   ]
  },
  {
   "cell_type": "code",
   "execution_count": 70,
   "metadata": {
    "collapsed": true
   },
   "outputs": [],
   "source": [
    "prior_indprod_stats.order_dow_sin = np.sin(prior_indprod_stats.order_dow_angle)\n",
    "prior_indprod_stats.order_dow_cos = np.cos(prior_indprod_stats.order_dow_angle)\n",
    "prior_indprod_stats.order_hod_sin = np.sin(prior_indprod_stats.order_hod_angle)\n",
    "prior_indprod_stats.order_hod_cos = np.cos(prior_indprod_stats.order_hod_angle)\n",
    "prior_indprod_stats.drop(['order_dow_angle', 'order_hod_angle', 'user_num_orders', 'user_num_days'], axis=1, inplace=True)"
   ]
  },
  {
   "cell_type": "code",
   "execution_count": 71,
   "metadata": {
    "collapsed": true
   },
   "outputs": [],
   "source": [
    "prior_indprod_stats.columns = ['user_id', 'product_id', 'indprod_dow_sin', \n",
    "                               'indprod_dow_cos', 'indprod_hod_sin',\n",
    "                               'indprod_hod_cos', 'indprod_num_orders',\n",
    "                               'indprod_num_products_dw_8', 'indprod_num_products_dw_16', \n",
    "                               'indprod_num_products_dw_32', 'indprod_num_products_dw_64', \n",
    "                               'indprod_num_products_dw_128', 'indprod_num_products_dcos_14',\n",
    "                               'indprod_num_products_dsin_14', 'indprod_num_products_dcos_30',\n",
    "                               'indprod_num_products_dsin_30', 'indprod_num_products_ow_2',\n",
    "                               'indprod_num_products_ow_4', 'indprod_num_products_ow_8',\n",
    "                               'indprod_num_products_ow_16', 'indprod_num_products_ow_32',\n",
    "                               'indprod_add_to_cart_order', 'indprod_add_to_cart_proportion',\n",
    "                               'indprod_inorder_1', 'indprod_inorder_2', 'indprod_inorder_3',\n",
    "                               'indprod_days_since_last', 'indprod_orders_since_last',\n",
    "                                'indprod_proportion_orders', 'indprod_days_per_order']"
   ]
  },
  {
   "cell_type": "code",
   "execution_count": 72,
   "metadata": {
    "collapsed": true
   },
   "outputs": [],
   "source": [
    "# use indprod means to add more product stats\n",
    "product_order_proportions = (prior_indprod_stats[['user_id', 'product_id', \n",
    "                                                  'indprod_proportion_orders', 'indprod_days_per_order']]\n",
    "                             .groupby(\"product_id\")\n",
    "                             .agg({'indprod_proportion_orders': np.mean,\n",
    "                                  'indprod_days_per_order': np.mean})).reset_index()\n",
    "product_order_proportions.columns = ['product_id', 'product_proportion_orders', 'product_days_per_order']\n",
    "prior_product_stats = prior_product_stats.merge(product_order_proportions, on='product_id')"
   ]
  },
  {
   "cell_type": "code",
   "execution_count": 73,
   "metadata": {
    "collapsed": true
   },
   "outputs": [],
   "source": [
    "prior_all_stats = prior_indprod_stats.merge(prior_individual_stats, on=\"user_id\", how=\"left\").merge(prior_product_stats, on='product_id', how=\"left\")"
   ]
  },
  {
   "cell_type": "code",
   "execution_count": 74,
   "metadata": {
    "collapsed": true
   },
   "outputs": [],
   "source": [
    "for label in ['ow_2', 'ow_4', 'ow_8', 'ow_16', 'ow_32', 'dw_8', 'dw_16', 'dw_32', 'dw_64', 'dw_128', 'dcos_14', 'dsin_14', 'dcos_30', 'dsin_30']:\n",
    "    prior_all_stats['indprod_num_products_'+ label + '_reg'] = prior_all_stats['indprod_num_products_' + label] / prior_all_stats['user_num_products_' + label]\n",
    "    prior_all_stats.drop(['user_num_products_' + label], axis=1, inplace=True)\n"
   ]
  },
  {
   "cell_type": "code",
   "execution_count": 75,
   "metadata": {
    "collapsed": true
   },
   "outputs": [],
   "source": [
    "orders_df_last = orders_df[orders_df.eval_set != \"prior\"].copy()\n",
    "orders_df_last['order_dow_angle'] = (orders_df_last.order_dow / \n",
    "                                     (orders_df_last.order_dow.max() + 1) * 2 * np.pi)\n",
    "orders_df_last['order_hod_angle'] = (orders_df_last.order_hour_of_day / \n",
    "                                             (orders_df_last.order_dow.max() + 1) * 2 * np.pi)\n",
    "orders_df_last['order_dow_sin'] = np.sin(orders_df_last.order_dow_angle)\n",
    "orders_df_last['order_dow_cos'] = np.cos(orders_df_last.order_dow_angle)\n",
    "orders_df_last['order_hod_sin'] = np.sin(orders_df_last.order_hod_angle)\n",
    "orders_df_last['order_hod_cos'] = np.cos(orders_df_last.order_hod_angle)"
   ]
  },
  {
   "cell_type": "code",
   "execution_count": 76,
   "metadata": {
    "collapsed": true
   },
   "outputs": [],
   "source": [
    "orders_df_last.drop([\"order_number\", \"order_dow_angle\", \"order_hod_angle\"], axis=1, inplace=True)\n",
    "# \"order_dow\", \"order_hour_of_day\", "
   ]
  },
  {
   "cell_type": "code",
   "execution_count": 77,
   "metadata": {
    "collapsed": true
   },
   "outputs": [],
   "source": [
    "prior_all_stats = prior_all_stats.merge(orders_df_last, on=\"user_id\", how=\"inner\")"
   ]
  },
  {
   "cell_type": "code",
   "execution_count": 78,
   "metadata": {},
   "outputs": [
    {
     "data": {
      "text/plain": [
       "(13514162, 74)"
      ]
     },
     "execution_count": 78,
     "metadata": {},
     "output_type": "execute_result"
    }
   ],
   "source": [
    "prior_all_stats.shape"
   ]
  },
  {
   "cell_type": "code",
   "execution_count": 81,
   "metadata": {
    "collapsed": true
   },
   "outputs": [],
   "source": [
    "prior_all_stats = prior_all_stats.merge(individual_day_idx, on=['user_id', 'order_dow'])\n",
    "#prior_all_stats = prior_all_stats.merge(individual_day_idx_shrinkage, on=['order_dow'])\n",
    "prior_all_stats = prior_all_stats.merge(product_day_idx, on=['product_id', 'order_dow'])\n",
    "#prior_all_stats = prior_all_stats.merge(product_day_idx_shrinkage, on=['order_dow'])\n",
    "prior_all_stats = prior_all_stats.merge(indprod_day_idx, on=['user_id', 'product_id', 'order_dow'])"
   ]
  },
  {
   "cell_type": "code",
   "execution_count": 82,
   "metadata": {
    "collapsed": true
   },
   "outputs": [],
   "source": [
    "prior_all_stats = prior_all_stats.merge(individual_hod_idx, on=['user_id', 'order_hour_of_day'])\n",
    "prior_all_stats = prior_all_stats.merge(product_hod_idx, on=['product_id', 'order_hour_of_day'])\n",
    "#prior_all_stats = prior_all_stats.merge(individual_hod_idx_shrinkage, on=['order_hour_of_day'])\n",
    "#prior_all_stats = prior_all_stats.merge(product_hod_idx_shrinkage, on=['order_hour_of_day'])\n",
    "prior_all_stats = prior_all_stats.merge(indprod_hod_idx, on=['user_id', 'product_id', 'order_hour_of_day'])"
   ]
  },
  {
   "cell_type": "code",
   "execution_count": null,
   "metadata": {
    "collapsed": true
   },
   "outputs": [],
   "source": [
    "#prior_all_stats_old = prior_all_stats.copy()\n",
    "#prior_all_stats = prior_all_stats_old.copy()"
   ]
  },
  {
   "cell_type": "code",
   "execution_count": null,
   "metadata": {
    "collapsed": true
   },
   "outputs": [],
   "source": [
    "#product_shrinkage_weight = 200\n",
    "#user_shrinkage_weight = 13\n",
    "#indprod_user_shrinkage_weight = 13\n",
    "#indprod_product_shrinkage_weight = 0"
   ]
  },
  {
   "cell_type": "code",
   "execution_count": null,
   "metadata": {
    "collapsed": true
   },
   "outputs": [],
   "source": [
    "#for hd in ['hod', 'day']:\n",
    "#    prior_all_stats['user_'+hd+'_proportion'] = ((prior_all_stats['user_num_orders'] * prior_all_stats['user_'+hd+'_proportion'] + \n",
    "#                                                user_shrinkage_weight * prior_all_stats['user_'+hd+'_proportion_shrinkage'])\n",
    "#                                                /(prior_all_stats['user_num_orders'] + user_shrinkage_weight))\n",
    "#    prior_all_stats.drop('user_'+hd+'_proportion_shrinkage', axis=1, inplace=True)\n",
    "#    prior_all_stats['product_'+hd+'_proportion'] = ((prior_all_stats['product_num_orders'] * prior_all_stats['product_'+hd+'_proportion'] + \n",
    "#                                                product_shrinkage_weight * prior_all_stats['product_'+hd+'_proportion_shrinkage'])\n",
    "#                                                /(prior_all_stats['product_num_orders'] + product_shrinkage_weight))\n",
    "#    prior_all_stats.drop('product_'+hd+'_proportion_shrinkage', axis=1, inplace=True)\n",
    "#\n",
    "#    prior_all_stats['indprod_'+hd+'_proportion'] = ((prior_all_stats['indprod_num_orders'] * prior_all_stats['indprod_'+hd+'_proportion'] +\n",
    "#                                                    indprod_user_shrinkage_weight * prior_all_stats['user_'+hd+'_proportion'] +\n",
    "#                                                    indprod_product_shrinkage_weight * prior_all_stats['product_'+hd+'_proportion'])\n",
    "#                                                   /(prior_all_stats['indprod_num_orders'] + indprod_user_shrinkage_weight + indprod_product_shrinkage_weight))"
   ]
  },
  {
   "cell_type": "code",
   "execution_count": null,
   "metadata": {
    "collapsed": true
   },
   "outputs": [],
   "source": [
    "#product_shrinkage_weight = 10\n",
    "#user_shrinkage_weight = 2\n",
    "#indprod_user_shrinkage_weight = 4\n",
    "#indprod_product_shrinkage_weight = 0"
   ]
  },
  {
   "cell_type": "code",
   "execution_count": null,
   "metadata": {
    "collapsed": true
   },
   "outputs": [],
   "source": [
    "#labels = ['hod_cos', 'hod_sin', 'dow_cos', 'dow_sin']\n",
    "#hoddow = ['hod', 'hod', 'dow', 'dow']\n",
    "#operations = [np.cos, np.sin, np.cos, np.sin]\n",
    "#for i in range(4):\n",
    "#    lab = labels[i]\n",
    "#    op = operations[i]\n",
    "#    hd = hoddow[i]\n",
    "#    prior_all_stats['user_'+lab] = op(np.arctan2(prior_all_stats['user_num_orders'] * prior_all_stats['user_'+hd+'_sin'] +\n",
    "#                                                user_shrinkage_weight * prior_individual_shrinkage['user_'+hd+'_sin'],\n",
    "#                                                prior_all_stats['user_num_orders'] * prior_all_stats['user_'+hd+'_cos'] +\n",
    "#                                                user_shrinkage_weight * prior_individual_shrinkage['user_'+hd+'_cos']))\n",
    "#    prior_all_stats['product_'+lab] = op(np.arctan2(prior_all_stats['product_num_orders'] * prior_all_stats['product_'+hd+'_sin'] +\n",
    "#                                                product_shrinkage_weight * prior_products_shrinkage['product_'+hd+'_sin'],\n",
    "#                                                prior_all_stats['user_num_orders'] * prior_all_stats['product_'+hd+'_cos'] +\n",
    "#                                                product_shrinkage_weight * prior_products_shrinkage['product_'+hd+'_cos']))\n",
    "#for i in range(4):\n",
    "#    lab = labels[i]\n",
    "#    op = operations[i]    \n",
    "#    hd = hoddow[i]\n",
    "#    prior_all_stats['indprod_'+lab] = op(np.arctan2(\n",
    "#        prior_all_stats['indprod_num_orders'] * prior_all_stats['indprod_'+hd+'_sin'] +\n",
    " #       indprod_user_shrinkage_weight * prior_all_stats['user_'+hd+'_sin'] +\n",
    " #       indprod_product_shrinkage_weight * prior_all_stats['product_'+hd+'_sin'],\n",
    " #       prior_all_stats['indprod_num_orders'] * prior_all_stats['indprod_'+hd+'_cos'] +\n",
    " #       indprod_user_shrinkage_weight * prior_all_stats['user_'+hd+'_cos'] +\n",
    " #       indprod_product_shrinkage_weight * prior_all_stats['product_'+hd+'_cos']))"
   ]
  },
  {
   "cell_type": "code",
   "execution_count": 83,
   "metadata": {
    "collapsed": true
   },
   "outputs": [],
   "source": [
    "prior_all_stats.drop(['order_hour_of_day', 'order_dow'], axis=1, inplace=True)"
   ]
  },
  {
   "cell_type": "code",
   "execution_count": 84,
   "metadata": {
    "collapsed": true
   },
   "outputs": [],
   "source": [
    "prior_all_stats['indprod_dow_avg_diff'] = np.cos(np.arctan2(prior_all_stats.order_dow_sin, prior_all_stats.order_dow_cos) - \n",
    "                                                np.arctan2(prior_all_stats.indprod_dow_sin, prior_all_stats.indprod_dow_cos))\n",
    "prior_all_stats['indprod_hod_avg_diff'] = np.cos(np.arctan2(prior_all_stats.order_hod_sin, prior_all_stats.order_hod_cos) - \n",
    "                                                np.arctan2(prior_all_stats.indprod_hod_sin, prior_all_stats.indprod_hod_cos))\n",
    "prior_all_stats['user_dow_avg_diff'] = np.cos(np.arctan2(prior_all_stats.order_dow_sin, prior_all_stats.order_dow_cos) - \n",
    "                                                np.arctan2(prior_all_stats.user_dow_sin, prior_all_stats.user_dow_cos))\n",
    "prior_all_stats['user_hod_avg_diff'] = np.cos(np.arctan2(prior_all_stats.order_hod_sin, prior_all_stats.order_hod_cos) - \n",
    "                                                np.arctan2(prior_all_stats.user_hod_sin, prior_all_stats.user_hod_cos))\n",
    "prior_all_stats['product_dow_avg_diff'] = np.cos(np.arctan2(prior_all_stats.order_dow_sin, prior_all_stats.order_dow_cos) - \n",
    "                                                np.arctan2(prior_all_stats.product_dow_sin, prior_all_stats.product_dow_cos))\n",
    "prior_all_stats['product_hod_avg_diff'] = np.cos(np.arctan2(prior_all_stats.order_hod_sin, prior_all_stats.order_hod_cos) - \n",
    "                                                np.arctan2(prior_all_stats.product_hod_sin, prior_all_stats.product_hod_cos))\n"
   ]
  },
  {
   "cell_type": "code",
   "execution_count": 85,
   "metadata": {
    "collapsed": true
   },
   "outputs": [],
   "source": [
    "del individual_hod_idx\n",
    "del product_hod_idx\n",
    "del indprod_hod_idx\n",
    "del individual_day_idx\n",
    "del product_day_idx\n",
    "del indprod_day_idx"
   ]
  },
  {
   "cell_type": "code",
   "execution_count": 86,
   "metadata": {
    "collapsed": true
   },
   "outputs": [],
   "source": [
    "prior_all_stats['user_distinct_products'] = prior_all_stats.groupby('user_id')['product_id'].transform('count')"
   ]
  },
  {
   "cell_type": "code",
   "execution_count": 87,
   "metadata": {
    "collapsed": true
   },
   "outputs": [],
   "source": [
    "prior_all_stats = prior_all_stats.merge(train_df[['user_id', 'product_id', 'reordered']], how=\"left\", on=[\"user_id\", \"product_id\"])\n",
    "prior_all_stats.reordered = prior_all_stats.reordered.fillna(0)                  \n"
   ]
  },
  {
   "cell_type": "code",
   "execution_count": null,
   "metadata": {
    "collapsed": true
   },
   "outputs": [],
   "source": [
    "#prior_all_stats.indprod_num_products_dcos_14_reg = prior_all_stats.indprod_num_products_dcos_14_reg.fillna(value=0)\n",
    "#prior_all_stats.indprod_num_products_dsin_14_reg = prior_all_stats.indprod_num_products_dsin_14_reg.fillna(value=0)\n",
    "#prior_all_stats.indprod_num_products_dcos_30_reg = prior_all_stats.indprod_num_products_dcos_30_reg.fillna(value=0)\n",
    "#prior_all_stats.indprod_num_products_dsin_30_reg = prior_all_stats.indprod_num_products_dsin_30_reg.fillna(value=0)"
   ]
  },
  {
   "cell_type": "code",
   "execution_count": 88,
   "metadata": {
    "collapsed": true
   },
   "outputs": [],
   "source": [
    "prior_all_stats.drop(['reverse_date', 'reverse_order_number'], axis=1, inplace=True)"
   ]
  },
  {
   "cell_type": "code",
   "execution_count": 89,
   "metadata": {
    "collapsed": true
   },
   "outputs": [],
   "source": [
    "prior_all_stats['user_mean_proportion_products'] = prior_all_stats.user_mean_products / prior_all_stats.user_distinct_products"
   ]
  },
  {
   "cell_type": "code",
   "execution_count": 90,
   "metadata": {
    "collapsed": true
   },
   "outputs": [],
   "source": [
    "none_df = prior_all_stats.query(\"product_id == 'None'\")"
   ]
  },
  {
   "cell_type": "code",
   "execution_count": 96,
   "metadata": {},
   "outputs": [],
   "source": [
    "none_df.drop(['product_dow_sin',\n",
    "       'product_dow_cos', 'product_hod_sin', 'product_hod_cos',\n",
    "       'product_num_orders', 'product_proportion_orders',\n",
    "       'product_days_per_order', 'product_day_proportion',\n",
    "        'product_hod_proportion', 'product_dow_avg_diff',\n",
    "        'product_hod_avg_diff'], axis=1, inplace=True)"
   ]
  },
  {
   "cell_type": "code",
   "execution_count": 99,
   "metadata": {},
   "outputs": [],
   "source": [
    "none_df.drop(['indprod_add_to_cart_order', 'indprod_add_to_cart_proportion'], axis=1, inplace=True)"
   ]
  },
  {
   "cell_type": "code",
   "execution_count": 102,
   "metadata": {},
   "outputs": [],
   "source": [
    "none_df.to_hdf(\"data/none_stats.h5\", \"table\")"
   ]
  },
  {
   "cell_type": "code",
   "execution_count": 93,
   "metadata": {},
   "outputs": [],
   "source": [
    "prior_all_stats = prior_all_stats.query(\"product_id != 'None'\")"
   ]
  },
  {
   "cell_type": "code",
   "execution_count": 104,
   "metadata": {
    "collapsed": true
   },
   "outputs": [],
   "source": [
    "prior_all_stats = prior_all_stats.merge(short_vectors_df, on=\"product_id\")"
   ]
  },
  {
   "cell_type": "code",
   "execution_count": 105,
   "metadata": {},
   "outputs": [
    {
     "data": {
      "text/plain": [
       "(13307953, 115)"
      ]
     },
     "execution_count": 105,
     "metadata": {},
     "output_type": "execute_result"
    }
   ],
   "source": [
    "prior_all_stats.shape"
   ]
  },
  {
   "cell_type": "code",
   "execution_count": 106,
   "metadata": {
    "collapsed": true
   },
   "outputs": [],
   "source": [
    "prior_all_stats.to_hdf(\"data/prior_all_stats.h5\", \"table\")"
   ]
  },
  {
   "cell_type": "code",
   "execution_count": 89,
   "metadata": {},
   "outputs": [
    {
     "data": {
      "text/plain": [
       "2"
      ]
     },
     "execution_count": 89,
     "metadata": {},
     "output_type": "execute_result"
    }
   ],
   "source": [
    "1+1"
   ]
  },
  {
   "cell_type": "code",
   "execution_count": 14,
   "metadata": {
    "collapsed": true
   },
   "outputs": [],
   "source": [
    "prior_all_stats = pd.read_hdf(\"data/prior_all_stats.h5\", \"table\")"
   ]
  },
  {
   "cell_type": "code",
   "execution_count": null,
   "metadata": {
    "collapsed": true
   },
   "outputs": [],
   "source": [
    "prior_all_stats.replace([np.inf, -np.inf], np.nan, inplace=True)"
   ]
  },
  {
   "cell_type": "code",
   "execution_count": null,
   "metadata": {
    "collapsed": true
   },
   "outputs": [],
   "source": [
    "nulls = prior_all_stats.isnull().mean(axis=0)"
   ]
  },
  {
   "cell_type": "code",
   "execution_count": null,
   "metadata": {
    "collapsed": true
   },
   "outputs": [],
   "source": [
    "nulls[nulls > 0]"
   ]
  },
  {
   "cell_type": "code",
   "execution_count": 27,
   "metadata": {
    "collapsed": true
   },
   "outputs": [],
   "source": [
    "# split into train, validation, and test sets\n",
    "#prior_all_stats = pd.read_hdf(\"data/prior_all_stats.h5\", \"table\")\n",
    "prior_all_stats['validation_set'] = 0\n",
    "prior_all_stats['prediction'] = 0\n",
    "valid_users = prior_all_stats.loc[prior_all_stats.eval_set == \"train\", \"user_id\"].unique()\n",
    "valid_users = pd.Series(valid_users).sample(frac=.1, random_state=1234)\n"
   ]
  },
  {
   "cell_type": "code",
   "execution_count": 4,
   "metadata": {
    "collapsed": true
   },
   "outputs": [],
   "source": [
    "prior_all_stats['prediction'] = 0\n",
    "all_users = prior_all_stats.loc[prior_all_stats.eval_set == \"train\", \"user_id\"].unique()\n",
    "np.random.shuffle(all_users)"
   ]
  },
  {
   "cell_type": "code",
   "execution_count": 5,
   "metadata": {
    "collapsed": true
   },
   "outputs": [],
   "source": [
    "valid_set = pd.DataFrame({'user_id': all_users, 'validation_set': np.arange(0, all_users.shape[0]) % 10})"
   ]
  },
  {
   "cell_type": "code",
   "execution_count": 6,
   "metadata": {},
   "outputs": [
    {
     "ename": "KeyboardInterrupt",
     "evalue": "",
     "output_type": "error",
     "traceback": [
      "\u001b[0;31m---------------------------------------------------------------------------\u001b[0m",
      "\u001b[0;31mKeyboardInterrupt\u001b[0m                         Traceback (most recent call last)",
      "\u001b[0;32m<ipython-input-6-12a40ab0ca92>\u001b[0m in \u001b[0;36m<module>\u001b[0;34m()\u001b[0m\n\u001b[0;32m----> 1\u001b[0;31m \u001b[0mprior_all_stats\u001b[0m \u001b[0;34m=\u001b[0m \u001b[0mprior_all_stats\u001b[0m\u001b[0;34m.\u001b[0m\u001b[0mmerge\u001b[0m\u001b[0;34m(\u001b[0m\u001b[0mvalid_set\u001b[0m\u001b[0;34m,\u001b[0m \u001b[0mon\u001b[0m\u001b[0;34m=\u001b[0m\u001b[0;34m'user_id'\u001b[0m\u001b[0;34m,\u001b[0m \u001b[0mhow\u001b[0m\u001b[0;34m=\u001b[0m\u001b[0;34m'left'\u001b[0m\u001b[0;34m)\u001b[0m\u001b[0;34m\u001b[0m\u001b[0m\n\u001b[0m",
      "\u001b[0;32m/Users/alex/anaconda/envs/py3/lib/python3.6/site-packages/pandas/core/frame.py\u001b[0m in \u001b[0;36mmerge\u001b[0;34m(self, right, how, on, left_on, right_on, left_index, right_index, sort, suffixes, copy, indicator)\u001b[0m\n\u001b[1;32m   4818\u001b[0m                      \u001b[0mright_on\u001b[0m\u001b[0;34m=\u001b[0m\u001b[0mright_on\u001b[0m\u001b[0;34m,\u001b[0m \u001b[0mleft_index\u001b[0m\u001b[0;34m=\u001b[0m\u001b[0mleft_index\u001b[0m\u001b[0;34m,\u001b[0m\u001b[0;34m\u001b[0m\u001b[0m\n\u001b[1;32m   4819\u001b[0m                      \u001b[0mright_index\u001b[0m\u001b[0;34m=\u001b[0m\u001b[0mright_index\u001b[0m\u001b[0;34m,\u001b[0m \u001b[0msort\u001b[0m\u001b[0;34m=\u001b[0m\u001b[0msort\u001b[0m\u001b[0;34m,\u001b[0m \u001b[0msuffixes\u001b[0m\u001b[0;34m=\u001b[0m\u001b[0msuffixes\u001b[0m\u001b[0;34m,\u001b[0m\u001b[0;34m\u001b[0m\u001b[0m\n\u001b[0;32m-> 4820\u001b[0;31m                      copy=copy, indicator=indicator)\n\u001b[0m\u001b[1;32m   4821\u001b[0m \u001b[0;34m\u001b[0m\u001b[0m\n\u001b[1;32m   4822\u001b[0m     \u001b[0;32mdef\u001b[0m \u001b[0mround\u001b[0m\u001b[0;34m(\u001b[0m\u001b[0mself\u001b[0m\u001b[0;34m,\u001b[0m \u001b[0mdecimals\u001b[0m\u001b[0;34m=\u001b[0m\u001b[0;36m0\u001b[0m\u001b[0;34m,\u001b[0m \u001b[0;34m*\u001b[0m\u001b[0margs\u001b[0m\u001b[0;34m,\u001b[0m \u001b[0;34m**\u001b[0m\u001b[0mkwargs\u001b[0m\u001b[0;34m)\u001b[0m\u001b[0;34m:\u001b[0m\u001b[0;34m\u001b[0m\u001b[0m\n",
      "\u001b[0;32m/Users/alex/anaconda/envs/py3/lib/python3.6/site-packages/pandas/core/reshape/merge.py\u001b[0m in \u001b[0;36mmerge\u001b[0;34m(left, right, how, on, left_on, right_on, left_index, right_index, sort, suffixes, copy, indicator)\u001b[0m\n\u001b[1;32m     52\u001b[0m                          \u001b[0mright_index\u001b[0m\u001b[0;34m=\u001b[0m\u001b[0mright_index\u001b[0m\u001b[0;34m,\u001b[0m \u001b[0msort\u001b[0m\u001b[0;34m=\u001b[0m\u001b[0msort\u001b[0m\u001b[0;34m,\u001b[0m \u001b[0msuffixes\u001b[0m\u001b[0;34m=\u001b[0m\u001b[0msuffixes\u001b[0m\u001b[0;34m,\u001b[0m\u001b[0;34m\u001b[0m\u001b[0m\n\u001b[1;32m     53\u001b[0m                          copy=copy, indicator=indicator)\n\u001b[0;32m---> 54\u001b[0;31m     \u001b[0;32mreturn\u001b[0m \u001b[0mop\u001b[0m\u001b[0;34m.\u001b[0m\u001b[0mget_result\u001b[0m\u001b[0;34m(\u001b[0m\u001b[0;34m)\u001b[0m\u001b[0;34m\u001b[0m\u001b[0m\n\u001b[0m\u001b[1;32m     55\u001b[0m \u001b[0;34m\u001b[0m\u001b[0m\n\u001b[1;32m     56\u001b[0m \u001b[0;34m\u001b[0m\u001b[0m\n",
      "\u001b[0;32m/Users/alex/anaconda/envs/py3/lib/python3.6/site-packages/pandas/core/reshape/merge.py\u001b[0m in \u001b[0;36mget_result\u001b[0;34m(self)\u001b[0m\n\u001b[1;32m    581\u001b[0m             \u001b[0;34m[\u001b[0m\u001b[0;34m(\u001b[0m\u001b[0mldata\u001b[0m\u001b[0;34m,\u001b[0m \u001b[0mlindexers\u001b[0m\u001b[0;34m)\u001b[0m\u001b[0;34m,\u001b[0m \u001b[0;34m(\u001b[0m\u001b[0mrdata\u001b[0m\u001b[0;34m,\u001b[0m \u001b[0mrindexers\u001b[0m\u001b[0;34m)\u001b[0m\u001b[0;34m]\u001b[0m\u001b[0;34m,\u001b[0m\u001b[0;34m\u001b[0m\u001b[0m\n\u001b[1;32m    582\u001b[0m             \u001b[0maxes\u001b[0m\u001b[0;34m=\u001b[0m\u001b[0;34m[\u001b[0m\u001b[0mllabels\u001b[0m\u001b[0;34m.\u001b[0m\u001b[0mappend\u001b[0m\u001b[0;34m(\u001b[0m\u001b[0mrlabels\u001b[0m\u001b[0;34m)\u001b[0m\u001b[0;34m,\u001b[0m \u001b[0mjoin_index\u001b[0m\u001b[0;34m]\u001b[0m\u001b[0;34m,\u001b[0m\u001b[0;34m\u001b[0m\u001b[0m\n\u001b[0;32m--> 583\u001b[0;31m             concat_axis=0, copy=self.copy)\n\u001b[0m\u001b[1;32m    584\u001b[0m \u001b[0;34m\u001b[0m\u001b[0m\n\u001b[1;32m    585\u001b[0m         \u001b[0mtyp\u001b[0m \u001b[0;34m=\u001b[0m \u001b[0mself\u001b[0m\u001b[0;34m.\u001b[0m\u001b[0mleft\u001b[0m\u001b[0;34m.\u001b[0m\u001b[0m_constructor\u001b[0m\u001b[0;34m\u001b[0m\u001b[0m\n",
      "\u001b[0;32m/Users/alex/anaconda/envs/py3/lib/python3.6/site-packages/pandas/core/internals.py\u001b[0m in \u001b[0;36mconcatenate_block_managers\u001b[0;34m(mgrs_indexers, axes, concat_axis, copy)\u001b[0m\n\u001b[1;32m   4830\u001b[0m     blocks = [make_block(\n\u001b[1;32m   4831\u001b[0m         \u001b[0mconcatenate_join_units\u001b[0m\u001b[0;34m(\u001b[0m\u001b[0mjoin_units\u001b[0m\u001b[0;34m,\u001b[0m \u001b[0mconcat_axis\u001b[0m\u001b[0;34m,\u001b[0m \u001b[0mcopy\u001b[0m\u001b[0;34m=\u001b[0m\u001b[0mcopy\u001b[0m\u001b[0;34m)\u001b[0m\u001b[0;34m,\u001b[0m\u001b[0;34m\u001b[0m\u001b[0m\n\u001b[0;32m-> 4832\u001b[0;31m         placement=placement) for placement, join_units in concat_plan]\n\u001b[0m\u001b[1;32m   4833\u001b[0m \u001b[0;34m\u001b[0m\u001b[0m\n\u001b[1;32m   4834\u001b[0m     \u001b[0;32mreturn\u001b[0m \u001b[0mBlockManager\u001b[0m\u001b[0;34m(\u001b[0m\u001b[0mblocks\u001b[0m\u001b[0;34m,\u001b[0m \u001b[0maxes\u001b[0m\u001b[0;34m)\u001b[0m\u001b[0;34m\u001b[0m\u001b[0m\n",
      "\u001b[0;32m/Users/alex/anaconda/envs/py3/lib/python3.6/site-packages/pandas/core/internals.py\u001b[0m in \u001b[0;36m<listcomp>\u001b[0;34m(.0)\u001b[0m\n\u001b[1;32m   4830\u001b[0m     blocks = [make_block(\n\u001b[1;32m   4831\u001b[0m         \u001b[0mconcatenate_join_units\u001b[0m\u001b[0;34m(\u001b[0m\u001b[0mjoin_units\u001b[0m\u001b[0;34m,\u001b[0m \u001b[0mconcat_axis\u001b[0m\u001b[0;34m,\u001b[0m \u001b[0mcopy\u001b[0m\u001b[0;34m=\u001b[0m\u001b[0mcopy\u001b[0m\u001b[0;34m)\u001b[0m\u001b[0;34m,\u001b[0m\u001b[0;34m\u001b[0m\u001b[0m\n\u001b[0;32m-> 4832\u001b[0;31m         placement=placement) for placement, join_units in concat_plan]\n\u001b[0m\u001b[1;32m   4833\u001b[0m \u001b[0;34m\u001b[0m\u001b[0m\n\u001b[1;32m   4834\u001b[0m     \u001b[0;32mreturn\u001b[0m \u001b[0mBlockManager\u001b[0m\u001b[0;34m(\u001b[0m\u001b[0mblocks\u001b[0m\u001b[0;34m,\u001b[0m \u001b[0maxes\u001b[0m\u001b[0;34m)\u001b[0m\u001b[0;34m\u001b[0m\u001b[0m\n",
      "\u001b[0;32m/Users/alex/anaconda/envs/py3/lib/python3.6/site-packages/pandas/core/internals.py\u001b[0m in \u001b[0;36mconcatenate_join_units\u001b[0;34m(join_units, concat_axis, copy)\u001b[0m\n\u001b[1;32m   4937\u001b[0m     to_concat = [ju.get_reindexed_values(empty_dtype=empty_dtype,\n\u001b[1;32m   4938\u001b[0m                                          upcasted_na=upcasted_na)\n\u001b[0;32m-> 4939\u001b[0;31m                  for ju in join_units]\n\u001b[0m\u001b[1;32m   4940\u001b[0m \u001b[0;34m\u001b[0m\u001b[0m\n\u001b[1;32m   4941\u001b[0m     \u001b[0;32mif\u001b[0m \u001b[0mlen\u001b[0m\u001b[0;34m(\u001b[0m\u001b[0mto_concat\u001b[0m\u001b[0;34m)\u001b[0m \u001b[0;34m==\u001b[0m \u001b[0;36m1\u001b[0m\u001b[0;34m:\u001b[0m\u001b[0;34m\u001b[0m\u001b[0m\n",
      "\u001b[0;32m/Users/alex/anaconda/envs/py3/lib/python3.6/site-packages/pandas/core/internals.py\u001b[0m in \u001b[0;36m<listcomp>\u001b[0;34m(.0)\u001b[0m\n\u001b[1;32m   4937\u001b[0m     to_concat = [ju.get_reindexed_values(empty_dtype=empty_dtype,\n\u001b[1;32m   4938\u001b[0m                                          upcasted_na=upcasted_na)\n\u001b[0;32m-> 4939\u001b[0;31m                  for ju in join_units]\n\u001b[0m\u001b[1;32m   4940\u001b[0m \u001b[0;34m\u001b[0m\u001b[0m\n\u001b[1;32m   4941\u001b[0m     \u001b[0;32mif\u001b[0m \u001b[0mlen\u001b[0m\u001b[0;34m(\u001b[0m\u001b[0mto_concat\u001b[0m\u001b[0;34m)\u001b[0m \u001b[0;34m==\u001b[0m \u001b[0;36m1\u001b[0m\u001b[0;34m:\u001b[0m\u001b[0;34m\u001b[0m\u001b[0m\n",
      "\u001b[0;32m/Users/alex/anaconda/envs/py3/lib/python3.6/site-packages/pandas/core/internals.py\u001b[0m in \u001b[0;36mget_reindexed_values\u001b[0;34m(self, empty_dtype, upcasted_na)\u001b[0m\n\u001b[1;32m   5239\u001b[0m             \u001b[0;32mfor\u001b[0m \u001b[0max\u001b[0m\u001b[0;34m,\u001b[0m \u001b[0mindexer\u001b[0m \u001b[0;32min\u001b[0m \u001b[0mself\u001b[0m\u001b[0;34m.\u001b[0m\u001b[0mindexers\u001b[0m\u001b[0;34m.\u001b[0m\u001b[0mitems\u001b[0m\u001b[0;34m(\u001b[0m\u001b[0;34m)\u001b[0m\u001b[0;34m:\u001b[0m\u001b[0;34m\u001b[0m\u001b[0m\n\u001b[1;32m   5240\u001b[0m                 values = algos.take_nd(values, indexer, axis=ax,\n\u001b[0;32m-> 5241\u001b[0;31m                                        fill_value=fill_value)\n\u001b[0m\u001b[1;32m   5242\u001b[0m \u001b[0;34m\u001b[0m\u001b[0m\n\u001b[1;32m   5243\u001b[0m         \u001b[0;32mreturn\u001b[0m \u001b[0mvalues\u001b[0m\u001b[0;34m\u001b[0m\u001b[0m\n",
      "\u001b[0;31mKeyboardInterrupt\u001b[0m: "
     ]
    }
   ],
   "source": [
    "prior_all_stats = prior_all_stats.merge(valid_set, on='user_id', how='left')"
   ]
  },
  {
   "cell_type": "code",
   "execution_count": null,
   "metadata": {
    "collapsed": true
   },
   "outputs": [],
   "source": [
    "prior_all_stats.validation_set = prior_all_stats.validation_set.fillna(-1)"
   ]
  },
  {
   "cell_type": "code",
   "execution_count": 28,
   "metadata": {
    "collapsed": true
   },
   "outputs": [],
   "source": [
    "prior_all_stats.loc[prior_all_stats.user_id.isin(valid_users), 'validation_set'] = 1\n"
   ]
  },
  {
   "cell_type": "code",
   "execution_count": 10,
   "metadata": {
    "collapsed": true
   },
   "outputs": [],
   "source": [
    "\n",
    "#prior_train = prior_all_stats.loc[(prior_all_stats.eval_set == \"train\") & (prior_all_stats.validation_set == 0)]\n",
    "#prior_valid = prior_all_stats.loc[prior_all_stats.validation_set == 1]\n",
    "prior_test = prior_all_stats.loc[prior_all_stats.eval_set == \"test\"]\n",
    "\n",
    "#X_train = prior_train.drop([\"prediction\", \"eval_set\", \"validation_set\", \"order_id\", \"reordered\", \"user_id\", \"product_id\"], axis=1).as_matrix()\n",
    "#y_train = prior_train.reordered.as_matrix()\n",
    "#X_valid = prior_valid.drop([\"prediction\", \"eval_set\", \"validation_set\", \"order_id\", \"reordered\", \"user_id\", \"product_id\"], axis=1).as_matrix()\n",
    "#y_valid = prior_valid.reordered.as_matrix()\n",
    "X_test = prior_test.drop([\"eval_set\", \"order_id\", \"reordered\", \"user_id\", \"product_id\"], axis=1).as_matrix()"
   ]
  },
  {
   "cell_type": "code",
   "execution_count": 5,
   "metadata": {
    "collapsed": true
   },
   "outputs": [],
   "source": [
    "import xgboost as xgb"
   ]
  },
  {
   "cell_type": "code",
   "execution_count": 31,
   "metadata": {
    "collapsed": true
   },
   "outputs": [],
   "source": [
    "# Set our parameters for xgboost\n",
    "params = {}\n",
    "params['objective'] = 'binary:logistic'\n",
    "params['eval_metric'] = 'auc'\n",
    "params['eta'] = 0.1\n",
    "params['max_depth'] = 6\n",
    "params['nthread'] = 12\n",
    "\n",
    "d_train = xgb.DMatrix(X_train, label=y_train)\n",
    "d_valid = xgb.DMatrix(X_valid, label=y_valid)\n",
    "\n",
    "watchlist = [(d_train, 'train'), (d_valid, 'valid')]\n",
    "\n",
    "#bst = xgb.train(params, d_train, 1000, watchlist, early_stopping_rounds=50, verbose_eval=10)"
   ]
  },
  {
   "cell_type": "code",
   "execution_count": 3,
   "metadata": {},
   "outputs": [
    {
     "ename": "NameError",
     "evalue": "name 'xgb' is not defined",
     "output_type": "error",
     "traceback": [
      "\u001b[0;31m---------------------------------------------------------------------------\u001b[0m",
      "\u001b[0;31mNameError\u001b[0m                                 Traceback (most recent call last)",
      "\u001b[0;32m<ipython-input-3-a4f5f3e49860>\u001b[0m in \u001b[0;36m<module>\u001b[0;34m()\u001b[0m\n\u001b[1;32m      1\u001b[0m \u001b[0;31m#bst.save_model('add_distinct.model')\u001b[0m\u001b[0;34m\u001b[0m\u001b[0;34m\u001b[0m\u001b[0m\n\u001b[0;32m----> 2\u001b[0;31m \u001b[0mbst\u001b[0m \u001b[0;34m=\u001b[0m \u001b[0mxgb\u001b[0m\u001b[0;34m.\u001b[0m\u001b[0mBooster\u001b[0m\u001b[0;34m(\u001b[0m\u001b[0;34m)\u001b[0m\u001b[0;34m\u001b[0m\u001b[0m\n\u001b[0m\u001b[1;32m      3\u001b[0m \u001b[0mbst\u001b[0m\u001b[0;34m.\u001b[0m\u001b[0mload_model\u001b[0m\u001b[0;34m(\u001b[0m\u001b[0;34m'rawpredictions_xgb0.model'\u001b[0m\u001b[0;34m)\u001b[0m\u001b[0;34m\u001b[0m\u001b[0m\n",
      "\u001b[0;31mNameError\u001b[0m: name 'xgb' is not defined"
     ]
    }
   ],
   "source": [
    "#bst.save_model('add_distinct.model')\n",
    "bst = xgb.Booster()\n",
    "bst.load_model('multi_xgb0.model')"
   ]
  },
  {
   "cell_type": "code",
   "execution_count": 32,
   "metadata": {
    "collapsed": true
   },
   "outputs": [],
   "source": [
    "y_predicted = bst.predict(d_valid)"
   ]
  },
  {
   "cell_type": "code",
   "execution_count": 33,
   "metadata": {
    "collapsed": true
   },
   "outputs": [],
   "source": [
    "prior_valid = prior_valid.copy()"
   ]
  },
  {
   "cell_type": "code",
   "execution_count": 46,
   "metadata": {},
   "outputs": [
    {
     "name": "stdout",
     "output_type": "stream",
     "text": [
      "best reorder cutoff: (-1.1499999999999999, -0.13749999999999998)\n",
      "best none cutoff: (-0.85000000000000009, -0.57499999999999984)\n",
      "best f1: 0.389216180222\n"
     ]
    }
   ],
   "source": [
    "guess = [-1, -.1, -1, -.3]\n",
    "width = np.array([.2, .03, .2, .1])\n",
    "best_reorder_cutoff = (0, 0)\n",
    "best_none_cutoff = (0, 0)\n",
    "best_cutoff_f1 = 0\n",
    "for i in range(2):\n",
    "    for reorder_cutoff in [(x,y) for x in np.arange(guess[0]-4*width[0], guess[0]+4*width[0], width[0]) for y in np.arange(guess[1]-4*width[1], guess[1]+4*width[1], width[1])]:\n",
    "        prior_valid['reorder_cutoff'] = np.exp(reorder_cutoff[0] + reorder_cutoff[1] * np.log(prior_valid.user_distinct_products))\n",
    "        prior_valid.loc[:,'prediction'] = 1 * (y_predicted > prior_valid.reorder_cutoff)\n",
    "        prior_valid['p_not'] = 1 - y_predicted\n",
    "        prior_valid['hit'] = (prior_valid.reordered * prior_valid.prediction)\n",
    "        prior_valid_agg = prior_valid.groupby(\"user_id\").agg({'reordered': np.sum, \n",
    "                                                          'prediction': np.sum, \n",
    "                                                          'hit': np.sum,\n",
    "                                                              'user_distinct_products': np.mean,\n",
    "                                                             'p_not': np.prod})\n",
    "        for none_cutoff in [(x,y) for x in np.arange(guess[2]-4*width[2], guess[2]+4*width[2], width[2]) for y in np.arange(guess[3]-4*width[3], guess[3]+4*width[3], width[3])]:\n",
    "            prior_valid_agg['none_cutoff'] = np.exp(none_cutoff[0] + none_cutoff[1] * np.log(prior_valid_agg.user_distinct_products))\n",
    "            prior_valid_agg['putnone'] = (prior_valid_agg.p_not > prior_valid_agg.none_cutoff) | (prior_valid_agg.prediction == 0)\n",
    "            prior_valid_agg['truenone'] = (prior_valid_agg.reordered == 0)\n",
    "            prior_valid_agg['r'] = prior_valid_agg.reordered\n",
    "            prior_valid_agg['p'] = prior_valid_agg.prediction\n",
    "            prior_valid_agg['h'] = prior_valid_agg.hit\n",
    "            prior_valid_agg.loc[prior_valid_agg.putnone & prior_valid_agg.truenone, \"h\"] = 1\n",
    "            prior_valid_agg.loc[prior_valid_agg.putnone, 'p'] = prior_valid_agg.loc[prior_valid_agg.putnone, 'p'] + 1\n",
    "            prior_valid_agg.loc[prior_valid_agg.truenone, 'r'] = prior_valid_agg.loc[prior_valid_agg.truenone, 'r'] + 1\n",
    "            prior_valid_agg['precision'] = (prior_valid_agg['h']) / (prior_valid_agg['p'])\n",
    "            prior_valid_agg['recall'] = (prior_valid_agg['h']) / (prior_valid_agg['r'])\n",
    "            prior_valid_agg['f1'] = 2 * prior_valid_agg['precision'] * prior_valid_agg['recall'] / (prior_valid_agg['precision'] + prior_valid_agg['recall'] + .000001)\n",
    "            if prior_valid_agg['f1'].mean() > best_cutoff_f1:\n",
    "                best_cutoff_f1 = prior_valid_agg['f1'].mean()\n",
    "                best_reorder_cutoff = reorder_cutoff\n",
    "                best_none_cutoff = none_cutoff\n",
    "    guess = [best_reorder_cutoff[0], best_reorder_cutoff[1], best_none_cutoff[0], best_none_cutoff[1]]\n",
    "    width = width / 4\n",
    "print(\"best reorder cutoff:\", best_reorder_cutoff)\n",
    "print(\"best none cutoff:\", best_none_cutoff)\n",
    "print(\"best f1:\", best_cutoff_f1)"
   ]
  },
  {
   "cell_type": "code",
   "execution_count": 62,
   "metadata": {
    "collapsed": true
   },
   "outputs": [],
   "source": [
    "#best_reorder_cutoff =  (-1.4281249999999999, -0.061562499999999951)\n",
    "#best_none_cutoff = (-0.31250000000000006, -0.79999999999999993)\n",
    "#best_reorder_cutoff = (-1.4499999999999997, -0.048437499999999967)\n",
    "#best_none_cutoff = (-0.64374999999999982, -0.62656249999999969)\n",
    "best_reorder_cutoff = (-1.2781250000000002, -0.099062499999999956)\n",
    "best_none_cutoff = (-0.71250000000000013, -0.68749999999999989)"
   ]
  },
  {
   "cell_type": "code",
   "execution_count": 64,
   "metadata": {
    "collapsed": true
   },
   "outputs": [],
   "source": [
    "#d_test = xgb.DMatrix(X_test)\n",
    "y_test = bst.predict(d_test)"
   ]
  },
  {
   "cell_type": "code",
   "execution_count": 55,
   "metadata": {},
   "outputs": [
    {
     "data": {
      "text/plain": [
       "0.98559470439609276"
      ]
     },
     "execution_count": 55,
     "metadata": {},
     "output_type": "execute_result"
    }
   ],
   "source": [
    "(prediction_2 == prediction_1).mean()"
   ]
  },
  {
   "cell_type": "code",
   "execution_count": 69,
   "metadata": {},
   "outputs": [
    {
     "data": {
      "text/plain": [
       "0.15333938028159688"
      ]
     },
     "execution_count": 69,
     "metadata": {},
     "output_type": "execute_result"
    }
   ],
   "source": [
    "prediction_0.mean()"
   ]
  },
  {
   "cell_type": "code",
   "execution_count": 85,
   "metadata": {},
   "outputs": [
    {
     "data": {
      "text/plain": [
       "0.19314666666666666"
      ]
     },
     "execution_count": 85,
     "metadata": {},
     "output_type": "execute_result"
    }
   ],
   "source": [
    "putnone_0.mean()"
   ]
  },
  {
   "cell_type": "code",
   "execution_count": 61,
   "metadata": {},
   "outputs": [
    {
     "data": {
      "text/plain": [
       "0.062280352207435656"
      ]
     },
     "execution_count": 61,
     "metadata": {},
     "output_type": "execute_result"
    }
   ],
   "source": [
    "prior_all_stats.reordered.mean()"
   ]
  },
  {
   "cell_type": "code",
   "execution_count": 112,
   "metadata": {
    "collapsed": true
   },
   "outputs": [],
   "source": [
    "putnone_all = ( 1*putnone_1 + 1*putnone_2 + 1*putnone_0  > 1)"
   ]
  },
  {
   "cell_type": "code",
   "execution_count": 113,
   "metadata": {
    "collapsed": true
   },
   "outputs": [],
   "source": [
    "#prior_test = prior_test.copy()\n",
    "prior_test['prediction'] = 1 * (prediction_0 + prediction_1 + prediction_2 > 1)#1 * (y_test > np.exp(best_reorder_cutoff[0] + best_reorder_cutoff[1] * np.log(prior_test.user_distinct_products)))\n",
    "prior_test['p_not'] = 1 - y_test"
   ]
  },
  {
   "cell_type": "code",
   "execution_count": 66,
   "metadata": {
    "collapsed": true
   },
   "outputs": [],
   "source": [
    "#prediction_0= 1 * (y_test > np.exp(best_reorder_cutoff[0] + best_reorder_cutoff[1] * np.log(prior_test.user_distinct_products)))\n"
   ]
  },
  {
   "cell_type": "code",
   "execution_count": 114,
   "metadata": {
    "collapsed": true
   },
   "outputs": [],
   "source": [
    "writenone_df = prior_test.groupby('order_id').agg({'p_not': np.prod, \n",
    "                                                   'prediction': np.sum, \n",
    "                                                   'user_distinct_products': np.mean}).reset_index()"
   ]
  },
  {
   "cell_type": "code",
   "execution_count": 115,
   "metadata": {
    "collapsed": true
   },
   "outputs": [],
   "source": [
    "#putnone_0 = 1 * (writenone_df.p_not > np.exp(best_none_cutoff[0] + best_none_cutoff[1] * np.log(writenone_df.user_distinct_products))) | (writenone_df.prediction == 0)\n",
    "\n",
    "writenone_df['putnone'] = putnone_all#(writenone_df.p_not > np.exp(best_none_cutoff[0] + best_none_cutoff[1] * np.log(writenone_df.user_distinct_products))) | (writenone_df.prediction == 0)\n",
    "writenone_df['nonestring'] = ''\n",
    "writenone_df.loc[writenone_df.putnone, 'nonestring'] = 'None'"
   ]
  },
  {
   "cell_type": "code",
   "execution_count": 116,
   "metadata": {
    "collapsed": true
   },
   "outputs": [],
   "source": [
    "prediction_df = prior_test[prior_test['prediction'] == 1].copy()"
   ]
  },
  {
   "cell_type": "code",
   "execution_count": 117,
   "metadata": {
    "collapsed": true
   },
   "outputs": [],
   "source": [
    "prediction_df = prediction_df[['order_id', 'product_id']]"
   ]
  },
  {
   "cell_type": "code",
   "execution_count": 118,
   "metadata": {
    "collapsed": true
   },
   "outputs": [],
   "source": [
    "prediction_lists = prediction_df.groupby('order_id').agg(lambda x: \" \".join(x.astype(str))).reset_index()"
   ]
  },
  {
   "cell_type": "code",
   "execution_count": 119,
   "metadata": {
    "collapsed": true
   },
   "outputs": [],
   "source": [
    "prediction_lists = prediction_lists.merge(writenone_df[['order_id', 'nonestring']], on='order_id', how='right')"
   ]
  },
  {
   "cell_type": "code",
   "execution_count": 120,
   "metadata": {
    "collapsed": true
   },
   "outputs": [],
   "source": [
    "prediction_lists['products'] = prediction_lists.product_id.fillna('')"
   ]
  },
  {
   "cell_type": "code",
   "execution_count": 121,
   "metadata": {
    "collapsed": true
   },
   "outputs": [],
   "source": [
    "prediction_lists['products'] = prediction_lists.products + \" \" + prediction_lists.nonestring"
   ]
  },
  {
   "cell_type": "code",
   "execution_count": 122,
   "metadata": {
    "collapsed": true
   },
   "outputs": [],
   "source": [
    "prediction_lists = prediction_lists[['order_id', 'products']]"
   ]
  },
  {
   "cell_type": "code",
   "execution_count": 123,
   "metadata": {
    "collapsed": true
   },
   "outputs": [],
   "source": [
    "prediction_lists.to_csv(\"submissions/test_xgb.csv\", index=False)"
   ]
  },
  {
   "cell_type": "code",
   "execution_count": null,
   "metadata": {
    "collapsed": true
   },
   "outputs": [],
   "source": []
  }
 ],
 "metadata": {
  "kernelspec": {
   "display_name": "Python 3",
   "language": "python",
   "name": "python3"
  },
  "language_info": {
   "codemirror_mode": {
    "name": "ipython",
    "version": 3
   },
   "file_extension": ".py",
   "mimetype": "text/x-python",
   "name": "python",
   "nbconvert_exporter": "python",
   "pygments_lexer": "ipython3",
   "version": "3.6.1"
  }
 },
 "nbformat": 4,
 "nbformat_minor": 1
}
