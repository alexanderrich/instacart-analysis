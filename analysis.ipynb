{
 "cells": [
  {
   "cell_type": "code",
   "execution_count": 1,
   "metadata": {
    "collapsed": true
   },
   "outputs": [],
   "source": [
    "import numpy as np\n",
    "import pandas as pd\n",
    "#import matplotlib.pyplot as plt\n",
    "\n",
    "#% matplotlib inline"
   ]
  },
  {
   "cell_type": "code",
   "execution_count": 2,
   "metadata": {
    "collapsed": true
   },
   "outputs": [],
   "source": [
    "aisles_df = pd.read_csv(\"data/aisles.csv\")\n",
    "departments_df = pd.read_csv(\"data/departments.csv\")\n",
    "products_df = pd.read_csv(\"data/products.csv\")\n",
    "orders_df = pd.read_csv(\"data/orders.csv\")\n",
    "prior_df = pd.read_csv(\"data/order_products__prior.csv\")\n",
    "train_df = pd.read_csv(\"data/order_products__train.csv\")\n",
    "products_df_merged = (products_df\n",
    "                      .merge(departments_df, on=\"department_id\")\n",
    "                      .merge(aisles_df, on=\"aisle_id\"))"
   ]
  },
  {
   "cell_type": "code",
   "execution_count": 3,
   "metadata": {
    "collapsed": true
   },
   "outputs": [],
   "source": [
    "orders_df['absolute_date'] = orders_df.groupby(\"user_id\").days_since_prior_order.cumsum().fillna(0)"
   ]
  },
  {
   "cell_type": "code",
   "execution_count": 4,
   "metadata": {
    "collapsed": true
   },
   "outputs": [],
   "source": [
    "orders_df['max_order_number'] = orders_df.groupby(\"user_id\").order_number.transform(max)\n",
    "orders_df['max_absolute_date'] = orders_df.groupby(\"user_id\").absolute_date.transform(max)"
   ]
  },
  {
   "cell_type": "code",
   "execution_count": 5,
   "metadata": {
    "collapsed": true
   },
   "outputs": [],
   "source": [
    "orders_df['reverse_date'] = orders_df.max_absolute_date - orders_df.absolute_date\n",
    "orders_df['reverse_order_number'] = orders_df.max_order_number - orders_df.order_number"
   ]
  },
  {
   "cell_type": "code",
   "execution_count": 6,
   "metadata": {
    "collapsed": true
   },
   "outputs": [],
   "source": [
    "train_df = train_df.merge(orders_df[[\"order_id\", \"user_id\"]], on=\"order_id\")"
   ]
  },
  {
   "cell_type": "code",
   "execution_count": 7,
   "metadata": {
    "collapsed": true
   },
   "outputs": [],
   "source": [
    "prior_df = prior_df.merge(orders_df, on=\"order_id\")"
   ]
  },
  {
   "cell_type": "code",
   "execution_count": 8,
   "metadata": {
    "collapsed": true
   },
   "outputs": [],
   "source": [
    "prior_df['order_dow_angle'] = (prior_df.order_dow / \n",
    "                                     (prior_df.order_dow.max() + 1) * 2 * np.pi)\n",
    "prior_df['order_hod_angle'] = (prior_df.order_hour_of_day / \n",
    "                                             (prior_df.order_dow.max() + 1) * 2 * np.pi)"
   ]
  },
  {
   "cell_type": "code",
   "execution_count": 9,
   "metadata": {
    "collapsed": true
   },
   "outputs": [],
   "source": [
    "prior_df['order_dow_sin'] = np.sin(prior_df.order_dow_angle)\n",
    "prior_df['order_dow_cos'] = np.cos(prior_df.order_dow_angle)\n",
    "prior_df['order_hod_sin'] = np.sin(prior_df.order_hod_angle)\n",
    "prior_df['order_hod_cos'] = np.cos(prior_df.order_hod_angle)\n",
    "prior_df['num_products'] = 1\n",
    "prior_df['num_products_dw_8'] = np.exp(-np.log(2)/8 * prior_df.reverse_date)\n",
    "prior_df['num_products_dw_16'] = np.exp(-np.log(2)/16 * prior_df.reverse_date)\n",
    "prior_df['num_products_dw_32'] = np.exp(-np.log(2)/32 * prior_df.reverse_date)\n",
    "prior_df['num_products_dw_64'] = np.exp(-np.log(2)/64 * prior_df.reverse_date)\n",
    "prior_df['num_products_dw_128'] = np.exp(-np.log(2)/128 * prior_df.reverse_date)\n",
    "prior_df['num_products_ow_2'] = np.exp(-np.log(2)/2 * prior_df.reverse_order_number)\n",
    "prior_df['num_products_ow_4'] = np.exp(-np.log(2)/4 * prior_df.reverse_order_number)\n",
    "prior_df['num_products_ow_8'] = np.exp(-np.log(2)/8 * prior_df.reverse_order_number)\n",
    "prior_df['num_products_ow_16'] = np.exp(-np.log(2)/16 * prior_df.reverse_order_number)\n",
    "prior_df['num_products_ow_32'] = np.exp(-np.log(2)/32 * prior_df.reverse_order_number)"
   ]
  },
  {
   "cell_type": "code",
   "execution_count": 11,
   "metadata": {
    "collapsed": true
   },
   "outputs": [],
   "source": [
    "prior_df['num_products_dsin_14'] = np.sin(2*np.pi*(prior_df.reverse_date/14))\n",
    "prior_df['num_products_dcos_14'] = np.cos(2*np.pi*(prior_df.reverse_date/14))\n",
    "prior_df['num_products_dsin_30'] = np.sin(2*np.pi*(prior_df.reverse_date/30))\n",
    "prior_df['num_products_dcos_30'] = np.cos(2*np.pi*(prior_df.reverse_date/30))"
   ]
  },
  {
   "cell_type": "code",
   "execution_count": 13,
   "metadata": {
    "collapsed": true
   },
   "outputs": [],
   "source": [
    "prior_day_idx = prior_df[['user_id', 'order_id', 'product_id']].join(pd.get_dummies(prior_df.order_dow))\n",
    "\n",
    "product_day_idx = (prior_day_idx.drop(['user_id', 'order_id'], axis=1)\n",
    "                   .groupby(\"product_id\").agg(np.mean).reset_index()\n",
    "                   .melt(id_vars='product_id', var_name=\"day\", value_name=\"product_day_proportion\"))\n",
    "product_day_idx.day = product_day_idx.day.astype(int)\n",
    "\n",
    "individual_day_idx = (prior_day_idx.drop(['product_id'], axis=1)\n",
    "                   .groupby(['user_id', 'order_id']).agg(np.mean).reset_index()\n",
    "                     .drop(['order_id'], axis=1).groupby('user_id').agg(np.mean).reset_index()\n",
    "                   .melt(id_vars='user_id', var_name=\"day\", value_name=\"individual_day_proportion\"))\n",
    "individual_day_idx.day = individual_day_idx.day.astype(int)\n",
    "\n",
    "indprod_day_idx = (prior_day_idx.drop(['order_id'], axis=1)\n",
    "                   .groupby(['user_id', 'product_id']).agg(np.mean).reset_index()\n",
    "                   .melt(id_vars=['user_id', 'product_id'], var_name=\"day\", value_name=\"indprod_day_proportion\"))\n",
    "indprod_day_idx.day = indprod_day_idx.day.astype(int)\n",
    "\n",
    "indprod_day_idx.rename(columns={'day': 'order_dow'}, inplace=True)\n",
    "product_day_idx.rename(columns={'day': 'order_dow'}, inplace=True)\n",
    "individual_day_idx.rename(columns={'day': 'order_dow'}, inplace=True)\n",
    "\n",
    "prior_hod_idx = prior_df[['user_id', 'order_id', 'product_id']].join(pd.get_dummies(prior_df.order_hour_of_day))\n",
    "\n",
    "prior_hod_idx_orig = prior_hod_idx\n",
    "prior_hod_idx = prior_hod_idx.copy()\n",
    "\n",
    "for i in range(24):\n",
    "    prior_hod_idx[i] = prior_hod_idx_orig[(i - 1) % 24] + prior_hod_idx_orig[i] + prior_hod_idx_orig[(i + 1) % 24]\n",
    "\n",
    "del prior_hod_idx_orig\n",
    "\n",
    "product_hod_idx = (prior_hod_idx.drop(['user_id', 'order_id'], axis=1)\n",
    "                   .groupby(\"product_id\").agg(np.mean).reset_index()\n",
    "                   .melt(id_vars='product_id', var_name=\"hod\", value_name=\"product_hod_proportion\"))\n",
    "product_hod_idx.hod = product_hod_idx.hod.astype(int)\n",
    "\n",
    "individual_hod_idx = (prior_hod_idx.drop(['product_id'], axis=1)\n",
    "                   .groupby(['user_id', 'order_id']).agg(np.mean).reset_index()\n",
    "                     .drop(['order_id'], axis=1).groupby('user_id').agg(np.mean).reset_index()\n",
    "                   .melt(id_vars='user_id', var_name=\"hod\", value_name=\"individual_hod_proportion\"))\n",
    "individual_hod_idx.hod = individual_hod_idx.hod.astype(int)\n",
    "\n",
    "indprod_hod_idx = (prior_hod_idx.drop(['order_id'], axis=1)\n",
    "                   .groupby(['user_id', 'product_id']).agg(np.mean).reset_index()\n",
    "                   .melt(id_vars=['user_id', 'product_id'], var_name=\"hod\", value_name=\"indprod_hod_proportion\"))\n",
    "indprod_hod_idx.hod = indprod_hod_idx.hod.astype(int)\n",
    "\n",
    "indprod_hod_idx.rename(columns={'hod': 'order_hour_of_day'}, inplace=True)\n",
    "product_hod_idx.rename(columns={'hod': 'order_hour_of_day'}, inplace=True)\n",
    "individual_hod_idx.rename(columns={'hod': 'order_hour_of_day'}, inplace=True)"
   ]
  },
  {
   "cell_type": "code",
   "execution_count": 68,
   "metadata": {
    "collapsed": true
   },
   "outputs": [],
   "source": [
    "prior_product_stats = prior_df.groupby(\"product_id\").agg({'order_dow_sin': np.sum, \n",
    "                                                                'order_dow_cos': np.sum, \n",
    "                                                                'order_hod_sin': np.sum,\n",
    "                                                                'order_hod_cos': np.sum,\n",
    "                                                               'num_products': np.sum})\n",
    "prior_product_stats['order_dow_angle'] = np.arctan2(prior_product_stats.order_dow_sin, prior_product_stats.order_dow_cos)\n",
    "prior_product_stats['order_hod_angle'] = np.arctan2(prior_product_stats.order_hod_sin, prior_product_stats.order_hod_cos)"
   ]
  },
  {
   "cell_type": "code",
   "execution_count": 69,
   "metadata": {
    "collapsed": true
   },
   "outputs": [],
   "source": [
    "prior_product_stats.order_dow_sin = np.sin(prior_product_stats.order_dow_angle)\n",
    "prior_product_stats.order_dow_cos = np.cos(prior_product_stats.order_dow_angle)\n",
    "prior_product_stats.order_hod_sin = np.sin(prior_product_stats.order_hod_angle)\n",
    "prior_product_stats.order_hod_cos = np.cos(prior_product_stats.order_hod_angle)\n",
    "prior_product_stats.drop(['order_dow_angle', 'order_hod_angle'], axis=1, inplace=True)\n",
    "prior_product_stats.reset_index(inplace=True)\n",
    "prior_product_stats.columns = ['product_id', 'product_dow_sin', 'product_dow_cos', 'product_hod_sin', 'product_hod_cos', 'product_num_purchases']"
   ]
  },
  {
   "cell_type": "code",
   "execution_count": 70,
   "metadata": {
    "collapsed": true
   },
   "outputs": [],
   "source": [
    "prior_indorder_stats = prior_df.groupby([\"user_id\", \"order_id\"]).agg({'order_dow_sin': np.sum, \n",
    "                                                                'order_dow_cos': np.sum, \n",
    "                                                                'order_hod_sin': np.sum,\n",
    "                                                                'order_hod_cos': np.sum,\n",
    "                                                               'num_products': np.sum,\n",
    "                                                                      'absolute_date': np.max,\n",
    "                                                                     'order_number': np.max}).reset_index()"
   ]
  },
  {
   "cell_type": "code",
   "execution_count": 71,
   "metadata": {
    "collapsed": true
   },
   "outputs": [],
   "source": [
    "prior_individual_stats = prior_indorder_stats.groupby(\"user_id\").agg({'order_dow_sin': np.sum, \n",
    "                                                                'order_dow_cos': np.sum, \n",
    "                                                                'order_hod_sin': np.sum,\n",
    "                                                                'order_hod_cos': np.sum,\n",
    "                                                               'num_products': [np.sum, np.mean],\n",
    "                                                                'absolute_date': np.max,      \n",
    "                                                                'order_number': np.max})"
   ]
  },
  {
   "cell_type": "code",
   "execution_count": 72,
   "metadata": {
    "collapsed": true
   },
   "outputs": [],
   "source": [
    "prior_individual_stats.columns = ['order_dow_sin', 'order_dow_cos',\n",
    "                                  'order_hod_sin', 'order_hod_cos', \n",
    "                                   'num_products', 'mean_products', 'max_absolute_date', \"max_order_number\"]"
   ]
  },
  {
   "cell_type": "code",
   "execution_count": 73,
   "metadata": {
    "collapsed": true
   },
   "outputs": [],
   "source": [
    "prior_individual_stats['order_dow_angle'] = np.arctan2(prior_individual_stats.order_dow_sin, prior_individual_stats.order_dow_cos)\n",
    "prior_individual_stats['order_hod_angle'] = np.arctan2(prior_individual_stats.order_hod_sin, prior_individual_stats.order_hod_cos)\n",
    "prior_individual_stats.order_dow_sin = np.sin(prior_individual_stats.order_dow_angle)\n",
    "prior_individual_stats.order_dow_cos = np.cos(prior_individual_stats.order_dow_angle)\n",
    "prior_individual_stats.order_hod_sin = np.sin(prior_individual_stats.order_hod_angle)\n",
    "prior_individual_stats.order_hod_cos = np.cos(prior_individual_stats.order_hod_angle)\n",
    "prior_individual_stats.drop(['order_dow_angle', 'order_hod_angle'], axis=1, inplace=True)"
   ]
  },
  {
   "cell_type": "code",
   "execution_count": 74,
   "metadata": {
    "collapsed": true
   },
   "outputs": [],
   "source": [
    "prior_individual_stats = prior_individual_stats.reset_index()"
   ]
  },
  {
   "cell_type": "code",
   "execution_count": 75,
   "metadata": {
    "collapsed": true
   },
   "outputs": [],
   "source": [
    "prior_individual_stats.columns = ['user_id', 'user_dow_sin',\n",
    "                                  'user_dow_cos', 'user_hod_sin',\n",
    "                                  'user_hod_cos', 'user_num_products',\n",
    "                                  'user_mean_products', 'user_num_days',\n",
    "                                 'user_num_orders']\n",
    "prior_individual_stats['user_days_per_order'] = prior_individual_stats.user_num_days / prior_individual_stats.user_num_orders"
   ]
  },
  {
   "cell_type": "code",
   "execution_count": 76,
   "metadata": {
    "collapsed": true
   },
   "outputs": [],
   "source": [
    "prior_indorder_stats = prior_indorder_stats[['order_id', 'num_products']]\n",
    "prior_indorder_stats.columns = ['order_id', 'num_products_in_order']"
   ]
  },
  {
   "cell_type": "code",
   "execution_count": 78,
   "metadata": {
    "collapsed": true
   },
   "outputs": [],
   "source": [
    "prior_indprod_stats = (prior_df.merge(prior_indorder_stats[['order_id', 'num_products_in_order']], on='order_id')\n",
    "                       .merge(prior_individual_stats[['user_id', 'user_num_orders', 'user_num_days']], on='user_id', how='left'))\n",
    "prior_indprod_stats['add_to_cart_proportion'] = prior_indprod_stats['add_to_cart_order'] / prior_indprod_stats['num_products_in_order']\n",
    "prior_indprod_stats['indprod_inorder_1'] = 1 * (prior_indprod_stats.order_number == prior_indprod_stats.user_num_orders)\n",
    "prior_indprod_stats['indprod_inorder_2'] = 1 * (prior_indprod_stats.order_number == prior_indprod_stats.user_num_orders - 1)\n",
    "prior_indprod_stats['indprod_inorder_3'] = 1 * (prior_indprod_stats.order_number == prior_indprod_stats.user_num_orders - 2)\n",
    "prior_indprod_stats = prior_indprod_stats.groupby([\"user_id\", \"product_id\"]).agg({'order_dow_sin': np.sum, \n",
    "                                                                'order_dow_cos': np.sum, \n",
    "                                                                'order_hod_sin': np.sum,\n",
    "                                                                'order_hod_cos': np.sum,\n",
    "                                                               'num_products': np.sum,\n",
    "                                                               'num_products_dw_8': np.sum,\n",
    "                                                                'num_products_dw_16': np.sum,\n",
    "                                                                'num_products_dw_32': np.sum,\n",
    "                                                                'num_products_dw_64': np.sum,\n",
    "                                                                'num_products_dw_128': np.sum,\n",
    "                                                                'num_products_dcos_14': np.sum,\n",
    "                                                                'num_products_dsin_14': np.sum,\n",
    "                                                                'num_products_dcos_30': np.sum,\n",
    "                                                                'num_products_dsin_30': np.sum,\n",
    "                                                                'num_products_ow_2': np.sum,           \n",
    "                                                                'num_products_ow_4': np.sum,\n",
    "                                                                'num_products_ow_8': np.sum,                  \n",
    "                                                                'num_products_ow_16': np.sum,\n",
    "                                                                'num_products_ow_32': np.sum,                                   \n",
    "                                                           'add_to_cart_order': np.mean,\n",
    "                                                           'add_to_cart_proportion': np.mean,\n",
    "                                                           'indprod_inorder_1': np.sum,\n",
    "                                                           'indprod_inorder_2': np.sum,\n",
    "                                                           'indprod_inorder_3': np.sum,\n",
    "                                                            'user_num_orders': np.mean,\n",
    "                                                            'user_num_days': np.mean,\n",
    "                                                            'reverse_date': np.min,\n",
    "                                                            'reverse_order_number': np.min}).reset_index()"
   ]
  },
  {
   "cell_type": "code",
   "execution_count": 79,
   "metadata": {
    "collapsed": true
   },
   "outputs": [],
   "source": [
    "prior_indprod_stats['order_dow_angle'] = np.arctan2(prior_indprod_stats.order_dow_sin, prior_indprod_stats.order_dow_cos)\n",
    "prior_indprod_stats['order_hod_angle'] = np.arctan2(prior_indprod_stats.order_hod_sin, prior_indprod_stats.order_hod_cos)\n",
    "prior_indprod_stats['proportion_orders'] = prior_indprod_stats.num_products / (prior_indprod_stats.user_num_orders)\n",
    "prior_indprod_stats['days_per_order'] = prior_indprod_stats.user_num_days / (prior_indprod_stats.num_products)"
   ]
  },
  {
   "cell_type": "code",
   "execution_count": 80,
   "metadata": {
    "collapsed": true
   },
   "outputs": [],
   "source": [
    "prior_indprod_stats.order_dow_sin = np.sin(prior_indprod_stats.order_dow_angle)\n",
    "prior_indprod_stats.order_dow_cos = np.cos(prior_indprod_stats.order_dow_angle)\n",
    "prior_indprod_stats.order_hod_sin = np.sin(prior_indprod_stats.order_hod_angle)\n",
    "prior_indprod_stats.order_hod_cos = np.cos(prior_indprod_stats.order_hod_angle)\n",
    "prior_indprod_stats.drop(['order_dow_angle', 'order_hod_angle', 'user_num_orders', 'user_num_days'], axis=1, inplace=True)"
   ]
  },
  {
   "cell_type": "code",
   "execution_count": 81,
   "metadata": {
    "collapsed": true
   },
   "outputs": [],
   "source": [
    "prior_indprod_stats.columns = ['user_id', 'product_id', 'indprod_dow_sin', \n",
    "                               'indprod_dow_cos', 'indprod_hod_sin',\n",
    "                               'indprod_hod_cos', 'indprod_num_products',\n",
    "                               'indprod_num_products_dw_8', 'indprod_num_products_dw_16', \n",
    "                               'indprod_num_products_dw_32', 'indprod_num_products_dw_64', \n",
    "                               'indprod_num_products_dw_128', 'num_products_dcos_14',\n",
    "                               'num_products_dsin_14', 'num_products_dcos_30',\n",
    "                               'num_products_dsin_30', 'indprod_num_products_ow_2',\n",
    "                               'indprod_num_products_ow_4', 'indprod_num_products_ow_8',\n",
    "                               'indprod_num_products_ow_16', 'indprod_num_products_ow_32',\n",
    "                               'indprod_add_to_cart_order', 'indprod_add_to_cart_proportion',\n",
    "                               'indprod_inorder_1', 'indprod_inorder_2', 'indprod_inorder_3',\n",
    "                               'indprod_days_since_last', 'indprod_orders_since_last',\n",
    "                                'indprod_proportion_orders', 'indprod_days_per_order']"
   ]
  },
  {
   "cell_type": "code",
   "execution_count": 82,
   "metadata": {
    "collapsed": true
   },
   "outputs": [],
   "source": [
    "# use indprod means to add more product stats\n",
    "product_order_proportions = (prior_indprod_stats[['user_id', 'product_id', \n",
    "                                                  'indprod_proportion_orders', 'indprod_days_per_order']]\n",
    "                             .groupby(\"product_id\")\n",
    "                             .agg({'indprod_proportion_orders': np.mean,\n",
    "                                  'indprod_days_per_order': np.mean})).reset_index()\n",
    "product_order_proportions.columns = ['product_id', 'product_proportion_orders', 'product_days_per_order']\n",
    "prior_product_stats = prior_product_stats.merge(product_order_proportions, on='product_id')"
   ]
  },
  {
   "cell_type": "code",
   "execution_count": 83,
   "metadata": {
    "collapsed": true
   },
   "outputs": [],
   "source": [
    "prior_all_stats = prior_indprod_stats.merge(prior_individual_stats, on=\"user_id\", how=\"left\").merge(prior_product_stats, on='product_id', how=\"left\")"
   ]
  },
  {
   "cell_type": "code",
   "execution_count": 84,
   "metadata": {
    "collapsed": true
   },
   "outputs": [],
   "source": [
    "orders_df_last = orders_df[orders_df.eval_set != \"prior\"].copy()\n",
    "orders_df_last['order_dow_angle'] = (orders_df_last.order_dow / \n",
    "                                     (orders_df_last.order_dow.max() + 1) * 2 * np.pi - np.pi)\n",
    "orders_df_last['order_hod_angle'] = (orders_df_last.order_hour_of_day / \n",
    "                                             (orders_df_last.order_dow.max() + 1) * 2 * np.pi - np.pi)\n",
    "orders_df_last['order_dow_sin'] = np.sin(orders_df_last.order_dow_angle)\n",
    "orders_df_last['order_dow_cos'] = np.cos(orders_df_last.order_dow_angle)\n",
    "orders_df_last['order_hod_sin'] = np.sin(orders_df_last.order_hod_angle)\n",
    "orders_df_last['order_hod_cos'] = np.cos(orders_df_last.order_hod_angle)"
   ]
  },
  {
   "cell_type": "code",
   "execution_count": 85,
   "metadata": {
    "collapsed": true
   },
   "outputs": [],
   "source": [
    "orders_df_last.drop([\"order_number\", \"order_dow_angle\", \"order_hod_angle\"], axis=1, inplace=True)\n",
    "# \"order_dow\", \"order_hour_of_day\", "
   ]
  },
  {
   "cell_type": "code",
   "execution_count": 86,
   "metadata": {
    "collapsed": true
   },
   "outputs": [],
   "source": [
    "prior_all_stats = prior_all_stats.merge(orders_df_last, on=\"user_id\", how=\"inner\")"
   ]
  },
  {
   "cell_type": "code",
   "execution_count": 113,
   "metadata": {},
   "outputs": [
    {
     "data": {
      "text/plain": [
       "(13307953, 66)"
      ]
     },
     "execution_count": 113,
     "metadata": {},
     "output_type": "execute_result"
    }
   ],
   "source": [
    "prior_all_stats.shape"
   ]
  },
  {
   "cell_type": "code",
   "execution_count": 106,
   "metadata": {
    "collapsed": true
   },
   "outputs": [],
   "source": [
    "prior_all_stats = prior_all_stats.merge(individual_day_idx, on=['user_id', 'order_dow'])\n",
    "prior_all_stats = prior_all_stats.merge(product_day_idx, on=['product_id', 'order_dow'])\n",
    "prior_all_stats = prior_all_stats.merge(indprod_day_idx, on=['user_id', 'product_id', 'order_dow'])"
   ]
  },
  {
   "cell_type": "code",
   "execution_count": 112,
   "metadata": {
    "collapsed": true
   },
   "outputs": [],
   "source": [
    "prior_all_stats = prior_all_stats.merge(individual_hod_idx, on=['user_id', 'order_hour_of_day'])\n",
    "prior_all_stats = prior_all_stats.merge(product_hod_idx, on=['product_id', 'order_hour_of_day'])\n",
    "prior_all_stats = prior_all_stats.merge(indprod_hod_idx, on=['user_id', 'product_id', 'order_hour_of_day'])"
   ]
  },
  {
   "cell_type": "code",
   "execution_count": 126,
   "metadata": {
    "collapsed": true
   },
   "outputs": [],
   "source": [
    "prior_all_stats.drop(['order_hour_of_day', 'order_dow'], axis=1, inplace=True)"
   ]
  },
  {
   "cell_type": "code",
   "execution_count": 127,
   "metadata": {},
   "outputs": [
    {
     "data": {
      "text/plain": [
       "(13307953, 200)"
      ]
     },
     "execution_count": 127,
     "metadata": {},
     "output_type": "execute_result"
    }
   ],
   "source": [
    "prior_all_stats.shape"
   ]
  },
  {
   "cell_type": "code",
   "execution_count": 114,
   "metadata": {
    "collapsed": true
   },
   "outputs": [],
   "source": [
    "del individual_hod_idx\n",
    "del product_hod_idx\n",
    "del indprod_hod_idx\n",
    "del individual_day_idx\n",
    "del product_day_idx\n",
    "del indprod_day_idx"
   ]
  },
  {
   "cell_type": "code",
   "execution_count": 115,
   "metadata": {
    "collapsed": true
   },
   "outputs": [],
   "source": [
    "products_df_merged = products_df_merged.join(pd.get_dummies(products_df_merged.aisle))"
   ]
  },
  {
   "cell_type": "code",
   "execution_count": 116,
   "metadata": {
    "collapsed": true
   },
   "outputs": [],
   "source": [
    "products_df_merged.drop(['product_name', 'aisle_id', 'department_id', 'department', 'aisle'], axis=1, inplace=True)"
   ]
  },
  {
   "cell_type": "code",
   "execution_count": 117,
   "metadata": {
    "collapsed": true
   },
   "outputs": [],
   "source": [
    "prior_all_stats = prior_all_stats.merge(products_df_merged, on=\"product_id\")\n",
    "\n",
    "prior_all_stats['user_distinct_products'] = prior_all_stats.groupby('user_id')['product_id'].transform('count')"
   ]
  },
  {
   "cell_type": "code",
   "execution_count": 118,
   "metadata": {
    "collapsed": true
   },
   "outputs": [],
   "source": [
    "prior_all_stats = prior_all_stats.merge(train_df[['user_id', 'product_id', 'reordered']], how=\"left\", on=[\"user_id\", \"product_id\"])\n",
    "prior_all_stats.reordered = prior_all_stats.reordered.fillna(0)                  \n"
   ]
  },
  {
   "cell_type": "code",
   "execution_count": 132,
   "metadata": {
    "collapsed": true
   },
   "outputs": [],
   "source": [
    "prior_all_stats.to_hdf(\"data/prior_all_stats.h5\", \"table\")"
   ]
  },
  {
   "cell_type": "code",
   "execution_count": 3,
   "metadata": {
    "collapsed": true
   },
   "outputs": [],
   "source": [
    "prior_all_stats = pd.read_hdf(\"data/prior_all_stats.h5\", \"table\")"
   ]
  },
  {
   "cell_type": "code",
   "execution_count": 27,
   "metadata": {
    "collapsed": true
   },
   "outputs": [],
   "source": [
    "# split into train, validation, and test sets\n",
    "#prior_all_stats = pd.read_hdf(\"data/prior_all_stats.h5\", \"table\")\n",
    "prior_all_stats['validation_set'] = 0\n",
    "prior_all_stats['prediction'] = 0\n",
    "valid_users = prior_all_stats.loc[prior_all_stats.eval_set == \"train\", \"user_id\"].unique()\n",
    "valid_users = pd.Series(valid_users).sample(frac=.1, random_state=1234)\n"
   ]
  },
  {
   "cell_type": "code",
   "execution_count": 4,
   "metadata": {
    "collapsed": true
   },
   "outputs": [],
   "source": [
    "prior_all_stats['prediction'] = 0\n",
    "all_users = prior_all_stats.loc[prior_all_stats.eval_set == \"train\", \"user_id\"].unique()\n",
    "np.random.shuffle(all_users)"
   ]
  },
  {
   "cell_type": "code",
   "execution_count": 5,
   "metadata": {
    "collapsed": true
   },
   "outputs": [],
   "source": [
    "valid_set = pd.DataFrame({'user_id': all_users, 'validation_set': np.arange(0, all_users.shape[0]) % 10})"
   ]
  },
  {
   "cell_type": "code",
   "execution_count": 6,
   "metadata": {},
   "outputs": [
    {
     "ename": "KeyboardInterrupt",
     "evalue": "",
     "output_type": "error",
     "traceback": [
      "\u001b[0;31m---------------------------------------------------------------------------\u001b[0m",
      "\u001b[0;31mKeyboardInterrupt\u001b[0m                         Traceback (most recent call last)",
      "\u001b[0;32m<ipython-input-6-12a40ab0ca92>\u001b[0m in \u001b[0;36m<module>\u001b[0;34m()\u001b[0m\n\u001b[0;32m----> 1\u001b[0;31m \u001b[0mprior_all_stats\u001b[0m \u001b[0;34m=\u001b[0m \u001b[0mprior_all_stats\u001b[0m\u001b[0;34m.\u001b[0m\u001b[0mmerge\u001b[0m\u001b[0;34m(\u001b[0m\u001b[0mvalid_set\u001b[0m\u001b[0;34m,\u001b[0m \u001b[0mon\u001b[0m\u001b[0;34m=\u001b[0m\u001b[0;34m'user_id'\u001b[0m\u001b[0;34m,\u001b[0m \u001b[0mhow\u001b[0m\u001b[0;34m=\u001b[0m\u001b[0;34m'left'\u001b[0m\u001b[0;34m)\u001b[0m\u001b[0;34m\u001b[0m\u001b[0m\n\u001b[0m",
      "\u001b[0;32m/Users/alex/anaconda/envs/py3/lib/python3.6/site-packages/pandas/core/frame.py\u001b[0m in \u001b[0;36mmerge\u001b[0;34m(self, right, how, on, left_on, right_on, left_index, right_index, sort, suffixes, copy, indicator)\u001b[0m\n\u001b[1;32m   4818\u001b[0m                      \u001b[0mright_on\u001b[0m\u001b[0;34m=\u001b[0m\u001b[0mright_on\u001b[0m\u001b[0;34m,\u001b[0m \u001b[0mleft_index\u001b[0m\u001b[0;34m=\u001b[0m\u001b[0mleft_index\u001b[0m\u001b[0;34m,\u001b[0m\u001b[0;34m\u001b[0m\u001b[0m\n\u001b[1;32m   4819\u001b[0m                      \u001b[0mright_index\u001b[0m\u001b[0;34m=\u001b[0m\u001b[0mright_index\u001b[0m\u001b[0;34m,\u001b[0m \u001b[0msort\u001b[0m\u001b[0;34m=\u001b[0m\u001b[0msort\u001b[0m\u001b[0;34m,\u001b[0m \u001b[0msuffixes\u001b[0m\u001b[0;34m=\u001b[0m\u001b[0msuffixes\u001b[0m\u001b[0;34m,\u001b[0m\u001b[0;34m\u001b[0m\u001b[0m\n\u001b[0;32m-> 4820\u001b[0;31m                      copy=copy, indicator=indicator)\n\u001b[0m\u001b[1;32m   4821\u001b[0m \u001b[0;34m\u001b[0m\u001b[0m\n\u001b[1;32m   4822\u001b[0m     \u001b[0;32mdef\u001b[0m \u001b[0mround\u001b[0m\u001b[0;34m(\u001b[0m\u001b[0mself\u001b[0m\u001b[0;34m,\u001b[0m \u001b[0mdecimals\u001b[0m\u001b[0;34m=\u001b[0m\u001b[0;36m0\u001b[0m\u001b[0;34m,\u001b[0m \u001b[0;34m*\u001b[0m\u001b[0margs\u001b[0m\u001b[0;34m,\u001b[0m \u001b[0;34m**\u001b[0m\u001b[0mkwargs\u001b[0m\u001b[0;34m)\u001b[0m\u001b[0;34m:\u001b[0m\u001b[0;34m\u001b[0m\u001b[0m\n",
      "\u001b[0;32m/Users/alex/anaconda/envs/py3/lib/python3.6/site-packages/pandas/core/reshape/merge.py\u001b[0m in \u001b[0;36mmerge\u001b[0;34m(left, right, how, on, left_on, right_on, left_index, right_index, sort, suffixes, copy, indicator)\u001b[0m\n\u001b[1;32m     52\u001b[0m                          \u001b[0mright_index\u001b[0m\u001b[0;34m=\u001b[0m\u001b[0mright_index\u001b[0m\u001b[0;34m,\u001b[0m \u001b[0msort\u001b[0m\u001b[0;34m=\u001b[0m\u001b[0msort\u001b[0m\u001b[0;34m,\u001b[0m \u001b[0msuffixes\u001b[0m\u001b[0;34m=\u001b[0m\u001b[0msuffixes\u001b[0m\u001b[0;34m,\u001b[0m\u001b[0;34m\u001b[0m\u001b[0m\n\u001b[1;32m     53\u001b[0m                          copy=copy, indicator=indicator)\n\u001b[0;32m---> 54\u001b[0;31m     \u001b[0;32mreturn\u001b[0m \u001b[0mop\u001b[0m\u001b[0;34m.\u001b[0m\u001b[0mget_result\u001b[0m\u001b[0;34m(\u001b[0m\u001b[0;34m)\u001b[0m\u001b[0;34m\u001b[0m\u001b[0m\n\u001b[0m\u001b[1;32m     55\u001b[0m \u001b[0;34m\u001b[0m\u001b[0m\n\u001b[1;32m     56\u001b[0m \u001b[0;34m\u001b[0m\u001b[0m\n",
      "\u001b[0;32m/Users/alex/anaconda/envs/py3/lib/python3.6/site-packages/pandas/core/reshape/merge.py\u001b[0m in \u001b[0;36mget_result\u001b[0;34m(self)\u001b[0m\n\u001b[1;32m    581\u001b[0m             \u001b[0;34m[\u001b[0m\u001b[0;34m(\u001b[0m\u001b[0mldata\u001b[0m\u001b[0;34m,\u001b[0m \u001b[0mlindexers\u001b[0m\u001b[0;34m)\u001b[0m\u001b[0;34m,\u001b[0m \u001b[0;34m(\u001b[0m\u001b[0mrdata\u001b[0m\u001b[0;34m,\u001b[0m \u001b[0mrindexers\u001b[0m\u001b[0;34m)\u001b[0m\u001b[0;34m]\u001b[0m\u001b[0;34m,\u001b[0m\u001b[0;34m\u001b[0m\u001b[0m\n\u001b[1;32m    582\u001b[0m             \u001b[0maxes\u001b[0m\u001b[0;34m=\u001b[0m\u001b[0;34m[\u001b[0m\u001b[0mllabels\u001b[0m\u001b[0;34m.\u001b[0m\u001b[0mappend\u001b[0m\u001b[0;34m(\u001b[0m\u001b[0mrlabels\u001b[0m\u001b[0;34m)\u001b[0m\u001b[0;34m,\u001b[0m \u001b[0mjoin_index\u001b[0m\u001b[0;34m]\u001b[0m\u001b[0;34m,\u001b[0m\u001b[0;34m\u001b[0m\u001b[0m\n\u001b[0;32m--> 583\u001b[0;31m             concat_axis=0, copy=self.copy)\n\u001b[0m\u001b[1;32m    584\u001b[0m \u001b[0;34m\u001b[0m\u001b[0m\n\u001b[1;32m    585\u001b[0m         \u001b[0mtyp\u001b[0m \u001b[0;34m=\u001b[0m \u001b[0mself\u001b[0m\u001b[0;34m.\u001b[0m\u001b[0mleft\u001b[0m\u001b[0;34m.\u001b[0m\u001b[0m_constructor\u001b[0m\u001b[0;34m\u001b[0m\u001b[0m\n",
      "\u001b[0;32m/Users/alex/anaconda/envs/py3/lib/python3.6/site-packages/pandas/core/internals.py\u001b[0m in \u001b[0;36mconcatenate_block_managers\u001b[0;34m(mgrs_indexers, axes, concat_axis, copy)\u001b[0m\n\u001b[1;32m   4830\u001b[0m     blocks = [make_block(\n\u001b[1;32m   4831\u001b[0m         \u001b[0mconcatenate_join_units\u001b[0m\u001b[0;34m(\u001b[0m\u001b[0mjoin_units\u001b[0m\u001b[0;34m,\u001b[0m \u001b[0mconcat_axis\u001b[0m\u001b[0;34m,\u001b[0m \u001b[0mcopy\u001b[0m\u001b[0;34m=\u001b[0m\u001b[0mcopy\u001b[0m\u001b[0;34m)\u001b[0m\u001b[0;34m,\u001b[0m\u001b[0;34m\u001b[0m\u001b[0m\n\u001b[0;32m-> 4832\u001b[0;31m         placement=placement) for placement, join_units in concat_plan]\n\u001b[0m\u001b[1;32m   4833\u001b[0m \u001b[0;34m\u001b[0m\u001b[0m\n\u001b[1;32m   4834\u001b[0m     \u001b[0;32mreturn\u001b[0m \u001b[0mBlockManager\u001b[0m\u001b[0;34m(\u001b[0m\u001b[0mblocks\u001b[0m\u001b[0;34m,\u001b[0m \u001b[0maxes\u001b[0m\u001b[0;34m)\u001b[0m\u001b[0;34m\u001b[0m\u001b[0m\n",
      "\u001b[0;32m/Users/alex/anaconda/envs/py3/lib/python3.6/site-packages/pandas/core/internals.py\u001b[0m in \u001b[0;36m<listcomp>\u001b[0;34m(.0)\u001b[0m\n\u001b[1;32m   4830\u001b[0m     blocks = [make_block(\n\u001b[1;32m   4831\u001b[0m         \u001b[0mconcatenate_join_units\u001b[0m\u001b[0;34m(\u001b[0m\u001b[0mjoin_units\u001b[0m\u001b[0;34m,\u001b[0m \u001b[0mconcat_axis\u001b[0m\u001b[0;34m,\u001b[0m \u001b[0mcopy\u001b[0m\u001b[0;34m=\u001b[0m\u001b[0mcopy\u001b[0m\u001b[0;34m)\u001b[0m\u001b[0;34m,\u001b[0m\u001b[0;34m\u001b[0m\u001b[0m\n\u001b[0;32m-> 4832\u001b[0;31m         placement=placement) for placement, join_units in concat_plan]\n\u001b[0m\u001b[1;32m   4833\u001b[0m \u001b[0;34m\u001b[0m\u001b[0m\n\u001b[1;32m   4834\u001b[0m     \u001b[0;32mreturn\u001b[0m \u001b[0mBlockManager\u001b[0m\u001b[0;34m(\u001b[0m\u001b[0mblocks\u001b[0m\u001b[0;34m,\u001b[0m \u001b[0maxes\u001b[0m\u001b[0;34m)\u001b[0m\u001b[0;34m\u001b[0m\u001b[0m\n",
      "\u001b[0;32m/Users/alex/anaconda/envs/py3/lib/python3.6/site-packages/pandas/core/internals.py\u001b[0m in \u001b[0;36mconcatenate_join_units\u001b[0;34m(join_units, concat_axis, copy)\u001b[0m\n\u001b[1;32m   4937\u001b[0m     to_concat = [ju.get_reindexed_values(empty_dtype=empty_dtype,\n\u001b[1;32m   4938\u001b[0m                                          upcasted_na=upcasted_na)\n\u001b[0;32m-> 4939\u001b[0;31m                  for ju in join_units]\n\u001b[0m\u001b[1;32m   4940\u001b[0m \u001b[0;34m\u001b[0m\u001b[0m\n\u001b[1;32m   4941\u001b[0m     \u001b[0;32mif\u001b[0m \u001b[0mlen\u001b[0m\u001b[0;34m(\u001b[0m\u001b[0mto_concat\u001b[0m\u001b[0;34m)\u001b[0m \u001b[0;34m==\u001b[0m \u001b[0;36m1\u001b[0m\u001b[0;34m:\u001b[0m\u001b[0;34m\u001b[0m\u001b[0m\n",
      "\u001b[0;32m/Users/alex/anaconda/envs/py3/lib/python3.6/site-packages/pandas/core/internals.py\u001b[0m in \u001b[0;36m<listcomp>\u001b[0;34m(.0)\u001b[0m\n\u001b[1;32m   4937\u001b[0m     to_concat = [ju.get_reindexed_values(empty_dtype=empty_dtype,\n\u001b[1;32m   4938\u001b[0m                                          upcasted_na=upcasted_na)\n\u001b[0;32m-> 4939\u001b[0;31m                  for ju in join_units]\n\u001b[0m\u001b[1;32m   4940\u001b[0m \u001b[0;34m\u001b[0m\u001b[0m\n\u001b[1;32m   4941\u001b[0m     \u001b[0;32mif\u001b[0m \u001b[0mlen\u001b[0m\u001b[0;34m(\u001b[0m\u001b[0mto_concat\u001b[0m\u001b[0;34m)\u001b[0m \u001b[0;34m==\u001b[0m \u001b[0;36m1\u001b[0m\u001b[0;34m:\u001b[0m\u001b[0;34m\u001b[0m\u001b[0m\n",
      "\u001b[0;32m/Users/alex/anaconda/envs/py3/lib/python3.6/site-packages/pandas/core/internals.py\u001b[0m in \u001b[0;36mget_reindexed_values\u001b[0;34m(self, empty_dtype, upcasted_na)\u001b[0m\n\u001b[1;32m   5239\u001b[0m             \u001b[0;32mfor\u001b[0m \u001b[0max\u001b[0m\u001b[0;34m,\u001b[0m \u001b[0mindexer\u001b[0m \u001b[0;32min\u001b[0m \u001b[0mself\u001b[0m\u001b[0;34m.\u001b[0m\u001b[0mindexers\u001b[0m\u001b[0;34m.\u001b[0m\u001b[0mitems\u001b[0m\u001b[0;34m(\u001b[0m\u001b[0;34m)\u001b[0m\u001b[0;34m:\u001b[0m\u001b[0;34m\u001b[0m\u001b[0m\n\u001b[1;32m   5240\u001b[0m                 values = algos.take_nd(values, indexer, axis=ax,\n\u001b[0;32m-> 5241\u001b[0;31m                                        fill_value=fill_value)\n\u001b[0m\u001b[1;32m   5242\u001b[0m \u001b[0;34m\u001b[0m\u001b[0m\n\u001b[1;32m   5243\u001b[0m         \u001b[0;32mreturn\u001b[0m \u001b[0mvalues\u001b[0m\u001b[0;34m\u001b[0m\u001b[0m\n",
      "\u001b[0;31mKeyboardInterrupt\u001b[0m: "
     ]
    }
   ],
   "source": [
    "prior_all_stats = prior_all_stats.merge(valid_set, on='user_id', how='left')"
   ]
  },
  {
   "cell_type": "code",
   "execution_count": null,
   "metadata": {
    "collapsed": true
   },
   "outputs": [],
   "source": [
    "prior_all_stats.validation_set = prior_all_stats.validation_set.fillna(-1)"
   ]
  },
  {
   "cell_type": "code",
   "execution_count": 28,
   "metadata": {
    "collapsed": true
   },
   "outputs": [],
   "source": [
    "prior_all_stats.loc[prior_all_stats.user_id.isin(valid_users), 'validation_set'] = 1\n"
   ]
  },
  {
   "cell_type": "code",
   "execution_count": 10,
   "metadata": {
    "collapsed": true
   },
   "outputs": [],
   "source": [
    "\n",
    "#prior_train = prior_all_stats.loc[(prior_all_stats.eval_set == \"train\") & (prior_all_stats.validation_set == 0)]\n",
    "#prior_valid = prior_all_stats.loc[prior_all_stats.validation_set == 1]\n",
    "prior_test = prior_all_stats.loc[prior_all_stats.eval_set == \"test\"]\n",
    "\n",
    "#X_train = prior_train.drop([\"prediction\", \"eval_set\", \"validation_set\", \"order_id\", \"reordered\", \"user_id\", \"product_id\"], axis=1).as_matrix()\n",
    "#y_train = prior_train.reordered.as_matrix()\n",
    "#X_valid = prior_valid.drop([\"prediction\", \"eval_set\", \"validation_set\", \"order_id\", \"reordered\", \"user_id\", \"product_id\"], axis=1).as_matrix()\n",
    "#y_valid = prior_valid.reordered.as_matrix()\n",
    "X_test = prior_test.drop([\"eval_set\", \"order_id\", \"reordered\", \"user_id\", \"product_id\"], axis=1).as_matrix()"
   ]
  },
  {
   "cell_type": "code",
   "execution_count": 5,
   "metadata": {
    "collapsed": true
   },
   "outputs": [],
   "source": [
    "import xgboost as xgb"
   ]
  },
  {
   "cell_type": "code",
   "execution_count": 31,
   "metadata": {
    "collapsed": true
   },
   "outputs": [],
   "source": [
    "# Set our parameters for xgboost\n",
    "params = {}\n",
    "params['objective'] = 'binary:logistic'\n",
    "params['eval_metric'] = 'auc'\n",
    "params['eta'] = 0.1\n",
    "params['max_depth'] = 6\n",
    "params['nthread'] = 12\n",
    "\n",
    "d_train = xgb.DMatrix(X_train, label=y_train)\n",
    "d_valid = xgb.DMatrix(X_valid, label=y_valid)\n",
    "\n",
    "watchlist = [(d_train, 'train'), (d_valid, 'valid')]\n",
    "\n",
    "#bst = xgb.train(params, d_train, 1000, watchlist, early_stopping_rounds=50, verbose_eval=10)"
   ]
  },
  {
   "cell_type": "code",
   "execution_count": 63,
   "metadata": {
    "collapsed": true
   },
   "outputs": [],
   "source": [
    "#bst.save_model('add_distinct.model')\n",
    "bst = xgb.Booster()\n",
    "bst.load_model('multi_xgb0.model')"
   ]
  },
  {
   "cell_type": "code",
   "execution_count": 32,
   "metadata": {
    "collapsed": true
   },
   "outputs": [],
   "source": [
    "y_predicted = bst.predict(d_valid)"
   ]
  },
  {
   "cell_type": "code",
   "execution_count": 33,
   "metadata": {
    "collapsed": true
   },
   "outputs": [],
   "source": [
    "prior_valid = prior_valid.copy()"
   ]
  },
  {
   "cell_type": "code",
   "execution_count": 46,
   "metadata": {},
   "outputs": [
    {
     "name": "stdout",
     "output_type": "stream",
     "text": [
      "best reorder cutoff: (-1.1499999999999999, -0.13749999999999998)\n",
      "best none cutoff: (-0.85000000000000009, -0.57499999999999984)\n",
      "best f1: 0.389216180222\n"
     ]
    }
   ],
   "source": [
    "guess = [-1, -.1, -1, -.3]\n",
    "width = np.array([.2, .03, .2, .1])\n",
    "best_reorder_cutoff = (0, 0)\n",
    "best_none_cutoff = (0, 0)\n",
    "best_cutoff_f1 = 0\n",
    "for i in range(2):\n",
    "    for reorder_cutoff in [(x,y) for x in np.arange(guess[0]-4*width[0], guess[0]+4*width[0], width[0]) for y in np.arange(guess[1]-4*width[1], guess[1]+4*width[1], width[1])]:\n",
    "        prior_valid['reorder_cutoff'] = np.exp(reorder_cutoff[0] + reorder_cutoff[1] * np.log(prior_valid.user_distinct_products))\n",
    "        prior_valid.loc[:,'prediction'] = 1 * (y_predicted > prior_valid.reorder_cutoff)\n",
    "        prior_valid['p_not'] = 1 - y_predicted\n",
    "        prior_valid['hit'] = (prior_valid.reordered * prior_valid.prediction)\n",
    "        prior_valid_agg = prior_valid.groupby(\"user_id\").agg({'reordered': np.sum, \n",
    "                                                          'prediction': np.sum, \n",
    "                                                          'hit': np.sum,\n",
    "                                                              'user_distinct_products': np.mean,\n",
    "                                                             'p_not': np.prod})\n",
    "        for none_cutoff in [(x,y) for x in np.arange(guess[2]-4*width[2], guess[2]+4*width[2], width[2]) for y in np.arange(guess[3]-4*width[3], guess[3]+4*width[3], width[3])]:\n",
    "            prior_valid_agg['none_cutoff'] = np.exp(none_cutoff[0] + none_cutoff[1] * np.log(prior_valid_agg.user_distinct_products))\n",
    "            prior_valid_agg['putnone'] = (prior_valid_agg.p_not > prior_valid_agg.none_cutoff) | (prior_valid_agg.prediction == 0)\n",
    "            prior_valid_agg['truenone'] = (prior_valid_agg.reordered == 0)\n",
    "            prior_valid_agg['r'] = prior_valid_agg.reordered\n",
    "            prior_valid_agg['p'] = prior_valid_agg.prediction\n",
    "            prior_valid_agg['h'] = prior_valid_agg.hit\n",
    "            prior_valid_agg.loc[prior_valid_agg.putnone & prior_valid_agg.truenone, \"h\"] = 1\n",
    "            prior_valid_agg.loc[prior_valid_agg.putnone, 'p'] = prior_valid_agg.loc[prior_valid_agg.putnone, 'p'] + 1\n",
    "            prior_valid_agg.loc[prior_valid_agg.truenone, 'r'] = prior_valid_agg.loc[prior_valid_agg.truenone, 'r'] + 1\n",
    "            prior_valid_agg['precision'] = (prior_valid_agg['h']) / (prior_valid_agg['p'])\n",
    "            prior_valid_agg['recall'] = (prior_valid_agg['h']) / (prior_valid_agg['r'])\n",
    "            prior_valid_agg['f1'] = 2 * prior_valid_agg['precision'] * prior_valid_agg['recall'] / (prior_valid_agg['precision'] + prior_valid_agg['recall'] + .000001)\n",
    "            if prior_valid_agg['f1'].mean() > best_cutoff_f1:\n",
    "                best_cutoff_f1 = prior_valid_agg['f1'].mean()\n",
    "                best_reorder_cutoff = reorder_cutoff\n",
    "                best_none_cutoff = none_cutoff\n",
    "    guess = [best_reorder_cutoff[0], best_reorder_cutoff[1], best_none_cutoff[0], best_none_cutoff[1]]\n",
    "    width = width / 4\n",
    "print(\"best reorder cutoff:\", best_reorder_cutoff)\n",
    "print(\"best none cutoff:\", best_none_cutoff)\n",
    "print(\"best f1:\", best_cutoff_f1)"
   ]
  },
  {
   "cell_type": "code",
   "execution_count": 62,
   "metadata": {
    "collapsed": true
   },
   "outputs": [],
   "source": [
    "#best_reorder_cutoff =  (-1.4281249999999999, -0.061562499999999951)\n",
    "#best_none_cutoff = (-0.31250000000000006, -0.79999999999999993)\n",
    "#best_reorder_cutoff = (-1.4499999999999997, -0.048437499999999967)\n",
    "#best_none_cutoff = (-0.64374999999999982, -0.62656249999999969)\n",
    "best_reorder_cutoff = (-1.2781250000000002, -0.099062499999999956)\n",
    "best_none_cutoff = (-0.71250000000000013, -0.68749999999999989)"
   ]
  },
  {
   "cell_type": "code",
   "execution_count": 64,
   "metadata": {
    "collapsed": true
   },
   "outputs": [],
   "source": [
    "#d_test = xgb.DMatrix(X_test)\n",
    "y_test = bst.predict(d_test)"
   ]
  },
  {
   "cell_type": "code",
   "execution_count": 55,
   "metadata": {},
   "outputs": [
    {
     "data": {
      "text/plain": [
       "0.98559470439609276"
      ]
     },
     "execution_count": 55,
     "metadata": {},
     "output_type": "execute_result"
    }
   ],
   "source": [
    "(prediction_2 == prediction_1).mean()"
   ]
  },
  {
   "cell_type": "code",
   "execution_count": 69,
   "metadata": {},
   "outputs": [
    {
     "data": {
      "text/plain": [
       "0.15333938028159688"
      ]
     },
     "execution_count": 69,
     "metadata": {},
     "output_type": "execute_result"
    }
   ],
   "source": [
    "prediction_0.mean()"
   ]
  },
  {
   "cell_type": "code",
   "execution_count": 85,
   "metadata": {},
   "outputs": [
    {
     "data": {
      "text/plain": [
       "0.19314666666666666"
      ]
     },
     "execution_count": 85,
     "metadata": {},
     "output_type": "execute_result"
    }
   ],
   "source": [
    "putnone_0.mean()"
   ]
  },
  {
   "cell_type": "code",
   "execution_count": 61,
   "metadata": {},
   "outputs": [
    {
     "data": {
      "text/plain": [
       "0.062280352207435656"
      ]
     },
     "execution_count": 61,
     "metadata": {},
     "output_type": "execute_result"
    }
   ],
   "source": [
    "prior_all_stats.reordered.mean()"
   ]
  },
  {
   "cell_type": "code",
   "execution_count": 112,
   "metadata": {
    "collapsed": true
   },
   "outputs": [],
   "source": [
    "putnone_all = ( 1*putnone_1 + 1*putnone_2 + 1*putnone_0  > 1)"
   ]
  },
  {
   "cell_type": "code",
   "execution_count": 113,
   "metadata": {
    "collapsed": true
   },
   "outputs": [],
   "source": [
    "#prior_test = prior_test.copy()\n",
    "prior_test['prediction'] = 1 * (prediction_0 + prediction_1 + prediction_2 > 1)#1 * (y_test > np.exp(best_reorder_cutoff[0] + best_reorder_cutoff[1] * np.log(prior_test.user_distinct_products)))\n",
    "prior_test['p_not'] = 1 - y_test"
   ]
  },
  {
   "cell_type": "code",
   "execution_count": 66,
   "metadata": {
    "collapsed": true
   },
   "outputs": [],
   "source": [
    "#prediction_0= 1 * (y_test > np.exp(best_reorder_cutoff[0] + best_reorder_cutoff[1] * np.log(prior_test.user_distinct_products)))\n"
   ]
  },
  {
   "cell_type": "code",
   "execution_count": 114,
   "metadata": {
    "collapsed": true
   },
   "outputs": [],
   "source": [
    "writenone_df = prior_test.groupby('order_id').agg({'p_not': np.prod, \n",
    "                                                   'prediction': np.sum, \n",
    "                                                   'user_distinct_products': np.mean}).reset_index()"
   ]
  },
  {
   "cell_type": "code",
   "execution_count": 115,
   "metadata": {
    "collapsed": true
   },
   "outputs": [],
   "source": [
    "#putnone_0 = 1 * (writenone_df.p_not > np.exp(best_none_cutoff[0] + best_none_cutoff[1] * np.log(writenone_df.user_distinct_products))) | (writenone_df.prediction == 0)\n",
    "\n",
    "writenone_df['putnone'] = putnone_all#(writenone_df.p_not > np.exp(best_none_cutoff[0] + best_none_cutoff[1] * np.log(writenone_df.user_distinct_products))) | (writenone_df.prediction == 0)\n",
    "writenone_df['nonestring'] = ''\n",
    "writenone_df.loc[writenone_df.putnone, 'nonestring'] = 'None'"
   ]
  },
  {
   "cell_type": "code",
   "execution_count": 116,
   "metadata": {
    "collapsed": true
   },
   "outputs": [],
   "source": [
    "prediction_df = prior_test[prior_test['prediction'] == 1].copy()"
   ]
  },
  {
   "cell_type": "code",
   "execution_count": 117,
   "metadata": {
    "collapsed": true
   },
   "outputs": [],
   "source": [
    "prediction_df = prediction_df[['order_id', 'product_id']]"
   ]
  },
  {
   "cell_type": "code",
   "execution_count": 118,
   "metadata": {
    "collapsed": true
   },
   "outputs": [],
   "source": [
    "prediction_lists = prediction_df.groupby('order_id').agg(lambda x: \" \".join(x.astype(str))).reset_index()"
   ]
  },
  {
   "cell_type": "code",
   "execution_count": 119,
   "metadata": {
    "collapsed": true
   },
   "outputs": [],
   "source": [
    "prediction_lists = prediction_lists.merge(writenone_df[['order_id', 'nonestring']], on='order_id', how='right')"
   ]
  },
  {
   "cell_type": "code",
   "execution_count": 120,
   "metadata": {
    "collapsed": true
   },
   "outputs": [],
   "source": [
    "prediction_lists['products'] = prediction_lists.product_id.fillna('')"
   ]
  },
  {
   "cell_type": "code",
   "execution_count": 121,
   "metadata": {
    "collapsed": true
   },
   "outputs": [],
   "source": [
    "prediction_lists['products'] = prediction_lists.products + \" \" + prediction_lists.nonestring"
   ]
  },
  {
   "cell_type": "code",
   "execution_count": 122,
   "metadata": {
    "collapsed": true
   },
   "outputs": [],
   "source": [
    "prediction_lists = prediction_lists[['order_id', 'products']]"
   ]
  },
  {
   "cell_type": "code",
   "execution_count": 123,
   "metadata": {
    "collapsed": true
   },
   "outputs": [],
   "source": [
    "prediction_lists.to_csv(\"submissions/test_xgb.csv\", index=False)"
   ]
  },
  {
   "cell_type": "code",
   "execution_count": null,
   "metadata": {
    "collapsed": true
   },
   "outputs": [],
   "source": []
  }
 ],
 "metadata": {
  "kernelspec": {
   "display_name": "Python 3",
   "language": "python",
   "name": "python3"
  },
  "language_info": {
   "codemirror_mode": {
    "name": "ipython",
    "version": 3
   },
   "file_extension": ".py",
   "mimetype": "text/x-python",
   "name": "python",
   "nbconvert_exporter": "python",
   "pygments_lexer": "ipython3",
   "version": "3.6.1"
  }
 },
 "nbformat": 4,
 "nbformat_minor": 1
}
