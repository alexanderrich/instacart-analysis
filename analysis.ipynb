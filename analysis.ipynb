{
 "cells": [
  {
   "cell_type": "code",
   "execution_count": 35,
   "metadata": {
    "collapsed": true
   },
   "outputs": [],
   "source": [
    "import numpy as np\n",
    "import pandas as pd\n",
    "import matplotlib.pyplot as plt\n",
    "import seaborn as sns\n",
    "\n",
    "% matplotlib inline"
   ]
  },
  {
   "cell_type": "code",
   "execution_count": 4,
   "metadata": {
    "collapsed": true
   },
   "outputs": [],
   "source": [
    "aisles_df = pd.read_csv(\"data/aisles.csv\")\n",
    "departments_df = pd.read_csv(\"data/departments.csv\")\n",
    "products_df = pd.read_csv(\"data/products.csv\")\n",
    "orders_df = pd.read_csv(\"data/orders.csv\")\n",
    "prior_df = pd.read_csv(\"data/order_products__prior.csv\")\n",
    "train_df = pd.read_csv(\"data/order_products__train.csv\")\n",
    "products_df_merged = products_df.merge(departments_df, on=\"department_id\").merge(aisles_df, on=\"aisle_id\")"
   ]
  },
  {
   "cell_type": "code",
   "execution_count": 13,
   "metadata": {
    "collapsed": true
   },
   "outputs": [],
   "source": [
    "prior_df = prior_df.merge(orders_df[[\"order_id\", \"user_id\"]], on=\"order_id\")"
   ]
  },
  {
   "cell_type": "code",
   "execution_count": 14,
   "metadata": {
    "collapsed": true
   },
   "outputs": [],
   "source": [
    "train_df = train_df.merge(orders_df[[\"order_id\", \"user_id\"]], on=\"order_id\")"
   ]
  },
  {
   "cell_type": "code",
   "execution_count": 16,
   "metadata": {
    "collapsed": false
   },
   "outputs": [],
   "source": [
    "train_users = orders_df[orders_df.eval_set == \"train\"].user_id"
   ]
  },
  {
   "cell_type": "code",
   "execution_count": 23,
   "metadata": {
    "collapsed": false
   },
   "outputs": [],
   "source": [
    "train_users_small = train_users.sample(n=10000)"
   ]
  },
  {
   "cell_type": "code",
   "execution_count": 24,
   "metadata": {
    "collapsed": true
   },
   "outputs": [],
   "source": [
    "orders_df_small = orders_df[orders_df.user_id.isin(train_users_small)]\n",
    "prior_df_small = prior_df[prior_df.user_id.isin(train_users_small)]\n",
    "train_df_small = train_df[train_df.user_id.isin(train_users_small)]"
   ]
  },
  {
   "cell_type": "code",
   "execution_count": 44,
   "metadata": {
    "collapsed": false
   },
   "outputs": [
    {
     "data": {
      "text/html": [
       "<div>\n",
       "<table border=\"1\" class=\"dataframe\">\n",
       "  <thead>\n",
       "    <tr style=\"text-align: right;\">\n",
       "      <th></th>\n",
       "      <th>order_id</th>\n",
       "      <th>user_id</th>\n",
       "      <th>eval_set</th>\n",
       "      <th>order_number</th>\n",
       "      <th>order_dow</th>\n",
       "      <th>order_hour_of_day</th>\n",
       "      <th>days_since_prior_order</th>\n",
       "    </tr>\n",
       "  </thead>\n",
       "  <tbody>\n",
       "    <tr>\n",
       "      <th>79</th>\n",
       "      <td>280530</td>\n",
       "      <td>9</td>\n",
       "      <td>prior</td>\n",
       "      <td>1</td>\n",
       "      <td>1</td>\n",
       "      <td>17</td>\n",
       "      <td>NaN</td>\n",
       "    </tr>\n",
       "    <tr>\n",
       "      <th>80</th>\n",
       "      <td>2762092</td>\n",
       "      <td>9</td>\n",
       "      <td>prior</td>\n",
       "      <td>2</td>\n",
       "      <td>0</td>\n",
       "      <td>14</td>\n",
       "      <td>6.0</td>\n",
       "    </tr>\n",
       "    <tr>\n",
       "      <th>81</th>\n",
       "      <td>1830137</td>\n",
       "      <td>9</td>\n",
       "      <td>prior</td>\n",
       "      <td>3</td>\n",
       "      <td>5</td>\n",
       "      <td>12</td>\n",
       "      <td>30.0</td>\n",
       "    </tr>\n",
       "    <tr>\n",
       "      <th>82</th>\n",
       "      <td>1094988</td>\n",
       "      <td>9</td>\n",
       "      <td>train</td>\n",
       "      <td>4</td>\n",
       "      <td>6</td>\n",
       "      <td>10</td>\n",
       "      <td>30.0</td>\n",
       "    </tr>\n",
       "    <tr>\n",
       "      <th>314</th>\n",
       "      <td>361493</td>\n",
       "      <td>27</td>\n",
       "      <td>prior</td>\n",
       "      <td>1</td>\n",
       "      <td>3</td>\n",
       "      <td>9</td>\n",
       "      <td>NaN</td>\n",
       "    </tr>\n",
       "  </tbody>\n",
       "</table>\n",
       "</div>"
      ],
      "text/plain": [
       "     order_id  user_id eval_set  order_number  order_dow  order_hour_of_day  \\\n",
       "79     280530        9    prior             1          1                 17   \n",
       "80    2762092        9    prior             2          0                 14   \n",
       "81    1830137        9    prior             3          5                 12   \n",
       "82    1094988        9    train             4          6                 10   \n",
       "314    361493       27    prior             1          3                  9   \n",
       "\n",
       "     days_since_prior_order  \n",
       "79                      NaN  \n",
       "80                      6.0  \n",
       "81                     30.0  \n",
       "82                     30.0  \n",
       "314                     NaN  "
      ]
     },
     "execution_count": 44,
     "metadata": {},
     "output_type": "execute_result"
    }
   ],
   "source": [
    "orders_df_small.head()"
   ]
  },
  {
   "cell_type": "code",
   "execution_count": 45,
   "metadata": {
    "collapsed": false
   },
   "outputs": [
    {
     "data": {
      "text/html": [
       "<div>\n",
       "<table border=\"1\" class=\"dataframe\">\n",
       "  <thead>\n",
       "    <tr style=\"text-align: right;\">\n",
       "      <th></th>\n",
       "      <th>order_id</th>\n",
       "      <th>product_id</th>\n",
       "      <th>add_to_cart_order</th>\n",
       "      <th>reordered</th>\n",
       "      <th>user_id</th>\n",
       "    </tr>\n",
       "  </thead>\n",
       "  <tbody>\n",
       "    <tr>\n",
       "      <th>202</th>\n",
       "      <td>23</td>\n",
       "      <td>25931</td>\n",
       "      <td>1</td>\n",
       "      <td>1</td>\n",
       "      <td>68572</td>\n",
       "    </tr>\n",
       "    <tr>\n",
       "      <th>203</th>\n",
       "      <td>23</td>\n",
       "      <td>35163</td>\n",
       "      <td>2</td>\n",
       "      <td>1</td>\n",
       "      <td>68572</td>\n",
       "    </tr>\n",
       "    <tr>\n",
       "      <th>204</th>\n",
       "      <td>23</td>\n",
       "      <td>29662</td>\n",
       "      <td>3</td>\n",
       "      <td>1</td>\n",
       "      <td>68572</td>\n",
       "    </tr>\n",
       "    <tr>\n",
       "      <th>205</th>\n",
       "      <td>23</td>\n",
       "      <td>26283</td>\n",
       "      <td>4</td>\n",
       "      <td>1</td>\n",
       "      <td>68572</td>\n",
       "    </tr>\n",
       "    <tr>\n",
       "      <th>206</th>\n",
       "      <td>23</td>\n",
       "      <td>47766</td>\n",
       "      <td>5</td>\n",
       "      <td>1</td>\n",
       "      <td>68572</td>\n",
       "    </tr>\n",
       "  </tbody>\n",
       "</table>\n",
       "</div>"
      ],
      "text/plain": [
       "     order_id  product_id  add_to_cart_order  reordered  user_id\n",
       "202        23       25931                  1          1    68572\n",
       "203        23       35163                  2          1    68572\n",
       "204        23       29662                  3          1    68572\n",
       "205        23       26283                  4          1    68572\n",
       "206        23       47766                  5          1    68572"
      ]
     },
     "execution_count": 45,
     "metadata": {},
     "output_type": "execute_result"
    }
   ],
   "source": [
    "prior_df_small.head()"
   ]
  },
  {
   "cell_type": "code",
   "execution_count": 46,
   "metadata": {
    "collapsed": true
   },
   "outputs": [],
   "source": [
    "prior_df_small = prior_df_small.merge(orders_df_small, on=[\"order_id\", \"user_id\"])"
   ]
  },
  {
   "cell_type": "code",
   "execution_count": 47,
   "metadata": {
    "collapsed": false
   },
   "outputs": [
    {
     "data": {
      "text/html": [
       "<div>\n",
       "<table border=\"1\" class=\"dataframe\">\n",
       "  <thead>\n",
       "    <tr style=\"text-align: right;\">\n",
       "      <th></th>\n",
       "      <th>order_id</th>\n",
       "      <th>product_id</th>\n",
       "      <th>add_to_cart_order</th>\n",
       "      <th>reordered</th>\n",
       "      <th>user_id</th>\n",
       "      <th>eval_set</th>\n",
       "      <th>order_number</th>\n",
       "      <th>order_dow</th>\n",
       "      <th>order_hour_of_day</th>\n",
       "      <th>days_since_prior_order</th>\n",
       "    </tr>\n",
       "  </thead>\n",
       "  <tbody>\n",
       "    <tr>\n",
       "      <th>0</th>\n",
       "      <td>23</td>\n",
       "      <td>25931</td>\n",
       "      <td>1</td>\n",
       "      <td>1</td>\n",
       "      <td>68572</td>\n",
       "      <td>prior</td>\n",
       "      <td>21</td>\n",
       "      <td>1</td>\n",
       "      <td>18</td>\n",
       "      <td>8.0</td>\n",
       "    </tr>\n",
       "    <tr>\n",
       "      <th>1</th>\n",
       "      <td>23</td>\n",
       "      <td>35163</td>\n",
       "      <td>2</td>\n",
       "      <td>1</td>\n",
       "      <td>68572</td>\n",
       "      <td>prior</td>\n",
       "      <td>21</td>\n",
       "      <td>1</td>\n",
       "      <td>18</td>\n",
       "      <td>8.0</td>\n",
       "    </tr>\n",
       "    <tr>\n",
       "      <th>2</th>\n",
       "      <td>23</td>\n",
       "      <td>29662</td>\n",
       "      <td>3</td>\n",
       "      <td>1</td>\n",
       "      <td>68572</td>\n",
       "      <td>prior</td>\n",
       "      <td>21</td>\n",
       "      <td>1</td>\n",
       "      <td>18</td>\n",
       "      <td>8.0</td>\n",
       "    </tr>\n",
       "    <tr>\n",
       "      <th>3</th>\n",
       "      <td>23</td>\n",
       "      <td>26283</td>\n",
       "      <td>4</td>\n",
       "      <td>1</td>\n",
       "      <td>68572</td>\n",
       "      <td>prior</td>\n",
       "      <td>21</td>\n",
       "      <td>1</td>\n",
       "      <td>18</td>\n",
       "      <td>8.0</td>\n",
       "    </tr>\n",
       "    <tr>\n",
       "      <th>4</th>\n",
       "      <td>23</td>\n",
       "      <td>47766</td>\n",
       "      <td>5</td>\n",
       "      <td>1</td>\n",
       "      <td>68572</td>\n",
       "      <td>prior</td>\n",
       "      <td>21</td>\n",
       "      <td>1</td>\n",
       "      <td>18</td>\n",
       "      <td>8.0</td>\n",
       "    </tr>\n",
       "  </tbody>\n",
       "</table>\n",
       "</div>"
      ],
      "text/plain": [
       "   order_id  product_id  add_to_cart_order  reordered  user_id eval_set  \\\n",
       "0        23       25931                  1          1    68572    prior   \n",
       "1        23       35163                  2          1    68572    prior   \n",
       "2        23       29662                  3          1    68572    prior   \n",
       "3        23       26283                  4          1    68572    prior   \n",
       "4        23       47766                  5          1    68572    prior   \n",
       "\n",
       "   order_number  order_dow  order_hour_of_day  days_since_prior_order  \n",
       "0            21          1                 18                     8.0  \n",
       "1            21          1                 18                     8.0  \n",
       "2            21          1                 18                     8.0  \n",
       "3            21          1                 18                     8.0  \n",
       "4            21          1                 18                     8.0  "
      ]
     },
     "execution_count": 47,
     "metadata": {},
     "output_type": "execute_result"
    }
   ],
   "source": [
    "prior_df_small.head()"
   ]
  },
  {
   "cell_type": "code",
   "execution_count": 157,
   "metadata": {
    "collapsed": true
   },
   "outputs": [],
   "source": [
    "prior_df_small['order_dow_angle'] = (prior_df_small.order_dow / \n",
    "                                     (prior_df_small.order_dow.max() + 1) * 2 * np.pi)\n",
    "prior_df_small['order_hod_angle'] = (prior_df_small.order_hour_of_day / \n",
    "                                             (prior_df_small.order_dow.max() + 1) * 2 * np.pi)"
   ]
  },
  {
   "cell_type": "code",
   "execution_count": 160,
   "metadata": {
    "collapsed": false
   },
   "outputs": [
    {
     "data": {
      "text/plain": [
       "Index(['order_id', 'product_id', 'add_to_cart_order', 'reordered', 'user_id',\n",
       "       'eval_set', 'order_number', 'order_dow', 'order_hour_of_day',\n",
       "       'days_since_prior_order', 'order_dow_angle', 'order_hour_of_day_angle',\n",
       "       'order_dow_sin', 'order_dow_cos', 'order_hour_of_day_sin',\n",
       "       'order_hour_of_day_cos', 'num_orders', 'num_products',\n",
       "       'order_hod_angle'],\n",
       "      dtype='object')"
      ]
     },
     "execution_count": 160,
     "metadata": {},
     "output_type": "execute_result"
    }
   ],
   "source": [
    "prior_df_small.columns"
   ]
  },
  {
   "cell_type": "code",
   "execution_count": 161,
   "metadata": {
    "collapsed": false
   },
   "outputs": [
    {
     "name": "stdout",
     "output_type": "stream",
     "text": [
      "CPU times: user 142 ms, sys: 31.9 ms, total: 173 ms\n",
      "Wall time: 173 ms\n"
     ]
    }
   ],
   "source": [
    "%%time\n",
    "prior_df_small['order_dow_sin'] = np.sin(prior_df_small.order_dow_angle)\n",
    "prior_df_small['order_dow_cos'] = np.cos(prior_df_small.order_dow_angle)\n",
    "prior_df_small['order_hod_sin'] = np.sin(prior_df_small.order_hod_angle)\n",
    "prior_df_small['order_hod_cos'] = np.cos(prior_df_small.order_hod_angle)\n",
    "prior_df_small['num_products'] = 1\n"
   ]
  },
  {
   "cell_type": "code",
   "execution_count": 167,
   "metadata": {
    "collapsed": false
   },
   "outputs": [],
   "source": [
    "prior_product_stats = prior_df_small.groupby(\"product_id\").agg({'order_dow_sin': np.sum, \n",
    "                                                                'order_dow_cos': np.sum, \n",
    "                                                                'order_hod_sin': np.sum,\n",
    "                                                                'order_hod_cos': np.sum,\n",
    "                                                               'num_products': np.sum})\n",
    "prior_product_stats['order_dow_angle'] = np.arctan2(prior_product_stats.order_dow_sin, prior_product_stats.order_dow_cos)\n",
    "prior_product_stats['order_hod_angle'] = np.arctan2(prior_product_stats.order_hod_sin, prior_product_stats.order_hod_cos)"
   ]
  },
  {
   "cell_type": "code",
   "execution_count": 168,
   "metadata": {
    "collapsed": false
   },
   "outputs": [
    {
     "data": {
      "text/html": [
       "<div>\n",
       "<table border=\"1\" class=\"dataframe\">\n",
       "  <thead>\n",
       "    <tr style=\"text-align: right;\">\n",
       "      <th></th>\n",
       "      <th>product_id</th>\n",
       "      <th>product_dow_sin</th>\n",
       "      <th>product_dow_cos</th>\n",
       "      <th>product_hod_sin</th>\n",
       "      <th>product_hod_cos</th>\n",
       "      <th>product_num_purchases</th>\n",
       "    </tr>\n",
       "  </thead>\n",
       "  <tbody>\n",
       "    <tr>\n",
       "      <th>0</th>\n",
       "      <td>1</td>\n",
       "      <td>0.557573</td>\n",
       "      <td>0.830128</td>\n",
       "      <td>0.916981</td>\n",
       "      <td>-5.935116</td>\n",
       "      <td>90</td>\n",
       "    </tr>\n",
       "    <tr>\n",
       "      <th>1</th>\n",
       "      <td>2</td>\n",
       "      <td>0.498262</td>\n",
       "      <td>0.867026</td>\n",
       "      <td>0.367207</td>\n",
       "      <td>1.099031</td>\n",
       "      <td>3</td>\n",
       "    </tr>\n",
       "    <tr>\n",
       "      <th>2</th>\n",
       "      <td>3</td>\n",
       "      <td>0.136373</td>\n",
       "      <td>0.990657</td>\n",
       "      <td>0.964492</td>\n",
       "      <td>-0.928116</td>\n",
       "      <td>38</td>\n",
       "    </tr>\n",
       "    <tr>\n",
       "      <th>3</th>\n",
       "      <td>4</td>\n",
       "      <td>0.411151</td>\n",
       "      <td>0.911567</td>\n",
       "      <td>0.087320</td>\n",
       "      <td>3.969501</td>\n",
       "      <td>14</td>\n",
       "    </tr>\n",
       "    <tr>\n",
       "      <th>4</th>\n",
       "      <td>9</td>\n",
       "      <td>-0.889804</td>\n",
       "      <td>0.456343</td>\n",
       "      <td>0.918202</td>\n",
       "      <td>-0.945042</td>\n",
       "      <td>5</td>\n",
       "    </tr>\n",
       "  </tbody>\n",
       "</table>\n",
       "</div>"
      ],
      "text/plain": [
       "   product_id  product_dow_sin  product_dow_cos  product_hod_sin  \\\n",
       "0           1         0.557573         0.830128         0.916981   \n",
       "1           2         0.498262         0.867026         0.367207   \n",
       "2           3         0.136373         0.990657         0.964492   \n",
       "3           4         0.411151         0.911567         0.087320   \n",
       "4           9        -0.889804         0.456343         0.918202   \n",
       "\n",
       "   product_hod_cos  product_num_purchases  \n",
       "0        -5.935116                     90  \n",
       "1         1.099031                      3  \n",
       "2        -0.928116                     38  \n",
       "3         3.969501                     14  \n",
       "4        -0.945042                      5  "
      ]
     },
     "execution_count": 168,
     "metadata": {},
     "output_type": "execute_result"
    }
   ],
   "source": [
    "prior_product_stats.order_dow_sin = np.sin(prior_product_stats.order_dow_angle)\n",
    "prior_product_stats.order_dow_cos = np.cos(prior_product_stats.order_dow_angle)\n",
    "prior_product_stats.order_hod_sin = np.sin(prior_product_stats.order_hod_angle)\n",
    "prior_product_stats.order_hod_cos = np.cos(prior_product_stats.order_hod_angle)\n",
    "prior_product_stats.drop(['order_dow_angle', 'order_hod_angle'], axis=1, inplace=True)\n",
    "prior_product_stats.reset_index(inplace=True)\n",
    "prior_product_stats.columns = ['product_id', 'product_dow_sin', 'product_dow_cos', 'product_hod_sin', 'product_hod_cos', 'product_num_purchases']\n",
    "prior_product_stats.head()"
   ]
  },
  {
   "cell_type": "code",
   "execution_count": 197,
   "metadata": {
    "collapsed": false
   },
   "outputs": [
    {
     "data": {
      "text/html": [
       "<div>\n",
       "<table border=\"1\" class=\"dataframe\">\n",
       "  <thead>\n",
       "    <tr style=\"text-align: right;\">\n",
       "      <th></th>\n",
       "      <th>product_id</th>\n",
       "      <th>product_dow_sin</th>\n",
       "      <th>product_dow_cos</th>\n",
       "      <th>product_hod_sin</th>\n",
       "      <th>product_hod_cos</th>\n",
       "      <th>product_num_purchases</th>\n",
       "    </tr>\n",
       "  </thead>\n",
       "  <tbody>\n",
       "    <tr>\n",
       "      <th>0</th>\n",
       "      <td>1</td>\n",
       "      <td>0.557573</td>\n",
       "      <td>0.830128</td>\n",
       "      <td>0.916981</td>\n",
       "      <td>-5.935116</td>\n",
       "      <td>90</td>\n",
       "    </tr>\n",
       "    <tr>\n",
       "      <th>1</th>\n",
       "      <td>2</td>\n",
       "      <td>0.498262</td>\n",
       "      <td>0.867026</td>\n",
       "      <td>0.367207</td>\n",
       "      <td>1.099031</td>\n",
       "      <td>3</td>\n",
       "    </tr>\n",
       "    <tr>\n",
       "      <th>2</th>\n",
       "      <td>3</td>\n",
       "      <td>0.136373</td>\n",
       "      <td>0.990657</td>\n",
       "      <td>0.964492</td>\n",
       "      <td>-0.928116</td>\n",
       "      <td>38</td>\n",
       "    </tr>\n",
       "    <tr>\n",
       "      <th>3</th>\n",
       "      <td>4</td>\n",
       "      <td>0.411151</td>\n",
       "      <td>0.911567</td>\n",
       "      <td>0.087320</td>\n",
       "      <td>3.969501</td>\n",
       "      <td>14</td>\n",
       "    </tr>\n",
       "    <tr>\n",
       "      <th>4</th>\n",
       "      <td>9</td>\n",
       "      <td>-0.889804</td>\n",
       "      <td>0.456343</td>\n",
       "      <td>0.918202</td>\n",
       "      <td>-0.945042</td>\n",
       "      <td>5</td>\n",
       "    </tr>\n",
       "  </tbody>\n",
       "</table>\n",
       "</div>"
      ],
      "text/plain": [
       "   product_id  product_dow_sin  product_dow_cos  product_hod_sin  \\\n",
       "0           1         0.557573         0.830128         0.916981   \n",
       "1           2         0.498262         0.867026         0.367207   \n",
       "2           3         0.136373         0.990657         0.964492   \n",
       "3           4         0.411151         0.911567         0.087320   \n",
       "4           9        -0.889804         0.456343         0.918202   \n",
       "\n",
       "   product_hod_cos  product_num_purchases  \n",
       "0        -5.935116                     90  \n",
       "1         1.099031                      3  \n",
       "2        -0.928116                     38  \n",
       "3         3.969501                     14  \n",
       "4        -0.945042                      5  "
      ]
     },
     "execution_count": 197,
     "metadata": {},
     "output_type": "execute_result"
    }
   ],
   "source": [
    "prior_product_stats.head()"
   ]
  },
  {
   "cell_type": "code",
   "execution_count": 175,
   "metadata": {
    "collapsed": false
   },
   "outputs": [],
   "source": [
    "prior_individual_stats = prior_df_small.groupby([\"user_id\", \"order_id\"]).agg({'order_dow_sin': np.sum, \n",
    "                                                                'order_dow_cos': np.sum, \n",
    "                                                                'order_hod_sin': np.sum,\n",
    "                                                                'order_hod_cos': np.sum,\n",
    "                                                               'num_products': np.sum})"
   ]
  },
  {
   "cell_type": "code",
   "execution_count": 176,
   "metadata": {
    "collapsed": false
   },
   "outputs": [],
   "source": [
    "prior_individual_stats['num_orders'] = 1\n",
    "prior_individual_stats = prior_individual_stats.reset_index().groupby(\"user_id\").agg({'order_dow_sin': np.sum, \n",
    "                                                                'order_dow_cos': np.sum, \n",
    "                                                                'order_hod_sin': np.sum,\n",
    "                                                                'order_hod_cos': np.sum,\n",
    "                                                               'num_products': [np.sum, np.mean],\n",
    "                                                            'num_orders': np.sum})"
   ]
  },
  {
   "cell_type": "code",
   "execution_count": 177,
   "metadata": {
    "collapsed": false
   },
   "outputs": [],
   "source": [
    "prior_individual_stats.columns = ['order_dow_sin', 'order_dow_cos', 'order_hod_sin', 'order_hod_cos', 'num_products', 'mean_products', 'num_orders']"
   ]
  },
  {
   "cell_type": "code",
   "execution_count": 178,
   "metadata": {
    "collapsed": false
   },
   "outputs": [],
   "source": [
    "prior_individual_stats['order_dow_angle'] = np.arctan2(prior_individual_stats.order_dow_sin, prior_individual_stats.order_dow_cos)\n",
    "prior_individual_stats['order_hod_angle'] = np.arctan2(prior_individual_stats.order_hod_sin, prior_individual_stats.order_hod_cos)\n",
    "prior_individual_stats.order_dow_sin = np.sin(prior_individual_stats.order_dow_angle)\n",
    "prior_individual_stats.order_dow_cos = np.cos(prior_individual_stats.order_dow_angle)\n",
    "prior_individual_stats.order_hod_sin = np.sin(prior_individual_stats.order_hod_angle)\n",
    "prior_individual_stats.order_hod_cos = np.cos(prior_individual_stats.order_hod_angle)\n",
    "prior_individual_stats.drop(['order_dow_angle', 'order_hod_angle'], axis=1, inplace=True)"
   ]
  },
  {
   "cell_type": "code",
   "execution_count": 181,
   "metadata": {
    "collapsed": false
   },
   "outputs": [],
   "source": [
    "prior_individual_stats = prior_individual_stats.reset_index()"
   ]
  },
  {
   "cell_type": "code",
   "execution_count": 180,
   "metadata": {
    "collapsed": false
   },
   "outputs": [
    {
     "data": {
      "text/html": [
       "<div>\n",
       "<table border=\"1\" class=\"dataframe\">\n",
       "  <thead>\n",
       "    <tr style=\"text-align: right;\">\n",
       "      <th></th>\n",
       "      <th>user_id</th>\n",
       "      <th>user_dow_sin</th>\n",
       "      <th>user_dow_cos</th>\n",
       "      <th>user_how_sin</th>\n",
       "      <th>user_hod_cos</th>\n",
       "      <th>user_num_products</th>\n",
       "      <th>user_mean_products</th>\n",
       "      <th>user_num_orders</th>\n",
       "    </tr>\n",
       "  </thead>\n",
       "  <tbody>\n",
       "    <tr>\n",
       "      <th>0</th>\n",
       "      <td>9</td>\n",
       "      <td>-0.437647</td>\n",
       "      <td>0.899147</td>\n",
       "      <td>-0.663223</td>\n",
       "      <td>-23.817299</td>\n",
       "      <td>76</td>\n",
       "      <td>25.333333</td>\n",
       "      <td>3</td>\n",
       "    </tr>\n",
       "    <tr>\n",
       "      <th>1</th>\n",
       "      <td>27</td>\n",
       "      <td>0.877684</td>\n",
       "      <td>-0.479239</td>\n",
       "      <td>0.870565</td>\n",
       "      <td>109.004567</td>\n",
       "      <td>768</td>\n",
       "      <td>9.481481</td>\n",
       "      <td>81</td>\n",
       "    </tr>\n",
       "    <tr>\n",
       "      <th>2</th>\n",
       "      <td>38</td>\n",
       "      <td>-0.648625</td>\n",
       "      <td>0.761108</td>\n",
       "      <td>0.184913</td>\n",
       "      <td>-39.280653</td>\n",
       "      <td>195</td>\n",
       "      <td>16.250000</td>\n",
       "      <td>12</td>\n",
       "    </tr>\n",
       "    <tr>\n",
       "      <th>3</th>\n",
       "      <td>48</td>\n",
       "      <td>-0.988459</td>\n",
       "      <td>0.151491</td>\n",
       "      <td>0.013915</td>\n",
       "      <td>-39.273890</td>\n",
       "      <td>113</td>\n",
       "      <td>11.300000</td>\n",
       "      <td>10</td>\n",
       "    </tr>\n",
       "    <tr>\n",
       "      <th>4</th>\n",
       "      <td>50</td>\n",
       "      <td>0.996450</td>\n",
       "      <td>0.084186</td>\n",
       "      <td>-0.218512</td>\n",
       "      <td>-135.797696</td>\n",
       "      <td>453</td>\n",
       "      <td>6.761194</td>\n",
       "      <td>67</td>\n",
       "    </tr>\n",
       "  </tbody>\n",
       "</table>\n",
       "</div>"
      ],
      "text/plain": [
       "   user_id  user_dow_sin  user_dow_cos  user_how_sin  user_hod_cos  \\\n",
       "0        9     -0.437647      0.899147     -0.663223    -23.817299   \n",
       "1       27      0.877684     -0.479239      0.870565    109.004567   \n",
       "2       38     -0.648625      0.761108      0.184913    -39.280653   \n",
       "3       48     -0.988459      0.151491      0.013915    -39.273890   \n",
       "4       50      0.996450      0.084186     -0.218512   -135.797696   \n",
       "\n",
       "   user_num_products  user_mean_products  user_num_orders  \n",
       "0                 76           25.333333                3  \n",
       "1                768            9.481481               81  \n",
       "2                195           16.250000               12  \n",
       "3                113           11.300000               10  \n",
       "4                453            6.761194               67  "
      ]
     },
     "execution_count": 180,
     "metadata": {},
     "output_type": "execute_result"
    }
   ],
   "source": [
    "prior_individual_stats.columns = ['user_id', 'user_dow_sin', 'user_dow_cos', 'user_how_sin', 'user_hod_cos', 'user_num_products', 'user_mean_products', 'user_num_orders']\n",
    "prior_individual_stats.head()"
   ]
  },
  {
   "cell_type": "code",
   "execution_count": 184,
   "metadata": {
    "collapsed": true
   },
   "outputs": [],
   "source": [
    "prior_indprod_stats = prior_df_small.groupby([\"user_id\", \"product_id\"]).agg({'order_dow_sin': np.sum, \n",
    "                                                                'order_dow_cos': np.sum, \n",
    "                                                                'order_hod_sin': np.sum,\n",
    "                                                                'order_hod_cos': np.sum,\n",
    "                                                               'num_products': np.sum})"
   ]
  },
  {
   "cell_type": "code",
   "execution_count": 185,
   "metadata": {
    "collapsed": false
   },
   "outputs": [],
   "source": [
    "prior_indprod_stats = prior_indprod_stats.reset_index().merge(prior_individual_stats[['user_id', 'user_num_orders']], on='user_id', how='left')\n",
    "prior_indprod_stats['order_dow_angle'] = np.arctan2(prior_indprod_stats.order_dow_sin, prior_indprod_stats.order_dow_cos)\n",
    "prior_indprod_stats['order_hod_angle'] = np.arctan2(prior_indprod_stats.order_hod_sin, prior_indprod_stats.order_hod_cos)\n",
    "prior_indprod_stats['proportion_orders'] = prior_indprod_stats.num_products / prior_indprod_stats.user_num_orders"
   ]
  },
  {
   "cell_type": "code",
   "execution_count": 186,
   "metadata": {
    "collapsed": false
   },
   "outputs": [],
   "source": [
    "prior_indprod_stats.order_dow_sin = np.sin(prior_indprod_stats.order_dow_angle)\n",
    "prior_indprod_stats.order_dow_cos = np.cos(prior_indprod_stats.order_dow_angle)\n",
    "prior_indprod_stats.order_hod_sin = np.sin(prior_indprod_stats.order_hod_angle)\n",
    "prior_indprod_stats.order_hod_cos = np.cos(prior_indprod_stats.order_hod_angle)\n",
    "prior_indprod_stats.drop(['order_dow_angle', 'order_hod_angle'], axis=1, inplace=True)"
   ]
  },
  {
   "cell_type": "code",
   "execution_count": 190,
   "metadata": {
    "collapsed": false
   },
   "outputs": [],
   "source": [
    "prior_indprod_stats.columns = ['user_id', 'product_id', 'indprod_dow_sin', \n",
    "                               'indprod_dow_cos', 'indprod_hod_sin',\n",
    "                               'indprod_hod_cos', 'indprod_num_products', \n",
    "                               'indprod_num_orders', 'indprod_proportion_orders']"
   ]
  },
  {
   "cell_type": "code",
   "execution_count": 192,
   "metadata": {
    "collapsed": false
   },
   "outputs": [
    {
     "data": {
      "text/plain": [
       "(646031, 9)"
      ]
     },
     "execution_count": 192,
     "metadata": {},
     "output_type": "execute_result"
    }
   ],
   "source": [
    "prior_indprod_stats.shape"
   ]
  },
  {
   "cell_type": "code",
   "execution_count": 193,
   "metadata": {
    "collapsed": true
   },
   "outputs": [],
   "source": [
    "prior_all_stats = prior_indprod_stats.merge(prior_individual_stats, on=\"user_id\", how=\"left\").merge(prior_product_stats, on='product_id', how=\"left\")"
   ]
  },
  {
   "cell_type": "code",
   "execution_count": 194,
   "metadata": {
    "collapsed": false
   },
   "outputs": [
    {
     "data": {
      "text/plain": [
       "(646031, 22)"
      ]
     },
     "execution_count": 194,
     "metadata": {},
     "output_type": "execute_result"
    }
   ],
   "source": [
    "prior_all_stats.shape"
   ]
  },
  {
   "cell_type": "code",
   "execution_count": 195,
   "metadata": {
    "collapsed": false
   },
   "outputs": [
    {
     "data": {
      "text/html": [
       "<div>\n",
       "<table border=\"1\" class=\"dataframe\">\n",
       "  <thead>\n",
       "    <tr style=\"text-align: right;\">\n",
       "      <th></th>\n",
       "      <th>user_id</th>\n",
       "      <th>product_id</th>\n",
       "      <th>indprod_dow_sin</th>\n",
       "      <th>indprod_dow_cos</th>\n",
       "      <th>indprod_hod_sin</th>\n",
       "      <th>indprod_hod_cos</th>\n",
       "      <th>indprod_num_products</th>\n",
       "      <th>indprod_num_orders</th>\n",
       "      <th>indprod_proportion_orders</th>\n",
       "      <th>index</th>\n",
       "      <th>...</th>\n",
       "      <th>user_how_sin</th>\n",
       "      <th>user_hod_cos</th>\n",
       "      <th>user_num_products</th>\n",
       "      <th>user_mean_products</th>\n",
       "      <th>user_num_orders</th>\n",
       "      <th>product_dow_sin</th>\n",
       "      <th>product_dow_cos</th>\n",
       "      <th>product_hod_sin</th>\n",
       "      <th>product_hod_cos</th>\n",
       "      <th>product_num_purchases</th>\n",
       "    </tr>\n",
       "  </thead>\n",
       "  <tbody>\n",
       "    <tr>\n",
       "      <th>0</th>\n",
       "      <td>9</td>\n",
       "      <td>311</td>\n",
       "      <td>0.781831</td>\n",
       "      <td>0.623490</td>\n",
       "      <td>0.433884</td>\n",
       "      <td>-0.900969</td>\n",
       "      <td>1</td>\n",
       "      <td>3</td>\n",
       "      <td>0.333333</td>\n",
       "      <td>0</td>\n",
       "      <td>...</td>\n",
       "      <td>-0.663223</td>\n",
       "      <td>-23.817299</td>\n",
       "      <td>76</td>\n",
       "      <td>25.333333</td>\n",
       "      <td>3</td>\n",
       "      <td>-0.047624</td>\n",
       "      <td>0.998865</td>\n",
       "      <td>0.951203</td>\n",
       "      <td>9.038032</td>\n",
       "      <td>402</td>\n",
       "    </tr>\n",
       "    <tr>\n",
       "      <th>1</th>\n",
       "      <td>9</td>\n",
       "      <td>481</td>\n",
       "      <td>-0.433884</td>\n",
       "      <td>0.900969</td>\n",
       "      <td>-0.433884</td>\n",
       "      <td>-0.900969</td>\n",
       "      <td>2</td>\n",
       "      <td>3</td>\n",
       "      <td>0.666667</td>\n",
       "      <td>0</td>\n",
       "      <td>...</td>\n",
       "      <td>-0.663223</td>\n",
       "      <td>-23.817299</td>\n",
       "      <td>76</td>\n",
       "      <td>25.333333</td>\n",
       "      <td>3</td>\n",
       "      <td>0.024629</td>\n",
       "      <td>0.999697</td>\n",
       "      <td>0.329680</td>\n",
       "      <td>-12.212595</td>\n",
       "      <td>142</td>\n",
       "    </tr>\n",
       "    <tr>\n",
       "      <th>2</th>\n",
       "      <td>9</td>\n",
       "      <td>1559</td>\n",
       "      <td>-0.974928</td>\n",
       "      <td>-0.222521</td>\n",
       "      <td>-0.974928</td>\n",
       "      <td>-0.222521</td>\n",
       "      <td>1</td>\n",
       "      <td>3</td>\n",
       "      <td>0.333333</td>\n",
       "      <td>0</td>\n",
       "      <td>...</td>\n",
       "      <td>-0.663223</td>\n",
       "      <td>-23.817299</td>\n",
       "      <td>76</td>\n",
       "      <td>25.333333</td>\n",
       "      <td>3</td>\n",
       "      <td>-0.925191</td>\n",
       "      <td>0.379502</td>\n",
       "      <td>0.998729</td>\n",
       "      <td>-2.735135</td>\n",
       "      <td>357</td>\n",
       "    </tr>\n",
       "    <tr>\n",
       "      <th>3</th>\n",
       "      <td>9</td>\n",
       "      <td>2732</td>\n",
       "      <td>-0.974928</td>\n",
       "      <td>-0.222521</td>\n",
       "      <td>-0.974928</td>\n",
       "      <td>-0.222521</td>\n",
       "      <td>1</td>\n",
       "      <td>3</td>\n",
       "      <td>0.333333</td>\n",
       "      <td>0</td>\n",
       "      <td>...</td>\n",
       "      <td>-0.663223</td>\n",
       "      <td>-23.817299</td>\n",
       "      <td>76</td>\n",
       "      <td>25.333333</td>\n",
       "      <td>3</td>\n",
       "      <td>-0.257799</td>\n",
       "      <td>0.966198</td>\n",
       "      <td>0.234817</td>\n",
       "      <td>-6.226701</td>\n",
       "      <td>207</td>\n",
       "    </tr>\n",
       "    <tr>\n",
       "      <th>4</th>\n",
       "      <td>9</td>\n",
       "      <td>3634</td>\n",
       "      <td>-0.974928</td>\n",
       "      <td>-0.222521</td>\n",
       "      <td>-0.974928</td>\n",
       "      <td>-0.222521</td>\n",
       "      <td>1</td>\n",
       "      <td>3</td>\n",
       "      <td>0.333333</td>\n",
       "      <td>0</td>\n",
       "      <td>...</td>\n",
       "      <td>-0.663223</td>\n",
       "      <td>-23.817299</td>\n",
       "      <td>76</td>\n",
       "      <td>25.333333</td>\n",
       "      <td>3</td>\n",
       "      <td>-0.579493</td>\n",
       "      <td>0.814977</td>\n",
       "      <td>0.852163</td>\n",
       "      <td>3.479189</td>\n",
       "      <td>110</td>\n",
       "    </tr>\n",
       "  </tbody>\n",
       "</table>\n",
       "<p>5 rows × 22 columns</p>\n",
       "</div>"
      ],
      "text/plain": [
       "   user_id  product_id  indprod_dow_sin  indprod_dow_cos  indprod_hod_sin  \\\n",
       "0        9         311         0.781831         0.623490         0.433884   \n",
       "1        9         481        -0.433884         0.900969        -0.433884   \n",
       "2        9        1559        -0.974928        -0.222521        -0.974928   \n",
       "3        9        2732        -0.974928        -0.222521        -0.974928   \n",
       "4        9        3634        -0.974928        -0.222521        -0.974928   \n",
       "\n",
       "   indprod_hod_cos  indprod_num_products  indprod_num_orders  \\\n",
       "0        -0.900969                     1                   3   \n",
       "1        -0.900969                     2                   3   \n",
       "2        -0.222521                     1                   3   \n",
       "3        -0.222521                     1                   3   \n",
       "4        -0.222521                     1                   3   \n",
       "\n",
       "   indprod_proportion_orders  index          ...            user_how_sin  \\\n",
       "0                   0.333333      0          ...               -0.663223   \n",
       "1                   0.666667      0          ...               -0.663223   \n",
       "2                   0.333333      0          ...               -0.663223   \n",
       "3                   0.333333      0          ...               -0.663223   \n",
       "4                   0.333333      0          ...               -0.663223   \n",
       "\n",
       "   user_hod_cos  user_num_products  user_mean_products  user_num_orders  \\\n",
       "0    -23.817299                 76           25.333333                3   \n",
       "1    -23.817299                 76           25.333333                3   \n",
       "2    -23.817299                 76           25.333333                3   \n",
       "3    -23.817299                 76           25.333333                3   \n",
       "4    -23.817299                 76           25.333333                3   \n",
       "\n",
       "   product_dow_sin  product_dow_cos  product_hod_sin  product_hod_cos  \\\n",
       "0        -0.047624         0.998865         0.951203         9.038032   \n",
       "1         0.024629         0.999697         0.329680       -12.212595   \n",
       "2        -0.925191         0.379502         0.998729        -2.735135   \n",
       "3        -0.257799         0.966198         0.234817        -6.226701   \n",
       "4        -0.579493         0.814977         0.852163         3.479189   \n",
       "\n",
       "   product_num_purchases  \n",
       "0                    402  \n",
       "1                    142  \n",
       "2                    357  \n",
       "3                    207  \n",
       "4                    110  \n",
       "\n",
       "[5 rows x 22 columns]"
      ]
     },
     "execution_count": 195,
     "metadata": {},
     "output_type": "execute_result"
    }
   ],
   "source": [
    "prior_all_stats.head()"
   ]
  },
  {
   "cell_type": "code",
   "execution_count": 200,
   "metadata": {
    "collapsed": false
   },
   "outputs": [],
   "source": [
    "prior_all_stats.drop(\"index\", axis=1, inplace=True)"
   ]
  },
  {
   "cell_type": "code",
   "execution_count": 201,
   "metadata": {
    "collapsed": false
   },
   "outputs": [
    {
     "data": {
      "text/plain": [
       "(646031, 21)"
      ]
     },
     "execution_count": 201,
     "metadata": {},
     "output_type": "execute_result"
    }
   ],
   "source": [
    "prior_all_stats.shape"
   ]
  },
  {
   "cell_type": "code",
   "execution_count": 202,
   "metadata": {
    "collapsed": false
   },
   "outputs": [
    {
     "data": {
      "text/html": [
       "<div>\n",
       "<table border=\"1\" class=\"dataframe\">\n",
       "  <thead>\n",
       "    <tr style=\"text-align: right;\">\n",
       "      <th></th>\n",
       "      <th>user_id</th>\n",
       "      <th>product_id</th>\n",
       "      <th>indprod_dow_sin</th>\n",
       "      <th>indprod_dow_cos</th>\n",
       "      <th>indprod_hod_sin</th>\n",
       "      <th>indprod_hod_cos</th>\n",
       "      <th>indprod_num_products</th>\n",
       "      <th>indprod_num_orders</th>\n",
       "      <th>indprod_proportion_orders</th>\n",
       "      <th>user_dow_sin</th>\n",
       "      <th>...</th>\n",
       "      <th>user_how_sin</th>\n",
       "      <th>user_hod_cos</th>\n",
       "      <th>user_num_products</th>\n",
       "      <th>user_mean_products</th>\n",
       "      <th>user_num_orders</th>\n",
       "      <th>product_dow_sin</th>\n",
       "      <th>product_dow_cos</th>\n",
       "      <th>product_hod_sin</th>\n",
       "      <th>product_hod_cos</th>\n",
       "      <th>product_num_purchases</th>\n",
       "    </tr>\n",
       "  </thead>\n",
       "  <tbody>\n",
       "    <tr>\n",
       "      <th>0</th>\n",
       "      <td>9</td>\n",
       "      <td>311</td>\n",
       "      <td>0.781831</td>\n",
       "      <td>0.623490</td>\n",
       "      <td>0.433884</td>\n",
       "      <td>-0.900969</td>\n",
       "      <td>1</td>\n",
       "      <td>3</td>\n",
       "      <td>0.333333</td>\n",
       "      <td>-0.437647</td>\n",
       "      <td>...</td>\n",
       "      <td>-0.663223</td>\n",
       "      <td>-23.817299</td>\n",
       "      <td>76</td>\n",
       "      <td>25.333333</td>\n",
       "      <td>3</td>\n",
       "      <td>-0.047624</td>\n",
       "      <td>0.998865</td>\n",
       "      <td>0.951203</td>\n",
       "      <td>9.038032</td>\n",
       "      <td>402</td>\n",
       "    </tr>\n",
       "    <tr>\n",
       "      <th>1</th>\n",
       "      <td>9</td>\n",
       "      <td>481</td>\n",
       "      <td>-0.433884</td>\n",
       "      <td>0.900969</td>\n",
       "      <td>-0.433884</td>\n",
       "      <td>-0.900969</td>\n",
       "      <td>2</td>\n",
       "      <td>3</td>\n",
       "      <td>0.666667</td>\n",
       "      <td>-0.437647</td>\n",
       "      <td>...</td>\n",
       "      <td>-0.663223</td>\n",
       "      <td>-23.817299</td>\n",
       "      <td>76</td>\n",
       "      <td>25.333333</td>\n",
       "      <td>3</td>\n",
       "      <td>0.024629</td>\n",
       "      <td>0.999697</td>\n",
       "      <td>0.329680</td>\n",
       "      <td>-12.212595</td>\n",
       "      <td>142</td>\n",
       "    </tr>\n",
       "    <tr>\n",
       "      <th>2</th>\n",
       "      <td>9</td>\n",
       "      <td>1559</td>\n",
       "      <td>-0.974928</td>\n",
       "      <td>-0.222521</td>\n",
       "      <td>-0.974928</td>\n",
       "      <td>-0.222521</td>\n",
       "      <td>1</td>\n",
       "      <td>3</td>\n",
       "      <td>0.333333</td>\n",
       "      <td>-0.437647</td>\n",
       "      <td>...</td>\n",
       "      <td>-0.663223</td>\n",
       "      <td>-23.817299</td>\n",
       "      <td>76</td>\n",
       "      <td>25.333333</td>\n",
       "      <td>3</td>\n",
       "      <td>-0.925191</td>\n",
       "      <td>0.379502</td>\n",
       "      <td>0.998729</td>\n",
       "      <td>-2.735135</td>\n",
       "      <td>357</td>\n",
       "    </tr>\n",
       "    <tr>\n",
       "      <th>3</th>\n",
       "      <td>9</td>\n",
       "      <td>2732</td>\n",
       "      <td>-0.974928</td>\n",
       "      <td>-0.222521</td>\n",
       "      <td>-0.974928</td>\n",
       "      <td>-0.222521</td>\n",
       "      <td>1</td>\n",
       "      <td>3</td>\n",
       "      <td>0.333333</td>\n",
       "      <td>-0.437647</td>\n",
       "      <td>...</td>\n",
       "      <td>-0.663223</td>\n",
       "      <td>-23.817299</td>\n",
       "      <td>76</td>\n",
       "      <td>25.333333</td>\n",
       "      <td>3</td>\n",
       "      <td>-0.257799</td>\n",
       "      <td>0.966198</td>\n",
       "      <td>0.234817</td>\n",
       "      <td>-6.226701</td>\n",
       "      <td>207</td>\n",
       "    </tr>\n",
       "    <tr>\n",
       "      <th>4</th>\n",
       "      <td>9</td>\n",
       "      <td>3634</td>\n",
       "      <td>-0.974928</td>\n",
       "      <td>-0.222521</td>\n",
       "      <td>-0.974928</td>\n",
       "      <td>-0.222521</td>\n",
       "      <td>1</td>\n",
       "      <td>3</td>\n",
       "      <td>0.333333</td>\n",
       "      <td>-0.437647</td>\n",
       "      <td>...</td>\n",
       "      <td>-0.663223</td>\n",
       "      <td>-23.817299</td>\n",
       "      <td>76</td>\n",
       "      <td>25.333333</td>\n",
       "      <td>3</td>\n",
       "      <td>-0.579493</td>\n",
       "      <td>0.814977</td>\n",
       "      <td>0.852163</td>\n",
       "      <td>3.479189</td>\n",
       "      <td>110</td>\n",
       "    </tr>\n",
       "  </tbody>\n",
       "</table>\n",
       "<p>5 rows × 21 columns</p>\n",
       "</div>"
      ],
      "text/plain": [
       "   user_id  product_id  indprod_dow_sin  indprod_dow_cos  indprod_hod_sin  \\\n",
       "0        9         311         0.781831         0.623490         0.433884   \n",
       "1        9         481        -0.433884         0.900969        -0.433884   \n",
       "2        9        1559        -0.974928        -0.222521        -0.974928   \n",
       "3        9        2732        -0.974928        -0.222521        -0.974928   \n",
       "4        9        3634        -0.974928        -0.222521        -0.974928   \n",
       "\n",
       "   indprod_hod_cos  indprod_num_products  indprod_num_orders  \\\n",
       "0        -0.900969                     1                   3   \n",
       "1        -0.900969                     2                   3   \n",
       "2        -0.222521                     1                   3   \n",
       "3        -0.222521                     1                   3   \n",
       "4        -0.222521                     1                   3   \n",
       "\n",
       "   indprod_proportion_orders  user_dow_sin          ...            \\\n",
       "0                   0.333333     -0.437647          ...             \n",
       "1                   0.666667     -0.437647          ...             \n",
       "2                   0.333333     -0.437647          ...             \n",
       "3                   0.333333     -0.437647          ...             \n",
       "4                   0.333333     -0.437647          ...             \n",
       "\n",
       "   user_how_sin  user_hod_cos  user_num_products  user_mean_products  \\\n",
       "0     -0.663223    -23.817299                 76           25.333333   \n",
       "1     -0.663223    -23.817299                 76           25.333333   \n",
       "2     -0.663223    -23.817299                 76           25.333333   \n",
       "3     -0.663223    -23.817299                 76           25.333333   \n",
       "4     -0.663223    -23.817299                 76           25.333333   \n",
       "\n",
       "   user_num_orders  product_dow_sin  product_dow_cos  product_hod_sin  \\\n",
       "0                3        -0.047624         0.998865         0.951203   \n",
       "1                3         0.024629         0.999697         0.329680   \n",
       "2                3        -0.925191         0.379502         0.998729   \n",
       "3                3        -0.257799         0.966198         0.234817   \n",
       "4                3        -0.579493         0.814977         0.852163   \n",
       "\n",
       "   product_hod_cos  product_num_purchases  \n",
       "0         9.038032                    402  \n",
       "1       -12.212595                    142  \n",
       "2        -2.735135                    357  \n",
       "3        -6.226701                    207  \n",
       "4         3.479189                    110  \n",
       "\n",
       "[5 rows x 21 columns]"
      ]
     },
     "execution_count": 202,
     "metadata": {},
     "output_type": "execute_result"
    }
   ],
   "source": [
    "prior_all_stats.head()"
   ]
  },
  {
   "cell_type": "code",
   "execution_count": null,
   "metadata": {
    "collapsed": true
   },
   "outputs": [],
   "source": []
  }
 ],
 "metadata": {
  "kernelspec": {
   "display_name": "Python 3",
   "language": "python",
   "name": "python3"
  },
  "language_info": {
   "codemirror_mode": {
    "name": "ipython",
    "version": 3
   },
   "file_extension": ".py",
   "mimetype": "text/x-python",
   "name": "python",
   "nbconvert_exporter": "python",
   "pygments_lexer": "ipython3",
   "version": "3.6.0"
  }
 },
 "nbformat": 4,
 "nbformat_minor": 0
}
