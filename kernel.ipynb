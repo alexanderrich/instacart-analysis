{
 "cells": [
  {
   "cell_type": "code",
   "execution_count": 1,
   "metadata": {
    "collapsed": true
   },
   "outputs": [],
   "source": [
    "import numpy as np\n",
    "import pandas as pd"
   ]
  },
  {
   "cell_type": "code",
   "execution_count": null,
   "metadata": {
    "collapsed": true
   },
   "outputs": [],
   "source": [
    "str(-7.0)"
   ]
  },
  {
   "cell_type": "code",
   "execution_count": 2,
   "metadata": {
    "collapsed": true
   },
   "outputs": [],
   "source": [
    "prior_all_stats = pd.read_hdf(\"data/prior_all_stats.h5\", \"table\")\n",
    "\n",
    "prior_all_stats.drop(['indprod_num_products_dcos_14_reg', 'indprod_num_products_dsin_14_reg',\n",
    "                      'indprod_num_products_dcos_30_reg', 'indprod_num_products_dsin_30_reg'], axis=1, inplace=True)\n",
    "\n",
    "prior_all_stats['prediction'] = 0\n",
    "all_users = prior_all_stats.loc[prior_all_stats.eval_set == \"train\", \"user_id\"].unique()\n",
    "np.random.seed(1234)\n",
    "np.random.shuffle(all_users)\n",
    "\n",
    "valid_set = pd.DataFrame({'user_id': all_users, 'validation_set': np.arange(0, all_users.shape[0]) % 11})\n",
    "\n",
    "prior_all_stats = prior_all_stats.merge(valid_set, on='user_id', how='left')\n",
    "\n",
    "prior_all_stats.validation_set = prior_all_stats.validation_set.fillna(-1)\n"
   ]
  },
  {
   "cell_type": "code",
   "execution_count": 3,
   "metadata": {
    "collapsed": true
   },
   "outputs": [],
   "source": [
    "prior_all_stats['user_distinct_products_log'] = prior_all_stats.user_distinct_products"
   ]
  },
  {
   "cell_type": "code",
   "execution_count": 4,
   "metadata": {},
   "outputs": [
    {
     "name": "stdout",
     "output_type": "stream",
     "text": [
      "user_id\n",
      "product_id\n",
      "indprod_dow_sin\n",
      "indprod_dow_cos\n",
      "indprod_hod_sin\n",
      "indprod_hod_cos\n",
      "indprod_num_products\n",
      "indprod_num_products_dw_8\n",
      "indprod_num_products_dw_16\n",
      "indprod_num_products_dw_32\n",
      "indprod_num_products_dw_64\n",
      "indprod_num_products_dw_128\n",
      "num_products_dcos_14\n",
      "num_products_dsin_14\n",
      "num_products_dcos_30\n",
      "num_products_dsin_30\n",
      "indprod_num_products_ow_2\n",
      "indprod_num_products_ow_4\n",
      "indprod_num_products_ow_8\n",
      "indprod_num_products_ow_16\n",
      "indprod_num_products_ow_32\n",
      "indprod_add_to_cart_order\n",
      "indprod_add_to_cart_proportion\n",
      "indprod_inorder_1\n",
      "indprod_inorder_2\n",
      "indprod_inorder_3\n",
      "indprod_days_since_last\n",
      "indprod_orders_since_last\n",
      "indprod_proportion_orders\n",
      "indprod_days_per_order\n",
      "user_dow_sin\n",
      "user_dow_cos\n",
      "user_hod_sin\n",
      "user_hod_cos\n",
      "user_num_products\n",
      "user_mean_products\n",
      "user_num_days\n",
      "user_num_orders\n",
      "user_days_per_order\n",
      "product_dow_sin\n",
      "product_dow_cos\n",
      "product_hod_sin\n",
      "product_hod_cos\n",
      "product_num_purchases\n",
      "product_proportion_orders\n",
      "product_days_per_order\n",
      "indprod_num_products_ow_2_reg\n",
      "indprod_num_products_ow_4_reg\n",
      "indprod_num_products_ow_8_reg\n",
      "indprod_num_products_ow_16_reg\n",
      "indprod_num_products_ow_32_reg\n",
      "indprod_num_products_dw_8_reg\n",
      "indprod_num_products_dw_16_reg\n",
      "indprod_num_products_dw_32_reg\n",
      "indprod_num_products_dw_64_reg\n",
      "indprod_num_products_dw_128_reg\n",
      "order_id\n",
      "eval_set\n",
      "days_since_prior_order\n",
      "absolute_date\n",
      "max_order_number\n",
      "max_absolute_date\n",
      "reverse_date\n",
      "reverse_order_number\n",
      "order_dow_sin\n",
      "order_dow_cos\n",
      "order_hod_sin\n",
      "order_hod_cos\n",
      "individual_day_proportion\n",
      "product_day_proportion\n",
      "indprod_day_proportion\n",
      "individual_hod_proportion\n",
      "product_hod_proportion\n",
      "indprod_hod_proportion\n",
      "indprod_dow_avg_diff\n",
      "indprod_hod_avg_diff\n",
      "user_dow_avg_diff\n",
      "user_hod_avg_diff\n",
      "product_dow_avg_diff\n",
      "productd_hod_avg_diff\n",
      "product_hod_avg_diff\n",
      "air fresheners candles\n",
      "asian foods\n",
      "baby accessories\n",
      "baby bath body care\n",
      "baby food formula\n",
      "bakery desserts\n",
      "baking ingredients\n",
      "baking supplies decor\n",
      "beauty\n",
      "beers coolers\n",
      "body lotions soap\n",
      "bread\n",
      "breakfast bakery\n",
      "breakfast bars pastries\n",
      "bulk dried fruits vegetables\n",
      "bulk grains rice dried goods\n",
      "buns rolls\n",
      "butter\n",
      "candy chocolate\n",
      "canned fruit applesauce\n",
      "canned jarred vegetables\n",
      "canned meals beans\n",
      "canned meat seafood\n",
      "cat food care\n",
      "cereal\n",
      "chips pretzels\n",
      "cleaning products\n",
      "cocoa drink mixes\n",
      "coffee\n",
      "cold flu allergy\n",
      "condiments\n",
      "cookies cakes\n",
      "crackers\n",
      "cream\n",
      "deodorants\n",
      "diapers wipes\n",
      "digestion\n",
      "dish detergents\n",
      "dog food care\n",
      "doughs gelatins bake mixes\n",
      "dry pasta\n",
      "eggs\n",
      "energy granola bars\n",
      "energy sports drinks\n",
      "eye ear care\n",
      "facial care\n",
      "feminine care\n",
      "first aid\n",
      "food storage\n",
      "fresh dips tapenades\n",
      "fresh fruits\n",
      "fresh herbs\n",
      "fresh pasta\n",
      "fresh vegetables\n",
      "frozen appetizers sides\n",
      "frozen breads doughs\n",
      "frozen breakfast\n",
      "frozen dessert\n",
      "frozen juice\n",
      "frozen meals\n",
      "frozen meat seafood\n",
      "frozen pizza\n",
      "frozen produce\n",
      "frozen vegan vegetarian\n",
      "fruit vegetable snacks\n",
      "grains rice dried goods\n",
      "granola\n",
      "hair care\n",
      "honeys syrups nectars\n",
      "hot cereal pancake mixes\n",
      "hot dogs bacon sausage\n",
      "ice cream ice\n",
      "ice cream toppings\n",
      "indian foods\n",
      "instant foods\n",
      "juice nectars\n",
      "kitchen supplies\n",
      "kosher foods\n",
      "latino foods\n",
      "laundry\n",
      "lunch meat\n",
      "marinades meat preparation\n",
      "meat counter\n",
      "milk\n",
      "mint gum\n",
      "missing\n",
      "more household\n",
      "muscles joints pain relief\n",
      "nuts seeds dried fruit\n",
      "oils vinegars\n",
      "oral hygiene\n",
      "other\n",
      "other creams cheeses\n",
      "packaged cheese\n",
      "packaged meat\n",
      "packaged poultry\n",
      "packaged produce\n",
      "packaged seafood\n",
      "packaged vegetables fruits\n",
      "paper goods\n",
      "pasta sauce\n",
      "pickled goods olives\n",
      "plates bowls cups flatware\n",
      "popcorn jerky\n",
      "poultry counter\n",
      "prepared meals\n",
      "prepared soups salads\n",
      "preserved dips spreads\n",
      "protein meal replacements\n",
      "red wines\n",
      "refrigerated\n",
      "refrigerated pudding desserts\n",
      "salad dressing toppings\n",
      "seafood counter\n",
      "shave needs\n",
      "skin care\n",
      "soap\n",
      "soft drinks\n",
      "soup broth bouillon\n",
      "soy lactosefree\n",
      "specialty cheeses\n",
      "specialty wines champagnes\n",
      "spices seasonings\n",
      "spirits\n",
      "spreads\n",
      "tea\n",
      "tofu meat alternatives\n",
      "tortillas flat bread\n",
      "trail mix snack mix\n",
      "trash bags liners\n",
      "vitamins supplements\n",
      "water seltzer sparkling water\n",
      "white wines\n",
      "yogurt\n",
      "user_distinct_products\n",
      "reordered\n",
      "prediction\n",
      "validation_set\n",
      "user_distinct_products_log\n"
     ]
    }
   ],
   "source": [
    "for column in prior_all_stats.columns:\n",
    "    print(column)"
   ]
  },
  {
   "cell_type": "code",
   "execution_count": 4,
   "metadata": {
    "collapsed": true
   },
   "outputs": [],
   "source": [
    "logged_columns = [\n",
    "    'indprod_num_products',\n",
    "'indprod_num_products_dw_8',\n",
    "'indprod_num_products_dw_16',\n",
    "'indprod_num_products_dw_32',\n",
    "'indprod_num_products_dw_64',\n",
    "'indprod_num_products_dw_128',\n",
    "'indprod_num_products_ow_8',\n",
    "'indprod_num_products_ow_16',\n",
    "'indprod_num_products_ow_32',\n",
    "'indprod_num_products_ow_2',\n",
    "'indprod_num_products_ow_4',\n",
    "    'user_num_products',\n",
    "    'user_num_orders',\n",
    "    'product_num_purchases',\n",
    "    'user_distinct_products_log'\n",
    "]"
   ]
  },
  {
   "cell_type": "code",
   "execution_count": 5,
   "metadata": {
    "collapsed": true
   },
   "outputs": [],
   "source": [
    "for col in logged_columns:\n",
    "    prior_all_stats[col] = np.log1p(prior_all_stats[col])"
   ]
  },
  {
   "cell_type": "code",
   "execution_count": 6,
   "metadata": {
    "collapsed": true
   },
   "outputs": [],
   "source": [
    "scaled_columns = [\n",
    "'indprod_num_products',\n",
    "'indprod_num_products_dw_8',\n",
    "'indprod_num_products_dw_16',\n",
    "'indprod_num_products_dw_32',\n",
    "'indprod_num_products_dw_64',\n",
    "'indprod_num_products_dw_128',\n",
    "'num_products_dcos_14',\n",
    "'num_products_dsin_14',\n",
    "'num_products_dcos_30',\n",
    "'num_products_dsin_30',\n",
    "'indprod_num_products_ow_2',\n",
    "'indprod_num_products_ow_4',\n",
    "'indprod_num_products_ow_8',\n",
    "'indprod_num_products_ow_16',\n",
    "'indprod_num_products_ow_32',\n",
    "'indprod_add_to_cart_order',\n",
    "'indprod_days_since_last',\n",
    "'indprod_orders_since_last',\n",
    "'indprod_proportion_orders',\n",
    "'indprod_days_per_order',\n",
    "'user_num_products',\n",
    "'user_mean_products',\n",
    "'user_num_days',\n",
    "'user_num_orders',\n",
    "'user_days_per_order',\n",
    "'product_num_purchases',\n",
    "'product_proportion_orders',\n",
    "'product_days_per_order',\n",
    "'days_since_prior_order',\n",
    "'absolute_date',\n",
    "'max_order_number',\n",
    "'max_absolute_date',\n",
    "'reverse_date',\n",
    "'reverse_order_number',\n",
    "'indprod_dow_avg_diff',\n",
    "'indprod_hod_avg_diff',\n",
    "'user_dow_avg_diff',\n",
    "'user_hod_avg_diff',\n",
    "'product_dow_avg_diff',\n",
    "'productd_hod_avg_diff',\n",
    "'product_hod_avg_diff',\n",
    "'user_distinct_products_log'\n",
    "]"
   ]
  },
  {
   "cell_type": "code",
   "execution_count": 7,
   "metadata": {
    "collapsed": true
   },
   "outputs": [],
   "source": [
    "for col in scaled_columns:\n",
    "    prior_all_stats[col] = (prior_all_stats[col] - prior_all_stats[col].mean()) / prior_all_stats[col].std()"
   ]
  },
  {
   "cell_type": "code",
   "execution_count": 8,
   "metadata": {
    "collapsed": true
   },
   "outputs": [],
   "source": [
    "prior_test = prior_all_stats.loc[prior_all_stats.eval_set == \"test\", :]\n",
    "prior_train = prior_all_stats.loc[(prior_all_stats.eval_set == \"train\") & (prior_all_stats.validation_set != 10), :]\n",
    "prior_valid = prior_all_stats.loc[prior_all_stats.validation_set == 10, :]\n",
    "\n",
    "X_test = prior_test.drop(['user_distinct_products', 'reverse_date', 'reverse_order_number', \"prediction\", \"eval_set\", \"validation_set\", \"order_id\", \"reordered\", \"user_id\", \"product_id\",], axis=1).values\n",
    "X_train = prior_train.drop(['user_distinct_products', 'reverse_date', 'reverse_order_number', \"prediction\", \"eval_set\", \"validation_set\", \"order_id\", \"reordered\", \"user_id\", \"product_id\"], axis=1).values\n",
    "X_valid = prior_valid.drop(['user_distinct_products', 'reverse_date', 'reverse_order_number', \"prediction\", \"eval_set\", \"validation_set\", \"order_id\", \"reordered\", \"user_id\", \"product_id\"], axis=1).values"
   ]
  },
  {
   "cell_type": "code",
   "execution_count": 9,
   "metadata": {
    "collapsed": true
   },
   "outputs": [],
   "source": [
    "y_train = prior_train.reordered.values\n",
    "y_valid = prior_valid.reordered.values"
   ]
  },
  {
   "cell_type": "code",
   "execution_count": 11,
   "metadata": {
    "collapsed": true
   },
   "outputs": [],
   "source": [
    "from sklearn.linear_model import SGDClassifier"
   ]
  },
  {
   "cell_type": "code",
   "execution_count": 47,
   "metadata": {
    "collapsed": true
   },
   "outputs": [],
   "source": [
    "model = SGDClassifier(loss='log', penalty='none')"
   ]
  },
  {
   "cell_type": "code",
   "execution_count": 48,
   "metadata": {},
   "outputs": [
    {
     "name": "stdout",
     "output_type": "stream",
     "text": [
      "CPU times: user 1min 6s, sys: 6.76 s, total: 1min 13s\n",
      "Wall time: 1min 13s\n"
     ]
    },
    {
     "data": {
      "text/plain": [
       "SGDClassifier(alpha=0.0001, average=False, class_weight=None, epsilon=0.1,\n",
       "       eta0=0.0, fit_intercept=True, l1_ratio=0.15,\n",
       "       learning_rate='optimal', loss='log', n_iter=5, n_jobs=1,\n",
       "       penalty='none', power_t=0.5, random_state=None, shuffle=True,\n",
       "       verbose=0, warm_start=False)"
      ]
     },
     "execution_count": 48,
     "metadata": {},
     "output_type": "execute_result"
    }
   ],
   "source": [
    "%%time\n",
    "model.fit(X_train, y_train)"
   ]
  },
  {
   "cell_type": "code",
   "execution_count": 49,
   "metadata": {},
   "outputs": [
    {
     "data": {
      "text/plain": [
       "0.90877727333178615"
      ]
     },
     "execution_count": 49,
     "metadata": {},
     "output_type": "execute_result"
    }
   ],
   "source": [
    "model.score(X_valid, y_valid)"
   ]
  },
  {
   "cell_type": "code",
   "execution_count": 50,
   "metadata": {
    "collapsed": true
   },
   "outputs": [],
   "source": [
    "prior_all_stats.loc[prior_all_stats.eval_set == \"test\", 'prediction'] = model.predict_proba(X_test)[:,1]\n",
    "prior_all_stats.loc[(prior_all_stats.eval_set == \"train\") & (prior_all_stats.validation_set != 10), 'prediction'] = model.predict_proba(X_train)[:,1]\n",
    "prior_all_stats.loc[prior_all_stats.validation_set == 10, 'prediction'] = model.predict_proba(X_valid)[:,1]\n",
    "\n",
    "raw_output = prior_all_stats.loc[:,['prediction', 'eval_set', 'validation_set', 'order_id', 'product_id', 'user_id', 'user_distinct_products', 'reordered']]\n",
    "raw_output.to_csv(\"rawpredictions/linearmodel.csv\", index=False)\n"
   ]
  },
  {
   "cell_type": "code",
   "execution_count": 82,
   "metadata": {
    "collapsed": true
   },
   "outputs": [],
   "source": [
    "from sklearn.kernel_approximation import RBFSampler\n",
    "from sklearn.kernel_approximation import Nystroem\n",
    "\n",
    "rbf_feature = Nystroem(n_components=1000)"
   ]
  },
  {
   "cell_type": "code",
   "execution_count": 83,
   "metadata": {},
   "outputs": [
    {
     "data": {
      "text/plain": [
       "Nystroem(coef0=1, degree=3, gamma=None, kernel='rbf', kernel_params=None,\n",
       "     n_components=1000, random_state=None)"
      ]
     },
     "execution_count": 83,
     "metadata": {},
     "output_type": "execute_result"
    }
   ],
   "source": [
    "rbf_feature.fit(X_train)"
   ]
  },
  {
   "cell_type": "code",
   "execution_count": 76,
   "metadata": {},
   "outputs": [
    {
     "data": {
      "text/plain": [
       "3853.8515"
      ]
     },
     "execution_count": 76,
     "metadata": {},
     "output_type": "execute_result"
    }
   ],
   "source": [
    "X_train.shape[0]/2000"
   ]
  },
  {
   "cell_type": "code",
   "execution_count": 84,
   "metadata": {
    "collapsed": true
   },
   "outputs": [],
   "source": [
    "rbf_model = SGDClassifier(loss='log', warm_start=True, alpha=.00003)"
   ]
  },
  {
   "cell_type": "code",
   "execution_count": 85,
   "metadata": {},
   "outputs": [
    {
     "data": {
      "text/plain": [
       "SGDClassifier(alpha=3e-05, average=False, class_weight=None, epsilon=0.1,\n",
       "       eta0=0.0, fit_intercept=True, l1_ratio=0.15,\n",
       "       learning_rate='optimal', loss='log', n_iter=5, n_jobs=1,\n",
       "       penalty='l2', power_t=0.5, random_state=None, shuffle=True,\n",
       "       verbose=0, warm_start=True)"
      ]
     },
     "execution_count": 85,
     "metadata": {},
     "output_type": "execute_result"
    }
   ],
   "source": [
    "rbf_model"
   ]
  },
  {
   "cell_type": "code",
   "execution_count": 86,
   "metadata": {
    "scrolled": true
   },
   "outputs": [
    {
     "name": "stdout",
     "output_type": "stream",
     "text": [
      "epoch: 0 part: 0\n",
      "epoch: 0 part: 10\n",
      "epoch: 0 part: 20\n",
      "epoch: 0 part: 30\n",
      "epoch: 0 part: 40\n",
      "epoch: 0 part: 50\n",
      "epoch: 0 part: 60\n",
      "epoch: 0 part: 70\n",
      "epoch: 0 part: 80\n",
      "epoch: 0 part: 90\n",
      "CPU times: user 37min 48s, sys: 1min 7s, total: 38min 56s\n",
      "Wall time: 9min 28s\n"
     ]
    }
   ],
   "source": [
    "%%time\n",
    "n_iter = 1\n",
    "partitions = 100\n",
    "rows = X_train.shape[0]\n",
    "t = 0\n",
    "for n in range(n_iter):\n",
    "    order = np.arange(int(partitions)).astype(int)\n",
    "    np.random.shuffle(order)\n",
    "    for i in order:\n",
    "        X_part = X_train[int(rows*i/partitions):int(rows*(i+1)/partitions),:]\n",
    "        y_part = y_train[int(rows*i/partitions):int(rows*(i+1)/partitions)]\n",
    "        rbf_model.fit(rbf_feature.transform(X_part), y_part)\n",
    "        if t % 10 == 0:\n",
    "            print('epoch:', n, 'part:', t)\n",
    "        t = t+1\n"
   ]
  },
  {
   "cell_type": "code",
   "execution_count": 87,
   "metadata": {},
   "outputs": [
    {
     "data": {
      "text/plain": [
       "1.7087574596431816"
      ]
     },
     "execution_count": 87,
     "metadata": {},
     "output_type": "execute_result"
    }
   ],
   "source": [
    "rbf_model.coef_.max()"
   ]
  },
  {
   "cell_type": "code",
   "execution_count": 69,
   "metadata": {},
   "outputs": [
    {
     "data": {
      "text/plain": [
       "0.90825569016492869"
      ]
     },
     "execution_count": 69,
     "metadata": {},
     "output_type": "execute_result"
    }
   ],
   "source": [
    "# 2000 with .0001 penalty\n",
    "score_byparts(X_valid, y_valid)"
   ]
  },
  {
   "cell_type": "code",
   "execution_count": 73,
   "metadata": {},
   "outputs": [
    {
     "data": {
      "text/plain": [
       "0.90807184565844679"
      ]
     },
     "execution_count": 73,
     "metadata": {},
     "output_type": "execute_result"
    }
   ],
   "source": [
    "# 2000 with .00006 penalty\n",
    "score_byparts(X_valid, y_valid)"
   ]
  },
  {
   "cell_type": "code",
   "execution_count": 64,
   "metadata": {},
   "outputs": [
    {
     "data": {
      "text/plain": [
       "0.90861685517286839"
      ]
     },
     "execution_count": 64,
     "metadata": {},
     "output_type": "execute_result"
    }
   ],
   "source": [
    "# 2000 with .00003 penalty\n",
    "score_byparts(X_valid, y_valid)"
   ]
  },
  {
   "cell_type": "code",
   "execution_count": 50,
   "metadata": {},
   "outputs": [
    {
     "data": {
      "text/plain": [
       "0.908206139347987"
      ]
     },
     "execution_count": 50,
     "metadata": {},
     "output_type": "execute_result"
    }
   ],
   "source": [
    "# 1000 with .0001 penalty\n",
    "score_byparts(X_valid, y_valid)"
   ]
  },
  {
   "cell_type": "code",
   "execution_count": 88,
   "metadata": {},
   "outputs": [
    {
     "data": {
      "text/plain": [
       "0.90834044952817206"
      ]
     },
     "execution_count": 88,
     "metadata": {},
     "output_type": "execute_result"
    }
   ],
   "source": [
    "# 1000 with .00003 penalty\n",
    "score_byparts(X_valid, y_valid)"
   ]
  },
  {
   "cell_type": "code",
   "execution_count": 55,
   "metadata": {},
   "outputs": [
    {
     "data": {
      "text/plain": [
       "0.90843561788830329"
      ]
     },
     "execution_count": 55,
     "metadata": {},
     "output_type": "execute_result"
    }
   ],
   "source": [
    "# 1000 with .00001 penalty\n",
    "score_byparts(X_valid, y_valid)"
   ]
  },
  {
   "cell_type": "code",
   "execution_count": 21,
   "metadata": {
    "collapsed": true
   },
   "outputs": [],
   "source": [
    "def score_byparts(X, y):\n",
    "    partitions = 100\n",
    "    rows = X.shape[0]\n",
    "    scores = []\n",
    "    for i in range(partitions):\n",
    "        X_part = X[int(rows*i/partitions):int(rows*(i+1)/partitions),:]\n",
    "        y_part = y[int(rows*i/partitions):int(rows*(i+1)/partitions)]\n",
    "        scores.append(rbf_model.score(rbf_feature.transform(X_part), y_part))\n",
    "        #if i % 10 == 0:\n",
    "        #    print('part:', i)\n",
    "    return np.array(scores).mean()"
   ]
  },
  {
   "cell_type": "code",
   "execution_count": 20,
   "metadata": {
    "collapsed": true
   },
   "outputs": [],
   "source": [
    "def get_prob_byparts(X):\n",
    "    partitions = 100\n",
    "    rows = X.shape[0]\n",
    "    probs = np.array([])\n",
    "    for i in range(partitions):\n",
    "        X_part = X[int(rows*i/partitions):int(rows*(i+1)/partitions),:]\n",
    "        probs = np.concatenate((probs, rbf_model.predict_proba(rbf_feature.transform(X_part))[:,1]))\n",
    "        #if i % 2 == 0:\n",
    "        #    print('part:', i)\n",
    "    return probs"
   ]
  },
  {
   "cell_type": "code",
   "execution_count": 124,
   "metadata": {},
   "outputs": [
    {
     "name": "stdout",
     "output_type": "stream",
     "text": [
      "part: 0\n",
      "part: 10\n",
      "part: 20\n",
      "part: 30\n",
      "part: 40\n",
      "part: 50\n",
      "part: 60\n",
      "part: 70\n",
      "part: 80\n",
      "part: 90\n"
     ]
    },
    {
     "data": {
      "text/plain": [
       "0.90759203454263015"
      ]
     },
     "execution_count": 124,
     "metadata": {},
     "output_type": "execute_result"
    }
   ],
   "source": [
    "# with no penalty\n",
    "score_byparts(X_valid, y_valid)"
   ]
  },
  {
   "cell_type": "code",
   "execution_count": 22,
   "metadata": {},
   "outputs": [
    {
     "data": {
      "text/plain": [
       "0.90761027829577856"
      ]
     },
     "execution_count": 22,
     "metadata": {},
     "output_type": "execute_result"
    }
   ],
   "source": [
    "# with .0001 penalty\n",
    "score_byparts(X_valid, y_valid)"
   ]
  },
  {
   "cell_type": "code",
   "execution_count": 37,
   "metadata": {},
   "outputs": [
    {
     "data": {
      "text/plain": [
       "0.90791278557078803"
      ]
     },
     "execution_count": 37,
     "metadata": {},
     "output_type": "execute_result"
    }
   ],
   "source": [
    "# with .00003 penalty\n",
    "score_byparts(X_valid, y_valid)"
   ]
  },
  {
   "cell_type": "code",
   "execution_count": 27,
   "metadata": {},
   "outputs": [
    {
     "data": {
      "text/plain": [
       "0.90794275060212104"
      ]
     },
     "execution_count": 27,
     "metadata": {},
     "output_type": "execute_result"
    }
   ],
   "source": [
    "# with .00001 penalty\n",
    "score_byparts(X_valid, y_valid)"
   ]
  },
  {
   "cell_type": "code",
   "execution_count": 31,
   "metadata": {},
   "outputs": [
    {
     "data": {
      "text/plain": [
       "0.87218329997519595"
      ]
     },
     "execution_count": 31,
     "metadata": {},
     "output_type": "execute_result"
    }
   ],
   "source": [
    "# with .000001 penalty\n",
    "score_byparts(X_valid, y_valid)"
   ]
  },
  {
   "cell_type": "code",
   "execution_count": null,
   "metadata": {},
   "outputs": [
    {
     "name": "stdout",
     "output_type": "stream",
     "text": [
      "part: 0\n",
      "part: 2\n",
      "part: 4\n",
      "part: 6\n",
      "part: 8\n",
      "part: 10\n",
      "part: 12\n",
      "part: 14\n",
      "part: 16\n",
      "part: 18\n",
      "part: 20\n",
      "part: 22\n",
      "part: 24\n",
      "part: 26\n",
      "part: 28\n",
      "part: 30\n",
      "part: 32\n",
      "part: 34\n",
      "part: 36\n",
      "part: 38\n",
      "part: 40\n",
      "part: 42\n",
      "part: 44\n",
      "part: 46\n",
      "part: 48\n",
      "part: 50\n",
      "part: 52\n",
      "part: 54\n",
      "part: 56\n",
      "part: 58\n",
      "part: 60\n",
      "part: 62\n",
      "part: 64\n",
      "part: 66\n",
      "part: 68\n",
      "part: 70\n",
      "part: 72\n",
      "part: 74\n",
      "part: 76\n",
      "part: 78\n",
      "part: 80\n",
      "part: 82\n",
      "part: 84\n",
      "part: 86\n",
      "part: 88\n",
      "part: 90\n",
      "part: 92\n",
      "part: 94\n",
      "part: 96\n",
      "part: 98\n",
      "part: 0\n",
      "part: 2\n",
      "part: 4\n",
      "part: 6\n",
      "part: 8\n",
      "part: 10\n",
      "part: 12\n",
      "part: 14\n",
      "part: 16\n",
      "part: 18\n",
      "part: 20\n",
      "part: 22\n",
      "part: 24\n",
      "part: 26\n",
      "part: 28\n",
      "part: 30\n",
      "part: 32\n",
      "part: 34\n",
      "part: 36\n",
      "part: 38\n",
      "part: 40\n",
      "part: 42\n",
      "part: 44\n",
      "part: 46\n",
      "part: 48\n",
      "part: 50\n",
      "part: 52\n",
      "part: 54\n",
      "part: 56\n",
      "part: 58\n",
      "part: 60\n",
      "part: 62\n",
      "part: 64\n",
      "part: 66\n",
      "part: 68\n",
      "part: 70\n",
      "part: 72\n",
      "part: 74\n",
      "part: 76\n",
      "part: 78\n",
      "part: 80\n",
      "part: 82\n",
      "part: 84\n",
      "part: 86\n",
      "part: 88\n",
      "part: 90\n",
      "part: 92\n",
      "part: 94\n",
      "part: 96\n",
      "part: 98\n",
      "part: 0\n",
      "part: 2\n",
      "part: 4\n",
      "part: 6\n",
      "part: 8\n",
      "part: 10\n",
      "part: 12\n",
      "part: 14\n",
      "part: 16\n",
      "part: 18\n",
      "part: 20\n",
      "part: 22\n",
      "part: 24\n",
      "part: 26\n",
      "part: 28\n",
      "part: 30\n",
      "part: 32\n",
      "part: 34\n",
      "part: 36\n",
      "part: 38\n",
      "part: 40\n",
      "part: 42\n",
      "part: 44\n",
      "part: 46\n",
      "part: 48\n",
      "part: 50\n",
      "part: 52\n",
      "part: 54\n",
      "part: 56\n",
      "part: 58\n",
      "part: 60\n",
      "part: 62\n",
      "part: 64\n",
      "part: 66\n",
      "part: 68\n",
      "part: 70\n",
      "part: 72\n",
      "part: 74\n",
      "part: 76\n",
      "part: 78\n",
      "part: 80\n",
      "part: 82\n",
      "part: 84\n",
      "part: 86\n",
      "part: 88\n",
      "part: 90\n",
      "part: 92\n",
      "part: 94\n",
      "part: 96\n",
      "part: 98\n"
     ]
    }
   ],
   "source": [
    "prior_all_stats.loc[prior_all_stats.eval_set == \"test\", 'prediction'] = get_prob_byparts(X_test)\n",
    "prior_all_stats.loc[(prior_all_stats.eval_set == \"train\") & (prior_all_stats.validation_set != 10), 'prediction'] = get_prob_byparts(X_train)\n",
    "prior_all_stats.loc[prior_all_stats.validation_set == 10, 'prediction'] = get_prob_byparts(X_valid)\n",
    "\n",
    "raw_output = prior_all_stats.loc[:,['prediction', 'eval_set', 'validation_set', 'order_id', 'product_id', 'user_id', 'user_distinct_products', 'reordered']]\n",
    "raw_output.to_csv(\"rawpredictions/kernelmodel_1.csv\", index=False)\n"
   ]
  },
  {
   "cell_type": "code",
   "execution_count": 70,
   "metadata": {},
   "outputs": [
    {
     "name": "stderr",
     "output_type": "stream",
     "text": [
      "/Users/alex/anaconda/envs/py3/lib/python3.6/site-packages/sklearn/utils/validation.py:395: DeprecationWarning: Passing 1d arrays as data is deprecated in 0.17 and will raise ValueError in 0.19. Reshape your data either using X.reshape(-1, 1) if your data has a single feature or X.reshape(1, -1) if it contains a single sample.\n",
      "  DeprecationWarning)\n"
     ]
    },
    {
     "data": {
      "text/plain": [
       "<matplotlib.axes._subplots.AxesSubplot at 0x11af53ba8>"
      ]
     },
     "execution_count": 70,
     "metadata": {},
     "output_type": "execute_result"
    },
    {
     "data": {
      "image/png": "[encoded data removed]",
      "text/plain": [
       "<matplotlib.figure.Figure at 0x125c61748>"
      ]
     },
     "metadata": {},
     "output_type": "display_data"
    }
   ],
   "source": [
    "pd.Series(rbf_feature.transform(X_train[88488,:])[0]).plot.hist(bins=100)"
   ]
  },
  {
   "cell_type": "code",
   "execution_count": 104,
   "metadata": {},
   "outputs": [
    {
     "data": {
      "text/plain": [
       "-0.014189994441569926"
      ]
     },
     "execution_count": 104,
     "metadata": {},
     "output_type": "execute_result"
    }
   ],
   "source": [
    "rbf_model.coef_.mean()"
   ]
  },
  {
   "cell_type": "code",
   "execution_count": 55,
   "metadata": {
    "collapsed": true
   },
   "outputs": [],
   "source": [
    "%matplotlib inline"
   ]
  },
  {
   "cell_type": "code",
   "execution_count": null,
   "metadata": {
    "collapsed": true
   },
   "outputs": [],
   "source": []
  }
 ],
 "metadata": {
  "kernelspec": {
   "display_name": "Python 3",
   "language": "python",
   "name": "python3"
  },
  "language_info": {
   "codemirror_mode": {
    "name": "ipython",
    "version": 3
   },
   "file_extension": ".py",
   "mimetype": "text/x-python",
   "name": "python",
   "nbconvert_exporter": "python",
   "pygments_lexer": "ipython3",
   "version": "3.6.1"
  }
 },
 "nbformat": 4,
 "nbformat_minor": 2
}
