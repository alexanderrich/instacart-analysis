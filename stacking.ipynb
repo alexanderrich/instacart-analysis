{
 "cells": [
  {
   "cell_type": "code",
   "execution_count": 1,
   "metadata": {
    "collapsed": true
   },
   "outputs": [],
   "source": [
    "import numpy as np\n",
    "import pandas as pd"
   ]
  },
  {
   "cell_type": "code",
   "execution_count": 2,
   "metadata": {
    "collapsed": true
   },
   "outputs": [],
   "source": [
    "model_names = [\n",
    "    'rawpredictions/glove_0.csv',\n",
    "    'rawpredictions/glove_1.csv',\n",
    "    'rawpredictions/glove_2.csv',\n",
    "    'rawpredictions/glove_3.csv',\n",
    "    'rawpredictions/glove_4.csv',\n",
    "    'rawpredictions/glove_5.csv',\n",
    "    'rawpredictions/glove_6.csv',\n",
    "    'rawpredictions/glove_7.csv',\n",
    "    'rawpredictions/glove_8.csv',\n",
    "    'rawpredictions/glove_9.csv',\n",
    "]\n",
    "nmodels = len(model_names)"
   ]
  },
  {
   "cell_type": "code",
   "execution_count": 3,
   "metadata": {},
   "outputs": [
    {
     "name": "stdout",
     "output_type": "stream",
     "text": [
      "loaded 0\n",
      "loaded 1\n",
      "loaded 2\n",
      "loaded 3\n",
      "loaded 4\n",
      "loaded 5\n",
      "loaded 6\n",
      "loaded 7\n",
      "loaded 8\n",
      "loaded 9\n"
     ]
    }
   ],
   "source": [
    "for i in range(nmodels):\n",
    "    if i == 0:\n",
    "        df = pd.read_csv(model_names[i])\n",
    "        df['prediction_0'] = np.log(df.prediction / (1 - df.prediction))\n",
    "        df.drop('prediction', axis=1, inplace=True)\n",
    "    else:\n",
    "        df_temp = pd.read_csv(model_names[i])\n",
    "        df_temp.prediction = np.log(df_temp.prediction / (1 - df_temp.prediction))\n",
    "        df['prediction_' + str(i)] = df_temp.prediction\n",
    "    print('loaded', i)"
   ]
  },
  {
   "cell_type": "code",
   "execution_count": 19,
   "metadata": {
    "collapsed": true
   },
   "outputs": [],
   "source": [
    "df['prediction'] = df.loc[:, 'prediction_0':'prediction_9'].mean(axis=1)"
   ]
  },
  {
   "cell_type": "code",
   "execution_count": 20,
   "metadata": {},
   "outputs": [
    {
     "data": {
      "text/plain": [
       "0.83814171500047585"
      ]
     },
     "execution_count": 20,
     "metadata": {},
     "output_type": "execute_result"
    }
   ],
   "source": [
    "from sklearn.metrics import roc_auc_score\n",
    "roc_auc_score(df.query('validation_set == 10').reordered, df.query('validation_set == 10').prediction)"
   ]
  },
  {
   "cell_type": "code",
   "execution_count": 27,
   "metadata": {
    "collapsed": true
   },
   "outputs": [],
   "source": [
    "from sklearn.linear_model import LogisticRegressionCV\n",
    "from sklearn.preprocessing import StandardScaler\n",
    "\n",
    "X_train = df.loc[df.validation_set == 10, 'prediction_0':('prediction_' + str(nmodels-1))].as_matrix()\n",
    "y_train = df.loc[df.validation_set == 10, 'reordered'].as_matrix()\n",
    "X_oldtrain = df.loc[(df.validation_set > -1) & (df.validation_set < 10), 'prediction_0':('prediction_' + str(nmodels-1))].as_matrix()\n",
    "y_oldtrain = df.loc[(df.validation_set > -1) & (df.validation_set < 10), 'reordered'].as_matrix()\n",
    "X_test = df.loc[df.validation_set == -1, 'prediction_0':('prediction_' + str(nmodels-1))].as_matrix()\n",
    "scaler = StandardScaler()\n",
    "X_train = scaler.fit_transform(X_train)\n",
    "X_oldtrain = scaler.transform(X_oldtrain)\n",
    "X_test = scaler.transform(X_test)"
   ]
  },
  {
   "cell_type": "code",
   "execution_count": 21,
   "metadata": {
    "collapsed": true
   },
   "outputs": [],
   "source": [
    "from sklearn.linear_model import LogisticRegressionCV\n",
    "from sklearn.preprocessing import StandardScaler\n",
    "\n",
    "X_train = df.loc[df.validation_set == 10, ['prediction_mean_1', 'prediction_mean_2']].as_matrix()\n",
    "y_train = df.loc[df.validation_set == 10, 'reordered'].as_matrix()\n",
    "X_oldtrain = df.loc[(df.validation_set > -1) & (df.validation_set < 10), ['prediction_mean_1', 'prediction_mean_2']].as_matrix()\n",
    "y_oldtrain = df.loc[(df.validation_set > -1) & (df.validation_set < 10), 'reordered'].as_matrix()\n",
    "X_test = df.loc[df.validation_set == -1, ['prediction_mean_1', 'prediction_mean_2']].as_matrix()\n",
    "scaler = StandardScaler()\n",
    "X_train = scaler.fit_transform(X_train)\n",
    "X_oldtrain = scaler.transform(X_oldtrain)\n",
    "X_test = scaler.transform(X_test)"
   ]
  },
  {
   "cell_type": "code",
   "execution_count": 169,
   "metadata": {
    "collapsed": true
   },
   "outputs": [],
   "source": [
    "from sklearn.preprocessing import PolynomialFeatures\n",
    "poly = PolynomialFeatures(include_bias=False)\n"
   ]
  },
  {
   "cell_type": "code",
   "execution_count": 170,
   "metadata": {
    "collapsed": true
   },
   "outputs": [],
   "source": [
    "X_train = poly.fit_transform(X_train)\n",
    "X_oldtrain = poly.transform(X_oldtrain)\n",
    "X_test = poly.transform(X_test)"
   ]
  },
  {
   "cell_type": "code",
   "execution_count": 171,
   "metadata": {
    "collapsed": true
   },
   "outputs": [],
   "source": [
    "X_train = np.array([X_train[:,:nmodels].mean(axis=1), X_train[:,nmodels:].mean(axis=1)]).transpose()\n",
    "X_oldtrain = np.array([X_oldtrain[:,:nmodels].mean(axis=1), X_oldtrain[:,nmodels:].mean(axis=1)]).transpose()\n",
    "X_test = np.array([X_test[:,:nmodels].mean(axis=1), X_test[:,nmodels:].mean(axis=1)]).transpose()"
   ]
  },
  {
   "cell_type": "code",
   "execution_count": 28,
   "metadata": {
    "scrolled": true
   },
   "outputs": [
    {
     "data": {
      "text/plain": [
       "LogisticRegressionCV(Cs=[1, 0.1, 0.001, 0.0001], class_weight=None, cv=5,\n",
       "           dual=False, fit_intercept=True, intercept_scaling=1.0,\n",
       "           max_iter=100, multi_class='ovr', n_jobs=1, penalty='l2',\n",
       "           random_state=None, refit=True, scoring=None, solver='lbfgs',\n",
       "           tol=0.0001, verbose=0)"
      ]
     },
     "execution_count": 28,
     "metadata": {},
     "output_type": "execute_result"
    }
   ],
   "source": [
    "model = LogisticRegressionCV(Cs=[1, .1, .001, .0001], cv=5)\n",
    "\n",
    "model.fit(X_train, y_train)"
   ]
  },
  {
   "cell_type": "code",
   "execution_count": 15,
   "metadata": {},
   "outputs": [
    {
     "data": {
      "text/plain": [
       "array([[ 3.61179039,  3.64322731],\n",
       "       [ 1.88120344,  1.86491656],\n",
       "       [ 0.59309404,  0.62722595],\n",
       "       ..., \n",
       "       [-0.7662714 , -1.00087056],\n",
       "       [-1.64066516, -0.29462404],\n",
       "       [-0.75973076,  0.08058768]])"
      ]
     },
     "execution_count": 15,
     "metadata": {},
     "output_type": "execute_result"
    }
   ],
   "source": [
    "X_train"
   ]
  },
  {
   "cell_type": "code",
   "execution_count": 29,
   "metadata": {},
   "outputs": [
    {
     "data": {
      "text/plain": [
       "array([ 0.001])"
      ]
     },
     "execution_count": 29,
     "metadata": {},
     "output_type": "execute_result"
    }
   ],
   "source": [
    "model.C_"
   ]
  },
  {
   "cell_type": "code",
   "execution_count": 30,
   "metadata": {},
   "outputs": [
    {
     "data": {
      "text/plain": [
       "array([[ 0.13686583,  0.15958202,  0.14730216,  0.11807444,  0.126903  ,\n",
       "         0.12821553,  0.13912959,  0.14703284,  0.17956682,  0.15539243,\n",
       "         0.00343299, -0.00793968,  0.01048113, -0.01995246, -0.01748667,\n",
       "        -0.00111287,  0.02039834,  0.01599443, -0.00168831, -0.00870126]])"
      ]
     },
     "execution_count": 30,
     "metadata": {},
     "output_type": "execute_result"
    }
   ],
   "source": [
    "model.coef_"
   ]
  },
  {
   "cell_type": "code",
   "execution_count": 31,
   "metadata": {},
   "outputs": [
    {
     "data": {
      "text/plain": [
       "array([-2.96522015])"
      ]
     },
     "execution_count": 31,
     "metadata": {},
     "output_type": "execute_result"
    }
   ],
   "source": [
    "model.intercept_"
   ]
  },
  {
   "cell_type": "code",
   "execution_count": 32,
   "metadata": {},
   "outputs": [
    {
     "data": {
      "text/plain": [
       "0.91099879207137691"
      ]
     },
     "execution_count": 32,
     "metadata": {},
     "output_type": "execute_result"
    }
   ],
   "source": [
    "model.scores_[1.0].mean(0).max()"
   ]
  },
  {
   "cell_type": "code",
   "execution_count": 34,
   "metadata": {},
   "outputs": [
    {
     "data": {
      "text/plain": [
       "0.88001155469461756"
      ]
     },
     "execution_count": 34,
     "metadata": {},
     "output_type": "execute_result"
    }
   ],
   "source": [
    "((df.query('validation_set==10').prediction_mean_1 > 0).astype(int) == df.query('validation_set==10').reordered).mean()"
   ]
  },
  {
   "cell_type": "code",
   "execution_count": null,
   "metadata": {
    "collapsed": true
   },
   "outputs": [],
   "source": []
  },
  {
   "cell_type": "code",
   "execution_count": 41,
   "metadata": {},
   "outputs": [
    {
     "data": {
      "text/html": [
       "<div>\n",
       "<style>\n",
       "    .dataframe thead tr:only-child th {\n",
       "        text-align: right;\n",
       "    }\n",
       "\n",
       "    .dataframe thead th {\n",
       "        text-align: left;\n",
       "    }\n",
       "\n",
       "    .dataframe tbody tr th {\n",
       "        vertical-align: top;\n",
       "    }\n",
       "</style>\n",
       "<table border=\"1\" class=\"dataframe\">\n",
       "  <thead>\n",
       "    <tr style=\"text-align: right;\">\n",
       "      <th></th>\n",
       "      <th>eval_set</th>\n",
       "      <th>validation_set</th>\n",
       "      <th>order_id</th>\n",
       "      <th>product_id</th>\n",
       "      <th>user_id</th>\n",
       "      <th>user_distinct_products</th>\n",
       "      <th>reordered</th>\n",
       "      <th>prediction_0</th>\n",
       "      <th>prediction_1</th>\n",
       "      <th>prediction_2</th>\n",
       "      <th>...</th>\n",
       "      <th>prediction_13</th>\n",
       "      <th>prediction_14</th>\n",
       "      <th>prediction_15</th>\n",
       "      <th>prediction_16</th>\n",
       "      <th>prediction_17</th>\n",
       "      <th>prediction_18</th>\n",
       "      <th>prediction_19</th>\n",
       "      <th>user_mean_proportion_products</th>\n",
       "      <th>prediction_mean_1</th>\n",
       "      <th>prediction_mean_2</th>\n",
       "    </tr>\n",
       "  </thead>\n",
       "  <tbody>\n",
       "    <tr>\n",
       "      <th>0</th>\n",
       "      <td>train</td>\n",
       "      <td>10.0</td>\n",
       "      <td>1187899</td>\n",
       "      <td>196</td>\n",
       "      <td>1</td>\n",
       "      <td>18</td>\n",
       "      <td>1.0</td>\n",
       "      <td>2.126524</td>\n",
       "      <td>2.309080</td>\n",
       "      <td>2.310206</td>\n",
       "      <td>...</td>\n",
       "      <td>2.156211</td>\n",
       "      <td>2.169453</td>\n",
       "      <td>2.092936</td>\n",
       "      <td>2.251295</td>\n",
       "      <td>2.179759</td>\n",
       "      <td>2.147182</td>\n",
       "      <td>2.605162</td>\n",
       "      <td>0.327778</td>\n",
       "      <td>2.210116</td>\n",
       "      <td>2.245948</td>\n",
       "    </tr>\n",
       "    <tr>\n",
       "      <th>1</th>\n",
       "      <td>test</td>\n",
       "      <td>-1.0</td>\n",
       "      <td>363822</td>\n",
       "      <td>196</td>\n",
       "      <td>8942</td>\n",
       "      <td>38</td>\n",
       "      <td>0.0</td>\n",
       "      <td>-0.986852</td>\n",
       "      <td>-1.124786</td>\n",
       "      <td>-1.128720</td>\n",
       "      <td>...</td>\n",
       "      <td>-1.220835</td>\n",
       "      <td>-0.908814</td>\n",
       "      <td>-1.182434</td>\n",
       "      <td>-1.210910</td>\n",
       "      <td>-1.143323</td>\n",
       "      <td>-1.347630</td>\n",
       "      <td>-1.266388</td>\n",
       "      <td>0.368421</td>\n",
       "      <td>-1.088746</td>\n",
       "      <td>-1.179716</td>\n",
       "    </tr>\n",
       "    <tr>\n",
       "      <th>2</th>\n",
       "      <td>train</td>\n",
       "      <td>3.0</td>\n",
       "      <td>1071098</td>\n",
       "      <td>196</td>\n",
       "      <td>11192</td>\n",
       "      <td>37</td>\n",
       "      <td>0.0</td>\n",
       "      <td>-2.124843</td>\n",
       "      <td>-2.137244</td>\n",
       "      <td>-1.759599</td>\n",
       "      <td>...</td>\n",
       "      <td>-2.395121</td>\n",
       "      <td>-2.205188</td>\n",
       "      <td>-2.424759</td>\n",
       "      <td>-2.058052</td>\n",
       "      <td>-2.445142</td>\n",
       "      <td>-2.292393</td>\n",
       "      <td>-2.425807</td>\n",
       "      <td>0.247104</td>\n",
       "      <td>-2.185613</td>\n",
       "      <td>-2.386210</td>\n",
       "    </tr>\n",
       "    <tr>\n",
       "      <th>3</th>\n",
       "      <td>train</td>\n",
       "      <td>8.0</td>\n",
       "      <td>1339982</td>\n",
       "      <td>196</td>\n",
       "      <td>12100</td>\n",
       "      <td>4</td>\n",
       "      <td>1.0</td>\n",
       "      <td>0.581615</td>\n",
       "      <td>0.859751</td>\n",
       "      <td>0.463173</td>\n",
       "      <td>...</td>\n",
       "      <td>0.790328</td>\n",
       "      <td>0.521644</td>\n",
       "      <td>0.578848</td>\n",
       "      <td>0.785813</td>\n",
       "      <td>0.602138</td>\n",
       "      <td>0.770129</td>\n",
       "      <td>0.211298</td>\n",
       "      <td>0.678571</td>\n",
       "      <td>0.600398</td>\n",
       "      <td>0.598871</td>\n",
       "    </tr>\n",
       "    <tr>\n",
       "      <th>4</th>\n",
       "      <td>test</td>\n",
       "      <td>-1.0</td>\n",
       "      <td>391840</td>\n",
       "      <td>196</td>\n",
       "      <td>24280</td>\n",
       "      <td>14</td>\n",
       "      <td>0.0</td>\n",
       "      <td>-3.326132</td>\n",
       "      <td>-3.232276</td>\n",
       "      <td>-3.318604</td>\n",
       "      <td>...</td>\n",
       "      <td>-3.546408</td>\n",
       "      <td>-3.401035</td>\n",
       "      <td>-3.542811</td>\n",
       "      <td>-3.161018</td>\n",
       "      <td>-3.662535</td>\n",
       "      <td>-3.210860</td>\n",
       "      <td>-3.288684</td>\n",
       "      <td>0.107143</td>\n",
       "      <td>-3.349844</td>\n",
       "      <td>-3.372631</td>\n",
       "    </tr>\n",
       "    <tr>\n",
       "      <th>5</th>\n",
       "      <td>train</td>\n",
       "      <td>4.0</td>\n",
       "      <td>1288958</td>\n",
       "      <td>196</td>\n",
       "      <td>25303</td>\n",
       "      <td>141</td>\n",
       "      <td>0.0</td>\n",
       "      <td>-0.729874</td>\n",
       "      <td>-0.891646</td>\n",
       "      <td>-0.902179</td>\n",
       "      <td>...</td>\n",
       "      <td>-1.049538</td>\n",
       "      <td>-0.790003</td>\n",
       "      <td>-0.905433</td>\n",
       "      <td>-0.856741</td>\n",
       "      <td>-0.522171</td>\n",
       "      <td>-1.068237</td>\n",
       "      <td>-1.080593</td>\n",
       "      <td>0.216706</td>\n",
       "      <td>-0.933019</td>\n",
       "      <td>-0.854929</td>\n",
       "    </tr>\n",
       "    <tr>\n",
       "      <th>6</th>\n",
       "      <td>train</td>\n",
       "      <td>8.0</td>\n",
       "      <td>2644818</td>\n",
       "      <td>196</td>\n",
       "      <td>26923</td>\n",
       "      <td>21</td>\n",
       "      <td>0.0</td>\n",
       "      <td>-2.617576</td>\n",
       "      <td>-2.524278</td>\n",
       "      <td>-2.629315</td>\n",
       "      <td>...</td>\n",
       "      <td>-2.518082</td>\n",
       "      <td>-2.519861</td>\n",
       "      <td>-2.586874</td>\n",
       "      <td>-2.378808</td>\n",
       "      <td>-2.499528</td>\n",
       "      <td>-2.315845</td>\n",
       "      <td>-2.370624</td>\n",
       "      <td>0.168831</td>\n",
       "      <td>-2.613038</td>\n",
       "      <td>-2.495566</td>\n",
       "    </tr>\n",
       "    <tr>\n",
       "      <th>7</th>\n",
       "      <td>train</td>\n",
       "      <td>1.0</td>\n",
       "      <td>431927</td>\n",
       "      <td>196</td>\n",
       "      <td>33574</td>\n",
       "      <td>16</td>\n",
       "      <td>1.0</td>\n",
       "      <td>1.300373</td>\n",
       "      <td>1.654618</td>\n",
       "      <td>1.519326</td>\n",
       "      <td>...</td>\n",
       "      <td>1.606295</td>\n",
       "      <td>1.378853</td>\n",
       "      <td>1.499313</td>\n",
       "      <td>1.350047</td>\n",
       "      <td>1.393831</td>\n",
       "      <td>1.518397</td>\n",
       "      <td>1.814141</td>\n",
       "      <td>0.218750</td>\n",
       "      <td>1.500460</td>\n",
       "      <td>1.525914</td>\n",
       "    </tr>\n",
       "    <tr>\n",
       "      <th>8</th>\n",
       "      <td>test</td>\n",
       "      <td>-1.0</td>\n",
       "      <td>3254668</td>\n",
       "      <td>196</td>\n",
       "      <td>34207</td>\n",
       "      <td>4</td>\n",
       "      <td>0.0</td>\n",
       "      <td>-0.462210</td>\n",
       "      <td>-0.244321</td>\n",
       "      <td>-0.136170</td>\n",
       "      <td>...</td>\n",
       "      <td>-0.518416</td>\n",
       "      <td>-0.080682</td>\n",
       "      <td>-0.168282</td>\n",
       "      <td>0.033417</td>\n",
       "      <td>0.036424</td>\n",
       "      <td>0.026860</td>\n",
       "      <td>-0.199117</td>\n",
       "      <td>0.416667</td>\n",
       "      <td>-0.235748</td>\n",
       "      <td>-0.090234</td>\n",
       "    </tr>\n",
       "    <tr>\n",
       "      <th>9</th>\n",
       "      <td>test</td>\n",
       "      <td>-1.0</td>\n",
       "      <td>3144266</td>\n",
       "      <td>196</td>\n",
       "      <td>42970</td>\n",
       "      <td>12</td>\n",
       "      <td>0.0</td>\n",
       "      <td>-0.535354</td>\n",
       "      <td>-0.684939</td>\n",
       "      <td>-0.900526</td>\n",
       "      <td>...</td>\n",
       "      <td>-0.940067</td>\n",
       "      <td>-1.010225</td>\n",
       "      <td>-0.842308</td>\n",
       "      <td>-1.053341</td>\n",
       "      <td>-0.969800</td>\n",
       "      <td>-1.168491</td>\n",
       "      <td>-0.963841</td>\n",
       "      <td>0.444444</td>\n",
       "      <td>-0.752590</td>\n",
       "      <td>-1.015114</td>\n",
       "    </tr>\n",
       "  </tbody>\n",
       "</table>\n",
       "<p>10 rows × 30 columns</p>\n",
       "</div>"
      ],
      "text/plain": [
       "  eval_set  validation_set  order_id  product_id  user_id  \\\n",
       "0    train            10.0   1187899         196        1   \n",
       "1     test            -1.0    363822         196     8942   \n",
       "2    train             3.0   1071098         196    11192   \n",
       "3    train             8.0   1339982         196    12100   \n",
       "4     test            -1.0    391840         196    24280   \n",
       "5    train             4.0   1288958         196    25303   \n",
       "6    train             8.0   2644818         196    26923   \n",
       "7    train             1.0    431927         196    33574   \n",
       "8     test            -1.0   3254668         196    34207   \n",
       "9     test            -1.0   3144266         196    42970   \n",
       "\n",
       "   user_distinct_products  reordered  prediction_0  prediction_1  \\\n",
       "0                      18        1.0      2.126524      2.309080   \n",
       "1                      38        0.0     -0.986852     -1.124786   \n",
       "2                      37        0.0     -2.124843     -2.137244   \n",
       "3                       4        1.0      0.581615      0.859751   \n",
       "4                      14        0.0     -3.326132     -3.232276   \n",
       "5                     141        0.0     -0.729874     -0.891646   \n",
       "6                      21        0.0     -2.617576     -2.524278   \n",
       "7                      16        1.0      1.300373      1.654618   \n",
       "8                       4        0.0     -0.462210     -0.244321   \n",
       "9                      12        0.0     -0.535354     -0.684939   \n",
       "\n",
       "   prediction_2        ...          prediction_13  prediction_14  \\\n",
       "0      2.310206        ...               2.156211       2.169453   \n",
       "1     -1.128720        ...              -1.220835      -0.908814   \n",
       "2     -1.759599        ...              -2.395121      -2.205188   \n",
       "3      0.463173        ...               0.790328       0.521644   \n",
       "4     -3.318604        ...              -3.546408      -3.401035   \n",
       "5     -0.902179        ...              -1.049538      -0.790003   \n",
       "6     -2.629315        ...              -2.518082      -2.519861   \n",
       "7      1.519326        ...               1.606295       1.378853   \n",
       "8     -0.136170        ...              -0.518416      -0.080682   \n",
       "9     -0.900526        ...              -0.940067      -1.010225   \n",
       "\n",
       "   prediction_15  prediction_16  prediction_17  prediction_18  prediction_19  \\\n",
       "0       2.092936       2.251295       2.179759       2.147182       2.605162   \n",
       "1      -1.182434      -1.210910      -1.143323      -1.347630      -1.266388   \n",
       "2      -2.424759      -2.058052      -2.445142      -2.292393      -2.425807   \n",
       "3       0.578848       0.785813       0.602138       0.770129       0.211298   \n",
       "4      -3.542811      -3.161018      -3.662535      -3.210860      -3.288684   \n",
       "5      -0.905433      -0.856741      -0.522171      -1.068237      -1.080593   \n",
       "6      -2.586874      -2.378808      -2.499528      -2.315845      -2.370624   \n",
       "7       1.499313       1.350047       1.393831       1.518397       1.814141   \n",
       "8      -0.168282       0.033417       0.036424       0.026860      -0.199117   \n",
       "9      -0.842308      -1.053341      -0.969800      -1.168491      -0.963841   \n",
       "\n",
       "   user_mean_proportion_products  prediction_mean_1  prediction_mean_2  \n",
       "0                       0.327778           2.210116           2.245948  \n",
       "1                       0.368421          -1.088746          -1.179716  \n",
       "2                       0.247104          -2.185613          -2.386210  \n",
       "3                       0.678571           0.600398           0.598871  \n",
       "4                       0.107143          -3.349844          -3.372631  \n",
       "5                       0.216706          -0.933019          -0.854929  \n",
       "6                       0.168831          -2.613038          -2.495566  \n",
       "7                       0.218750           1.500460           1.525914  \n",
       "8                       0.416667          -0.235748          -0.090234  \n",
       "9                       0.444444          -0.752590          -1.015114  \n",
       "\n",
       "[10 rows x 30 columns]"
      ]
     },
     "execution_count": 41,
     "metadata": {},
     "output_type": "execute_result"
    }
   ],
   "source": [
    "df.head(10)"
   ]
  },
  {
   "cell_type": "code",
   "execution_count": 15,
   "metadata": {
    "collapsed": true
   },
   "outputs": [],
   "source": [
    "#df['model_prediction'] = 0\n",
    "#df.loc[df.validation_set == 10, 'model_prediction'] = model.decision_function(X_train)\n",
    "#df.loc[(df.validation_set > -1) & (df.validation_set < 10), 'model_prediction'] = model.decision_function(X_oldtrain)\n",
    "#df.loc[df.validation_set == -1, 'model_prediction'] = model.decision_function(X_test)\n"
   ]
  },
  {
   "cell_type": "code",
   "execution_count": 16,
   "metadata": {
    "collapsed": true
   },
   "outputs": [],
   "source": [
    "#df['model_prob'] = 0\n",
    "#df.loc[df.validation_set == 10, 'model_prob'] = model.predict_proba(X_train)[:,1]\n",
    "#df.loc[(df.validation_set > -1) & (df.validation_set < 10), 'model_prob'] = model.predict_proba(X_oldtrain)[:,1]\n",
    "#df.loc[df.validation_set == -1, 'model_prob'] = model.predict_proba(X_test)[:,1]\n"
   ]
  },
  {
   "cell_type": "code",
   "execution_count": 17,
   "metadata": {
    "collapsed": true
   },
   "outputs": [],
   "source": [
    "#df['user_ump_logit'] = np.log((.01 + .98 * df.user_mean_proportion_products) / (1 - (.01 + .98 * df.user_mean_proportion_products)))"
   ]
  },
  {
   "cell_type": "code",
   "execution_count": 18,
   "metadata": {
    "collapsed": true
   },
   "outputs": [],
   "source": [
    "#df['prediction_avg'] = df.loc[:, 'prediction_0':'prediction_9'].mean(axis=1)"
   ]
  },
  {
   "cell_type": "code",
   "execution_count": 21,
   "metadata": {
    "collapsed": true
   },
   "outputs": [],
   "source": [
    "df['prob'] = 1.0 / (1 + np.exp(-df.prediction))"
   ]
  },
  {
   "cell_type": "code",
   "execution_count": null,
   "metadata": {
    "collapsed": true
   },
   "outputs": [],
   "source": []
  },
  {
   "cell_type": "code",
   "execution_count": 22,
   "metadata": {},
   "outputs": [
    {
     "data": {
      "text/html": [
       "<div>\n",
       "<style>\n",
       "    .dataframe thead tr:only-child th {\n",
       "        text-align: right;\n",
       "    }\n",
       "\n",
       "    .dataframe thead th {\n",
       "        text-align: left;\n",
       "    }\n",
       "\n",
       "    .dataframe tbody tr th {\n",
       "        vertical-align: top;\n",
       "    }\n",
       "</style>\n",
       "<table border=\"1\" class=\"dataframe\">\n",
       "  <thead>\n",
       "    <tr style=\"text-align: right;\">\n",
       "      <th></th>\n",
       "      <th>eval_set</th>\n",
       "      <th>validation_set</th>\n",
       "      <th>order_id</th>\n",
       "      <th>product_id</th>\n",
       "      <th>user_id</th>\n",
       "      <th>user_distinct_products</th>\n",
       "      <th>reordered</th>\n",
       "      <th>prediction_0</th>\n",
       "      <th>prediction_1</th>\n",
       "      <th>prediction_2</th>\n",
       "      <th>prediction_3</th>\n",
       "      <th>prediction_4</th>\n",
       "      <th>prediction_5</th>\n",
       "      <th>prediction_6</th>\n",
       "      <th>prediction_7</th>\n",
       "      <th>prediction_8</th>\n",
       "      <th>prediction_9</th>\n",
       "      <th>prediction</th>\n",
       "      <th>prob</th>\n",
       "    </tr>\n",
       "  </thead>\n",
       "  <tbody>\n",
       "    <tr>\n",
       "      <th>0</th>\n",
       "      <td>train</td>\n",
       "      <td>10.0</td>\n",
       "      <td>1187899</td>\n",
       "      <td>196</td>\n",
       "      <td>1</td>\n",
       "      <td>18</td>\n",
       "      <td>1.0</td>\n",
       "      <td>2.126524</td>\n",
       "      <td>2.309080</td>\n",
       "      <td>2.310206</td>\n",
       "      <td>2.260471</td>\n",
       "      <td>2.163989</td>\n",
       "      <td>2.294375</td>\n",
       "      <td>2.104397</td>\n",
       "      <td>2.265535</td>\n",
       "      <td>2.042809</td>\n",
       "      <td>2.223769</td>\n",
       "      <td>2.210116</td>\n",
       "      <td>0.901154</td>\n",
       "    </tr>\n",
       "    <tr>\n",
       "      <th>1</th>\n",
       "      <td>test</td>\n",
       "      <td>-1.0</td>\n",
       "      <td>363822</td>\n",
       "      <td>196</td>\n",
       "      <td>8942</td>\n",
       "      <td>38</td>\n",
       "      <td>0.0</td>\n",
       "      <td>-0.986852</td>\n",
       "      <td>-1.124786</td>\n",
       "      <td>-1.128720</td>\n",
       "      <td>-1.094986</td>\n",
       "      <td>-1.178340</td>\n",
       "      <td>-0.954015</td>\n",
       "      <td>-1.037039</td>\n",
       "      <td>-1.141195</td>\n",
       "      <td>-1.245290</td>\n",
       "      <td>-0.996234</td>\n",
       "      <td>-1.088746</td>\n",
       "      <td>0.251855</td>\n",
       "    </tr>\n",
       "    <tr>\n",
       "      <th>2</th>\n",
       "      <td>train</td>\n",
       "      <td>3.0</td>\n",
       "      <td>1071098</td>\n",
       "      <td>196</td>\n",
       "      <td>11192</td>\n",
       "      <td>37</td>\n",
       "      <td>0.0</td>\n",
       "      <td>-2.124843</td>\n",
       "      <td>-2.137244</td>\n",
       "      <td>-1.759599</td>\n",
       "      <td>-2.054594</td>\n",
       "      <td>-2.436596</td>\n",
       "      <td>-2.329345</td>\n",
       "      <td>-2.357051</td>\n",
       "      <td>-2.352092</td>\n",
       "      <td>-2.232696</td>\n",
       "      <td>-2.072072</td>\n",
       "      <td>-2.185613</td>\n",
       "      <td>0.101050</td>\n",
       "    </tr>\n",
       "    <tr>\n",
       "      <th>3</th>\n",
       "      <td>train</td>\n",
       "      <td>8.0</td>\n",
       "      <td>1339982</td>\n",
       "      <td>196</td>\n",
       "      <td>12100</td>\n",
       "      <td>4</td>\n",
       "      <td>1.0</td>\n",
       "      <td>0.581615</td>\n",
       "      <td>0.859751</td>\n",
       "      <td>0.463173</td>\n",
       "      <td>0.467443</td>\n",
       "      <td>0.696789</td>\n",
       "      <td>0.454466</td>\n",
       "      <td>0.809707</td>\n",
       "      <td>0.330569</td>\n",
       "      <td>0.813737</td>\n",
       "      <td>0.526730</td>\n",
       "      <td>0.600398</td>\n",
       "      <td>0.645747</td>\n",
       "    </tr>\n",
       "    <tr>\n",
       "      <th>4</th>\n",
       "      <td>test</td>\n",
       "      <td>-1.0</td>\n",
       "      <td>391840</td>\n",
       "      <td>196</td>\n",
       "      <td>24280</td>\n",
       "      <td>14</td>\n",
       "      <td>0.0</td>\n",
       "      <td>-3.326132</td>\n",
       "      <td>-3.232276</td>\n",
       "      <td>-3.318604</td>\n",
       "      <td>-2.899490</td>\n",
       "      <td>-3.605042</td>\n",
       "      <td>-3.493843</td>\n",
       "      <td>-4.063761</td>\n",
       "      <td>-3.115214</td>\n",
       "      <td>-3.414773</td>\n",
       "      <td>-3.029308</td>\n",
       "      <td>-3.349844</td>\n",
       "      <td>0.033900</td>\n",
       "    </tr>\n",
       "  </tbody>\n",
       "</table>\n",
       "</div>"
      ],
      "text/plain": [
       "  eval_set  validation_set  order_id  product_id  user_id  \\\n",
       "0    train            10.0   1187899         196        1   \n",
       "1     test            -1.0    363822         196     8942   \n",
       "2    train             3.0   1071098         196    11192   \n",
       "3    train             8.0   1339982         196    12100   \n",
       "4     test            -1.0    391840         196    24280   \n",
       "\n",
       "   user_distinct_products  reordered  prediction_0  prediction_1  \\\n",
       "0                      18        1.0      2.126524      2.309080   \n",
       "1                      38        0.0     -0.986852     -1.124786   \n",
       "2                      37        0.0     -2.124843     -2.137244   \n",
       "3                       4        1.0      0.581615      0.859751   \n",
       "4                      14        0.0     -3.326132     -3.232276   \n",
       "\n",
       "   prediction_2  prediction_3  prediction_4  prediction_5  prediction_6  \\\n",
       "0      2.310206      2.260471      2.163989      2.294375      2.104397   \n",
       "1     -1.128720     -1.094986     -1.178340     -0.954015     -1.037039   \n",
       "2     -1.759599     -2.054594     -2.436596     -2.329345     -2.357051   \n",
       "3      0.463173      0.467443      0.696789      0.454466      0.809707   \n",
       "4     -3.318604     -2.899490     -3.605042     -3.493843     -4.063761   \n",
       "\n",
       "   prediction_7  prediction_8  prediction_9  prediction      prob  \n",
       "0      2.265535      2.042809      2.223769    2.210116  0.901154  \n",
       "1     -1.141195     -1.245290     -0.996234   -1.088746  0.251855  \n",
       "2     -2.352092     -2.232696     -2.072072   -2.185613  0.101050  \n",
       "3      0.330569      0.813737      0.526730    0.600398  0.645747  \n",
       "4     -3.115214     -3.414773     -3.029308   -3.349844  0.033900  "
      ]
     },
     "execution_count": 22,
     "metadata": {},
     "output_type": "execute_result"
    }
   ],
   "source": [
    "df.head()"
   ]
  },
  {
   "cell_type": "code",
   "execution_count": 20,
   "metadata": {
    "collapsed": true
   },
   "outputs": [],
   "source": [
    "df['p_not'] = 1 - df.model_prob"
   ]
  },
  {
   "cell_type": "code",
   "execution_count": 59,
   "metadata": {
    "collapsed": true
   },
   "outputs": [],
   "source": [
    "none_df = pd.read_csv('rawpredictions/nones.csv')\n",
    "none_df['none_prob'] = none_df.prediction"
   ]
  },
  {
   "cell_type": "code",
   "execution_count": 22,
   "metadata": {
    "collapsed": true
   },
   "outputs": [],
   "source": [
    "df = df.merge(none_df[['user_id', 'none_prob']], on='user_id')"
   ]
  },
  {
   "cell_type": "code",
   "execution_count": 61,
   "metadata": {
    "collapsed": true
   },
   "outputs": [],
   "source": [
    "probs = df.query('user_id == 10')['model_prob'].values"
   ]
  },
  {
   "cell_type": "code",
   "execution_count": 69,
   "metadata": {
    "collapsed": true
   },
   "outputs": [],
   "source": [
    "noneprob = df.query('user_id == 10')['none_prob'].values[0]"
   ]
  },
  {
   "cell_type": "code",
   "execution_count": 138,
   "metadata": {},
   "outputs": [
    {
     "data": {
      "text/plain": [
       "0.065092411300815778"
      ]
     },
     "execution_count": 138,
     "metadata": {},
     "output_type": "execute_result"
    }
   ],
   "source": [
    "none_df.none_prob.mean()"
   ]
  },
  {
   "cell_type": "code",
   "execution_count": 139,
   "metadata": {},
   "outputs": [
    {
     "data": {
      "text/plain": [
       "0.041714959094898862"
      ]
     },
     "execution_count": 139,
     "metadata": {},
     "output_type": "execute_result"
    }
   ],
   "source": []
  },
  {
   "cell_type": "code",
   "execution_count": 71,
   "metadata": {
    "collapsed": true
   },
   "outputs": [],
   "source": [
    "base_pnot = np.prod(1-probs)"
   ]
  },
  {
   "cell_type": "code",
   "execution_count": 76,
   "metadata": {
    "collapsed": true
   },
   "outputs": [],
   "source": [
    "extra_none = 0\n",
    "newprobs = probs.copy()\n",
    "while extra_none + (1-extra_none) * np.prod(1-newprobs) < noneprob:\n",
    "    extra_none = extra_none + .0001\n",
    "    newprobs = np.minimum(probs / (1 - extra_none), 1)"
   ]
  },
  {
   "cell_type": "code",
   "execution_count": 77,
   "metadata": {},
   "outputs": [
    {
     "data": {
      "text/plain": [
       "0.024599999999999907"
      ]
     },
     "execution_count": 77,
     "metadata": {},
     "output_type": "execute_result"
    }
   ],
   "source": [
    "extra_none"
   ]
  },
  {
   "cell_type": "code",
   "execution_count": 82,
   "metadata": {
    "collapsed": true
   },
   "outputs": [],
   "source": [
    "probs = newprobs"
   ]
  },
  {
   "cell_type": "code",
   "execution_count": 95,
   "metadata": {
    "collapsed": true
   },
   "outputs": [],
   "source": [
    "nsamples = 100000\n",
    "samples = (np.random.rand(nsamples, probs.shape[0]) < probs * np.ones((nsamples, probs.shape[0]))).astype(int)"
   ]
  },
  {
   "cell_type": "code",
   "execution_count": 99,
   "metadata": {
    "collapsed": true
   },
   "outputs": [],
   "source": [
    "samples[:np.random.binomial(nsamples, extra_none),:] = 0"
   ]
  },
  {
   "cell_type": "code",
   "execution_count": 100,
   "metadata": {},
   "outputs": [
    {
     "data": {
      "text/plain": [
       "array([[0, 0, 0, ..., 0, 0, 0],\n",
       "       [0, 0, 0, ..., 0, 0, 0],\n",
       "       [0, 0, 0, ..., 0, 0, 0],\n",
       "       ..., \n",
       "       [0, 1, 0, ..., 0, 0, 0],\n",
       "       [0, 1, 1, ..., 0, 0, 0],\n",
       "       [0, 1, 0, ..., 0, 1, 0]])"
      ]
     },
     "execution_count": 100,
     "metadata": {},
     "output_type": "execute_result"
    }
   ],
   "source": [
    "samples"
   ]
  },
  {
   "cell_type": "code",
   "execution_count": 125,
   "metadata": {
    "collapsed": true
   },
   "outputs": [],
   "source": [
    "samples = np.concatenate((samples, (samples.sum(1) == 0).astype(int).reshape((nsamples, 1))), axis=1)"
   ]
  },
  {
   "cell_type": "code",
   "execution_count": 126,
   "metadata": {},
   "outputs": [
    {
     "data": {
      "text/plain": [
       "(100000, 19)"
      ]
     },
     "execution_count": 126,
     "metadata": {},
     "output_type": "execute_result"
    }
   ],
   "source": [
    "samples.shape"
   ]
  },
  {
   "cell_type": "code",
   "execution_count": 127,
   "metadata": {
    "collapsed": true
   },
   "outputs": [],
   "source": [
    "sums = samples.sum(1) - 1"
   ]
  },
  {
   "cell_type": "code",
   "execution_count": 128,
   "metadata": {
    "collapsed": true
   },
   "outputs": [],
   "source": [
    "P = np.zeros((probs.shape[0] + 1, probs.shape[0] + 1))"
   ]
  },
  {
   "cell_type": "code",
   "execution_count": 129,
   "metadata": {
    "collapsed": true
   },
   "outputs": [],
   "source": [
    "for i in range(nsamples):\n",
    "    P[:, sums[i]] = P[:, sums[i]] + samples[i, :]"
   ]
  },
  {
   "cell_type": "code",
   "execution_count": 131,
   "metadata": {
    "collapsed": true
   },
   "outputs": [],
   "source": [
    "P = P / nsamples"
   ]
  },
  {
   "cell_type": "code",
   "execution_count": 134,
   "metadata": {
    "collapsed": true
   },
   "outputs": [],
   "source": [
    "W = np.zeros(P.shape)"
   ]
  },
  {
   "cell_type": "code",
   "execution_count": 136,
   "metadata": {
    "collapsed": true
   },
   "outputs": [],
   "source": [
    "for i in range(W.shape[0]):\n",
    "    for j in range(W.shape[1]):\n",
    "        W[i, j] = 1.0 / (i + j + 2.0)"
   ]
  },
  {
   "cell_type": "code",
   "execution_count": 138,
   "metadata": {
    "collapsed": true
   },
   "outputs": [],
   "source": [
    "F = np.dot(P, W)"
   ]
  },
  {
   "cell_type": "code",
   "execution_count": 158,
   "metadata": {
    "collapsed": true
   },
   "outputs": [],
   "source": [
    "m = P.shape[0]\n",
    "expectedF1s = np.zeros((m))\n",
    "for k in range(m):\n",
    "    f = F[:,k]\n",
    "    h = np.zeros((m))\n",
    "    h[np.flip(np.argsort(f), axis=0)[:(k+1)]] = 1\n",
    "    expectedF1s[k] = 2 * np.dot(h, f)\n",
    "k = np.argmax(expectedF1s)\n",
    "expF1 = expectedF1s[k]\n",
    "f = F[:,k]\n",
    "prediction = np.zeros((m))\n",
    "prediction[np.flip(np.argsort(f), axis=0)[:(k+1)]] = 1\n"
   ]
  },
  {
   "cell_type": "code",
   "execution_count": 31,
   "metadata": {
    "collapsed": true
   },
   "outputs": [],
   "source": [
    "def GFM(df, nsamples=10000):\n",
    "    probs = df['prob'].values\n",
    "    noneprob = df['none_prob'].values[0]\n",
    "    extra_none = 0\n",
    "    newprobs = probs.copy()\n",
    "    while extra_none + (1-extra_none) * np.prod(1-newprobs) < noneprob:\n",
    "        extra_none = extra_none + .0001\n",
    "        newprobs = np.minimum(probs / (1 - extra_none), 1)\n",
    "    probs = newprobs\n",
    "    samples = (np.random.rand(nsamples, probs.shape[0]) < probs * np.ones((nsamples, probs.shape[0]))).astype(int)\n",
    "    samples[:np.random.binomial(nsamples, extra_none),:] = 0\n",
    "    samples = np.concatenate((samples, (samples.sum(1) == 0).astype(int).reshape((nsamples, 1))), axis=1)\n",
    "    sums = samples.sum(1) - 1\n",
    "    P = np.zeros((probs.shape[0] + 1, probs.shape[0] + 1))\n",
    "    for i in range(nsamples):\n",
    "        P[:, sums[i]] = P[:, sums[i]] + samples[i, :]\n",
    "    P = P / nsamples\n",
    "    W = np.zeros(P.shape)\n",
    "    for i in range(W.shape[0]):\n",
    "        for j in range(W.shape[1]):\n",
    "            W[i, j] = 1.0 / (i + j + 2.0)\n",
    "    F = np.dot(P, W)\n",
    "    m = P.shape[0]\n",
    "    expectedF1s = np.zeros((m))\n",
    "    for k in range(m):\n",
    "        f = F[:,k]\n",
    "        h = np.zeros((m))\n",
    "        h[np.flip(np.argsort(f), axis=0)[:(k+1)]] = 1\n",
    "        expectedF1s[k] = 2 * np.dot(h, f)\n",
    "    k = np.argmax(expectedF1s)\n",
    "    expF1 = expectedF1s[k]\n",
    "    f = F[:,k]\n",
    "    prediction = np.zeros((m))\n",
    "    prediction[np.flip(np.argsort(f), axis=0)[:(k+1)]] = 1\n",
    "    df['prediction'] = prediction[:-1]\n",
    "    df['putnone'] = prediction[-1]\n",
    "    df['expF1'] = expF1\n",
    "    return df"
   ]
  },
  {
   "cell_type": "code",
   "execution_count": 75,
   "metadata": {
    "collapsed": true
   },
   "outputs": [],
   "source": [
    "test_df = df.query('validation_set==10').loc[:, ['user_id', 'product_id', 'order_id', 'prob', 'none_prob', 'reordered']].copy()\n"
   ]
  },
  {
   "cell_type": "code",
   "execution_count": 76,
   "metadata": {},
   "outputs": [
    {
     "data": {
      "text/plain": [
       "(765057, 6)"
      ]
     },
     "execution_count": 76,
     "metadata": {},
     "output_type": "execute_result"
    }
   ],
   "source": [
    "test_df.shape"
   ]
  },
  {
   "cell_type": "code",
   "execution_count": 77,
   "metadata": {},
   "outputs": [
    {
     "name": "stdout",
     "output_type": "stream",
     "text": [
      "CPU times: user 3h 33min 39s, sys: 5min 17s, total: 3h 38min 56s\n",
      "Wall time: 21min 16s\n"
     ]
    }
   ],
   "source": [
    "%%time\n",
    "test_df = test_df.groupby('user_id').apply(GFM)"
   ]
  },
  {
   "cell_type": "code",
   "execution_count": 78,
   "metadata": {
    "collapsed": true
   },
   "outputs": [],
   "source": [
    "gfm_df = test_df"
   ]
  },
  {
   "cell_type": "code",
   "execution_count": 79,
   "metadata": {
    "collapsed": true
   },
   "outputs": [],
   "source": [
    "gfm_df['hit'] = gfm_df.prediction * gfm_df.reordered\n",
    "gfm_df_agg = gfm_df.groupby('user_id').agg({'reordered': np.sum,\n",
    "                                    'prediction': np.sum,\n",
    "                                    'hit': np.sum,\n",
    "                               'expF1': np.mean,\n",
    "                               'putnone': np.mean})\n",
    "gfm_df_agg['truenone'] = (gfm_df_agg.reordered == 0)\n",
    "gfm_df_agg.putnone = gfm_df_agg.putnone.astype(bool)\n",
    "gfm_df_agg['r'] = gfm_df_agg.reordered\n",
    "gfm_df_agg['p'] = gfm_df_agg.prediction\n",
    "gfm_df_agg['h'] = gfm_df_agg.hit\n",
    "gfm_df_agg.loc[gfm_df_agg.putnone & gfm_df_agg.truenone, \"h\"] = 1\n",
    "gfm_df_agg.loc[gfm_df_agg.putnone, 'p'] = gfm_df_agg.loc[gfm_df_agg.putnone, 'p'] + 1\n",
    "gfm_df_agg.loc[gfm_df_agg.truenone, 'r'] = gfm_df_agg.loc[gfm_df_agg.truenone, 'r'] + 1\n",
    "gfm_df_agg['precision'] = (gfm_df_agg['h']) / (gfm_df_agg['p'])\n",
    "gfm_df_agg['recall'] = (gfm_df_agg['h']) / (gfm_df_agg['r'])\n",
    "gfm_df_agg['f1'] = 2 * gfm_df_agg['precision'] * gfm_df_agg['recall'] / (gfm_df_agg['precision'] + gfm_df_agg['recall'] + .000001)\n"
   ]
  },
  {
   "cell_type": "code",
   "execution_count": 80,
   "metadata": {},
   "outputs": [
    {
     "data": {
      "text/plain": [
       "0.39740466341362979"
      ]
     },
     "execution_count": 80,
     "metadata": {},
     "output_type": "execute_result"
    }
   ],
   "source": [
    "gfm_df_agg.f1.mean()"
   ]
  },
  {
   "cell_type": "code",
   "execution_count": 81,
   "metadata": {},
   "outputs": [
    {
     "data": {
      "text/plain": [
       "0.40801646884077508"
      ]
     },
     "execution_count": 81,
     "metadata": {},
     "output_type": "execute_result"
    }
   ],
   "source": [
    "gfm_df_agg.expF1.mean()"
   ]
  },
  {
   "cell_type": "code",
   "execution_count": 216,
   "metadata": {
    "collapsed": true
   },
   "outputs": [],
   "source": [
    "gfm_df_agg.putnone = gfm_df_agg.putnone.astype(bool)"
   ]
  },
  {
   "cell_type": "code",
   "execution_count": 140,
   "metadata": {},
   "outputs": [
    {
     "data": {
      "text/plain": [
       "reordered    0.594576\n",
       "dtype: float64"
      ]
     },
     "execution_count": 140,
     "metadata": {},
     "output_type": "execute_result"
    }
   ],
   "source": [
    "(df.groupby('user_id').agg({'reordered': np.sum}) > 0).mean()"
   ]
  },
  {
   "cell_type": "code",
   "execution_count": null,
   "metadata": {},
   "outputs": [
    {
     "name": "stdout",
     "output_type": "stream",
     "text": [
      "best reorder cutoff: (-1.203125, -0.062500000000000111)\n",
      "best none cutoff: (0.25625000000000003, -0.94843750000000016)\n",
      "best f1: 0.40753730298\n"
     ]
    }
   ],
   "source": [
    "threshold_df = df.loc[df.eval_set == 'train', ['user_id', 'user_distinct_products', 'user_mean_proportion_products', 'user_ump_logit', 'model_prediction', 'p_not', 'reordered']].copy()\n",
    "\n",
    "guess = [-.8, -.1, .4, -1.0]\n",
    "width = np.array([.2, .1, .2, .1])\n",
    "best_reorder_cutoff = (0, 0)\n",
    "best_none_cutoff = (0, 0)\n",
    "best_cutoff_f1 = 0\n",
    "for i in range(4):\n",
    "    for reorder_cutoff in [(x,y) for x in np.arange(guess[0]-4*width[0], guess[0]+4*width[0], width[0]) for y in np.arange(guess[1]-4*width[1], guess[1]+4*width[1], width[1])]:\n",
    "        threshold_df['reorder_cutoff'] = reorder_cutoff[0] + reorder_cutoff[1] * np.log(threshold_df.user_distinct_products)\n",
    "        threshold_df.loc[:,'prediction'] = 1 * (threshold_df['model_prediction'] > threshold_df.reorder_cutoff)\n",
    "        threshold_df['hit'] = (threshold_df.reordered * threshold_df.prediction)\n",
    "        threshold_df_agg = threshold_df.groupby(\"user_id\").agg({'reordered': np.sum,\n",
    "                                                          'prediction': np.sum,\n",
    "                                                          'hit': np.sum,\n",
    "                                                              'user_distinct_products': np.mean,\n",
    "                                                             'p_not': np.prod})\n",
    "        for none_cutoff in [(x,y) for x in np.arange(guess[2]-4*width[2], guess[2]+4*width[2], width[2]) for y in np.arange(guess[3]-4*width[3], guess[3]+4*width[3], width[3])]:\n",
    "            threshold_df_agg['none_cutoff'] = 1.0 / (1 + np.exp(-none_cutoff[0] - none_cutoff[1] * np.log(threshold_df_agg.user_distinct_products)))\n",
    "            threshold_df_agg['putnone'] = (threshold_df_agg.p_not > threshold_df_agg.none_cutoff) | (threshold_df_agg.prediction == 0)\n",
    "            threshold_df_agg['truenone'] = (threshold_df_agg.reordered == 0)\n",
    "            threshold_df_agg['r'] = threshold_df_agg.reordered\n",
    "            threshold_df_agg['p'] = threshold_df_agg.prediction\n",
    "            threshold_df_agg['h'] = threshold_df_agg.hit\n",
    "            threshold_df_agg.loc[threshold_df_agg.putnone & threshold_df_agg.truenone, \"h\"] = 1\n",
    "            threshold_df_agg.loc[threshold_df_agg.putnone, 'p'] = threshold_df_agg.loc[threshold_df_agg.putnone, 'p'] + 1\n",
    "            threshold_df_agg.loc[threshold_df_agg.truenone, 'r'] = threshold_df_agg.loc[threshold_df_agg.truenone, 'r'] + 1\n",
    "            threshold_df_agg['precision'] = (threshold_df_agg['h']) / (threshold_df_agg['p'])\n",
    "            threshold_df_agg['recall'] = (threshold_df_agg['h']) / (threshold_df_agg['r'])\n",
    "            threshold_df_agg['f1'] = 2 * threshold_df_agg['precision'] * threshold_df_agg['recall'] / (threshold_df_agg['precision'] + threshold_df_agg['recall'] + .000001)\n",
    "            if threshold_df_agg['f1'].mean() > best_cutoff_f1:\n",
    "                best_cutoff_f1 = threshold_df_agg['f1'].mean()\n",
    "                best_reorder_cutoff = reorder_cutoff\n",
    "                best_none_cutoff = none_cutoff\n",
    "    guess = [best_reorder_cutoff[0], best_reorder_cutoff[1], best_none_cutoff[0], best_none_cutoff[1]]\n",
    "    width = width / 4\n",
    "print(\"best reorder cutoff:\", best_reorder_cutoff)\n",
    "print(\"best none cutoff:\", best_none_cutoff)\n",
    "print(\"best f1:\", best_cutoff_f1)\n"
   ]
  },
  {
   "cell_type": "code",
   "execution_count": 17,
   "metadata": {
    "collapsed": true
   },
   "outputs": [],
   "source": [
    "best_reorder_cutoff = (-1.203125, -0.062500000000000111)\n",
    "best_none_cutoff = (0.25625000000000003, -0.94843750000000016)"
   ]
  },
  {
   "cell_type": "code",
   "execution_count": 32,
   "metadata": {
    "collapsed": true
   },
   "outputs": [],
   "source": [
    "def evaluate_numeric_gradient(objFun, params, step=.05):\n",
    "    gradient = []\n",
    "    for i in range(len(params)):\n",
    "        p1 = params.copy()\n",
    "        p1[i] = p1[i] - step/2\n",
    "        p2 = params.copy()\n",
    "        p2[i] = p2[i] + step/2\n",
    "        gradient.append((objFun(p2)-objFun(p1))/step)\n",
    "    return np.array(gradient)\n",
    "\n",
    "def gradient_ascent(objFun, starting_params, alpha=.1, nrounds=30):\n",
    "    params = np.array(starting_params)\n",
    "    for i in range(nrounds):\n",
    "        print(objFun(params))\n",
    "        gradient = evaluate_numeric_gradient(objFun, params)\n",
    "        print(params, gradient)\n",
    "        params = params + alpha*gradient\n",
    "    return params\n",
    "        "
   ]
  },
  {
   "cell_type": "code",
   "execution_count": 33,
   "metadata": {
    "collapsed": true
   },
   "outputs": [],
   "source": [
    "def f1_distinct_orders(params):\n",
    "    threshold_df['reorder_cutoff'] = params[0] + params[1] * np.log(threshold_df.user_distinct_products)\n",
    "    threshold_df['prediction'] = 1 * (threshold_df['model_prediction'] > threshold_df.reorder_cutoff)\n",
    "    threshold_df['hit'] = (threshold_df.reordered * threshold_df.prediction)\n",
    "    threshold_df_agg = threshold_df.groupby(\"user_id\").agg({'reordered': np.sum,\n",
    "                                                      'prediction': np.sum,\n",
    "                                                      'hit': np.sum,\n",
    "                                                        'user_ump_logit': np.mean,\n",
    "                                                            'user_mean_proportion_products': np.mean,\n",
    "                                                        'user_distinct_products': np.mean,\n",
    "                                                         'p_not': np.prod})\n",
    "    threshold_df_agg['none_cutoff'] = 1.0 / (1 + np.exp(-params[2] - params[3] * np.log(threshold_df.user_distinct_products)))\n",
    "    threshold_df_agg['putnone'] = (threshold_df_agg.p_not > threshold_df_agg.none_cutoff) | (threshold_df_agg.prediction == 0)\n",
    "    threshold_df_agg['truenone'] = (threshold_df_agg.reordered == 0)\n",
    "    threshold_df_agg['r'] = threshold_df_agg.reordered\n",
    "    threshold_df_agg['p'] = threshold_df_agg.prediction\n",
    "    threshold_df_agg['h'] = threshold_df_agg.hit\n",
    "    threshold_df_agg.loc[threshold_df_agg.putnone & threshold_df_agg.truenone, \"h\"] = 1\n",
    "    threshold_df_agg.loc[threshold_df_agg.putnone, 'p'] = threshold_df_agg.loc[threshold_df_agg.putnone, 'p'] + 1\n",
    "    threshold_df_agg.loc[threshold_df_agg.truenone, 'r'] = threshold_df_agg.loc[threshold_df_agg.truenone, 'r'] + 1\n",
    "    threshold_df_agg['precision'] = (threshold_df_agg['h']) / (threshold_df_agg['p'])\n",
    "    threshold_df_agg['recall'] = (threshold_df_agg['h']) / (threshold_df_agg['r'])\n",
    "    threshold_df_agg['f1'] = 2 * threshold_df_agg['precision'] * threshold_df_agg['recall'] / (threshold_df_agg['precision'] + threshold_df_agg['recall'] + .000001)\n",
    "    return threshold_df_agg['f1'].mean()\n",
    "\n",
    "def f1_mean_orders(params):\n",
    "    threshold_df['reorder_cutoff'] = params[0] + params[1] * threshold_df.user_ump_logit\n",
    "    threshold_df['prediction'] = 1 * (threshold_df['model_prediction'] > threshold_df.reorder_cutoff)\n",
    "    threshold_df['hit'] = (threshold_df.reordered * threshold_df.prediction)\n",
    "    threshold_df_agg = threshold_df.groupby(\"user_id\").agg({'reordered': np.sum,\n",
    "                                                      'prediction': np.sum,\n",
    "                                                      'hit': np.sum,\n",
    "                                                        'user_ump_logit': np.mean,\n",
    "                                                            'user_mean_proportion_products': np.mean,\n",
    "                                                        'user_distinct_products': np.mean,\n",
    "                                                         'p_not': np.prod})\n",
    "    threshold_df_agg['none_cutoff'] = 1.0 / (1 + np.exp(-params[2] - params[3] * threshold_df.user_ump_logit))\n",
    "    threshold_df_agg['putnone'] = (threshold_df_agg.p_not > threshold_df_agg.none_cutoff) | (threshold_df_agg.prediction == 0)\n",
    "    threshold_df_agg['truenone'] = (threshold_df_agg.reordered == 0)\n",
    "    threshold_df_agg['r'] = threshold_df_agg.reordered\n",
    "    threshold_df_agg['p'] = threshold_df_agg.prediction\n",
    "    threshold_df_agg['h'] = threshold_df_agg.hit\n",
    "    threshold_df_agg.loc[threshold_df_agg.putnone & threshold_df_agg.truenone, \"h\"] = 1\n",
    "    threshold_df_agg.loc[threshold_df_agg.putnone, 'p'] = threshold_df_agg.loc[threshold_df_agg.putnone, 'p'] + 1\n",
    "    threshold_df_agg.loc[threshold_df_agg.truenone, 'r'] = threshold_df_agg.loc[threshold_df_agg.truenone, 'r'] + 1\n",
    "    threshold_df_agg['precision'] = (threshold_df_agg['h']) / (threshold_df_agg['p'])\n",
    "    threshold_df_agg['recall'] = (threshold_df_agg['h']) / (threshold_df_agg['r'])\n",
    "    threshold_df_agg['f1'] = 2 * threshold_df_agg['precision'] * threshold_df_agg['recall'] / (threshold_df_agg['precision'] + threshold_df_agg['recall'] + .000001)\n",
    "    return threshold_df_agg['f1'].mean()"
   ]
  },
  {
   "cell_type": "code",
   "execution_count": 35,
   "metadata": {},
   "outputs": [
    {
     "name": "stderr",
     "output_type": "stream",
     "text": [
      "/Users/alex/anaconda/envs/py3/lib/python3.6/site-packages/sklearn/preprocessing/data.py:586: DeprecationWarning: Passing 1d arrays as data is deprecated in 0.17 and will raise ValueError in 0.19. Reshape your data either using X.reshape(-1, 1) if your data has a single feature or X.reshape(1, -1) if it contains a single sample.\n",
      "  warnings.warn(DEPRECATION_MSG_1D, DeprecationWarning)\n",
      "/Users/alex/anaconda/envs/py3/lib/python3.6/site-packages/sklearn/preprocessing/data.py:649: DeprecationWarning: Passing 1d arrays as data is deprecated in 0.17 and will raise ValueError in 0.19. Reshape your data either using X.reshape(-1, 1) if your data has a single feature or X.reshape(1, -1) if it contains a single sample.\n",
      "  warnings.warn(DEPRECATION_MSG_1D, DeprecationWarning)\n"
     ]
    }
   ],
   "source": [
    "#threshold_df = df.loc[df.eval_set == 'train', ['user_id', 'user_distinct_products', 'user_mean_proportion_products', 'user_ump_logit', 'model_prediction', 'p_not', 'reordered']].copy()\n",
    "#threshold_df['user_distinct_products_log_scaled'] = StandardScaler().fit_transform(np.log(threshold_df.user_distinct_products))"
   ]
  },
  {
   "cell_type": "code",
   "execution_count": 37,
   "metadata": {},
   "outputs": [
    {
     "name": "stderr",
     "output_type": "stream",
     "text": [
      "/Users/alex/anaconda/envs/py3/lib/python3.6/site-packages/sklearn/preprocessing/data.py:586: DeprecationWarning: Passing 1d arrays as data is deprecated in 0.17 and will raise ValueError in 0.19. Reshape your data either using X.reshape(-1, 1) if your data has a single feature or X.reshape(1, -1) if it contains a single sample.\n",
      "  warnings.warn(DEPRECATION_MSG_1D, DeprecationWarning)\n",
      "/Users/alex/anaconda/envs/py3/lib/python3.6/site-packages/sklearn/preprocessing/data.py:649: DeprecationWarning: Passing 1d arrays as data is deprecated in 0.17 and will raise ValueError in 0.19. Reshape your data either using X.reshape(-1, 1) if your data has a single feature or X.reshape(1, -1) if it contains a single sample.\n",
      "  warnings.warn(DEPRECATION_MSG_1D, DeprecationWarning)\n"
     ]
    }
   ],
   "source": [
    "#threshold_df['user_ump_scaled'] = StandardScaler().fit_transform(threshold_df.user_ump_logit)"
   ]
  },
  {
   "cell_type": "code",
   "execution_count": 34,
   "metadata": {
    "collapsed": true
   },
   "outputs": [],
   "source": [
    "params = [-1.52396524, 0,  -1, 0]\n",
    "threshold_df['reorder_cutoff'] = params[0] + params[1] * np.log(threshold_df.user_distinct_products)\n",
    "threshold_df['prediction'] = 1 * (threshold_df['model_prediction'] > threshold_df.reorder_cutoff)\n",
    "threshold_df['hit'] = (threshold_df.reordered * threshold_df.prediction)\n",
    "threshold_df_agg = threshold_df.groupby(\"user_id\").agg({'reordered': np.sum,\n",
    "                                                  'prediction': np.sum,\n",
    "                                                  'hit': np.sum,\n",
    "                                                    'user_ump_logit': np.mean,\n",
    "                                                        'user_mean_proportion_products': np.mean,\n",
    "                                                    'user_distinct_products': np.mean,\n",
    "                                                     'p_not': np.prod})\n",
    "threshold_df_agg['none_cutoff'] = 1.0 / (1 + np.exp(-params[2] - params[3] * np.log(threshold_df.user_distinct_products)))\n",
    "threshold_df_agg['putnone'] = (threshold_df_agg.p_not > threshold_df_agg.none_cutoff) | (threshold_df_agg.prediction == 0)\n",
    "threshold_df_agg['truenone'] = (threshold_df_agg.reordered == 0)\n",
    "threshold_df_agg['r'] = threshold_df_agg.reordered\n",
    "threshold_df_agg['p'] = threshold_df_agg.prediction\n",
    "threshold_df_agg['h'] = threshold_df_agg.hit\n",
    "threshold_df_agg.loc[threshold_df_agg.putnone & threshold_df_agg.truenone, \"h\"] = 1\n",
    "threshold_df_agg.loc[threshold_df_agg.putnone, 'p'] = threshold_df_agg.loc[threshold_df_agg.putnone, 'p'] + 1\n",
    "threshold_df_agg.loc[threshold_df_agg.truenone, 'r'] = threshold_df_agg.loc[threshold_df_agg.truenone, 'r'] + 1\n",
    "threshold_df_agg['precision'] = (threshold_df_agg['h']) / (threshold_df_agg['p'])\n",
    "threshold_df_agg['recall'] = (threshold_df_agg['h']) / (threshold_df_agg['r'])\n",
    "threshold_df_agg['f1'] = 2 * threshold_df_agg['precision'] * threshold_df_agg['recall'] / (threshold_df_agg['precision'] + threshold_df_agg['recall'] + .000001)\n"
   ]
  },
  {
   "cell_type": "code",
   "execution_count": 35,
   "metadata": {},
   "outputs": [
    {
     "data": {
      "text/plain": [
       "0.4057918136201808"
      ]
     },
     "execution_count": 35,
     "metadata": {},
     "output_type": "execute_result"
    }
   ],
   "source": [
    "threshold_df_agg.f1.mean()"
   ]
  },
  {
   "cell_type": "code",
   "execution_count": 36,
   "metadata": {
    "collapsed": true
   },
   "outputs": [],
   "source": [
    "from scipy.stats import pearsonr"
   ]
  },
  {
   "cell_type": "code",
   "execution_count": 37,
   "metadata": {},
   "outputs": [
    {
     "data": {
      "text/plain": [
       "(0.18316693472074724, 1.6755651425746639e-90)"
      ]
     },
     "execution_count": 37,
     "metadata": {},
     "output_type": "execute_result"
    }
   ],
   "source": [
    "pearsonr(threshold_df_agg.user_mean_proportion_products, threshold_df_agg.f1)"
   ]
  },
  {
   "cell_type": "code",
   "execution_count": 38,
   "metadata": {
    "collapsed": true
   },
   "outputs": [],
   "source": [
    "import matplotlib.pyplot as plt\n",
    "% matplotlib inline"
   ]
  },
  {
   "cell_type": "code",
   "execution_count": 40,
   "metadata": {},
   "outputs": [
    {
     "data": {
      "text/plain": [
       "<matplotlib.axes._subplots.AxesSubplot at 0x11697bfd0>"
      ]
     },
     "execution_count": 40,
     "metadata": {},
     "output_type": "execute_result"
    },
    {
     "data": {
      "image/png": "[encoded data removed]",
      "text/plain": [
       "<matplotlib.figure.Figure at 0x1167f6240>"
      ]
     },
     "metadata": {},
     "output_type": "display_data"
    }
   ],
   "source": [
    "(pd.DataFrame({'dp': np.log(threshold_df_agg.user_distinct_products),\n",
    "               'f1':threshold_df_agg.f1,\n",
    "              'mp': threshold_df_agg.user_ump_logit})\n",
    " #.query('f1 < .999 and f1 > 0.0')\n",
    " #.eval('f1 = log(f1 / (1-f1))', inplace=False)\n",
    " .plot.scatter(x='mp', y='f1'))"
   ]
  },
  {
   "cell_type": "code",
   "execution_count": 139,
   "metadata": {
    "collapsed": true
   },
   "outputs": [],
   "source": [
    "f1df = pd.DataFrame({'dp': np.log(threshold_df_agg.user_distinct_products),\n",
    "               'f1':threshold_df_agg.f1,\n",
    "              'mp': threshold_df_agg.user_ump_logit})"
   ]
  },
  {
   "cell_type": "code",
   "execution_count": 140,
   "metadata": {
    "collapsed": true
   },
   "outputs": [],
   "source": [
    "f1x = f1df[['dp', 'mp']].values\n",
    "f1y = f1df['f1'].values"
   ]
  },
  {
   "cell_type": "code",
   "execution_count": 150,
   "metadata": {
    "collapsed": true
   },
   "outputs": [],
   "source": [
    "f1scale = StandardScaler()"
   ]
  },
  {
   "cell_type": "code",
   "execution_count": 151,
   "metadata": {
    "collapsed": true
   },
   "outputs": [],
   "source": [
    "f1x = f1scale.fit_transform(f1x)"
   ]
  },
  {
   "cell_type": "code",
   "execution_count": 144,
   "metadata": {
    "collapsed": true
   },
   "outputs": [],
   "source": [
    "from sklearn.linear_model import LinearRegression"
   ]
  },
  {
   "cell_type": "code",
   "execution_count": 152,
   "metadata": {},
   "outputs": [
    {
     "data": {
      "text/plain": [
       "LinearRegression(copy_X=True, fit_intercept=True, n_jobs=1, normalize=False)"
      ]
     },
     "execution_count": 152,
     "metadata": {},
     "output_type": "execute_result"
    }
   ],
   "source": [
    "f1model = LinearRegression()\n",
    "\n",
    "f1model.fit(f1x, f1y)"
   ]
  },
  {
   "cell_type": "code",
   "execution_count": 157,
   "metadata": {},
   "outputs": [
    {
     "data": {
      "text/plain": [
       "0.033194171442887832"
      ]
     },
     "execution_count": 157,
     "metadata": {},
     "output_type": "execute_result"
    }
   ],
   "source": [
    "f1model.score(f1x, f1y)"
   ]
  },
  {
   "cell_type": "code",
   "execution_count": 138,
   "metadata": {},
   "outputs": [
    {
     "data": {
      "text/plain": [
       "(-0.74021554040671822, 0.0)"
      ]
     },
     "execution_count": 138,
     "metadata": {},
     "output_type": "execute_result"
    }
   ],
   "source": [
    "pearsonr(np.log(threshold_df_agg.user_distinct_products), threshold_df_agg.user_ump_logit)"
   ]
  },
  {
   "cell_type": "code",
   "execution_count": 30,
   "metadata": {},
   "outputs": [
    {
     "data": {
      "text/plain": [
       "array([], dtype=float64)"
      ]
     },
     "execution_count": 30,
     "metadata": {},
     "output_type": "execute_result"
    }
   ],
   "source": [
    "np.arange(0, 0, 0.01)"
   ]
  },
  {
   "cell_type": "code",
   "execution_count": 18,
   "metadata": {
    "collapsed": true
   },
   "outputs": [],
   "source": [
    "df_test = df.loc[df.eval_set == 'test', ['order_id', 'product_id', 'user_distinct_products', 'model_prediction', 'p_not']].copy()\n",
    "df_test['reorder_cutoff'] = best_reorder_cutoff[0] + best_reorder_cutoff[1] * np.log(df_test.user_distinct_products)\n",
    "df_test['prediction'] = 1 * (df_test['model_prediction'] > df_test.reorder_cutoff)\n"
   ]
  },
  {
   "cell_type": "code",
   "execution_count": 65,
   "metadata": {},
   "outputs": [
    {
     "data": {
      "text/plain": [
       "0.14079389368571152"
      ]
     },
     "execution_count": 65,
     "metadata": {},
     "output_type": "execute_result"
    }
   ],
   "source": [
    "test_df.prediction.mean()"
   ]
  },
  {
   "cell_type": "code",
   "execution_count": 92,
   "metadata": {
    "collapsed": true
   },
   "outputs": [],
   "source": [
    "writenone_df = test_df.groupby('order_id').agg({'putnone': np.mean}).reset_index()"
   ]
  },
  {
   "cell_type": "code",
   "execution_count": 93,
   "metadata": {
    "collapsed": true
   },
   "outputs": [],
   "source": [
    "writenone_df['nonestring'] = ''\n",
    "writenone_df.loc[writenone_df.putnone == 1, 'nonestring'] = 'None'\n"
   ]
  },
  {
   "cell_type": "code",
   "execution_count": 94,
   "metadata": {},
   "outputs": [
    {
     "data": {
      "text/plain": [
       "count     75000\n",
       "unique        2\n",
       "top            \n",
       "freq      61594\n",
       "Name: nonestring, dtype: object"
      ]
     },
     "execution_count": 94,
     "metadata": {},
     "output_type": "execute_result"
    }
   ],
   "source": [
    "writenone_df.nonestring.describe()"
   ]
  },
  {
   "cell_type": "code",
   "execution_count": 95,
   "metadata": {
    "collapsed": true
   },
   "outputs": [],
   "source": [
    "prediction_df = test_df.query('prediction == 1').copy()\n",
    "prediction_df = prediction_df[['order_id', 'product_id']]"
   ]
  },
  {
   "cell_type": "code",
   "execution_count": 96,
   "metadata": {
    "collapsed": true
   },
   "outputs": [],
   "source": [
    "prediction_lists = prediction_df.groupby('order_id').agg(lambda x: \" \".join(x.astype(str))).reset_index()\n",
    "prediction_lists = prediction_lists.merge(writenone_df[['order_id', 'nonestring']], on='order_id', how='right')\n",
    "prediction_lists['products'] = prediction_lists.product_id.fillna('')\n",
    "prediction_lists['products'] = prediction_lists.products + \" \" + prediction_lists.nonestring\n",
    "\n",
    "prediction_lists = prediction_lists[['order_id', 'products']]\n",
    "prediction_lists.to_csv(\"submissions/rawpredictions_composite.csv\", index=False)\n"
   ]
  },
  {
   "cell_type": "code",
   "execution_count": 98,
   "metadata": {},
   "outputs": [
    {
     "data": {
      "text/html": [
       "<div>\n",
       "<style>\n",
       "    .dataframe thead tr:only-child th {\n",
       "        text-align: right;\n",
       "    }\n",
       "\n",
       "    .dataframe thead th {\n",
       "        text-align: left;\n",
       "    }\n",
       "\n",
       "    .dataframe tbody tr th {\n",
       "        vertical-align: top;\n",
       "    }\n",
       "</style>\n",
       "<table border=\"1\" class=\"dataframe\">\n",
       "  <thead>\n",
       "    <tr style=\"text-align: right;\">\n",
       "      <th></th>\n",
       "      <th>order_id</th>\n",
       "      <th>products</th>\n",
       "    </tr>\n",
       "  </thead>\n",
       "  <tbody>\n",
       "    <tr>\n",
       "      <th>0</th>\n",
       "      <td>17</td>\n",
       "      <td>47766 38777 21463 13107</td>\n",
       "    </tr>\n",
       "    <tr>\n",
       "      <th>1</th>\n",
       "      <td>34</td>\n",
       "      <td>13176 21137 47792 47766 43504 39475 2596 18618...</td>\n",
       "    </tr>\n",
       "    <tr>\n",
       "      <th>2</th>\n",
       "      <td>137</td>\n",
       "      <td>41787 24852 25890 5134 38689 2326 23794</td>\n",
       "    </tr>\n",
       "    <tr>\n",
       "      <th>3</th>\n",
       "      <td>182</td>\n",
       "      <td>47209 39275 47672 33000 13629 41149 11520 9337...</td>\n",
       "    </tr>\n",
       "    <tr>\n",
       "      <th>4</th>\n",
       "      <td>257</td>\n",
       "      <td>49235 24852 27966 21137 45013 27104 4605 37646...</td>\n",
       "    </tr>\n",
       "  </tbody>\n",
       "</table>\n",
       "</div>"
      ],
      "text/plain": [
       "   order_id                                           products\n",
       "0        17                           47766 38777 21463 13107 \n",
       "1        34  13176 21137 47792 47766 43504 39475 2596 18618...\n",
       "2       137           41787 24852 25890 5134 38689 2326 23794 \n",
       "3       182  47209 39275 47672 33000 13629 41149 11520 9337...\n",
       "4       257  49235 24852 27966 21137 45013 27104 4605 37646..."
      ]
     },
     "execution_count": 98,
     "metadata": {},
     "output_type": "execute_result"
    }
   ],
   "source": [
    "prediction_lists.head()"
   ]
  },
  {
   "cell_type": "code",
   "execution_count": null,
   "metadata": {
    "collapsed": true
   },
   "outputs": [],
   "source": []
  }
 ],
 "metadata": {
  "kernelspec": {
   "display_name": "Python 3",
   "language": "python",
   "name": "python3"
  },
  "language_info": {
   "codemirror_mode": {
    "name": "ipython",
    "version": 3
   },
   "file_extension": ".py",
   "mimetype": "text/x-python",
   "name": "python",
   "nbconvert_exporter": "python",
   "pygments_lexer": "ipython3",
   "version": "3.6.1"
  }
 },
 "nbformat": 4,
 "nbformat_minor": 2
}
